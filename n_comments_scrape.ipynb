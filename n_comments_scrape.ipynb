{
 "cells": [
  {
   "cell_type": "code",
   "execution_count": 2,
   "metadata": {},
   "outputs": [
    {
     "name": "stdout",
     "output_type": "stream",
     "text": [
      "1,203 Comments\n"
     ]
    }
   ],
   "source": [
    "from bs4 import BeautifulSoup\n",
    "import requests\n",
    "import time, os\n",
    "from selenium import webdriver\n",
    "from selenium.webdriver.common.keys import Keys\n",
    "import pickle\n",
    "\n",
    "chromedriver = \"/Applications/chromedriver\" # path to the chromedriver executable\n",
    "os.environ[\"webdriver.chrome.driver\"] = chromedriver\n",
    "driver = webdriver.Chrome(chromedriver)\n",
    "driver.get(\"https://www.youtube.com/watch?v=h5CEOjPY_uw\")\n",
    "time.sleep(10)\n",
    "\n",
    "page = driver.page_source\n",
    "page = BeautifulSoup(page, \"lxml\")\n",
    "\n",
    "#text = page.find(\"div\",{\"class\":\"style-scope ytd-comments-header-renderer\"}).find(\"yt-formatted-string\",{\"class\":\"count-text style-scope ytd-comments-header-renderer\"}).text\n",
    "text = page.find(\"yt-formatted-string\",{\"class\":\"count-text style-scope ytd-comments-header-renderer\"}).text\n",
    "\n",
    "\n",
    "print(text)\n"
   ]
  },
  {
   "cell_type": "code",
   "execution_count": 4,
   "metadata": {},
   "outputs": [],
   "source": [
    "import pickle"
   ]
  },
  {
   "cell_type": "code",
   "execution_count": null,
   "metadata": {},
   "outputs": [],
   "source": [
    "#.str.replace(\",\", '').str.replace(' Comments', '')"
   ]
  },
  {
   "cell_type": "code",
   "execution_count": 5,
   "metadata": {},
   "outputs": [],
   "source": [
    "with open('Attempt2/videos_links_by_channel_att2.pkl', 'rb') as picklefile:\n",
    "    links_dict= pickle.load(picklefile)"
   ]
  },
  {
   "cell_type": "code",
   "execution_count": 18,
   "metadata": {},
   "outputs": [],
   "source": [
    "def get_comments_n(url):\n",
    "    \n",
    "    comments_data = {}\n",
    "    try:\n",
    "        \n",
    "        chromedriver = \"/Applications/chromedriver\" # path to the chromedriver executable\n",
    "        os.environ[\"webdriver.chrome.driver\"] = chromedriver\n",
    "        driver = webdriver.Chrome(chromedriver)\n",
    "        driver.get(url)\n",
    "        time.sleep(15)\n",
    "        \n",
    "        page = driver.page_source\n",
    "        soup = BeautifulSoup(page, \"lxml\")\n",
    "        \n",
    "    except:\n",
    "        comments_data = {}\n",
    "    \n",
    "    try:\n",
    "        comments_data['n_comments'] = soup.find(\"yt-formatted-string\",{\"class\":\"count-text style-scope ytd-comments-header-renderer\"}).text\n",
    "    except:\n",
    "        comments_data['n_comments'] = ''\n",
    "    \n",
    "    return comments_data"
   ]
  },
  {
   "cell_type": "code",
   "execution_count": null,
   "metadata": {},
   "outputs": [],
   "source": [
    "get_comments_n('https://www.youtube.com/watch?v=' + 'h5CEOjPY_uw')"
   ]
  },
  {
   "cell_type": "code",
   "execution_count": null,
   "metadata": {},
   "outputs": [],
   "source": [
    "comments_info = defaultdict()\n",
    "for key, val in links_dict.items():\n",
    "    try:\n",
    "        for i in val:\n",
    "            url = 'https://www.youtube.com/watch?v=' + i\n",
    "            comments_info[(key, i)] = get_comments_n(url)\n",
    "    except:\n",
    "        continue \n",
    "        \n",
    "    time.sleep(.5+2*random.random())"
   ]
  }
 ],
 "metadata": {
  "kernelspec": {
   "display_name": "Python 3",
   "language": "python",
   "name": "python3"
  },
  "language_info": {
   "codemirror_mode": {
    "name": "ipython",
    "version": 3
   },
   "file_extension": ".py",
   "mimetype": "text/x-python",
   "name": "python",
   "nbconvert_exporter": "python",
   "pygments_lexer": "ipython3",
   "version": "3.7.4"
  },
  "toc": {
   "base_numbering": 1,
   "nav_menu": {},
   "number_sections": true,
   "sideBar": true,
   "skip_h1_title": false,
   "title_cell": "Table of Contents",
   "title_sidebar": "Contents",
   "toc_cell": false,
   "toc_position": {},
   "toc_section_display": true,
   "toc_window_display": true
  }
 },
 "nbformat": 4,
 "nbformat_minor": 4
}
