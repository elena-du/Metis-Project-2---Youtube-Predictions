{
 "cells": [
  {
   "cell_type": "code",
   "execution_count": 1,
   "metadata": {},
   "outputs": [],
   "source": [
    "from bs4 import BeautifulSoup\n",
    "import requests\n",
    "import time, os\n",
    "from selenium import webdriver\n",
    "from selenium.webdriver.common.keys import Keys"
   ]
  },
  {
   "cell_type": "code",
   "execution_count": 2,
   "metadata": {},
   "outputs": [],
   "source": [
    "chromedriver = '/Applications/chromedriver'\n",
    "os.environ['webdriver.chrome.driver'] = chromedriver"
   ]
  },
  {
   "cell_type": "code",
   "execution_count": 4,
   "metadata": {},
   "outputs": [
    {
     "data": {
      "text/plain": [
       "'https://www.youtube.com/results?search_query=yoga&sp=EgIQAg%253D%253D'"
      ]
     },
     "execution_count": 4,
     "metadata": {},
     "output_type": "execute_result"
    }
   ],
   "source": [
    "query = 'yoga'\n",
    "youtube_search = 'https://www.youtube.com/results?search_query='\n",
    "channel_filter = '&sp=EgIQAg%253D%253D'\n",
    "youtube_query = youtube_search + query.replace(' ', '+') + channel_filter\n",
    "youtube_query"
   ]
  },
  {
   "cell_type": "code",
   "execution_count": 5,
   "metadata": {},
   "outputs": [],
   "source": [
    "driver = webdriver.Chrome(chromedriver)\n",
    "driver.get(youtube_query)"
   ]
  },
  {
   "cell_type": "code",
   "execution_count": 8,
   "metadata": {},
   "outputs": [
    {
     "data": {
      "text/plain": [
       "'<html style=\"font-size: 10px;font-family: Roboto, Arial, sans-serif;\" lang=\"en-US\" dir=\"ltr\"><head><'"
      ]
     },
     "execution_count": 8,
     "metadata": {},
     "output_type": "execute_result"
    }
   ],
   "source": [
    "driver.page_source[:100]"
   ]
  },
  {
   "cell_type": "code",
   "execution_count": 82,
   "metadata": {},
   "outputs": [],
   "source": [
    "soup = BeautifulSoup(driver.page_source, 'html.parser')"
   ]
  },
  {
   "cell_type": "code",
   "execution_count": 83,
   "metadata": {},
   "outputs": [],
   "source": [
    "contents_div = soup.find('div', id='contents')"
   ]
  },
  {
   "cell_type": "markdown",
   "metadata": {},
   "source": [
    "## Getting Yoga Channels"
   ]
  },
  {
   "cell_type": "code",
   "execution_count": 28,
   "metadata": {},
   "outputs": [
    {
     "name": "stdout",
     "output_type": "stream",
     "text": [
      "https://www.youtube.com/user/yogawithadriene\n",
      "https://www.youtube.com/user/CorePowerYoga\n",
      "https://www.youtube.com/channel/UCE92Hzq1rGv3dGJcx6o0b3Q\n",
      "https://www.youtube.com/user/AmritYogaInstitute\n",
      "https://www.youtube.com/channel/UCKnwZVy6iVy7hBgQdmY50Gg\n",
      "https://www.youtube.com/user/zaoyoga\n",
      "https://www.youtube.com/channel/UCjePMsGZq74gGgxq8t9iFhg\n",
      "https://www.youtube.com/user/yogatoday\n",
      "https://www.youtube.com/user/outlawyoga\n",
      "https://www.youtube.com/channel/UCRO4WLyNCgBt2I3nYFfhEsg\n",
      "https://www.youtube.com/channel/UCAlNQ1QqmM21Z6_1_MPbPSQ\n",
      "https://www.youtube.com/user/TheWorldOfYoga\n",
      "https://www.youtube.com/channel/UCAmxfj3S7vM82SKbKpGYugw\n",
      "https://www.youtube.com/channel/UCqAffc_JXy1fr82k6jvQLKg\n",
      "https://www.youtube.com/user/RaiseYourKundalini\n",
      "https://www.youtube.com/channel/UCZPrjNEgWlbEg8BxCwwEKzA\n",
      "https://www.youtube.com/channel/UCIEL5UeJROBe16NSwan9JyA\n",
      "https://www.youtube.com/channel/UC-aRc47xIdkzCWlKuYY7bEA\n",
      "https://www.youtube.com/channel/UC-7UzTng6nBozIbT_aC_GUQ\n",
      "https://www.youtube.com/user/RainbowKidsYoga\n"
     ]
    }
   ],
   "source": [
    "\n",
    "for title in contents_div.find_all('a', id='main-link', attrs={'class': 'channel-link yt-simple-endpoint style-scope ytd-channel-renderer'}):\n",
    "    channel_url = f\"https://www.youtube.com{title['href']}\"\n",
    "    print(channel_url)"
   ]
  },
  {
   "cell_type": "code",
   "execution_count": 59,
   "metadata": {},
   "outputs": [],
   "source": [
    "for i in range(5):\n",
    "    #Scroll\n",
    "    driver.execute_script(\n",
    "        \"window.scrollTo(0, document.documentElement.scrollHeight);\" #Alternatively, document.body.scrollHeight\n",
    "    )\n",
    "    \n",
    "    #Wait for page to load\n",
    "    time.sleep(1)"
   ]
  },
  {
   "cell_type": "code",
   "execution_count": 60,
   "metadata": {},
   "outputs": [],
   "source": [
    "yoga_channel = []\n",
    "\n",
    "soup = BeautifulSoup(driver.page_source, 'html.parser')\n",
    "contents_div = soup.find('div', id='contents')\n",
    "for title in contents_div.find_all('a', id='main-link', attrs={'class': 'channel-link yt-simple-endpoint style-scope ytd-channel-renderer'}):\n",
    "    channel_url = f\"https://www.youtube.com{title['href']}\"\n",
    "    yoga_channel.append(channel_url)\n",
    "    #print(channel_url)"
   ]
  },
  {
   "cell_type": "code",
   "execution_count": 61,
   "metadata": {},
   "outputs": [
    {
     "data": {
      "text/plain": [
       "629"
      ]
     },
     "execution_count": 61,
     "metadata": {},
     "output_type": "execute_result"
    }
   ],
   "source": [
    "len(yoga_channel)"
   ]
  },
  {
   "cell_type": "markdown",
   "metadata": {},
   "source": [
    "## About section Scraping for yoga channels"
   ]
  },
  {
   "cell_type": "code",
   "execution_count": null,
   "metadata": {},
   "outputs": [],
   "source": [
    "## draft - keep for mining \n",
    "## about data\n",
    "channel_data = {}\n",
    "\n",
    "response = requests.get((sample[0] + '/about'))\n",
    "page = response.text\n",
    "soup = BeautifulSoup(page, \"html5lib\")\n",
    "soup\n",
    "contents_div = soup.find('div', id='content')\n",
    "#contents_div"
   ]
  },
  {
   "cell_type": "code",
   "execution_count": 163,
   "metadata": {},
   "outputs": [],
   "source": [
    "def get_channel_info_about(url):\n",
    "    \n",
    "    '''\n",
    "    Scrape data from 'About' section of YouTube channel.\n",
    "    ---\n",
    "    Input: url (string)\n",
    "    Output: dictionary\n",
    "    \n",
    "    '''\n",
    "    channel_data = {}\n",
    "\n",
    "    response = requests.get((url + '/about'))\n",
    "    page = response.text\n",
    "    soup = BeautifulSoup(page, \"html5lib\")\n",
    "    contents_div = soup.find('div', id='content')\n",
    "    \n",
    "    channel_data['name'] = contents_div.find('span', attrs={'class': 'about-channel-link-text'}).text.strip()\n",
    "    channel_data['subscriber_count'] = contents_div.find('span', attrs={'class': 'yt-subscription-button-subscriber-count-branded-horizontal subscribed yt-uix-tooltip'}).text.strip()\n",
    "    channel_data['total_views'] = contents_div.find('span', attrs={'class': 'about-stat'}).find('b').text.strip()\n",
    "    channel_data['joined_date'] = contents_div.find_all('span', attrs={'class': 'about-stat'})[1].text.strip()\n",
    "    channel_data['subscriber_count'] = contents_div.find('span', attrs={'class': 'yt-subscription-button-subscriber-count-branded-horizontal subscribed yt-uix-tooltip'}).text.strip()\n",
    "    channel_data['n_featured_channels'] = len(contents_div.find_all('h3', attrs={'class': 'yt-lockup-title'}))  #featured channels\n",
    "    channel_data['n_links'] = len(contents_div.find_all('a', attrs={'class': 'about-channel-link'}))  #marketing/social media links \n",
    "    channel_data['description_length'] = len(contents_div.find('div', attrs={'class': 'about-description branded-page-box-padding'}).text.strip().replace('\\n', '')) #description length\n",
    "    channel_data['description'] = contents_div.find('div', attrs={'class': 'about-description branded-page-box-padding'}).text.strip().replace('\\n', '')\n",
    "    \n",
    "    return channel_data"
   ]
  },
  {
   "cell_type": "code",
   "execution_count": 164,
   "metadata": {},
   "outputs": [
    {
     "data": {
      "text/plain": [
       "['https://www.youtube.com/user/AmritYogaInstitute',\n",
       " 'https://www.youtube.com/channel/UCKnwZVy6iVy7hBgQdmY50Gg',\n",
       " 'https://www.youtube.com/user/zaoyoga',\n",
       " 'https://www.youtube.com/channel/UCjePMsGZq74gGgxq8t9iFhg']"
      ]
     },
     "execution_count": 164,
     "metadata": {},
     "output_type": "execute_result"
    }
   ],
   "source": [
    "sample = yoga_channel[3:7]\n",
    "sample"
   ]
  },
  {
   "cell_type": "code",
   "execution_count": 165,
   "metadata": {},
   "outputs": [
    {
     "data": {
      "text/plain": [
       "{'name': 'ZaoYoga',\n",
       " 'subscriber_count': '32.3K',\n",
       " 'total_views': '7,813,226',\n",
       " 'joined_date': 'Joined Sep 6, 2012',\n",
       " 'n_featured_channels': 0,\n",
       " 'n_links': 6,\n",
       " 'description_length': 791,\n",
       " 'description': \"Zao Wang:  ERYT500-the highest teaching level in Yoga Alliance.（拥有美国瑜伽联盟最高级别资格证书）After many years of studying and teaching yoga, Zao has combined the best of the East and the West,weaving the two together into her own unique style of teaching, which is clear, nourishing and distinctive. She believes that everybody can do yoga and can get benefits from practicing yoga. Zao has studied yoga from east to west ( China, India and the US.)  with more than ten famous yoga mastersZao holds a BA Degree in Chinese Traditional Medicine. Zao has almost 20 years experience of Chinese Traditional Medicine practice. Zao realizes practicing Yoga stimulates pressure points and meridians in the same way that acupressure does. The flow of internal energy is being boosted through Zao's yoga teaching.\"}"
      ]
     },
     "execution_count": 165,
     "metadata": {},
     "output_type": "execute_result"
    }
   ],
   "source": [
    "get_channel_info_about(sample[2])"
   ]
  },
  {
   "cell_type": "code",
   "execution_count": 162,
   "metadata": {},
   "outputs": [
    {
     "name": "stdout",
     "output_type": "stream",
     "text": [
      "https://www.youtube.com/user/AmritYogaInstitute\n",
      "https://www.youtube.com/channel/UCKnwZVy6iVy7hBgQdmY50Gg\n",
      "https://www.youtube.com/user/zaoyoga\n",
      "https://www.youtube.com/channel/UCjePMsGZq74gGgxq8t9iFhg\n"
     ]
    }
   ],
   "source": [
    "from collections import defaultdict\n",
    "\n",
    "channels_data = defaultdict()\n",
    "for channel in sample:\n",
    "    channel_data = get_channel_info_about(channel)\n",
    "    channels_data[channel] = channel_data"
   ]
  },
  {
   "cell_type": "code",
   "execution_count": 166,
   "metadata": {},
   "outputs": [],
   "source": [
    "from collections import defaultdict\n",
    "\n",
    "channels_data = defaultdict()\n",
    "for channel in sample:\n",
    "    channel_data = get_channel_info_about(channel)\n",
    "    channels_data[channel] = channel_data"
   ]
  },
  {
   "cell_type": "code",
   "execution_count": 167,
   "metadata": {},
   "outputs": [
    {
     "data": {
      "text/plain": [
       "defaultdict(None,\n",
       "            {'https://www.youtube.com/user/AmritYogaInstitute': {'name': 'Amrit Yoga Institute',\n",
       "              'subscriber_count': '18K',\n",
       "              'total_views': '2,407,407',\n",
       "              'joined_date': 'Joined Jun 14, 2011',\n",
       "              'n_featured_channels': 0,\n",
       "              'n_links': 10,\n",
       "              'description_length': 948,\n",
       "              'description': \"The Amrit Yoga Institute is a network of practitioners dedicated to the evolution of consciousness through the teachings and Lineage of Gurudev Sri Amritji (born Amrit Desai). We offer practical approaches for the development of consciousness. Through experiential learning, one can transcend and transform the man-made boundaries separating us from each other and ourselves in the name of religion, psychological, biological and cultural conditioning.At the Amrit Yoga Institute, you'll find a wide range of programs to meet your individual interests and schedule. These include Yoga Teacher Training, Amrit Method of Yoga Nidra and Yoga Nidra Professional Trainings, Panchakarma Ayurveda, and Specialty Programs like Goddess and Shiva Retreats, Yoga Therapy, Prana Awakening, Quantum Breath Meditation, Reiki, Addiction Programs and more.We are located in Salt Springs, Florida, amid the tranquil beauty of the Ocala National Forest on Lake Kerr.\"},\n",
       "             'https://www.youtube.com/channel/UCKnwZVy6iVy7hBgQdmY50Gg': {'name': 'www.lielcheri.com',\n",
       "              'subscriber_count': '4K',\n",
       "              'total_views': '289,631',\n",
       "              'joined_date': 'Joined Sep 29, 2011',\n",
       "              'n_featured_channels': 0,\n",
       "              'n_links': 4,\n",
       "              'description_length': 310,\n",
       "              'description': 'Yoga is a way to self love, a way to inner peace, a way of good and happy life.Yoga is a perfect opportunity to be curious about who you are ! Yoga is a powerful vehicle for change. As you build strength, you start to believe in your own potential.KEEP CALM and DO YOGA ! Namaste , xoxo Liel  — with Liel Cheri'},\n",
       "             'https://www.youtube.com/user/zaoyoga': {'name': 'ZaoYoga',\n",
       "              'subscriber_count': '32.3K',\n",
       "              'total_views': '7,813,226',\n",
       "              'joined_date': 'Joined Sep 6, 2012',\n",
       "              'n_featured_channels': 0,\n",
       "              'n_links': 6,\n",
       "              'description_length': 791,\n",
       "              'description': \"Zao Wang:  ERYT500-the highest teaching level in Yoga Alliance.（拥有美国瑜伽联盟最高级别资格证书）After many years of studying and teaching yoga, Zao has combined the best of the East and the West,weaving the two together into her own unique style of teaching, which is clear, nourishing and distinctive. She believes that everybody can do yoga and can get benefits from practicing yoga. Zao has studied yoga from east to west ( China, India and the US.)  with more than ten famous yoga mastersZao holds a BA Degree in Chinese Traditional Medicine. Zao has almost 20 years experience of Chinese Traditional Medicine practice. Zao realizes practicing Yoga stimulates pressure points and meridians in the same way that acupressure does. The flow of internal energy is being boosted through Zao's yoga teaching.\"},\n",
       "             'https://www.youtube.com/channel/UCjePMsGZq74gGgxq8t9iFhg': {'name': 'Yo Practico Yoga',\n",
       "              'subscriber_count': '13.2K',\n",
       "              'total_views': '1,605,113',\n",
       "              'joined_date': 'Joined Dec 3, 2013',\n",
       "              'n_featured_channels': 4,\n",
       "              'n_links': 8,\n",
       "              'description_length': 136,\n",
       "              'description': 'Channel on psycho-physical and spiritual well-being through the millennial and modern contributions of Yoga and other related therapies.'}})"
      ]
     },
     "execution_count": 167,
     "metadata": {},
     "output_type": "execute_result"
    }
   ],
   "source": [
    "channels_data"
   ]
  },
  {
   "cell_type": "code",
   "execution_count": 169,
   "metadata": {},
   "outputs": [],
   "source": [
    "import time\n",
    "import random\n",
    "from collections import defaultdict\n",
    "\n",
    "channels_data = defaultdict()\n",
    "#yoga_channel\n",
    "\n",
    "for channel in sample:\n",
    "    try:\n",
    "        channel_data = get_channel_info_about(channel)\n",
    "        channels_data[channel] = channel_data\n",
    "    except:\n",
    "        continue\n",
    "    \n",
    "    time.sleep(.5+2*random.random())\n"
   ]
  },
  {
   "cell_type": "code",
   "execution_count": 170,
   "metadata": {},
   "outputs": [
    {
     "data": {
      "text/plain": [
       "defaultdict(None,\n",
       "            {'https://www.youtube.com/user/AmritYogaInstitute': {'name': 'Amrit Yoga Institute',\n",
       "              'subscriber_count': '18K',\n",
       "              'total_views': '2,407,454',\n",
       "              'joined_date': 'Joined Jun 14, 2011',\n",
       "              'n_featured_channels': 0,\n",
       "              'n_links': 10,\n",
       "              'description_length': 948,\n",
       "              'description': \"The Amrit Yoga Institute is a network of practitioners dedicated to the evolution of consciousness through the teachings and Lineage of Gurudev Sri Amritji (born Amrit Desai). We offer practical approaches for the development of consciousness. Through experiential learning, one can transcend and transform the man-made boundaries separating us from each other and ourselves in the name of religion, psychological, biological and cultural conditioning.At the Amrit Yoga Institute, you'll find a wide range of programs to meet your individual interests and schedule. These include Yoga Teacher Training, Amrit Method of Yoga Nidra and Yoga Nidra Professional Trainings, Panchakarma Ayurveda, and Specialty Programs like Goddess and Shiva Retreats, Yoga Therapy, Prana Awakening, Quantum Breath Meditation, Reiki, Addiction Programs and more.We are located in Salt Springs, Florida, amid the tranquil beauty of the Ocala National Forest on Lake Kerr.\"},\n",
       "             'https://www.youtube.com/channel/UCKnwZVy6iVy7hBgQdmY50Gg': {'name': 'www.lielcheri.com',\n",
       "              'subscriber_count': '4K',\n",
       "              'total_views': '289,696',\n",
       "              'joined_date': 'Joined Sep 29, 2011',\n",
       "              'n_featured_channels': 0,\n",
       "              'n_links': 4,\n",
       "              'description_length': 310,\n",
       "              'description': 'Yoga is a way to self love, a way to inner peace, a way of good and happy life.Yoga is a perfect opportunity to be curious about who you are ! Yoga is a powerful vehicle for change. As you build strength, you start to believe in your own potential.KEEP CALM and DO YOGA ! Namaste , xoxo Liel  — with Liel Cheri'},\n",
       "             'https://www.youtube.com/channel/UCjePMsGZq74gGgxq8t9iFhg': {'name': 'Yo Practico Yoga',\n",
       "              'subscriber_count': '13.2K',\n",
       "              'total_views': '1,605,218',\n",
       "              'joined_date': 'Joined Dec 3, 2013',\n",
       "              'n_featured_channels': 4,\n",
       "              'n_links': 8,\n",
       "              'description_length': 136,\n",
       "              'description': 'Channel on psycho-physical and spiritual well-being through the millennial and modern contributions of Yoga and other related therapies.'}})"
      ]
     },
     "execution_count": 170,
     "metadata": {},
     "output_type": "execute_result"
    }
   ],
   "source": [
    "channels_data"
   ]
  },
  {
   "cell_type": "code",
   "execution_count": null,
   "metadata": {},
   "outputs": [],
   "source": [
    "# Attempt 1 = scrape all Yoga Channels"
   ]
  },
  {
   "cell_type": "code",
   "execution_count": 171,
   "metadata": {},
   "outputs": [],
   "source": [
    "import time\n",
    "import random\n",
    "from collections import defaultdict\n",
    "\n",
    "channels_data = defaultdict()\n",
    "#yoga_channel\n",
    "\n",
    "for channel in yoga_channel:\n",
    "    try:\n",
    "        channel_data = get_channel_info_about(channel)\n",
    "        channels_data[channel] = channel_data\n",
    "    except:\n",
    "        continue\n",
    "    \n",
    "    time.sleep(.5+2*random.random())"
   ]
  },
  {
   "cell_type": "code",
   "execution_count": 172,
   "metadata": {},
   "outputs": [
    {
     "data": {
      "text/plain": [
       "367"
      ]
     },
     "execution_count": 172,
     "metadata": {},
     "output_type": "execute_result"
    }
   ],
   "source": [
    "len(channels_data)"
   ]
  },
  {
   "cell_type": "code",
   "execution_count": 173,
   "metadata": {},
   "outputs": [],
   "source": [
    "import pickle\n",
    "\n",
    "with open('channels_about.pkl', 'wb') as picklefile:\n",
    "    pickle.dump(channels_data, picklefile)"
   ]
  },
  {
   "cell_type": "code",
   "execution_count": 174,
   "metadata": {},
   "outputs": [
    {
     "data": {
      "text/plain": [
       "dict_keys(['https://www.youtube.com/user/yogawithadriene', 'https://www.youtube.com/user/CorePowerYoga', 'https://www.youtube.com/channel/UCE92Hzq1rGv3dGJcx6o0b3Q', 'https://www.youtube.com/user/AmritYogaInstitute', 'https://www.youtube.com/channel/UCKnwZVy6iVy7hBgQdmY50Gg', 'https://www.youtube.com/user/zaoyoga', 'https://www.youtube.com/channel/UCjePMsGZq74gGgxq8t9iFhg', 'https://www.youtube.com/user/yogatoday', 'https://www.youtube.com/user/outlawyoga', 'https://www.youtube.com/channel/UCRO4WLyNCgBt2I3nYFfhEsg', 'https://www.youtube.com/channel/UCAlNQ1QqmM21Z6_1_MPbPSQ', 'https://www.youtube.com/user/TheWorldOfYoga', 'https://www.youtube.com/channel/UCAmxfj3S7vM82SKbKpGYugw', 'https://www.youtube.com/user/RaiseYourKundalini', 'https://www.youtube.com/channel/UCIEL5UeJROBe16NSwan9JyA', 'https://www.youtube.com/channel/UC-aRc47xIdkzCWlKuYY7bEA', 'https://www.youtube.com/user/RainbowKidsYoga', 'https://www.youtube.com/channel/UCV264YKuX4x4DgnGgFwr2Sg', 'https://www.youtube.com/channel/UCpDGr8Y_EyTJvBtw675dHYQ', 'https://www.youtube.com/channel/UCkabMSFdTznxoN0K1uixwgA', 'https://www.youtube.com/channel/UCYTjNDSbrdhAV2QkE2W-UTA', 'https://www.youtube.com/user/cowboyyogi', 'https://www.youtube.com/user/LearnYogaVideos', 'https://www.youtube.com/user/BrahmaniYoga', 'https://www.youtube.com/user/Stefanie1a', 'https://www.youtube.com/user/ArhantaYogaAshram', 'https://www.youtube.com/channel/UCTa1d6WVUhJTZzPAR-8wyJQ', 'https://www.youtube.com/user/cityogiTV', 'https://www.youtube.com/user/agamayoga', 'https://www.youtube.com/channel/UCVkP96VbnHDnvSrrxcsr2kA', 'https://www.youtube.com/channel/UC0NbJtWBuc8fgv3_UzJBTrQ', 'https://www.youtube.com/channel/UCwHz-A3goPAZEGMMTNoETBA', 'https://www.youtube.com/channel/UCln4jZaZH2802wk78lNjSOg', 'https://www.youtube.com/user/yogasidsel', 'https://www.youtube.com/user/tiffanyviehmann', 'https://www.youtube.com/channel/UCVY67etxkaFjxCtHup-qv7Q', 'https://www.youtube.com/channel/UCXUD4phwYeQR9UYD12jFJfw', 'https://www.youtube.com/channel/UCJtQPrDOerHjFUsPFt7QSVA', 'https://www.youtube.com/user/VashisthaYoga', 'https://www.youtube.com/channel/UCkn8jW2l8NbizY5lD-NcEUg', 'https://www.youtube.com/user/mysattvayoga', 'https://www.youtube.com/user/JivamuktiTV', 'https://www.youtube.com/channel/UC2boxAmwtmPANznmzbZlXnQ', 'https://www.youtube.com/channel/UCCm32ZxVg_-_YYs8UP2boXQ', 'https://www.youtube.com/user/Missneobusara', 'https://www.youtube.com/user/bloomyoga', 'https://www.youtube.com/user/lakshyayoga', 'https://www.youtube.com/channel/UCKc0oxtEaIJhhfOsW_1cpIg', 'https://www.youtube.com/user/paramyogaindia', 'https://www.youtube.com/channel/UCMWAsKSoSwq8q_D19PZvfUw', 'https://www.youtube.com/user/blueosayoga', 'https://www.youtube.com/channel/UCT1H3hbmSliYG5O6i0pZsDA', 'https://www.youtube.com/channel/UCndocO2VBkLAodugqfaY9kg', 'https://www.youtube.com/user/pranamayainc', 'https://www.youtube.com/user/YogaVision108', 'https://www.youtube.com/user/davidgoodyoga', 'https://www.youtube.com/user/beachyogagirl', 'https://www.youtube.com/channel/UC7a5LhGLCvslZO27HdvcbkQ', 'https://www.youtube.com/user/YogaAnytime', 'https://www.youtube.com/channel/UCusju2CAqqyEG5qZbuzgCmA', 'https://www.youtube.com/channel/UCYkJZtmbc2mHlTjTgyvOHrA', 'https://www.youtube.com/channel/UCtPMv6HEYAyNHiUtqV-55fg', 'https://www.youtube.com/user/ihanuman', 'https://www.youtube.com/user/yogajimportland', 'https://www.youtube.com/user/KymCocoYoga', 'https://www.youtube.com/channel/UCNYtLq5PlkFGviiVhsGiQCg', 'https://www.youtube.com/channel/UC20WhZOOazv58ioUqNU1BAA', 'https://www.youtube.com/channel/UCLevFC-tyOhyyuhXyTMHJbQ', 'https://www.youtube.com/user/oceanworshipper', 'https://www.youtube.com/channel/UCcMWXeDFKSPhYXgT_HM_2YQ', 'https://www.youtube.com/channel/UCTlmEOYH5tLJQP42gn1CkbA', 'https://www.youtube.com/channel/UCNvLy9CNQWRwwgAGb5yzzBw', 'https://www.youtube.com/channel/UCQnZjtsfvuGA9sXbtoTrGkA', 'https://www.youtube.com/channel/UCUE7JH2fvMjLIavhQI-xpkA', 'https://www.youtube.com/channel/UCMOuxZneKXsKiC-CtU4Qp2Q', 'https://www.youtube.com/channel/UC2bcwlMfVmFr4gnRMyjTerw', 'https://www.youtube.com/channel/UCVlJyQN4eakcQ57uVrcATMA', 'https://www.youtube.com/channel/UCmyvZUk8NVopIrD4yYbhTVg', 'https://www.youtube.com/channel/UCloA0DkzKG5rG-G_B63IBKg', 'https://www.youtube.com/channel/UCr82UM4myPNB9jqvwCE9Otw', 'https://www.youtube.com/channel/UCrmV_WjkJwvraj_FPYUhnfQ', 'https://www.youtube.com/channel/UCaTmLSXsAqssC2SJIVhK1hw', 'https://www.youtube.com/channel/UCgP0gK19QuficKG7P3nL4_g', 'https://www.youtube.com/user/piyft', 'https://www.youtube.com/channel/UCG7zy1G8VKaSG5QykrQsGUw', 'https://www.youtube.com/channel/UCDnNlwBw8eaCFxuyifi1B1w', 'https://www.youtube.com/user/johannkotzevideo', 'https://www.youtube.com/channel/UC8Shjihz_gHkaZa7TJfhdUg', 'https://www.youtube.com/channel/UCcRynIrbyDnZroplb5we1tQ', 'https://www.youtube.com/channel/UCwgXvRyZeaFd1_Qs2Tg_WYQ', 'https://www.youtube.com/user/vihangamyoga', 'https://www.youtube.com/user/PacificAshtangaYoga', 'https://www.youtube.com/user/happywithyoga', 'https://www.youtube.com/user/indeayoga', 'https://www.youtube.com/channel/UCCOOToZSV4lDrbmGXu96ySg', 'https://www.youtube.com/user/IshvaraYoga', 'https://www.youtube.com/user/yogavedanta', 'https://www.youtube.com/channel/UCXSGYCcwSmDSeb3gAyhrDQg', 'https://www.youtube.com/channel/UCdRC6G1QMkiWdN8Dyx9rGug', 'https://www.youtube.com/user/TheYogaLunchbox', 'https://www.youtube.com/channel/UCSeYaSu21Z2sKHiGiFsaEFQ', 'https://www.youtube.com/channel/UCfgjje6KFJUIV00x5tBvwjA', 'https://www.youtube.com/channel/UCNHqhuIsfpoH-enRvo3tf3w', 'https://www.youtube.com/user/yogachuckdotcom', 'https://www.youtube.com/channel/UCAMVd8dNncuJuMBSqwzk_lw', 'https://www.youtube.com/channel/UCGYPeogw-RodiyInlxJV_JQ', 'https://www.youtube.com/channel/UCI7T_3vZIWU5QuK-by5AWIg', 'https://www.youtube.com/channel/UCTXyEeB6K0QfukLSOdVxkuw', 'https://www.youtube.com/user/sadienardini', 'https://www.youtube.com/user/SiyaYoga', 'https://www.youtube.com/user/sivanandabahamas', 'https://www.youtube.com/channel/UC5kvbH9OUtAndfsSW-qJfFA', 'https://www.youtube.com/user/jockestonia', 'https://www.youtube.com/channel/UCWNmJr4OQdn6imfkpNX2huw', 'https://www.youtube.com/channel/UCK1FyHMpVhh2J3cp4UZJBhA', 'https://www.youtube.com/channel/UCpXHyfQbeKQXHCl5vKISokQ', 'https://www.youtube.com/channel/UCDgEH3-Lo40HNpxmyCwVgzQ', 'https://www.youtube.com/channel/UCA4qMlYIXDPgrHv0pN2Tc4g', 'https://www.youtube.com/channel/UC4cB-6W96mClRkiD4rRibdg', 'https://www.youtube.com/user/mcrulz2000', 'https://www.youtube.com/user/TuneUpFitness', 'https://www.youtube.com/channel/UCqLfjg0a0Bu2UKm_EkOocaA', 'https://www.youtube.com/channel/UC3J0upq-0mrWVykR9_iW31w', 'https://www.youtube.com/user/svahayoga', 'https://www.youtube.com/user/yoga', 'https://www.youtube.com/channel/UCao6WJ3ryV6IjLmZa-PCv8w', 'https://www.youtube.com/channel/UCmTpKlgE3sT4X78v8u7jDww', 'https://www.youtube.com/channel/UC_Rn1EmHQ4ckJbfiaSa46Nw', 'https://www.youtube.com/channel/UCEgr-rY3J5tuj0NM8n2lPDg', 'https://www.youtube.com/channel/UCQV_J47rbyQ7gkafYHcod8g', 'https://www.youtube.com/channel/UCxsUkA8y1Rq2OapzUtkC87A', 'https://www.youtube.com/channel/UCQRNCQVqouFHvvyG_kHFOng', 'https://www.youtube.com/channel/UC0CPgd4W4_Cxh6BCZJe59ug', 'https://www.youtube.com/channel/UCWWsQMUBuv59zrUn793GIVQ', 'https://www.youtube.com/user/YogaMeditationTube', 'https://www.youtube.com/user/YogiNorasChannel', 'https://www.youtube.com/channel/UC2oL57TkQp6bMfz-1wa5fqg', 'https://www.youtube.com/channel/UCzofJ1X3IBvCD22fZ9PcBkA', 'https://www.youtube.com/channel/UCDd0soiwHgZ25x2JPTOIGQQ', 'https://www.youtube.com/user/bodhisurfschool', 'https://www.youtube.com/channel/UCSE5CWyA-zx9EkXXOM8oKLQ', 'https://www.youtube.com/channel/UC-OCmpA4oA2HgQqDUaHPOww', 'https://www.youtube.com/channel/UCMs75wMT5xtrsH8w0W1ipXA', 'https://www.youtube.com/channel/UCY_Ni7fUU06cUrFl1KpYhYQ', 'https://www.youtube.com/channel/UCT681eDAXQq1a2Bp3bQYOdg', 'https://www.youtube.com/channel/UCSFjwYlW_LIs5dAGcp1qRAg', 'https://www.youtube.com/user/traviseliotonline', 'https://www.youtube.com/user/yogaforlife', 'https://www.youtube.com/channel/UCfwrYYft2Mp3bfq9siqstHA', 'https://www.youtube.com/channel/UCuotWj743a0ZeYb9kHOEgWQ', 'https://www.youtube.com/user/doyogawithme', 'https://www.youtube.com/user/AbhinamYoga', 'https://www.youtube.com/channel/UCgdgZfykUOh4P_uUzCKBKoQ', 'https://www.youtube.com/channel/UCHy2xKwvGr5x5CLCaQSWbVA', 'https://www.youtube.com/channel/UC2HjTe0TL20qSk8e3s1d0DA', 'https://www.youtube.com/channel/UCilCoSPtTScnLqhVpv0kSWQ', 'https://www.youtube.com/channel/UC9L2KRYM9a5g1f_lxIxTk5g', 'https://www.youtube.com/channel/UC8hw2jeHIjMs7mrQZ-0tilw', 'https://www.youtube.com/channel/UCAgYMfspFo6rAsEipEtg8pg', 'https://www.youtube.com/user/dashama', 'https://www.youtube.com/channel/UCnVaSAbA_YK2WLyqCgs7jwA', 'https://www.youtube.com/user/yogaandayurveda', 'https://www.youtube.com/user/kineticvigilantes', 'https://www.youtube.com/channel/UC8LEtL2UfK3m-oYPhs6-Wjg', 'https://www.youtube.com/user/yogaduke', 'https://www.youtube.com/channel/UCazxAtOqE8COKiYRMV0Awtw', 'https://www.youtube.com/user/TheSeductionOfYoga', 'https://www.youtube.com/user/briohny27', 'https://www.youtube.com/channel/UCMue61Wk7SRjOwTVdUs_7hw', 'https://www.youtube.com/user/ItsAllYoga', 'https://www.youtube.com/user/ashtangayogaparis', 'https://www.youtube.com/user/yogawithkaya', 'https://www.youtube.com/channel/UCM-8HH-_J2C2L2tXulTU3DQ', 'https://www.youtube.com/user/samatayoga', 'https://www.youtube.com/channel/UCcG-3VPC63TDpsU-5Bjibkw', 'https://www.youtube.com/user/yogamonki', 'https://www.youtube.com/user/mydailyyoga', 'https://www.youtube.com/user/yogatuneupvideos', 'https://www.youtube.com/user/yogifilmshamburg', 'https://www.youtube.com/user/yogatx', 'https://www.youtube.com/channel/UCGFISobzx7_pxpHMYixblVg', 'https://www.youtube.com/user/DivaduYoga', 'https://www.youtube.com/user/yogaworks', 'https://www.youtube.com/channel/UCKruwn05k9wNznFj9XmO-kw', 'https://www.youtube.com/channel/UC4gag6NoyUl0IZE_1kHKCpQ', 'https://www.youtube.com/channel/UCyJPRR-8EvLcLNTBY1ddWiA', 'https://www.youtube.com/channel/UC0U2_ed39wnsmhuH8f6SU5A', 'https://www.youtube.com/channel/UCgVRoMv77PrbErWMYivBVag', 'https://www.youtube.com/channel/UCfAUpwgU7No9GnDmx7xfeMA', 'https://www.youtube.com/channel/UCGon9sy2KtFwk7om8vHalfA', 'https://www.youtube.com/channel/UCSROyzZiJJy6RAQCvm36Nsw', 'https://www.youtube.com/user/yogaforbjj', 'https://www.youtube.com/channel/UC9Mgudv-EN3fma-ouktUY5w', 'https://www.youtube.com/channel/UCmGNNOSrmaxe9EBvQ-8n7bQ', 'https://www.youtube.com/channel/UCZkbiujyDoXqoPPr5D74I7A', 'https://www.youtube.com/channel/UCYfIfs2Fz5G6W_to2PAUS9Q', 'https://www.youtube.com/user/lululemon', 'https://www.youtube.com/channel/UCnAg9PhK3RxwAhIaw5kzKSQ', 'https://www.youtube.com/channel/UCE-s6H6S6R91rwLkxCma_qg', 'https://www.youtube.com/channel/UCKdMrsccFNKJ3ftxZ5cgg8A', 'https://www.youtube.com/user/vegandebra', 'https://www.youtube.com/user/brendamedinayoga', 'https://www.youtube.com/user/homeyoga123', 'https://www.youtube.com/channel/UCql7LmoMsf5YzhVBonOCwzg', 'https://www.youtube.com/user/DrMelissaWest', 'https://www.youtube.com/user/noramaas', 'https://www.youtube.com/channel/UC5Z94CfoSZUUpgUiTHG9reQ', 'https://www.youtube.com/channel/UCQC7nf9lO97DnXryTKqzmqQ', 'https://www.youtube.com/channel/UCrF3OuToXWui3qiJl9nS61Q', 'https://www.youtube.com/user/FreeYogaVideos', 'https://www.youtube.com/channel/UCa4MnAD7HBHWffCVOedXv9g', 'https://www.youtube.com/channel/UCihUiDJzjyo2ov_qGtW33lw', 'https://www.youtube.com/channel/UC7X6sbBXea1a4-dqeqZZhGQ', 'https://www.youtube.com/channel/UCE6Y7fJCSeQEUaCxQPENjCg', 'https://www.youtube.com/user/YogaJP', 'https://www.youtube.com/user/stephkittell', 'https://www.youtube.com/user/satyogainstitute', 'https://www.youtube.com/channel/UCod2Gi9j8THW1hC7sHn94Rw', 'https://www.youtube.com/channel/UCu1HxDgZti2dLnqlWiUzNoQ', 'https://www.youtube.com/channel/UCf0gmceDfjtmWwKVRBBrwtQ', 'https://www.youtube.com/channel/UCb0R3-hzRQiD-KhXPC3sDRQ', 'https://www.youtube.com/channel/UCSViohM-bQ9oqfwDg7948pg', 'https://www.youtube.com/channel/UC1AsvSq9IDJx0prpMU6nAvQ', 'https://www.youtube.com/user/artandmeditation', 'https://www.youtube.com/channel/UCUaIpUCP2B0YtpwdcX4DP6w', 'https://www.youtube.com/channel/UC_BTlSrGukMM1Ft_FA1xrSw', 'https://www.youtube.com/user/DanielleCollinsYoga', 'https://www.youtube.com/channel/UCynrhja9f6Yfh_ZApEEbJYw', 'https://www.youtube.com/user/AshtangaYogaToronto', 'https://www.youtube.com/user/kmiachin', 'https://www.youtube.com/user/butlerl2', 'https://www.youtube.com/user/sequencewizvideo', 'https://www.youtube.com/user/yogalanbcn', 'https://www.youtube.com/user/gaiam', 'https://www.youtube.com/user/Dallapage', 'https://www.youtube.com/user/bogdan12392', 'https://www.youtube.com/user/yogawithkassandra', 'https://www.youtube.com/user/christimoff', 'https://www.youtube.com/channel/UClTHq8hOnQHxo5rJvZTQTyw', 'https://www.youtube.com/user/methodyoga', 'https://www.youtube.com/user/MandukaTV', 'https://www.youtube.com/user/theoA991', 'https://www.youtube.com/channel/UCq33s9_O6TEa9w6Mrp69yqg', 'https://www.youtube.com/channel/UCoEgjGEXW9cYCQVXixAfnXg', 'https://www.youtube.com/channel/UCsksmxdgJtJp18iMYQpJg0A', 'https://www.youtube.com/channel/UCw3_asTSehMF-MbF1cluGCw', 'https://www.youtube.com/user/CosmicKidsYoga', 'https://www.youtube.com/channel/UCu8zuWh8_9Fc5enZiZaNW0w', 'https://www.youtube.com/user/lesleyfightmaster', 'https://www.youtube.com/user/blogilates', 'https://www.youtube.com/user/SuperAntih', 'https://www.youtube.com/channel/UCAUWdc_B05LUDmif1rypohw', 'https://www.youtube.com/user/YOGABYCANDACE', 'https://www.youtube.com/user/akhandayoga', 'https://www.youtube.com/channel/UCkYK3fEnHRqHcycJ2u5MrVQ', 'https://www.youtube.com/user/VentunoYoga', 'https://www.youtube.com/user/HeartAlchemyYoga', 'https://www.youtube.com/channel/UCciuZl2ydLCvN5txlLW0rIg', 'https://www.youtube.com/channel/UCn3jo0dwmz6GPmlivOBx1nA', 'https://www.youtube.com/channel/UC9ssVCNwlH4LonEDGsVjtuw', 'https://www.youtube.com/user/HridayaTeachings', 'https://www.youtube.com/user/yinsights1', 'https://www.youtube.com/user/YogaVidyaVortrag', 'https://www.youtube.com/channel/UCoI2HuJP6NHFk9kRZstmAug', 'https://www.youtube.com/channel/UCYmM9DXH1XC1ZypIDCaf1JA', 'https://www.youtube.com/channel/UCIB3eqNvBBES-nhczPnFFBg', 'https://www.youtube.com/channel/UC0n6WQ3_PAePXz_IZzXZFGA', 'https://www.youtube.com/user/YogaGoa', 'https://www.youtube.com/user/PilgrimageYoga', 'https://www.youtube.com/channel/UCNjIZ4VXCOUD9DvmbfRNLrA', 'https://www.youtube.com/user/badyogitv', 'https://www.youtube.com/user/yogaomkar', 'https://www.youtube.com/channel/UCl0AUXMurZXQBA9tY6YMaWA', 'https://www.youtube.com/user/KinoYoga', 'https://www.youtube.com/user/HappyAndFitYoga', 'https://www.youtube.com/channel/UCeBKGjBxk8U-NjtRi0ajLCA', 'https://www.youtube.com/channel/UCrtTMWDx4u1dVKMpXNhjwpA', 'https://www.youtube.com/channel/UC79-TyulXkC7KRwXtYlrIlw', 'https://www.youtube.com/user/5viviwill', 'https://www.youtube.com/channel/UCpGzfCTsHd7uIGI78oC68Lw', 'https://www.youtube.com/user/shilpayoga', 'https://www.youtube.com/user/aommtelevision', 'https://www.youtube.com/channel/UC6JVXwM88DsvYA7kf4RxFSg', 'https://www.youtube.com/user/YogaVidyaEnglish', 'https://www.youtube.com/channel/UCJEi1foUiGObzzQM3QA2H5A', 'https://www.youtube.com/user/ManFlowYoga', 'https://www.youtube.com/user/faceyogamethod', 'https://www.youtube.com/user/Sukadev108', 'https://www.youtube.com/user/ayurvedayoga', 'https://www.youtube.com/channel/UCoDpo17WQK__Raj3ZAzpHaQ', 'https://www.youtube.com/user/EkhartYoga', 'https://www.youtube.com/user/SanDiegoPaddleYoga', 'https://www.youtube.com/user/yogawithtim', 'https://www.youtube.com/channel/UCE4osaRQ_lxD7SF1ERd7z0Q', 'https://www.youtube.com/user/30dayextremefatloss', 'https://www.youtube.com/channel/UCTqpr2W0r2cC3wefoUrxftQ', 'https://www.youtube.com/channel/UC8nC0ahT2xlUDVI6rYr9h2Q', 'https://www.youtube.com/channel/UCoLLBq5AqydOGxC3OyvEJ0g', 'https://www.youtube.com/user/YogaIntervals19', 'https://www.youtube.com/user/BrettLarkinYoga', 'https://www.youtube.com/channel/UCN0mh1zwfNiKIrqeLpwsCsg', 'https://www.youtube.com/channel/UCCRkvnBheWeR7fByvmd5ckg', 'https://www.youtube.com/channel/UCVrWHW_xYpDnr3p3OR4KYGw', 'https://www.youtube.com/user/BaptisteYoga', 'https://www.youtube.com/user/wailanayoga', 'https://www.youtube.com/channel/UC4xZDlEacqDBpDqtdy7NN4A', 'https://www.youtube.com/user/LaScimmiaYoga', 'https://www.youtube.com/user/TaraStilesYoga', 'https://www.youtube.com/channel/UCOV295qRmPvUAMP9p9fBvow', 'https://www.youtube.com/user/YogaJournal', 'https://www.youtube.com/user/yogatic', 'https://www.youtube.com/channel/UC4BcD0wemxIaoS59ULIKnBg', 'https://www.youtube.com/channel/UC9TnJnXq2xgyZFIYrNSQpzQ', 'https://www.youtube.com/user/chriskayoga', 'https://www.youtube.com/channel/UC4oZl0kqFnhk4eiwKFIWGIg', 'https://www.youtube.com/channel/UCxYVPua6HC46HzgT8IIn3vg', 'https://www.youtube.com/channel/UCSdoWIo08YTr_GzfgaOgOTw', 'https://www.youtube.com/user/FarmYoga', 'https://www.youtube.com/user/meditationmantra108', 'https://www.youtube.com/user/YogaInternational', 'https://www.youtube.com/channel/UCnn1fL7vlERC1iTiUQqy2bg', 'https://www.youtube.com/channel/UCBhpHfJcr3u4F7OPMohNg2A', 'https://www.youtube.com/user/yogahousem', 'https://www.youtube.com/user/kathakmoksha', 'https://www.youtube.com/channel/UCmuPXT21KOb5CBkyM6Du1zQ', 'https://www.youtube.com/channel/UCEbdsjgwQk0MJkzFm1dy4eQ', 'https://www.youtube.com/channel/UC1yWefpa54qfnqYuRKwsj_A', 'https://www.youtube.com/user/yoginimelbourne', 'https://www.youtube.com/user/thehouseofyoga', 'https://www.youtube.com/channel/UCEl4J6Zg3tlPuDAmCoXVymw', 'https://www.youtube.com/user/ChristynKat', 'https://www.youtube.com/channel/UC5oOly3rS2xXJmOgatALl1w', 'https://www.youtube.com/user/bodypositiveyoga', 'https://www.youtube.com/channel/UCPGFAGVBUeGKDekrPK6pD_w', 'https://www.youtube.com/user/TrimurtiYoga13', 'https://www.youtube.com/user/onlymyhealthyoga', 'https://www.youtube.com/user/from2Fat2fit', 'https://www.youtube.com/user/psychetruth', 'https://www.youtube.com/user/YogeaArtFlowYoga', 'https://www.youtube.com/channel/UCehH0gfC-ivKz_htoMHxHtA', 'https://www.youtube.com/user/DoYouYoga', 'https://www.youtube.com/channel/UCbXLqUzrcSmMfFVcxTFjg3g', 'https://www.youtube.com/channel/UC7ZhxbFde2EalBT0ZQvkoAg', 'https://www.youtube.com/user/rryogaroom', 'https://www.youtube.com/channel/UCHJBoCDxaCTRrwCHXEBA-BA', 'https://www.youtube.com/user/barikoral', 'https://www.youtube.com/channel/UCLHREeDJt3zl4EKFqbGxbQQ', 'https://www.youtube.com/channel/UCzIXSdwWGfMoc3UcQ3jxEbg', 'https://www.youtube.com/channel/UC2g_6T9S9B30H0YFRJJca0A', 'https://www.youtube.com/user/motleyfitness', 'https://www.youtube.com/user/omshantivideos', 'https://www.youtube.com/channel/UC8O5OSl-PTgH0TMfWjzEBTA', 'https://www.youtube.com/user/holyyogaministries', 'https://www.youtube.com/channel/UCWaisgy8fJM3WDwft0UXWQg', 'https://www.youtube.com/user/CurvyYoga', 'https://www.youtube.com/user/VideoJug', 'https://www.youtube.com/channel/UCIAA_1yXs9Nwk93qweS7PIw', 'https://www.youtube.com/user/cexercize', 'https://www.youtube.com/user/MalovaElena', 'https://www.youtube.com/channel/UC4csT3eOSOiW3FGuS0Nh2yw', 'https://www.youtube.com/user/myyogaonline', 'https://www.youtube.com/channel/UCoDC240d7nba8YAguZ6G3Lw', 'https://www.youtube.com/user/AtmasferaTV', 'https://www.youtube.com/user/LivingYourYogaTV', 'https://www.youtube.com/user/sadhguru', 'https://www.youtube.com/user/popsugartvfit', 'https://www.youtube.com/user/CaliFitnessYogaVN'])"
      ]
     },
     "execution_count": 174,
     "metadata": {},
     "output_type": "execute_result"
    }
   ],
   "source": [
    "channels_data.keys()"
   ]
  },
  {
   "cell_type": "code",
   "execution_count": null,
   "metadata": {},
   "outputs": [],
   "source": [
    "'https://www.youtube.com/user/CaliFitnessYogaVN'"
   ]
  },
  {
   "cell_type": "code",
   "execution_count": 175,
   "metadata": {},
   "outputs": [
    {
     "data": {
      "text/plain": [
       "['https://www.youtube.com/channel/UCnAg9PhK3RxwAhIaw5kzKSQ',\n",
       " 'https://www.youtube.com/channel/UCE-s6H6S6R91rwLkxCma_qg',\n",
       " 'https://www.youtube.com/user/TheNeoyoga',\n",
       " 'https://www.youtube.com/user/kohayoga',\n",
       " 'https://www.youtube.com/user/artisticyogakalayoga',\n",
       " 'https://www.youtube.com/user/MindtheMatGirls',\n",
       " 'https://www.youtube.com/channel/UC2PqQ8SIF50KIdYxvuoI1aA',\n",
       " 'https://www.youtube.com/channel/UCKdMrsccFNKJ3ftxZ5cgg8A',\n",
       " 'https://www.youtube.com/user/vegandebra']"
      ]
     },
     "execution_count": 175,
     "metadata": {},
     "output_type": "execute_result"
    }
   ],
   "source": [
    "yoga_channel[360:369]"
   ]
  },
  {
   "cell_type": "code",
   "execution_count": 176,
   "metadata": {},
   "outputs": [
    {
     "data": {
      "text/plain": [
       "628"
      ]
     },
     "execution_count": 176,
     "metadata": {},
     "output_type": "execute_result"
    }
   ],
   "source": [
    "yoga_channel.index('https://www.youtube.com/user/CaliFitnessYogaVN')"
   ]
  },
  {
   "cell_type": "code",
   "execution_count": null,
   "metadata": {},
   "outputs": [],
   "source": []
  }
 ],
 "metadata": {
  "kernelspec": {
   "display_name": "Python 3",
   "language": "python",
   "name": "python3"
  },
  "language_info": {
   "codemirror_mode": {
    "name": "ipython",
    "version": 3
   },
   "file_extension": ".py",
   "mimetype": "text/x-python",
   "name": "python",
   "nbconvert_exporter": "python",
   "pygments_lexer": "ipython3",
   "version": "3.7.4"
  }
 },
 "nbformat": 4,
 "nbformat_minor": 2
}
