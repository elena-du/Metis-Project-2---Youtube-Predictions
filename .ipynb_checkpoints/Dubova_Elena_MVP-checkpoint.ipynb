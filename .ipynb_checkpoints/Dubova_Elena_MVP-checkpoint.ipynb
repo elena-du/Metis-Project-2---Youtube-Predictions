{
 "cells": [
  {
   "cell_type": "markdown",
   "metadata": {},
   "source": [
    "My project has two objectives:\n",
    "\n",
    "1) infer the important characteristics for the success of Yoga videos on YouTube \n",
    "2) predict number of views using statistical data from YouTube \n",
    "\n",
    "The motivation for looking at the number of views is that for yoga videos people usually watch them not for entertainment, not for news, but to actually practice yoga. I personally replayed certain videos dousens of times to follow the practice. So, in contrast to say, trandy news or entertainment videos, these are the onece people in theory return to again and again, so views should reflect the quality.  \n",
    "\n",
    "For that I scraped statistical attributes on channel level ('about' page, headers) and video level. My current clean dataset is of shape (5785, 20). It has a dependent variable ('views_video'), 17 numeric features including 2 dummy variables, and 2 text variables for reference. \n",
    "I have a code to extract number of comments, but it is being scraped extremely slow, so i might not end up having this feature in this project.\n",
    "\n",
    "The repository for the project is located here: https://github.com/elena-du/Metis-Project-2---Youtube-Predictions.git \n",
    "\n",
    "I ran several regressions and here are some of the findings: \n",
    "\n",
    "1) Not surprizingly, likes and dislikes play key role in predicting number of views. Also, it makes sense that video age and total channel views dominate the area of mighty predictors. I was hoping for more interesting predictors, but most of them show little inpact on the number of views. This demonstrates 'cold start' problem for youga channels (that we probably may generalize to channels in general)\n",
    "\n",
    "<img src='img/LARS.png' width='250' height='250'>\n",
    "\n",
    "2) I started exploring Lasso and Ridge and found some good alfas for regularization using original clean features:\n",
    "\n",
    "Lasso:\n",
    "\n",
    "<img src='img/LassoCrossVal.png' width='250' height='250'>\n",
    "\n",
    "Ridge:\n",
    "\n",
    "<img src='img/RidgeCrossVal.png' width='250' height='250'>\n",
    "\n",
    "My key challenge for tomorrow is feature engineering as I want to increase predictive power of features."
   ]
  },
  {
   "cell_type": "code",
   "execution_count": null,
   "metadata": {},
   "outputs": [],
   "source": []
  }
 ],
 "metadata": {
  "kernelspec": {
   "display_name": "Python 3",
   "language": "python",
   "name": "python3"
  },
  "language_info": {
   "codemirror_mode": {
    "name": "ipython",
    "version": 3
   },
   "file_extension": ".py",
   "mimetype": "text/x-python",
   "name": "python",
   "nbconvert_exporter": "python",
   "pygments_lexer": "ipython3",
   "version": "3.7.4"
  }
 },
 "nbformat": 4,
 "nbformat_minor": 2
}
