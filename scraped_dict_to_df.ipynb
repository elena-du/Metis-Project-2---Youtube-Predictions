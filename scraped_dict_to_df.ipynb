{
 "cells": [
  {
   "cell_type": "code",
   "execution_count": 154,
   "metadata": {},
   "outputs": [],
   "source": [
    "import pickle\n",
    "import pandas as pd\n",
    "import numpy as np\n",
    "from collections import defaultdict\n",
    "import time, os\n",
    "import re"
   ]
  },
  {
   "cell_type": "markdown",
   "metadata": {},
   "source": [
    "## Downloading and casting to dataframe"
   ]
  },
  {
   "cell_type": "code",
   "execution_count": 544,
   "metadata": {},
   "outputs": [],
   "source": [
    "with open('videos_info.pkl', 'rb') as picklefile:\n",
    "    videos_info = pickle.load(picklefile)\n",
    "with open('channels_about.pkl', 'rb') as picklefile:\n",
    "    channels_about = pickle.load(picklefile)\n",
    "with open('channels_videos_page.pkl', 'rb') as picklefile:\n",
    "    channels_videos_page = pickle.load(picklefile)"
   ]
  },
  {
   "cell_type": "code",
   "execution_count": 545,
   "metadata": {},
   "outputs": [],
   "source": [
    "channels_about_df = pd.DataFrame.from_dict(channels_about).T\n",
    "channels_videos_page_df = pd.DataFrame.from_dict(channels_videos_page).T\n",
    "videos_info_df = pd.DataFrame.from_dict(videos_info).T"
   ]
  },
  {
   "cell_type": "markdown",
   "metadata": {},
   "source": [
    "## Cleaning channels_videos_page_df"
   ]
  },
  {
   "cell_type": "code",
   "execution_count": 546,
   "metadata": {},
   "outputs": [
    {
     "data": {
      "text/html": [
       "<div>\n",
       "<style scoped>\n",
       "    .dataframe tbody tr th:only-of-type {\n",
       "        vertical-align: middle;\n",
       "    }\n",
       "\n",
       "    .dataframe tbody tr th {\n",
       "        vertical-align: top;\n",
       "    }\n",
       "\n",
       "    .dataframe thead th {\n",
       "        text-align: right;\n",
       "    }\n",
       "</style>\n",
       "<table border=\"1\" class=\"dataframe\">\n",
       "  <thead>\n",
       "    <tr style=\"text-align: right;\">\n",
       "      <th></th>\n",
       "      <th>1</th>\n",
       "      <th>2</th>\n",
       "      <th>3</th>\n",
       "      <th>4</th>\n",
       "      <th>5</th>\n",
       "      <th>6</th>\n",
       "      <th>7</th>\n",
       "      <th>8</th>\n",
       "      <th>9</th>\n",
       "      <th>10</th>\n",
       "      <th>...</th>\n",
       "      <th>21</th>\n",
       "      <th>22</th>\n",
       "      <th>23</th>\n",
       "      <th>24</th>\n",
       "      <th>25</th>\n",
       "      <th>26</th>\n",
       "      <th>27</th>\n",
       "      <th>28</th>\n",
       "      <th>29</th>\n",
       "      <th>30</th>\n",
       "    </tr>\n",
       "  </thead>\n",
       "  <tbody>\n",
       "    <tr>\n",
       "      <td>https://www.youtube.com/user/yogawithadriene</td>\n",
       "      <td>{'title': 'Yoga for Vulnerability  |  Move #wi...</td>\n",
       "      <td>{'title': 'Awaken The Artist Within  |  Yoga W...</td>\n",
       "      <td>{'title': 'Yoga Kiss | Total Body Flow |  Yoga...</td>\n",
       "      <td>{'title': 'Home - Day 30 - Journey  |  30 Days...</td>\n",
       "      <td>{'title': 'Home - Day 29 - Intuit  |  30 Days ...</td>\n",
       "      <td>{'title': 'Home - Day 28 - Nourish  |  30 Days...</td>\n",
       "      <td>{'title': 'Home - Day 27 - Integrate  |  30 Da...</td>\n",
       "      <td>{'title': 'Home - Day 26 - Keep  |  30 Days of...</td>\n",
       "      <td>{'title': 'Home - Day 25 - Unwind  |  30 Days ...</td>\n",
       "      <td>{'title': 'Home - Day 24 - Uplift  |  30 Days ...</td>\n",
       "      <td>...</td>\n",
       "      <td>{'title': 'Home - Day 13 - Grow  | 30 Days of ...</td>\n",
       "      <td>{'title': 'Home - Day 12 - Nurture  |  30 Days...</td>\n",
       "      <td>{'title': 'Home - Day 11 - Dig  |  30 Days of ...</td>\n",
       "      <td>{'title': 'Home - Day 10 - Ground  |  30 Days ...</td>\n",
       "      <td>{'title': 'Home - Day 9 - Inquire  |  30 Days ...</td>\n",
       "      <td>{'title': 'Home - Day 8 - Heal  |  30 Days of ...</td>\n",
       "      <td>{'title': 'Home - Day 7 - Stretch  |  30 Days ...</td>\n",
       "      <td>{'title': 'Home - Day 6 - Ignite  |  30 Days o...</td>\n",
       "      <td>{'title': 'Home - Day 5 - Soften  |  30 Days o...</td>\n",
       "      <td>{'title': 'Home - Day 4 - Activate  |  30 Days...</td>\n",
       "    </tr>\n",
       "    <tr>\n",
       "      <td>https://www.youtube.com/channel/UCahoXO8yh6mqJD9EiARHI7w</td>\n",
       "      <td>{'title': '30 Min Yoga Flow: Cleanse Your Sacr...</td>\n",
       "      <td>{'title': '30 Min Yoga Flow: Cleanse Your Root...</td>\n",
       "      <td>{'title': '30 Minute Full Body Power Yoga Prac...</td>\n",
       "      <td>{'title': '15 Minute Guided Body Scan Meditati...</td>\n",
       "      <td>{'title': '20 Min Morning Yoga Stretch to Ener...</td>\n",
       "      <td>{'title': '20 Min Morning Yoga: Start Your Day...</td>\n",
       "      <td>{'title': 'Yoga for Soothing Sleep: 20 Min Bed...</td>\n",
       "      <td>{'title': '15 Minute Meditation: Guided Medita...</td>\n",
       "      <td>{'title': '30 Min Full Body Vinyasa Yoga: Crow...</td>\n",
       "      <td>{'title': '45 Min Full Body Vinyasa Yoga: Root...</td>\n",
       "      <td>...</td>\n",
       "      <td>{'title': 'WE LOST OUR CREW 😔Last Hurrah in Gr...</td>\n",
       "      <td>{'title': 'Chakra Chats: Root Chakra Explained...</td>\n",
       "      <td>{'title': 'Best Bedtime Yoga: 10 Minute Routin...</td>\n",
       "      <td>{'title': 'Chakra Chats: Intro to the Chakra S...</td>\n",
       "      <td>{'title': 'Our first big sail and we ALMOST SA...</td>\n",
       "      <td>{'title': 'Power Yoga Class: 20 Minutes to Awa...</td>\n",
       "      <td>{'title': 'AFTER 3 MONTHS, we get our stuff fr...</td>\n",
       "      <td>{'title': 'Gentle Yoga for Low Back Relief: 15...</td>\n",
       "      <td>{'title': 'Goodbye First World, Hello Caribbea...</td>\n",
       "      <td>{'title': 'Best Morning Yoga: Full-Body Class ...</td>\n",
       "    </tr>\n",
       "    <tr>\n",
       "      <td>https://www.youtube.com/channel/UCLevFC-tyOhyyuhXyTMHJbQ</td>\n",
       "      <td>{'title': 'Hip Mobility Class l Lizette Pompa ...</td>\n",
       "      <td>{'title': 'Shoulder Mobility - From Flexibilit...</td>\n",
       "      <td>{'title': 'Pistol Squat Tutorial - Pistol Squa...</td>\n",
       "      <td>{'title': 'Yoga Dinámico - Clase de Tadasana',...</td>\n",
       "      <td>{'title': 'Lizette Pompa Yoga at Hot Yoga Upps...</td>\n",
       "      <td>{'title': 'Dynamic Yoga - 25 Minutes', 'views_...</td>\n",
       "      <td>{'title': 'Yoga for Beginner Classes | 20 Min ...</td>\n",
       "      <td>{'title': '1 Minute Workout Exercises Video', ...</td>\n",
       "      <td>{'title': 'Yoga for beginners - Wrist Warm Up ...</td>\n",
       "      <td>{'title': 'From side to side - Vinyasa Yoga fl...</td>\n",
       "      <td>...</td>\n",
       "      <td>{'title': '40 minutes vinyasa flow yoga class ...</td>\n",
       "      <td>{'title': 'Monday Yoga workouts with Lizette #...</td>\n",
       "      <td>{'title': 'crow pose yoga tutorial | bakasana ...</td>\n",
       "      <td>{'title': 'Shoulders on the go', 'views_days':...</td>\n",
       "      <td>{'title': 'Chaturanga Dandasana for Beginners ...</td>\n",
       "      <td>{'title': 'Beginner yoga - Spring flow - Begin...</td>\n",
       "      <td>{'title': '15-Min Vinyasa Flow Class | Yoga Ch...</td>\n",
       "      <td>{'title': 'Moving it - Vinyasa flow class | Yo...</td>\n",
       "      <td>{'title': 'Monday Yoga workout with Lizette #9...</td>\n",
       "      <td>{'title': 'Full body on the go - Vinyasa class...</td>\n",
       "    </tr>\n",
       "  </tbody>\n",
       "</table>\n",
       "<p>3 rows × 30 columns</p>\n",
       "</div>"
      ],
      "text/plain": [
       "                                                                                                   1   \\\n",
       "https://www.youtube.com/user/yogawithadriene        {'title': 'Yoga for Vulnerability  |  Move #wi...   \n",
       "https://www.youtube.com/channel/UCahoXO8yh6mqJD...  {'title': '30 Min Yoga Flow: Cleanse Your Sacr...   \n",
       "https://www.youtube.com/channel/UCLevFC-tyOhyyu...  {'title': 'Hip Mobility Class l Lizette Pompa ...   \n",
       "\n",
       "                                                                                                   2   \\\n",
       "https://www.youtube.com/user/yogawithadriene        {'title': 'Awaken The Artist Within  |  Yoga W...   \n",
       "https://www.youtube.com/channel/UCahoXO8yh6mqJD...  {'title': '30 Min Yoga Flow: Cleanse Your Root...   \n",
       "https://www.youtube.com/channel/UCLevFC-tyOhyyu...  {'title': 'Shoulder Mobility - From Flexibilit...   \n",
       "\n",
       "                                                                                                   3   \\\n",
       "https://www.youtube.com/user/yogawithadriene        {'title': 'Yoga Kiss | Total Body Flow |  Yoga...   \n",
       "https://www.youtube.com/channel/UCahoXO8yh6mqJD...  {'title': '30 Minute Full Body Power Yoga Prac...   \n",
       "https://www.youtube.com/channel/UCLevFC-tyOhyyu...  {'title': 'Pistol Squat Tutorial - Pistol Squa...   \n",
       "\n",
       "                                                                                                   4   \\\n",
       "https://www.youtube.com/user/yogawithadriene        {'title': 'Home - Day 30 - Journey  |  30 Days...   \n",
       "https://www.youtube.com/channel/UCahoXO8yh6mqJD...  {'title': '15 Minute Guided Body Scan Meditati...   \n",
       "https://www.youtube.com/channel/UCLevFC-tyOhyyu...  {'title': 'Yoga Dinámico - Clase de Tadasana',...   \n",
       "\n",
       "                                                                                                   5   \\\n",
       "https://www.youtube.com/user/yogawithadriene        {'title': 'Home - Day 29 - Intuit  |  30 Days ...   \n",
       "https://www.youtube.com/channel/UCahoXO8yh6mqJD...  {'title': '20 Min Morning Yoga Stretch to Ener...   \n",
       "https://www.youtube.com/channel/UCLevFC-tyOhyyu...  {'title': 'Lizette Pompa Yoga at Hot Yoga Upps...   \n",
       "\n",
       "                                                                                                   6   \\\n",
       "https://www.youtube.com/user/yogawithadriene        {'title': 'Home - Day 28 - Nourish  |  30 Days...   \n",
       "https://www.youtube.com/channel/UCahoXO8yh6mqJD...  {'title': '20 Min Morning Yoga: Start Your Day...   \n",
       "https://www.youtube.com/channel/UCLevFC-tyOhyyu...  {'title': 'Dynamic Yoga - 25 Minutes', 'views_...   \n",
       "\n",
       "                                                                                                   7   \\\n",
       "https://www.youtube.com/user/yogawithadriene        {'title': 'Home - Day 27 - Integrate  |  30 Da...   \n",
       "https://www.youtube.com/channel/UCahoXO8yh6mqJD...  {'title': 'Yoga for Soothing Sleep: 20 Min Bed...   \n",
       "https://www.youtube.com/channel/UCLevFC-tyOhyyu...  {'title': 'Yoga for Beginner Classes | 20 Min ...   \n",
       "\n",
       "                                                                                                   8   \\\n",
       "https://www.youtube.com/user/yogawithadriene        {'title': 'Home - Day 26 - Keep  |  30 Days of...   \n",
       "https://www.youtube.com/channel/UCahoXO8yh6mqJD...  {'title': '15 Minute Meditation: Guided Medita...   \n",
       "https://www.youtube.com/channel/UCLevFC-tyOhyyu...  {'title': '1 Minute Workout Exercises Video', ...   \n",
       "\n",
       "                                                                                                   9   \\\n",
       "https://www.youtube.com/user/yogawithadriene        {'title': 'Home - Day 25 - Unwind  |  30 Days ...   \n",
       "https://www.youtube.com/channel/UCahoXO8yh6mqJD...  {'title': '30 Min Full Body Vinyasa Yoga: Crow...   \n",
       "https://www.youtube.com/channel/UCLevFC-tyOhyyu...  {'title': 'Yoga for beginners - Wrist Warm Up ...   \n",
       "\n",
       "                                                                                                   10  \\\n",
       "https://www.youtube.com/user/yogawithadriene        {'title': 'Home - Day 24 - Uplift  |  30 Days ...   \n",
       "https://www.youtube.com/channel/UCahoXO8yh6mqJD...  {'title': '45 Min Full Body Vinyasa Yoga: Root...   \n",
       "https://www.youtube.com/channel/UCLevFC-tyOhyyu...  {'title': 'From side to side - Vinyasa Yoga fl...   \n",
       "\n",
       "                                                    ...  \\\n",
       "https://www.youtube.com/user/yogawithadriene        ...   \n",
       "https://www.youtube.com/channel/UCahoXO8yh6mqJD...  ...   \n",
       "https://www.youtube.com/channel/UCLevFC-tyOhyyu...  ...   \n",
       "\n",
       "                                                                                                   21  \\\n",
       "https://www.youtube.com/user/yogawithadriene        {'title': 'Home - Day 13 - Grow  | 30 Days of ...   \n",
       "https://www.youtube.com/channel/UCahoXO8yh6mqJD...  {'title': 'WE LOST OUR CREW 😔Last Hurrah in Gr...   \n",
       "https://www.youtube.com/channel/UCLevFC-tyOhyyu...  {'title': '40 minutes vinyasa flow yoga class ...   \n",
       "\n",
       "                                                                                                   22  \\\n",
       "https://www.youtube.com/user/yogawithadriene        {'title': 'Home - Day 12 - Nurture  |  30 Days...   \n",
       "https://www.youtube.com/channel/UCahoXO8yh6mqJD...  {'title': 'Chakra Chats: Root Chakra Explained...   \n",
       "https://www.youtube.com/channel/UCLevFC-tyOhyyu...  {'title': 'Monday Yoga workouts with Lizette #...   \n",
       "\n",
       "                                                                                                   23  \\\n",
       "https://www.youtube.com/user/yogawithadriene        {'title': 'Home - Day 11 - Dig  |  30 Days of ...   \n",
       "https://www.youtube.com/channel/UCahoXO8yh6mqJD...  {'title': 'Best Bedtime Yoga: 10 Minute Routin...   \n",
       "https://www.youtube.com/channel/UCLevFC-tyOhyyu...  {'title': 'crow pose yoga tutorial | bakasana ...   \n",
       "\n",
       "                                                                                                   24  \\\n",
       "https://www.youtube.com/user/yogawithadriene        {'title': 'Home - Day 10 - Ground  |  30 Days ...   \n",
       "https://www.youtube.com/channel/UCahoXO8yh6mqJD...  {'title': 'Chakra Chats: Intro to the Chakra S...   \n",
       "https://www.youtube.com/channel/UCLevFC-tyOhyyu...  {'title': 'Shoulders on the go', 'views_days':...   \n",
       "\n",
       "                                                                                                   25  \\\n",
       "https://www.youtube.com/user/yogawithadriene        {'title': 'Home - Day 9 - Inquire  |  30 Days ...   \n",
       "https://www.youtube.com/channel/UCahoXO8yh6mqJD...  {'title': 'Our first big sail and we ALMOST SA...   \n",
       "https://www.youtube.com/channel/UCLevFC-tyOhyyu...  {'title': 'Chaturanga Dandasana for Beginners ...   \n",
       "\n",
       "                                                                                                   26  \\\n",
       "https://www.youtube.com/user/yogawithadriene        {'title': 'Home - Day 8 - Heal  |  30 Days of ...   \n",
       "https://www.youtube.com/channel/UCahoXO8yh6mqJD...  {'title': 'Power Yoga Class: 20 Minutes to Awa...   \n",
       "https://www.youtube.com/channel/UCLevFC-tyOhyyu...  {'title': 'Beginner yoga - Spring flow - Begin...   \n",
       "\n",
       "                                                                                                   27  \\\n",
       "https://www.youtube.com/user/yogawithadriene        {'title': 'Home - Day 7 - Stretch  |  30 Days ...   \n",
       "https://www.youtube.com/channel/UCahoXO8yh6mqJD...  {'title': 'AFTER 3 MONTHS, we get our stuff fr...   \n",
       "https://www.youtube.com/channel/UCLevFC-tyOhyyu...  {'title': '15-Min Vinyasa Flow Class | Yoga Ch...   \n",
       "\n",
       "                                                                                                   28  \\\n",
       "https://www.youtube.com/user/yogawithadriene        {'title': 'Home - Day 6 - Ignite  |  30 Days o...   \n",
       "https://www.youtube.com/channel/UCahoXO8yh6mqJD...  {'title': 'Gentle Yoga for Low Back Relief: 15...   \n",
       "https://www.youtube.com/channel/UCLevFC-tyOhyyu...  {'title': 'Moving it - Vinyasa flow class | Yo...   \n",
       "\n",
       "                                                                                                   29  \\\n",
       "https://www.youtube.com/user/yogawithadriene        {'title': 'Home - Day 5 - Soften  |  30 Days o...   \n",
       "https://www.youtube.com/channel/UCahoXO8yh6mqJD...  {'title': 'Goodbye First World, Hello Caribbea...   \n",
       "https://www.youtube.com/channel/UCLevFC-tyOhyyu...  {'title': 'Monday Yoga workout with Lizette #9...   \n",
       "\n",
       "                                                                                                   30  \n",
       "https://www.youtube.com/user/yogawithadriene        {'title': 'Home - Day 4 - Activate  |  30 Days...  \n",
       "https://www.youtube.com/channel/UCahoXO8yh6mqJD...  {'title': 'Best Morning Yoga: Full-Body Class ...  \n",
       "https://www.youtube.com/channel/UCLevFC-tyOhyyu...  {'title': 'Full body on the go - Vinyasa class...  \n",
       "\n",
       "[3 rows x 30 columns]"
      ]
     },
     "execution_count": 546,
     "metadata": {},
     "output_type": "execute_result"
    }
   ],
   "source": [
    "channels_videos_page_df.head(3)"
   ]
  },
  {
   "cell_type": "code",
   "execution_count": 547,
   "metadata": {},
   "outputs": [],
   "source": [
    "channels_videos_page_df = channels_videos_page_df.reset_index()"
   ]
  },
  {
   "cell_type": "code",
   "execution_count": 548,
   "metadata": {},
   "outputs": [],
   "source": [
    "videos_scraped = channels_videos_page_df.columns[1:]"
   ]
  },
  {
   "cell_type": "code",
   "execution_count": 549,
   "metadata": {},
   "outputs": [],
   "source": [
    "channels_videos_page_df = pd.melt(channels_videos_page_df, id_vars='index', value_vars = videos_scraped)"
   ]
  },
  {
   "cell_type": "code",
   "execution_count": 550,
   "metadata": {},
   "outputs": [],
   "source": [
    "splitted_value_col = channels_videos_page_df['value'].apply(pd.Series)\n",
    "channels_videos_page_df = pd.concat([channels_videos_page_df, splitted_value_col], axis= 1)"
   ]
  },
  {
   "cell_type": "code",
   "execution_count": 551,
   "metadata": {},
   "outputs": [
    {
     "data": {
      "text/plain": [
       "Index(['index', 'variable', 'value', 0, 'duration', 'title', 'views_days'], dtype='object')"
      ]
     },
     "execution_count": 551,
     "metadata": {},
     "output_type": "execute_result"
    }
   ],
   "source": [
    "channels_videos_page_df.columns"
   ]
  },
  {
   "cell_type": "code",
   "execution_count": 552,
   "metadata": {},
   "outputs": [],
   "source": [
    "channels_videos_page_df = channels_videos_page_df[['index', 'variable', 'duration', 'title', 'views_days']]\n",
    "channels_videos_page_df.rename(columns = {'index':'channel_URL', 'variable':'video_order_num'}, inplace=True)"
   ]
  },
  {
   "cell_type": "code",
   "execution_count": 553,
   "metadata": {},
   "outputs": [
    {
     "data": {
      "text/plain": [
       "(17640, 5)"
      ]
     },
     "execution_count": 553,
     "metadata": {},
     "output_type": "execute_result"
    }
   ],
   "source": [
    "channels_videos_page_df.shape"
   ]
  },
  {
   "cell_type": "markdown",
   "metadata": {},
   "source": [
    "\n",
    "Cleaning: Duration"
   ]
  },
  {
   "cell_type": "code",
   "execution_count": 554,
   "metadata": {},
   "outputs": [
    {
     "data": {
      "text/plain": [
       "2984"
      ]
     },
     "execution_count": 554,
     "metadata": {},
     "output_type": "execute_result"
    }
   ],
   "source": [
    "channels_videos_page_df['duration'].isna().sum()"
   ]
  },
  {
   "cell_type": "markdown",
   "metadata": {},
   "source": [
    "NaNs is a result of video tab having no content: https://www.youtube.com/user/yogatoday, https://www.youtube.com/user/yogaworks\n",
    "Here function didn't work: https://www.youtube.com/user/divinedesignwellness"
   ]
  },
  {
   "cell_type": "code",
   "execution_count": 555,
   "metadata": {},
   "outputs": [
    {
     "data": {
      "text/html": [
       "<div>\n",
       "<style scoped>\n",
       "    .dataframe tbody tr th:only-of-type {\n",
       "        vertical-align: middle;\n",
       "    }\n",
       "\n",
       "    .dataframe tbody tr th {\n",
       "        vertical-align: top;\n",
       "    }\n",
       "\n",
       "    .dataframe thead th {\n",
       "        text-align: right;\n",
       "    }\n",
       "</style>\n",
       "<table border=\"1\" class=\"dataframe\">\n",
       "  <thead>\n",
       "    <tr style=\"text-align: right;\">\n",
       "      <th></th>\n",
       "      <th>channel_URL</th>\n",
       "      <th>video_order_num</th>\n",
       "      <th>duration</th>\n",
       "      <th>title</th>\n",
       "      <th>views_days</th>\n",
       "    </tr>\n",
       "  </thead>\n",
       "  <tbody>\n",
       "    <tr>\n",
       "      <td>12579</td>\n",
       "      <td>https://www.youtube.com/channel/UC2oL57TkQp6bM...</td>\n",
       "      <td>22</td>\n",
       "      <td>NaN</td>\n",
       "      <td>NaN</td>\n",
       "      <td>NaN</td>\n",
       "    </tr>\n",
       "    <tr>\n",
       "      <td>8595</td>\n",
       "      <td>https://www.youtube.com/channel/UCiB3Ft0mp0Wp3...</td>\n",
       "      <td>15</td>\n",
       "      <td>NaN</td>\n",
       "      <td>NaN</td>\n",
       "      <td>NaN</td>\n",
       "    </tr>\n",
       "    <tr>\n",
       "      <td>12830</td>\n",
       "      <td>https://www.youtube.com/channel/UCeBKGjBxk8U-N...</td>\n",
       "      <td>22</td>\n",
       "      <td>NaN</td>\n",
       "      <td>NaN</td>\n",
       "      <td>NaN</td>\n",
       "    </tr>\n",
       "    <tr>\n",
       "      <td>13391</td>\n",
       "      <td>https://www.youtube.com/channel/UCkdt1cHqT_R8d...</td>\n",
       "      <td>23</td>\n",
       "      <td>NaN</td>\n",
       "      <td>NaN</td>\n",
       "      <td>NaN</td>\n",
       "    </tr>\n",
       "    <tr>\n",
       "      <td>3990</td>\n",
       "      <td>https://www.youtube.com/channel/UCIB3eqNvBBES-...</td>\n",
       "      <td>7</td>\n",
       "      <td>NaN</td>\n",
       "      <td>NaN</td>\n",
       "      <td>NaN</td>\n",
       "    </tr>\n",
       "    <tr>\n",
       "      <td>2565</td>\n",
       "      <td>https://www.youtube.com/channel/UC3J0upq-0mrWV...</td>\n",
       "      <td>5</td>\n",
       "      <td>NaN</td>\n",
       "      <td>NaN</td>\n",
       "      <td>NaN</td>\n",
       "    </tr>\n",
       "  </tbody>\n",
       "</table>\n",
       "</div>"
      ],
      "text/plain": [
       "                                             channel_URL video_order_num  \\\n",
       "12579  https://www.youtube.com/channel/UC2oL57TkQp6bM...              22   \n",
       "8595   https://www.youtube.com/channel/UCiB3Ft0mp0Wp3...              15   \n",
       "12830  https://www.youtube.com/channel/UCeBKGjBxk8U-N...              22   \n",
       "13391  https://www.youtube.com/channel/UCkdt1cHqT_R8d...              23   \n",
       "3990   https://www.youtube.com/channel/UCIB3eqNvBBES-...               7   \n",
       "2565   https://www.youtube.com/channel/UC3J0upq-0mrWV...               5   \n",
       "\n",
       "      duration title views_days  \n",
       "12579      NaN   NaN        NaN  \n",
       "8595       NaN   NaN        NaN  \n",
       "12830      NaN   NaN        NaN  \n",
       "13391      NaN   NaN        NaN  \n",
       "3990       NaN   NaN        NaN  \n",
       "2565       NaN   NaN        NaN  "
      ]
     },
     "execution_count": 555,
     "metadata": {},
     "output_type": "execute_result"
    }
   ],
   "source": [
    "channels_videos_page_df[channels_videos_page_df['duration'].isna()].sample(6)"
   ]
  },
  {
   "cell_type": "code",
   "execution_count": 556,
   "metadata": {},
   "outputs": [],
   "source": [
    "channels_videos_page_df = channels_videos_page_df[channels_videos_page_df['duration'].notna()]"
   ]
  },
  {
   "cell_type": "code",
   "execution_count": 557,
   "metadata": {},
   "outputs": [],
   "source": [
    "channels_videos_page_df['duration'] = channels_videos_page_df['duration'].str.replace('- Duration:','').str.replace('.','')"
   ]
  },
  {
   "cell_type": "code",
   "execution_count": 558,
   "metadata": {},
   "outputs": [],
   "source": [
    "channels_videos_page_df['duration'] = channels_videos_page_df['duration'].str.replace(' minutes', 'M').str.replace(' seconds', 'S').str.replace(' hours', 'H').str.replace(' minute', 'M').str.replace(' second', 'S').str.replace(' hour', 'H').str.replace(',', '').str.replace(' ', '') "
   ]
  },
  {
   "cell_type": "code",
   "execution_count": 559,
   "metadata": {},
   "outputs": [],
   "source": [
    "def parse_duration(string):\n",
    "    try:\n",
    "        dur = pd.to_datetime(string, format = '%MM%SS') \n",
    "    except:\n",
    "        try:\n",
    "            dur = pd.to_datetime(string, format = '%HH%MM')\n",
    "        except:\n",
    "            try:\n",
    "                dur = pd.to_datetime(string, format = '%HH%MM%SS')\n",
    "            except:\n",
    "                try:\n",
    "                    dur = pd.to_datetime(string, format = '%HH')\n",
    "                except:\n",
    "                    try:\n",
    "                        dur = pd.to_datetime(string, format = '%MM')\n",
    "                    except:\n",
    "                        try:\n",
    "                            if int(string.replace('S','')) > 60:\n",
    "                                string = '60S'  #videos with duration a little over 1 min display sec > 60\n",
    "                            dur = pd.to_datetime(string, format = '%SS')\n",
    "                        except:\n",
    "                            dur = ''\n",
    "    return dur"
   ]
  },
  {
   "cell_type": "code",
   "execution_count": 560,
   "metadata": {},
   "outputs": [],
   "source": [
    "channels_videos_page_df['duration'] = channels_videos_page_df['duration'].apply(parse_duration)"
   ]
  },
  {
   "cell_type": "code",
   "execution_count": 561,
   "metadata": {},
   "outputs": [],
   "source": [
    "channels_videos_page_df['duration'] = (channels_videos_page_df['duration'].dt.hour * 60 + channels_videos_page_df['duration'].dt.minute) * 60 + channels_videos_page_df['duration'].dt.second"
   ]
  },
  {
   "cell_type": "markdown",
   "metadata": {},
   "source": [
    "Cleaning: Views & Days"
   ]
  },
  {
   "cell_type": "code",
   "execution_count": 562,
   "metadata": {},
   "outputs": [
    {
     "data": {
      "text/plain": [
       "0"
      ]
     },
     "execution_count": 562,
     "metadata": {},
     "output_type": "execute_result"
    }
   ],
   "source": [
    "channels_videos_page_df['views_days'].isna().sum()"
   ]
  },
  {
   "cell_type": "code",
   "execution_count": 563,
   "metadata": {},
   "outputs": [],
   "source": [
    "channels_videos_page_df['views_days'] = channels_videos_page_df['views_days'].str.replace('No', '0')\n",
    "channels_videos_page_df['views_days'] = channels_videos_page_df['views_days'].str.replace('views', 'view')"
   ]
  },
  {
   "cell_type": "code",
   "execution_count": 564,
   "metadata": {},
   "outputs": [],
   "source": [
    "channels_videos_page_df['views_video'] = channels_videos_page_df['views_days'].apply(lambda string: (re.sub('[^0-9]+', '', string)))"
   ]
  },
  {
   "cell_type": "code",
   "execution_count": 565,
   "metadata": {},
   "outputs": [],
   "source": [
    "channels_videos_page_df['views_video']=pd.to_numeric(channels_videos_page_df['views_video'], errors = 'coerce')"
   ]
  },
  {
   "cell_type": "code",
   "execution_count": 566,
   "metadata": {},
   "outputs": [],
   "source": [
    "channels_videos_page_df['video_age'] = channels_videos_page_df['views_days'].apply(lambda string: re.sub('([0-9]+,[0-9]+ view)|([0-9]+ view)', '', string).replace(' ago', ''))"
   ]
  },
  {
   "cell_type": "code",
   "execution_count": 567,
   "metadata": {},
   "outputs": [],
   "source": [
    "channels_videos_page_df['video_age'] = channels_videos_page_df['video_age'].apply(lambda string: (re.sub('s', '', string)))\n",
    "channels_videos_page_df['video_age'] = channels_videos_page_df['video_age'].apply(lambda string: (re.sub(',', '.', string)))"
   ]
  },
  {
   "cell_type": "code",
   "execution_count": 568,
   "metadata": {},
   "outputs": [
    {
     "data": {
      "text/plain": [
       "array(['4 day', '1 day', '7 month', '6 year', '3 day', '14 hour',\n",
       "       '2 year', '5 year', '12 hour', '2 week', '1 year', '3 week',\n",
       "       '1 hour', '5 day', '1 week', '4 hour', '9 month', '2 day',\n",
       "       '2 month', '23 hour', '1 month', '8 month', '3 year', '6 day',\n",
       "       '32 minute', '11 hour', '3 month', 'Start:', '4 year', '3 hour',\n",
       "       '1.6 year', '19 hour', '6 hour', '6 month', '22 hour', '9 minute',\n",
       "       '5 month', '2 hour', '8 hour', '7 hour', '4 week', '18 hour',\n",
       "       '10 hour', '9 hour', '56 minute', '26 minute', '10 month',\n",
       "       '16 hour', '7 minute', '4 month', '15 hour', '11 month',\n",
       "       '28 minute', '20 hour', '5 hour', '21 hour', '17 hour', '1.4 year',\n",
       "       '3.2 year', '5.1 year', '11.3 year', '13 hour', '39 minute',\n",
       "       '22.1 year', '8.3 year', '7 year', '26.1 year', '1.2 month',\n",
       "       '1.3 year', '27.5 year', '6.3 year', '2.1 year', '1.2 year',\n",
       "       '6.1 year', '15.3 year', '13.3 year', '8 year', '4.6 year',\n",
       "       '8.4 year', '1.8 year', '3.3 year', '1.5 year', '14.5 year',\n",
       "       '5.2 month', '9 year', '4.5 year', '1.4 month', '10 year',\n",
       "       '1.1 month', '2.5 month', '11 year', '2.1 month', '2.3 month',\n",
       "       '1.6 month', '3.4 year', '3.6 month', '2.4 year', '6.7 month',\n",
       "       '1.7 month', '1.3 month', '4.5 month', '1.8 month', '2.5 year',\n",
       "       '5.8 year'], dtype=object)"
      ]
     },
     "execution_count": 568,
     "metadata": {},
     "output_type": "execute_result"
    }
   ],
   "source": [
    "channels_videos_page_df['video_age'].unique()"
   ]
  },
  {
   "cell_type": "code",
   "execution_count": 569,
   "metadata": {},
   "outputs": [],
   "source": [
    "def video_age_to_min(age):\n",
    "    if 'minute' in age:\n",
    "        video_age = float(age.replace('minute',''))\n",
    "    elif 'hour' in age:\n",
    "        video_age = float(age.replace('hour','')) * 60\n",
    "    elif 'day' in age:\n",
    "        video_age = float(age.replace('day','')) * 60 * 24\n",
    "    elif 'month' in age:\n",
    "        video_age = float(age.replace('month','')) * 60 * 24 * 30\n",
    "    elif 'year' in age:\n",
    "        video_age = float(age.replace('year','')) * 60 * 24 * 30 * 365\n",
    "    else:\n",
    "        video_age = 0.0\n",
    "    return video_age"
   ]
  },
  {
   "cell_type": "code",
   "execution_count": 570,
   "metadata": {},
   "outputs": [],
   "source": [
    "channels_videos_page_df['video_age_min'] = channels_videos_page_df['video_age'].apply(video_age_to_min)"
   ]
  },
  {
   "cell_type": "markdown",
   "metadata": {},
   "source": [
    "Miscellaneous"
   ]
  },
  {
   "cell_type": "code",
   "execution_count": 571,
   "metadata": {},
   "outputs": [],
   "source": [
    "channels_videos_page_df['video_order_num']=pd.to_numeric(channels_videos_page_df['video_order_num'], errors = 'coerce')"
   ]
  },
  {
   "cell_type": "code",
   "execution_count": 572,
   "metadata": {},
   "outputs": [
    {
     "data": {
      "text/plain": [
       "0"
      ]
     },
     "execution_count": 572,
     "metadata": {},
     "output_type": "execute_result"
    }
   ],
   "source": [
    "channels_videos_page_df['video_age_min'].isna().sum()"
   ]
  },
  {
   "cell_type": "code",
   "execution_count": 573,
   "metadata": {},
   "outputs": [],
   "source": [
    "channels_videos_page_df = channels_videos_page_df[['channel_URL', \n",
    "                                                   'video_order_num', \n",
    "                                                   'duration', \n",
    "                                                   'title', \n",
    "                                                   'views_video',\n",
    "                                                   'video_age_min']]"
   ]
  },
  {
   "cell_type": "code",
   "execution_count": 574,
   "metadata": {},
   "outputs": [
    {
     "data": {
      "text/plain": [
       "(14656, 6)"
      ]
     },
     "execution_count": 574,
     "metadata": {},
     "output_type": "execute_result"
    }
   ],
   "source": [
    "channels_videos_page_df.shape"
   ]
  },
  {
   "cell_type": "code",
   "execution_count": 575,
   "metadata": {},
   "outputs": [
    {
     "name": "stdout",
     "output_type": "stream",
     "text": [
      "<class 'pandas.core.frame.DataFrame'>\n",
      "Int64Index: 14656 entries, 0 to 17639\n",
      "Data columns (total 6 columns):\n",
      "channel_URL        14656 non-null object\n",
      "video_order_num    14656 non-null int64\n",
      "duration           14656 non-null int64\n",
      "title              14656 non-null object\n",
      "views_video        14611 non-null float64\n",
      "video_age_min      14656 non-null float64\n",
      "dtypes: float64(2), int64(2), object(2)\n",
      "memory usage: 801.5+ KB\n"
     ]
    }
   ],
   "source": [
    "channels_videos_page_df.info()"
   ]
  },
  {
   "cell_type": "code",
   "execution_count": 576,
   "metadata": {},
   "outputs": [
    {
     "data": {
      "text/html": [
       "<div>\n",
       "<style scoped>\n",
       "    .dataframe tbody tr th:only-of-type {\n",
       "        vertical-align: middle;\n",
       "    }\n",
       "\n",
       "    .dataframe tbody tr th {\n",
       "        vertical-align: top;\n",
       "    }\n",
       "\n",
       "    .dataframe thead th {\n",
       "        text-align: right;\n",
       "    }\n",
       "</style>\n",
       "<table border=\"1\" class=\"dataframe\">\n",
       "  <thead>\n",
       "    <tr style=\"text-align: right;\">\n",
       "      <th></th>\n",
       "      <th>channel_URL</th>\n",
       "      <th>video_order_num</th>\n",
       "      <th>duration</th>\n",
       "      <th>title</th>\n",
       "      <th>views_video</th>\n",
       "      <th>video_age_min</th>\n",
       "    </tr>\n",
       "  </thead>\n",
       "  <tbody>\n",
       "    <tr>\n",
       "      <td>78</td>\n",
       "      <td>https://www.youtube.com/channel/UCMOuxZneKXsKi...</td>\n",
       "      <td>1</td>\n",
       "      <td>325</td>\n",
       "      <td>Yoga Tutorial For Beginners - Supine Twist wit...</td>\n",
       "      <td>NaN</td>\n",
       "      <td>0.0</td>\n",
       "    </tr>\n",
       "    <tr>\n",
       "      <td>160</td>\n",
       "      <td>https://www.youtube.com/user/yogavedanta</td>\n",
       "      <td>1</td>\n",
       "      <td>4620</td>\n",
       "      <td>Action, renunciation and indifference to objec...</td>\n",
       "      <td>NaN</td>\n",
       "      <td>0.0</td>\n",
       "    </tr>\n",
       "    <tr>\n",
       "      <td>171</td>\n",
       "      <td>https://www.youtube.com/user/AustSchoolMeditation</td>\n",
       "      <td>1</td>\n",
       "      <td>1620</td>\n",
       "      <td>Energising Morning Meditation with Vrindavan d...</td>\n",
       "      <td>NaN</td>\n",
       "      <td>0.0</td>\n",
       "    </tr>\n",
       "    <tr>\n",
       "      <td>465</td>\n",
       "      <td>https://www.youtube.com/user/YogaVidyaVortrag</td>\n",
       "      <td>1</td>\n",
       "      <td>411</td>\n",
       "      <td>Shankaracharyas Lehren - Sukadev | Vedanta | M...</td>\n",
       "      <td>NaN</td>\n",
       "      <td>0.0</td>\n",
       "    </tr>\n",
       "    <tr>\n",
       "      <td>748</td>\n",
       "      <td>https://www.youtube.com/user/yogavedanta</td>\n",
       "      <td>2</td>\n",
       "      <td>5160</td>\n",
       "      <td>Devotion and dharma - James Swartz - Yoga of L...</td>\n",
       "      <td>NaN</td>\n",
       "      <td>0.0</td>\n",
       "    </tr>\n",
       "  </tbody>\n",
       "</table>\n",
       "</div>"
      ],
      "text/plain": [
       "                                           channel_URL  video_order_num  \\\n",
       "78   https://www.youtube.com/channel/UCMOuxZneKXsKi...                1   \n",
       "160           https://www.youtube.com/user/yogavedanta                1   \n",
       "171  https://www.youtube.com/user/AustSchoolMeditation                1   \n",
       "465      https://www.youtube.com/user/YogaVidyaVortrag                1   \n",
       "748           https://www.youtube.com/user/yogavedanta                2   \n",
       "\n",
       "     duration                                              title  views_video  \\\n",
       "78        325  Yoga Tutorial For Beginners - Supine Twist wit...          NaN   \n",
       "160      4620  Action, renunciation and indifference to objec...          NaN   \n",
       "171      1620  Energising Morning Meditation with Vrindavan d...          NaN   \n",
       "465       411  Shankaracharyas Lehren - Sukadev | Vedanta | M...          NaN   \n",
       "748      5160  Devotion and dharma - James Swartz - Yoga of L...          NaN   \n",
       "\n",
       "     video_age_min  \n",
       "78             0.0  \n",
       "160            0.0  \n",
       "171            0.0  \n",
       "465            0.0  \n",
       "748            0.0  "
      ]
     },
     "execution_count": 576,
     "metadata": {},
     "output_type": "execute_result"
    }
   ],
   "source": [
    "#NaNs are premieres, remove those.\n",
    "channels_videos_page_df[channels_videos_page_df['views_video'].isna()].head()"
   ]
  },
  {
   "cell_type": "code",
   "execution_count": 577,
   "metadata": {},
   "outputs": [],
   "source": [
    "channels_videos_page_df = channels_videos_page_df[channels_videos_page_df['views_video'].notna()]"
   ]
  },
  {
   "cell_type": "code",
   "execution_count": 578,
   "metadata": {},
   "outputs": [
    {
     "name": "stdout",
     "output_type": "stream",
     "text": [
      "<class 'pandas.core.frame.DataFrame'>\n",
      "Int64Index: 14611 entries, 0 to 17639\n",
      "Data columns (total 6 columns):\n",
      "channel_URL        14611 non-null object\n",
      "video_order_num    14611 non-null int64\n",
      "duration           14611 non-null int64\n",
      "title              14611 non-null object\n",
      "views_video        14611 non-null float64\n",
      "video_age_min      14611 non-null float64\n",
      "dtypes: float64(2), int64(2), object(2)\n",
      "memory usage: 799.0+ KB\n"
     ]
    }
   ],
   "source": [
    "channels_videos_page_df.info()"
   ]
  },
  {
   "cell_type": "code",
   "execution_count": 579,
   "metadata": {},
   "outputs": [
    {
     "data": {
      "text/html": [
       "<div>\n",
       "<style scoped>\n",
       "    .dataframe tbody tr th:only-of-type {\n",
       "        vertical-align: middle;\n",
       "    }\n",
       "\n",
       "    .dataframe tbody tr th {\n",
       "        vertical-align: top;\n",
       "    }\n",
       "\n",
       "    .dataframe thead th {\n",
       "        text-align: right;\n",
       "    }\n",
       "</style>\n",
       "<table border=\"1\" class=\"dataframe\">\n",
       "  <thead>\n",
       "    <tr style=\"text-align: right;\">\n",
       "      <th></th>\n",
       "      <th>channel_URL</th>\n",
       "      <th>video_order_num</th>\n",
       "      <th>duration</th>\n",
       "      <th>title</th>\n",
       "      <th>views_video</th>\n",
       "      <th>video_age_min</th>\n",
       "    </tr>\n",
       "  </thead>\n",
       "  <tbody>\n",
       "    <tr>\n",
       "      <td>0</td>\n",
       "      <td>https://www.youtube.com/user/yogawithadriene</td>\n",
       "      <td>1</td>\n",
       "      <td>2100</td>\n",
       "      <td>Yoga for Vulnerability  |  Move #withme  |  Yo...</td>\n",
       "      <td>3440914.0</td>\n",
       "      <td>5760.0</td>\n",
       "    </tr>\n",
       "    <tr>\n",
       "      <td>1</td>\n",
       "      <td>https://www.youtube.com/channel/UCahoXO8yh6mqJ...</td>\n",
       "      <td>1</td>\n",
       "      <td>2040</td>\n",
       "      <td>30 Min Yoga Flow: Cleanse Your Sacral Chakra |...</td>\n",
       "      <td>25491.0</td>\n",
       "      <td>1440.0</td>\n",
       "    </tr>\n",
       "    <tr>\n",
       "      <td>2</td>\n",
       "      <td>https://www.youtube.com/channel/UCLevFC-tyOhyy...</td>\n",
       "      <td>1</td>\n",
       "      <td>761</td>\n",
       "      <td>Hip Mobility Class l Lizette Pompa Yoga</td>\n",
       "      <td>29437.0</td>\n",
       "      <td>302400.0</td>\n",
       "    </tr>\n",
       "  </tbody>\n",
       "</table>\n",
       "</div>"
      ],
      "text/plain": [
       "                                         channel_URL  video_order_num  \\\n",
       "0       https://www.youtube.com/user/yogawithadriene                1   \n",
       "1  https://www.youtube.com/channel/UCahoXO8yh6mqJ...                1   \n",
       "2  https://www.youtube.com/channel/UCLevFC-tyOhyy...                1   \n",
       "\n",
       "   duration                                              title  views_video  \\\n",
       "0      2100  Yoga for Vulnerability  |  Move #withme  |  Yo...    3440914.0   \n",
       "1      2040  30 Min Yoga Flow: Cleanse Your Sacral Chakra |...      25491.0   \n",
       "2       761            Hip Mobility Class l Lizette Pompa Yoga      29437.0   \n",
       "\n",
       "   video_age_min  \n",
       "0         5760.0  \n",
       "1         1440.0  \n",
       "2       302400.0  "
      ]
     },
     "execution_count": 579,
     "metadata": {},
     "output_type": "execute_result"
    }
   ],
   "source": [
    "channels_videos_page_df.head(3)"
   ]
  },
  {
   "cell_type": "markdown",
   "metadata": {},
   "source": [
    "## Cleaning channels_about_df"
   ]
  },
  {
   "cell_type": "code",
   "execution_count": 580,
   "metadata": {},
   "outputs": [
    {
     "data": {
      "text/html": [
       "<div>\n",
       "<style scoped>\n",
       "    .dataframe tbody tr th:only-of-type {\n",
       "        vertical-align: middle;\n",
       "    }\n",
       "\n",
       "    .dataframe tbody tr th {\n",
       "        vertical-align: top;\n",
       "    }\n",
       "\n",
       "    .dataframe thead th {\n",
       "        text-align: right;\n",
       "    }\n",
       "</style>\n",
       "<table border=\"1\" class=\"dataframe\">\n",
       "  <thead>\n",
       "    <tr style=\"text-align: right;\">\n",
       "      <th></th>\n",
       "      <th>name</th>\n",
       "      <th>subscriber_count</th>\n",
       "      <th>total_views</th>\n",
       "      <th>joined_date</th>\n",
       "      <th>n_featured_channels</th>\n",
       "      <th>n_links</th>\n",
       "      <th>description_length</th>\n",
       "      <th>description</th>\n",
       "    </tr>\n",
       "  </thead>\n",
       "  <tbody>\n",
       "    <tr>\n",
       "      <td>https://www.youtube.com/user/yogawithadriene</td>\n",
       "      <td>YogaWithAdriene.com</td>\n",
       "      <td>6.8M</td>\n",
       "      <td>557,831,762</td>\n",
       "      <td>Joined Aug 30, 2012</td>\n",
       "      <td>3</td>\n",
       "      <td>10</td>\n",
       "      <td>946</td>\n",
       "      <td>WELCOME to Yoga With Adriene! Our mission is t...</td>\n",
       "    </tr>\n",
       "    <tr>\n",
       "      <td>https://www.youtube.com/user/CorePowerYoga</td>\n",
       "      <td>corepoweryoga.com</td>\n",
       "      <td>17.2K</td>\n",
       "      <td>452,439</td>\n",
       "      <td>Joined Sep 16, 2008</td>\n",
       "      <td>0</td>\n",
       "      <td>10</td>\n",
       "      <td>241</td>\n",
       "      <td>Stream a live class or access our library of 2...</td>\n",
       "    </tr>\n",
       "    <tr>\n",
       "      <td>https://www.youtube.com/channel/UCE92Hzq1rGv3dGJcx6o0b3Q</td>\n",
       "      <td>Free Online Resource Library</td>\n",
       "      <td>1.18K</td>\n",
       "      <td>94,978</td>\n",
       "      <td>Joined May 27, 2014</td>\n",
       "      <td>0</td>\n",
       "      <td>10</td>\n",
       "      <td>420</td>\n",
       "      <td>Ally Boothroyd is a Kripalu Yoga Teacher, yoga...</td>\n",
       "    </tr>\n",
       "  </tbody>\n",
       "</table>\n",
       "</div>"
      ],
      "text/plain": [
       "                                                                            name  \\\n",
       "https://www.youtube.com/user/yogawithadriene                 YogaWithAdriene.com   \n",
       "https://www.youtube.com/user/CorePowerYoga                     corepoweryoga.com   \n",
       "https://www.youtube.com/channel/UCE92Hzq1rGv3dG...  Free Online Resource Library   \n",
       "\n",
       "                                                   subscriber_count  \\\n",
       "https://www.youtube.com/user/yogawithadriene                   6.8M   \n",
       "https://www.youtube.com/user/CorePowerYoga                    17.2K   \n",
       "https://www.youtube.com/channel/UCE92Hzq1rGv3dG...            1.18K   \n",
       "\n",
       "                                                    total_views  \\\n",
       "https://www.youtube.com/user/yogawithadriene        557,831,762   \n",
       "https://www.youtube.com/user/CorePowerYoga              452,439   \n",
       "https://www.youtube.com/channel/UCE92Hzq1rGv3dG...       94,978   \n",
       "\n",
       "                                                            joined_date  \\\n",
       "https://www.youtube.com/user/yogawithadriene        Joined Aug 30, 2012   \n",
       "https://www.youtube.com/user/CorePowerYoga          Joined Sep 16, 2008   \n",
       "https://www.youtube.com/channel/UCE92Hzq1rGv3dG...  Joined May 27, 2014   \n",
       "\n",
       "                                                   n_featured_channels  \\\n",
       "https://www.youtube.com/user/yogawithadriene                         3   \n",
       "https://www.youtube.com/user/CorePowerYoga                           0   \n",
       "https://www.youtube.com/channel/UCE92Hzq1rGv3dG...                   0   \n",
       "\n",
       "                                                   n_links description_length  \\\n",
       "https://www.youtube.com/user/yogawithadriene            10                946   \n",
       "https://www.youtube.com/user/CorePowerYoga              10                241   \n",
       "https://www.youtube.com/channel/UCE92Hzq1rGv3dG...      10                420   \n",
       "\n",
       "                                                                                          description  \n",
       "https://www.youtube.com/user/yogawithadriene        WELCOME to Yoga With Adriene! Our mission is t...  \n",
       "https://www.youtube.com/user/CorePowerYoga          Stream a live class or access our library of 2...  \n",
       "https://www.youtube.com/channel/UCE92Hzq1rGv3dG...  Ally Boothroyd is a Kripalu Yoga Teacher, yoga...  "
      ]
     },
     "execution_count": 580,
     "metadata": {},
     "output_type": "execute_result"
    }
   ],
   "source": [
    "channels_about_df.head(3)"
   ]
  },
  {
   "cell_type": "code",
   "execution_count": 581,
   "metadata": {},
   "outputs": [],
   "source": [
    "channels_about_df = channels_about_df.reset_index()"
   ]
  },
  {
   "cell_type": "code",
   "execution_count": 582,
   "metadata": {},
   "outputs": [
    {
     "data": {
      "text/plain": [
       "Index(['index', 'name', 'subscriber_count', 'total_views', 'joined_date',\n",
       "       'n_featured_channels', 'n_links', 'description_length', 'description'],\n",
       "      dtype='object')"
      ]
     },
     "execution_count": 582,
     "metadata": {},
     "output_type": "execute_result"
    }
   ],
   "source": [
    "channels_about_df.columns"
   ]
  },
  {
   "cell_type": "code",
   "execution_count": 583,
   "metadata": {},
   "outputs": [],
   "source": [
    "channels_about_df.rename(columns = {'index':'channel_URL', \n",
    "                                          'name':'channel_name', \n",
    "                                          'total_views': 'total_views_channel', \n",
    "                                          'joined_date':'channel_created_date', \n",
    "                                          'n_links':'n_promo_links', \n",
    "                                          'description_length':'channel_desc_length', \n",
    "                                          'description': 'channel_desc'}, inplace=True)"
   ]
  },
  {
   "cell_type": "markdown",
   "metadata": {},
   "source": [
    "Cleaning Subscriber Count"
   ]
  },
  {
   "cell_type": "code",
   "execution_count": 584,
   "metadata": {},
   "outputs": [
    {
     "data": {
      "text/plain": [
       "0"
      ]
     },
     "execution_count": 584,
     "metadata": {},
     "output_type": "execute_result"
    }
   ],
   "source": [
    "channels_about_df['subscriber_count'].isna().sum()"
   ]
  },
  {
   "cell_type": "code",
   "execution_count": 585,
   "metadata": {},
   "outputs": [],
   "source": [
    "def strval_to_float(subscriber_count):\n",
    "    if type(subscriber_count) == float or type(subscriber_count) == int:\n",
    "        sc = subscriber_count\n",
    "    elif 'K' in subscriber_count:\n",
    "        sc = float(subscriber_count.replace('K',''))*1000\n",
    "    elif 'M' in subscriber_count:\n",
    "        sc = float(subscriber_count.replace('M',''))*1000000\n",
    "    else:\n",
    "        sc = 0.0\n",
    "    return sc"
   ]
  },
  {
   "cell_type": "code",
   "execution_count": 586,
   "metadata": {},
   "outputs": [],
   "source": [
    "channels_about_df['subscriber_count'] = channels_about_df['subscriber_count'].apply(lambda string: (strval_to_float(string)))"
   ]
  },
  {
   "cell_type": "markdown",
   "metadata": {},
   "source": [
    "Cleaning Total Views by Channel"
   ]
  },
  {
   "cell_type": "code",
   "execution_count": 587,
   "metadata": {},
   "outputs": [
    {
     "data": {
      "text/plain": [
       "0"
      ]
     },
     "execution_count": 587,
     "metadata": {},
     "output_type": "execute_result"
    }
   ],
   "source": [
    "channels_about_df['total_views_channel'].isna().sum()"
   ]
  },
  {
   "cell_type": "code",
   "execution_count": 588,
   "metadata": {},
   "outputs": [],
   "source": [
    "channels_about_df['total_views_channel'] = channels_about_df['total_views_channel'].str.replace(',', '')"
   ]
  },
  {
   "cell_type": "code",
   "execution_count": 589,
   "metadata": {},
   "outputs": [],
   "source": [
    "channels_about_df['total_views_channel'] = pd.to_numeric(channels_about_df['total_views_channel'], errors = 'coerce')"
   ]
  },
  {
   "cell_type": "markdown",
   "metadata": {},
   "source": [
    "Cleaning Channel Created Date"
   ]
  },
  {
   "cell_type": "code",
   "execution_count": 590,
   "metadata": {},
   "outputs": [
    {
     "data": {
      "text/plain": [
       "0"
      ]
     },
     "execution_count": 590,
     "metadata": {},
     "output_type": "execute_result"
    }
   ],
   "source": [
    "channels_about_df['channel_created_date'].isna().sum()"
   ]
  },
  {
   "cell_type": "code",
   "execution_count": 591,
   "metadata": {},
   "outputs": [],
   "source": [
    "channels_about_df['channel_created_date'] = channels_about_df['channel_created_date'].str.replace('Joined ', '')"
   ]
  },
  {
   "cell_type": "code",
   "execution_count": 592,
   "metadata": {},
   "outputs": [],
   "source": [
    "channels_about_df['channel_created_date'] = pd.to_datetime(channels_about_df['channel_created_date'])"
   ]
  },
  {
   "cell_type": "markdown",
   "metadata": {},
   "source": [
    "Miscellaneous"
   ]
  },
  {
   "cell_type": "code",
   "execution_count": 593,
   "metadata": {},
   "outputs": [
    {
     "name": "stdout",
     "output_type": "stream",
     "text": [
      "<class 'pandas.core.frame.DataFrame'>\n",
      "RangeIndex: 367 entries, 0 to 366\n",
      "Data columns (total 9 columns):\n",
      "channel_URL             367 non-null object\n",
      "channel_name            367 non-null object\n",
      "subscriber_count        367 non-null float64\n",
      "total_views_channel     367 non-null int64\n",
      "channel_created_date    367 non-null datetime64[ns]\n",
      "n_featured_channels     367 non-null object\n",
      "n_promo_links           367 non-null object\n",
      "channel_desc_length     367 non-null object\n",
      "channel_desc            367 non-null object\n",
      "dtypes: datetime64[ns](1), float64(1), int64(1), object(6)\n",
      "memory usage: 25.9+ KB\n"
     ]
    }
   ],
   "source": [
    "channels_about_df.info()"
   ]
  },
  {
   "cell_type": "code",
   "execution_count": 594,
   "metadata": {},
   "outputs": [],
   "source": [
    "channels_about_df['channel_desc_length']=pd.to_numeric(channels_about_df['channel_desc_length'], errors = 'coerce')\n",
    "channels_about_df['n_promo_links']=pd.to_numeric(channels_about_df['n_promo_links'], errors = 'coerce')\n",
    "channels_about_df['n_featured_channels']=pd.to_numeric(channels_about_df['n_featured_channels'], errors = 'coerce')"
   ]
  },
  {
   "cell_type": "code",
   "execution_count": 595,
   "metadata": {},
   "outputs": [
    {
     "data": {
      "text/html": [
       "<div>\n",
       "<style scoped>\n",
       "    .dataframe tbody tr th:only-of-type {\n",
       "        vertical-align: middle;\n",
       "    }\n",
       "\n",
       "    .dataframe tbody tr th {\n",
       "        vertical-align: top;\n",
       "    }\n",
       "\n",
       "    .dataframe thead th {\n",
       "        text-align: right;\n",
       "    }\n",
       "</style>\n",
       "<table border=\"1\" class=\"dataframe\">\n",
       "  <thead>\n",
       "    <tr style=\"text-align: right;\">\n",
       "      <th></th>\n",
       "      <th>channel_URL</th>\n",
       "      <th>channel_name</th>\n",
       "      <th>subscriber_count</th>\n",
       "      <th>total_views_channel</th>\n",
       "      <th>channel_created_date</th>\n",
       "      <th>n_featured_channels</th>\n",
       "      <th>n_promo_links</th>\n",
       "      <th>channel_desc_length</th>\n",
       "      <th>channel_desc</th>\n",
       "    </tr>\n",
       "  </thead>\n",
       "  <tbody>\n",
       "    <tr>\n",
       "      <td>0</td>\n",
       "      <td>https://www.youtube.com/user/yogawithadriene</td>\n",
       "      <td>YogaWithAdriene.com</td>\n",
       "      <td>6800000.0</td>\n",
       "      <td>557831762</td>\n",
       "      <td>2012-08-30</td>\n",
       "      <td>3</td>\n",
       "      <td>10</td>\n",
       "      <td>946</td>\n",
       "      <td>WELCOME to Yoga With Adriene! Our mission is t...</td>\n",
       "    </tr>\n",
       "    <tr>\n",
       "      <td>1</td>\n",
       "      <td>https://www.youtube.com/user/CorePowerYoga</td>\n",
       "      <td>corepoweryoga.com</td>\n",
       "      <td>17200.0</td>\n",
       "      <td>452439</td>\n",
       "      <td>2008-09-16</td>\n",
       "      <td>0</td>\n",
       "      <td>10</td>\n",
       "      <td>241</td>\n",
       "      <td>Stream a live class or access our library of 2...</td>\n",
       "    </tr>\n",
       "    <tr>\n",
       "      <td>2</td>\n",
       "      <td>https://www.youtube.com/channel/UCE92Hzq1rGv3d...</td>\n",
       "      <td>Free Online Resource Library</td>\n",
       "      <td>1180.0</td>\n",
       "      <td>94978</td>\n",
       "      <td>2014-05-27</td>\n",
       "      <td>0</td>\n",
       "      <td>10</td>\n",
       "      <td>420</td>\n",
       "      <td>Ally Boothroyd is a Kripalu Yoga Teacher, yoga...</td>\n",
       "    </tr>\n",
       "  </tbody>\n",
       "</table>\n",
       "</div>"
      ],
      "text/plain": [
       "                                         channel_URL  \\\n",
       "0       https://www.youtube.com/user/yogawithadriene   \n",
       "1         https://www.youtube.com/user/CorePowerYoga   \n",
       "2  https://www.youtube.com/channel/UCE92Hzq1rGv3d...   \n",
       "\n",
       "                   channel_name  subscriber_count  total_views_channel  \\\n",
       "0           YogaWithAdriene.com         6800000.0            557831762   \n",
       "1             corepoweryoga.com           17200.0               452439   \n",
       "2  Free Online Resource Library            1180.0                94978   \n",
       "\n",
       "  channel_created_date  n_featured_channels  n_promo_links  \\\n",
       "0           2012-08-30                    3             10   \n",
       "1           2008-09-16                    0             10   \n",
       "2           2014-05-27                    0             10   \n",
       "\n",
       "   channel_desc_length                                       channel_desc  \n",
       "0                  946  WELCOME to Yoga With Adriene! Our mission is t...  \n",
       "1                  241  Stream a live class or access our library of 2...  \n",
       "2                  420  Ally Boothroyd is a Kripalu Yoga Teacher, yoga...  "
      ]
     },
     "execution_count": 595,
     "metadata": {},
     "output_type": "execute_result"
    }
   ],
   "source": [
    "channels_about_df.head(3)"
   ]
  },
  {
   "cell_type": "code",
   "execution_count": null,
   "metadata": {},
   "outputs": [],
   "source": []
  },
  {
   "cell_type": "markdown",
   "metadata": {},
   "source": [
    "## Cleaning videos_info_df"
   ]
  },
  {
   "cell_type": "code",
   "execution_count": 596,
   "metadata": {},
   "outputs": [],
   "source": [
    "videos_info_df = pd.DataFrame.from_dict(videos_info).T"
   ]
  },
  {
   "cell_type": "code",
   "execution_count": 597,
   "metadata": {},
   "outputs": [
    {
     "data": {
      "text/html": [
       "<div>\n",
       "<style scoped>\n",
       "    .dataframe tbody tr th:only-of-type {\n",
       "        vertical-align: middle;\n",
       "    }\n",
       "\n",
       "    .dataframe tbody tr th {\n",
       "        vertical-align: top;\n",
       "    }\n",
       "\n",
       "    .dataframe thead th {\n",
       "        text-align: right;\n",
       "    }\n",
       "</style>\n",
       "<table border=\"1\" class=\"dataframe\">\n",
       "  <thead>\n",
       "    <tr style=\"text-align: right;\">\n",
       "      <th></th>\n",
       "      <th></th>\n",
       "      <th>Title</th>\n",
       "      <th>Views</th>\n",
       "      <th>Description</th>\n",
       "      <th>Publication Date</th>\n",
       "      <th>Likes</th>\n",
       "      <th>Dislikes</th>\n",
       "    </tr>\n",
       "  </thead>\n",
       "  <tbody>\n",
       "    <tr>\n",
       "      <td rowspan=\"3\" valign=\"top\">https://www.youtube.com/user/VideoJug</td>\n",
       "      <td>A0GC4z60TPE</td>\n",
       "      <td>Ben &amp; Jimmy's Guide To London: First Impressions</td>\n",
       "      <td>2015</td>\n",
       "      <td>In honour of YouTube Comedy Week we've launche...</td>\n",
       "      <td>Published on May 22, 2013</td>\n",
       "      <td>20</td>\n",
       "      <td>4</td>\n",
       "    </tr>\n",
       "    <tr>\n",
       "      <td>8hHj27QazIQ</td>\n",
       "      <td>Ben &amp; Jimmy's Guide To London: Londoners E1/3</td>\n",
       "      <td>1534</td>\n",
       "      <td>This week is YouTube Comedy Week, so we are br...</td>\n",
       "      <td>Published on May 20, 2013</td>\n",
       "      <td>19</td>\n",
       "      <td>4</td>\n",
       "    </tr>\n",
       "    <tr>\n",
       "      <td>3RifUHkAon0</td>\n",
       "      <td>Tyra Banks Makeup - Models' Corner</td>\n",
       "      <td>3128</td>\n",
       "      <td>Tyra Banks always has defined cheekbones and s...</td>\n",
       "      <td>Published on May 16, 2013</td>\n",
       "      <td>52</td>\n",
       "      <td>4</td>\n",
       "    </tr>\n",
       "  </tbody>\n",
       "</table>\n",
       "</div>"
      ],
      "text/plain": [
       "                                                                                              Title  \\\n",
       "https://www.youtube.com/user/VideoJug A0GC4z60TPE  Ben & Jimmy's Guide To London: First Impressions   \n",
       "                                      8hHj27QazIQ     Ben & Jimmy's Guide To London: Londoners E1/3   \n",
       "                                      3RifUHkAon0                Tyra Banks Makeup - Models' Corner   \n",
       "\n",
       "                                                  Views  \\\n",
       "https://www.youtube.com/user/VideoJug A0GC4z60TPE  2015   \n",
       "                                      8hHj27QazIQ  1534   \n",
       "                                      3RifUHkAon0  3128   \n",
       "\n",
       "                                                                                         Description  \\\n",
       "https://www.youtube.com/user/VideoJug A0GC4z60TPE  In honour of YouTube Comedy Week we've launche...   \n",
       "                                      8hHj27QazIQ  This week is YouTube Comedy Week, so we are br...   \n",
       "                                      3RifUHkAon0  Tyra Banks always has defined cheekbones and s...   \n",
       "\n",
       "                                                            Publication Date  \\\n",
       "https://www.youtube.com/user/VideoJug A0GC4z60TPE  Published on May 22, 2013   \n",
       "                                      8hHj27QazIQ  Published on May 20, 2013   \n",
       "                                      3RifUHkAon0  Published on May 16, 2013   \n",
       "\n",
       "                                                  Likes Dislikes  \n",
       "https://www.youtube.com/user/VideoJug A0GC4z60TPE    20        4  \n",
       "                                      8hHj27QazIQ    19        4  \n",
       "                                      3RifUHkAon0    52        4  "
      ]
     },
     "execution_count": 597,
     "metadata": {},
     "output_type": "execute_result"
    }
   ],
   "source": [
    "videos_info_df.tail(3)"
   ]
  },
  {
   "cell_type": "code",
   "execution_count": 598,
   "metadata": {},
   "outputs": [],
   "source": [
    "videos_info_df = videos_info_df.reset_index()"
   ]
  },
  {
   "cell_type": "code",
   "execution_count": 599,
   "metadata": {},
   "outputs": [
    {
     "data": {
      "text/plain": [
       "Index(['level_0', 'level_1', 'Title', 'Views', 'Description',\n",
       "       'Publication Date', 'Likes', 'Dislikes'],\n",
       "      dtype='object')"
      ]
     },
     "execution_count": 599,
     "metadata": {},
     "output_type": "execute_result"
    }
   ],
   "source": [
    "videos_info_df.columns"
   ]
  },
  {
   "cell_type": "code",
   "execution_count": 600,
   "metadata": {},
   "outputs": [],
   "source": [
    "videos_info_df = videos_info_df[['level_0', 'level_1', 'Title', 'Views', 'Description', 'Publication Date', 'Likes', 'Dislikes']]\n",
    "videos_info_df.rename(columns = {'level_0':'channel_URL', \n",
    "                                 'level_1':'video_URL_ext', \n",
    "                                 'Title':'title', \n",
    "                                 'Views':'views_DUPL', \n",
    "                                 'Description':'video_desc', \n",
    "                                 'Likes':'likes', \n",
    "                                 'Dislikes':'dislikes', 'Publication Date': 'video_published_date'}, inplace=True)"
   ]
  },
  {
   "cell_type": "code",
   "execution_count": 601,
   "metadata": {},
   "outputs": [
    {
     "name": "stdout",
     "output_type": "stream",
     "text": [
      "<class 'pandas.core.frame.DataFrame'>\n",
      "RangeIndex: 9399 entries, 0 to 9398\n",
      "Data columns (total 8 columns):\n",
      "channel_URL             9399 non-null object\n",
      "video_URL_ext           9399 non-null object\n",
      "title                   9399 non-null object\n",
      "views_DUPL              9399 non-null object\n",
      "video_desc              9399 non-null object\n",
      "video_published_date    9399 non-null object\n",
      "likes                   9399 non-null object\n",
      "dislikes                9399 non-null object\n",
      "dtypes: object(8)\n",
      "memory usage: 587.6+ KB\n"
     ]
    }
   ],
   "source": [
    "videos_info_df.info()"
   ]
  },
  {
   "cell_type": "code",
   "execution_count": 602,
   "metadata": {},
   "outputs": [],
   "source": [
    "videos_info_df['video_desc_length'] = videos_info_df['video_desc'].apply(len)"
   ]
  },
  {
   "cell_type": "markdown",
   "metadata": {},
   "source": [
    "Cleaning Video Published Date"
   ]
  },
  {
   "cell_type": "code",
   "execution_count": 603,
   "metadata": {},
   "outputs": [],
   "source": [
    "pattern = re.compile(\"Published|Premiered|Streamed live\")\n",
    "videos_info_df['delivery_method'] = videos_info_df['video_published_date'].apply(lambda string: str(pattern.findall(string)))"
   ]
  },
  {
   "cell_type": "code",
   "execution_count": 604,
   "metadata": {},
   "outputs": [],
   "source": [
    "videos_info_df['delivery_method'] = videos_info_df['delivery_method'].apply(lambda string: string.replace(\"'\", '').replace('[', '').replace(']', ''))"
   ]
  },
  {
   "cell_type": "code",
   "execution_count": 605,
   "metadata": {},
   "outputs": [],
   "source": [
    "videos_info_df['video_published_date'] = videos_info_df['video_published_date'].str.replace('.+ ago', 'Streamed live on Apr 9, 2020')"
   ]
  },
  {
   "cell_type": "code",
   "execution_count": 606,
   "metadata": {},
   "outputs": [],
   "source": [
    "videos_info_df['video_published_date'] = videos_info_df['video_published_date'].str.replace('Published on ', '').str.replace('Streamed live on ', '').str.replace('Premiered ', '')"
   ]
  },
  {
   "cell_type": "code",
   "execution_count": 607,
   "metadata": {},
   "outputs": [],
   "source": [
    "videos_info_df['video_published_date'] =  pd.to_datetime(videos_info_df['video_published_date'])"
   ]
  },
  {
   "cell_type": "code",
   "execution_count": 608,
   "metadata": {},
   "outputs": [
    {
     "data": {
      "text/plain": [
       "0"
      ]
     },
     "execution_count": 608,
     "metadata": {},
     "output_type": "execute_result"
    }
   ],
   "source": [
    "videos_info_df['video_published_date'].isna().sum()"
   ]
  },
  {
   "cell_type": "markdown",
   "metadata": {},
   "source": [
    "Miscellaneous"
   ]
  },
  {
   "cell_type": "code",
   "execution_count": 609,
   "metadata": {},
   "outputs": [],
   "source": [
    "videos_info_df['likes']=pd.to_numeric(videos_info_df['likes'], errors = 'coerce')\n",
    "videos_info_df['dislikes']=pd.to_numeric(videos_info_df['dislikes'], errors = 'coerce')\n",
    "videos_info_df['views_DUPL']=pd.to_numeric(videos_info_df['views_DUPL'], errors = 'coerce')"
   ]
  },
  {
   "cell_type": "code",
   "execution_count": 610,
   "metadata": {},
   "outputs": [
    {
     "name": "stdout",
     "output_type": "stream",
     "text": [
      "<class 'pandas.core.frame.DataFrame'>\n",
      "RangeIndex: 9399 entries, 0 to 9398\n",
      "Data columns (total 10 columns):\n",
      "channel_URL             9399 non-null object\n",
      "video_URL_ext           9399 non-null object\n",
      "title                   9399 non-null object\n",
      "views_DUPL              9399 non-null int64\n",
      "video_desc              9399 non-null object\n",
      "video_published_date    9399 non-null datetime64[ns]\n",
      "likes                   9399 non-null int64\n",
      "dislikes                9399 non-null int64\n",
      "video_desc_length       9399 non-null int64\n",
      "delivery_method         9399 non-null object\n",
      "dtypes: datetime64[ns](1), int64(4), object(5)\n",
      "memory usage: 734.4+ KB\n"
     ]
    }
   ],
   "source": [
    "videos_info_df.info()"
   ]
  },
  {
   "cell_type": "markdown",
   "metadata": {},
   "source": [
    "## Merging dataframes"
   ]
  },
  {
   "cell_type": "code",
   "execution_count": 611,
   "metadata": {},
   "outputs": [
    {
     "data": {
      "text/html": [
       "<div>\n",
       "<style scoped>\n",
       "    .dataframe tbody tr th:only-of-type {\n",
       "        vertical-align: middle;\n",
       "    }\n",
       "\n",
       "    .dataframe tbody tr th {\n",
       "        vertical-align: top;\n",
       "    }\n",
       "\n",
       "    .dataframe thead th {\n",
       "        text-align: right;\n",
       "    }\n",
       "</style>\n",
       "<table border=\"1\" class=\"dataframe\">\n",
       "  <thead>\n",
       "    <tr style=\"text-align: right;\">\n",
       "      <th></th>\n",
       "      <th>channel_URL</th>\n",
       "      <th>channel_name</th>\n",
       "      <th>subscriber_count</th>\n",
       "      <th>total_views_channel</th>\n",
       "      <th>channel_created_date</th>\n",
       "      <th>n_featured_channels</th>\n",
       "      <th>n_promo_links</th>\n",
       "      <th>channel_desc_length</th>\n",
       "      <th>channel_desc</th>\n",
       "    </tr>\n",
       "  </thead>\n",
       "  <tbody>\n",
       "    <tr>\n",
       "      <td>246</td>\n",
       "      <td>https://www.youtube.com/user/CosmicKidsYoga</td>\n",
       "      <td>Get the Cosmic Kids App!</td>\n",
       "      <td>697000.0</td>\n",
       "      <td>135854765</td>\n",
       "      <td>2012-04-12</td>\n",
       "      <td>8</td>\n",
       "      <td>8</td>\n",
       "      <td>417</td>\n",
       "      <td>Yoga, mindfulness and relaxation for kids. Int...</td>\n",
       "    </tr>\n",
       "  </tbody>\n",
       "</table>\n",
       "</div>"
      ],
      "text/plain": [
       "                                     channel_URL              channel_name  \\\n",
       "246  https://www.youtube.com/user/CosmicKidsYoga  Get the Cosmic Kids App!   \n",
       "\n",
       "     subscriber_count  total_views_channel channel_created_date  \\\n",
       "246          697000.0            135854765           2012-04-12   \n",
       "\n",
       "     n_featured_channels  n_promo_links  channel_desc_length  \\\n",
       "246                    8              8                  417   \n",
       "\n",
       "                                          channel_desc  \n",
       "246  Yoga, mindfulness and relaxation for kids. Int...  "
      ]
     },
     "execution_count": 611,
     "metadata": {},
     "output_type": "execute_result"
    }
   ],
   "source": [
    "channels_about_df.sample()"
   ]
  },
  {
   "cell_type": "code",
   "execution_count": 612,
   "metadata": {},
   "outputs": [
    {
     "data": {
      "text/html": [
       "<div>\n",
       "<style scoped>\n",
       "    .dataframe tbody tr th:only-of-type {\n",
       "        vertical-align: middle;\n",
       "    }\n",
       "\n",
       "    .dataframe tbody tr th {\n",
       "        vertical-align: top;\n",
       "    }\n",
       "\n",
       "    .dataframe thead th {\n",
       "        text-align: right;\n",
       "    }\n",
       "</style>\n",
       "<table border=\"1\" class=\"dataframe\">\n",
       "  <thead>\n",
       "    <tr style=\"text-align: right;\">\n",
       "      <th></th>\n",
       "      <th>channel_URL</th>\n",
       "      <th>video_order_num</th>\n",
       "      <th>duration</th>\n",
       "      <th>title</th>\n",
       "      <th>views_video</th>\n",
       "      <th>video_age_min</th>\n",
       "    </tr>\n",
       "  </thead>\n",
       "  <tbody>\n",
       "    <tr>\n",
       "      <td>9035</td>\n",
       "      <td>https://www.youtube.com/channel/UC1vTlARSd51P8...</td>\n",
       "      <td>16</td>\n",
       "      <td>4440</td>\n",
       "      <td>75 min Full Body Yin Yoga | Drop Into the Gap</td>\n",
       "      <td>10102.0</td>\n",
       "      <td>86400.0</td>\n",
       "    </tr>\n",
       "  </tbody>\n",
       "</table>\n",
       "</div>"
      ],
      "text/plain": [
       "                                            channel_URL  video_order_num  \\\n",
       "9035  https://www.youtube.com/channel/UC1vTlARSd51P8...               16   \n",
       "\n",
       "      duration                                          title  views_video  \\\n",
       "9035      4440  75 min Full Body Yin Yoga | Drop Into the Gap      10102.0   \n",
       "\n",
       "      video_age_min  \n",
       "9035        86400.0  "
      ]
     },
     "execution_count": 612,
     "metadata": {},
     "output_type": "execute_result"
    }
   ],
   "source": [
    "channels_videos_page_df.sample()"
   ]
  },
  {
   "cell_type": "code",
   "execution_count": 613,
   "metadata": {},
   "outputs": [
    {
     "data": {
      "text/html": [
       "<div>\n",
       "<style scoped>\n",
       "    .dataframe tbody tr th:only-of-type {\n",
       "        vertical-align: middle;\n",
       "    }\n",
       "\n",
       "    .dataframe tbody tr th {\n",
       "        vertical-align: top;\n",
       "    }\n",
       "\n",
       "    .dataframe thead th {\n",
       "        text-align: right;\n",
       "    }\n",
       "</style>\n",
       "<table border=\"1\" class=\"dataframe\">\n",
       "  <thead>\n",
       "    <tr style=\"text-align: right;\">\n",
       "      <th></th>\n",
       "      <th>channel_URL</th>\n",
       "      <th>video_URL_ext</th>\n",
       "      <th>title</th>\n",
       "      <th>views_DUPL</th>\n",
       "      <th>video_desc</th>\n",
       "      <th>video_published_date</th>\n",
       "      <th>likes</th>\n",
       "      <th>dislikes</th>\n",
       "      <th>video_desc_length</th>\n",
       "      <th>delivery_method</th>\n",
       "    </tr>\n",
       "  </thead>\n",
       "  <tbody>\n",
       "    <tr>\n",
       "      <td>1404</td>\n",
       "      <td>https://www.youtube.com/channel/UCOs8SxKDY1wda...</td>\n",
       "      <td>nDsX52rc1Aw</td>\n",
       "      <td>Persian Yoga demo 2</td>\n",
       "      <td>4321</td>\n",
       "      <td>Persian Yoga follow along workout promo 2 was ...</td>\n",
       "      <td>2017-02-27</td>\n",
       "      <td>26</td>\n",
       "      <td>0</td>\n",
       "      <td>372</td>\n",
       "      <td>Published</td>\n",
       "    </tr>\n",
       "  </tbody>\n",
       "</table>\n",
       "</div>"
      ],
      "text/plain": [
       "                                            channel_URL video_URL_ext  \\\n",
       "1404  https://www.youtube.com/channel/UCOs8SxKDY1wda...   nDsX52rc1Aw   \n",
       "\n",
       "                    title  views_DUPL  \\\n",
       "1404  Persian Yoga demo 2        4321   \n",
       "\n",
       "                                             video_desc video_published_date  \\\n",
       "1404  Persian Yoga follow along workout promo 2 was ...           2017-02-27   \n",
       "\n",
       "      likes  dislikes  video_desc_length delivery_method  \n",
       "1404     26         0                372       Published  "
      ]
     },
     "execution_count": 613,
     "metadata": {},
     "output_type": "execute_result"
    }
   ],
   "source": [
    "videos_info_df.sample()"
   ]
  },
  {
   "cell_type": "code",
   "execution_count": 614,
   "metadata": {},
   "outputs": [],
   "source": [
    "channels_videos_page_df.set_index('title', inplace=True)"
   ]
  },
  {
   "cell_type": "code",
   "execution_count": 615,
   "metadata": {},
   "outputs": [],
   "source": [
    "videos_info_df.set_index('title', inplace=True)"
   ]
  },
  {
   "cell_type": "code",
   "execution_count": 616,
   "metadata": {},
   "outputs": [],
   "source": [
    "videos_df = channels_videos_page_df.join(videos_info_df, lsuffix='_page', rsuffix='_info', how='outer')"
   ]
  },
  {
   "cell_type": "code",
   "execution_count": 617,
   "metadata": {},
   "outputs": [
    {
     "name": "stdout",
     "output_type": "stream",
     "text": [
      "<class 'pandas.core.frame.DataFrame'>\n",
      "Index: 15999 entries, \"Align Your Yoga, Align Your Life:\" a Revolutionary Online Yoga Course to 🦋YOGA EQUINOCCIO PRIMAVERA 🌷🌿Empieza el ciclo! Spring equinox yoga\n",
      "Data columns (total 14 columns):\n",
      "channel_URL_page        15735 non-null object\n",
      "video_order_num         15735 non-null float64\n",
      "duration                15735 non-null float64\n",
      "views_video             15735 non-null float64\n",
      "video_age_min           15735 non-null float64\n",
      "channel_URL_info        10535 non-null object\n",
      "video_URL_ext           10535 non-null object\n",
      "views_DUPL              10535 non-null float64\n",
      "video_desc              10535 non-null object\n",
      "video_published_date    10535 non-null datetime64[ns]\n",
      "likes                   10535 non-null float64\n",
      "dislikes                10535 non-null float64\n",
      "video_desc_length       10535 non-null float64\n",
      "delivery_method         10535 non-null object\n",
      "dtypes: datetime64[ns](1), float64(8), object(5)\n",
      "memory usage: 1.8+ MB\n"
     ]
    }
   ],
   "source": [
    "videos_df.info()"
   ]
  },
  {
   "cell_type": "code",
   "execution_count": 618,
   "metadata": {},
   "outputs": [],
   "source": [
    "videos_df = videos_df[videos_df['likes'].notna()]\n",
    "videos_df = videos_df[videos_df['video_age_min'].notna()]"
   ]
  },
  {
   "cell_type": "code",
   "execution_count": 619,
   "metadata": {},
   "outputs": [
    {
     "name": "stdout",
     "output_type": "stream",
     "text": [
      "<class 'pandas.core.frame.DataFrame'>\n",
      "Index: 10271 entries, \"Align Your Yoga, Align Your Life:\" a Revolutionary Online Yoga Course to 🦋YOGA EQUINOCCIO PRIMAVERA 🌷🌿Empieza el ciclo! Spring equinox yoga\n",
      "Data columns (total 14 columns):\n",
      "channel_URL_page        10271 non-null object\n",
      "video_order_num         10271 non-null float64\n",
      "duration                10271 non-null float64\n",
      "views_video             10271 non-null float64\n",
      "video_age_min           10271 non-null float64\n",
      "channel_URL_info        10271 non-null object\n",
      "video_URL_ext           10271 non-null object\n",
      "views_DUPL              10271 non-null float64\n",
      "video_desc              10271 non-null object\n",
      "video_published_date    10271 non-null datetime64[ns]\n",
      "likes                   10271 non-null float64\n",
      "dislikes                10271 non-null float64\n",
      "video_desc_length       10271 non-null float64\n",
      "delivery_method         10271 non-null object\n",
      "dtypes: datetime64[ns](1), float64(8), object(5)\n",
      "memory usage: 1.2+ MB\n"
     ]
    }
   ],
   "source": [
    "videos_df.info()"
   ]
  },
  {
   "cell_type": "code",
   "execution_count": 620,
   "metadata": {},
   "outputs": [
    {
     "data": {
      "text/html": [
       "<div>\n",
       "<style scoped>\n",
       "    .dataframe tbody tr th:only-of-type {\n",
       "        vertical-align: middle;\n",
       "    }\n",
       "\n",
       "    .dataframe tbody tr th {\n",
       "        vertical-align: top;\n",
       "    }\n",
       "\n",
       "    .dataframe thead th {\n",
       "        text-align: right;\n",
       "    }\n",
       "</style>\n",
       "<table border=\"1\" class=\"dataframe\">\n",
       "  <thead>\n",
       "    <tr style=\"text-align: right;\">\n",
       "      <th></th>\n",
       "      <th>channel_URL_page</th>\n",
       "      <th>video_order_num</th>\n",
       "      <th>duration</th>\n",
       "      <th>views_video</th>\n",
       "      <th>video_age_min</th>\n",
       "      <th>channel_URL_info</th>\n",
       "      <th>video_URL_ext</th>\n",
       "      <th>views_DUPL</th>\n",
       "      <th>video_desc</th>\n",
       "      <th>video_published_date</th>\n",
       "      <th>likes</th>\n",
       "      <th>dislikes</th>\n",
       "      <th>video_desc_length</th>\n",
       "      <th>delivery_method</th>\n",
       "    </tr>\n",
       "    <tr>\n",
       "      <th>title</th>\n",
       "      <th></th>\n",
       "      <th></th>\n",
       "      <th></th>\n",
       "      <th></th>\n",
       "      <th></th>\n",
       "      <th></th>\n",
       "      <th></th>\n",
       "      <th></th>\n",
       "      <th></th>\n",
       "      <th></th>\n",
       "      <th></th>\n",
       "      <th></th>\n",
       "      <th></th>\n",
       "      <th></th>\n",
       "    </tr>\n",
       "  </thead>\n",
       "  <tbody>\n",
       "    <tr>\n",
       "      <td>\"Align Your Yoga, Align Your Life:\" a Revolutionary Online Yoga Course</td>\n",
       "      <td>https://www.youtube.com/user/oceanworshipper</td>\n",
       "      <td>1.0</td>\n",
       "      <td>349.0</td>\n",
       "      <td>932.0</td>\n",
       "      <td>2880.0</td>\n",
       "      <td>https://www.youtube.com/user/oceanworshipper</td>\n",
       "      <td>3GYdWbDE_0g</td>\n",
       "      <td>102.0</td>\n",
       "      <td>Align Your Yoga, Align Your Life is a deep div...</td>\n",
       "      <td>2020-04-07</td>\n",
       "      <td>10.0</td>\n",
       "      <td>0.0</td>\n",
       "      <td>1008.0</td>\n",
       "      <td>Published</td>\n",
       "    </tr>\n",
       "    <tr>\n",
       "      <td>\"Fasting Can Save Your Life\" Students sharing self experience of Therapeutic Fasting</td>\n",
       "      <td>https://www.youtube.com/channel/UC79-TyulXkC7K...</td>\n",
       "      <td>18.0</td>\n",
       "      <td>6060.0</td>\n",
       "      <td>168512.0</td>\n",
       "      <td>86400.0</td>\n",
       "      <td>https://www.youtube.com/channel/UC79-TyulXkC7K...</td>\n",
       "      <td>9zm1_yGBA44</td>\n",
       "      <td>16883.0</td>\n",
       "      <td>Dr. Gulab Rai Tewani is working as CMO (Chief ...</td>\n",
       "      <td>2020-01-25</td>\n",
       "      <td>430.0</td>\n",
       "      <td>45.0</td>\n",
       "      <td>945.0</td>\n",
       "      <td>Published</td>\n",
       "    </tr>\n",
       "    <tr>\n",
       "      <td>\"Health Is Wealth\" - Join Detox Camp at SHYNCH, Bhopal</td>\n",
       "      <td>https://www.youtube.com/channel/UC79-TyulXkC7K...</td>\n",
       "      <td>15.0</td>\n",
       "      <td>7140.0</td>\n",
       "      <td>75351.0</td>\n",
       "      <td>43200.0</td>\n",
       "      <td>https://www.youtube.com/channel/UC79-TyulXkC7K...</td>\n",
       "      <td>3jBZkq7eh0Q</td>\n",
       "      <td>7535.0</td>\n",
       "      <td>Sant Hirdaram Yoga &amp; Nature Cure Hospital (Aro...</td>\n",
       "      <td>2020-03-05</td>\n",
       "      <td>217.0</td>\n",
       "      <td>13.0</td>\n",
       "      <td>1605.0</td>\n",
       "      <td>Published</td>\n",
       "    </tr>\n",
       "  </tbody>\n",
       "</table>\n",
       "</div>"
      ],
      "text/plain": [
       "                                                                                     channel_URL_page  \\\n",
       "title                                                                                                   \n",
       "\"Align Your Yoga, Align Your Life:\" a Revolutio...       https://www.youtube.com/user/oceanworshipper   \n",
       "\"Fasting Can Save Your Life\" Students sharing s...  https://www.youtube.com/channel/UC79-TyulXkC7K...   \n",
       "\"Health Is Wealth\" - Join Detox Camp at SHYNCH,...  https://www.youtube.com/channel/UC79-TyulXkC7K...   \n",
       "\n",
       "                                                    video_order_num  duration  \\\n",
       "title                                                                           \n",
       "\"Align Your Yoga, Align Your Life:\" a Revolutio...              1.0     349.0   \n",
       "\"Fasting Can Save Your Life\" Students sharing s...             18.0    6060.0   \n",
       "\"Health Is Wealth\" - Join Detox Camp at SHYNCH,...             15.0    7140.0   \n",
       "\n",
       "                                                    views_video  \\\n",
       "title                                                             \n",
       "\"Align Your Yoga, Align Your Life:\" a Revolutio...        932.0   \n",
       "\"Fasting Can Save Your Life\" Students sharing s...     168512.0   \n",
       "\"Health Is Wealth\" - Join Detox Camp at SHYNCH,...      75351.0   \n",
       "\n",
       "                                                    video_age_min  \\\n",
       "title                                                               \n",
       "\"Align Your Yoga, Align Your Life:\" a Revolutio...         2880.0   \n",
       "\"Fasting Can Save Your Life\" Students sharing s...        86400.0   \n",
       "\"Health Is Wealth\" - Join Detox Camp at SHYNCH,...        43200.0   \n",
       "\n",
       "                                                                                     channel_URL_info  \\\n",
       "title                                                                                                   \n",
       "\"Align Your Yoga, Align Your Life:\" a Revolutio...       https://www.youtube.com/user/oceanworshipper   \n",
       "\"Fasting Can Save Your Life\" Students sharing s...  https://www.youtube.com/channel/UC79-TyulXkC7K...   \n",
       "\"Health Is Wealth\" - Join Detox Camp at SHYNCH,...  https://www.youtube.com/channel/UC79-TyulXkC7K...   \n",
       "\n",
       "                                                   video_URL_ext  views_DUPL  \\\n",
       "title                                                                          \n",
       "\"Align Your Yoga, Align Your Life:\" a Revolutio...   3GYdWbDE_0g       102.0   \n",
       "\"Fasting Can Save Your Life\" Students sharing s...   9zm1_yGBA44     16883.0   \n",
       "\"Health Is Wealth\" - Join Detox Camp at SHYNCH,...   3jBZkq7eh0Q      7535.0   \n",
       "\n",
       "                                                                                           video_desc  \\\n",
       "title                                                                                                   \n",
       "\"Align Your Yoga, Align Your Life:\" a Revolutio...  Align Your Yoga, Align Your Life is a deep div...   \n",
       "\"Fasting Can Save Your Life\" Students sharing s...  Dr. Gulab Rai Tewani is working as CMO (Chief ...   \n",
       "\"Health Is Wealth\" - Join Detox Camp at SHYNCH,...  Sant Hirdaram Yoga & Nature Cure Hospital (Aro...   \n",
       "\n",
       "                                                   video_published_date  \\\n",
       "title                                                                     \n",
       "\"Align Your Yoga, Align Your Life:\" a Revolutio...           2020-04-07   \n",
       "\"Fasting Can Save Your Life\" Students sharing s...           2020-01-25   \n",
       "\"Health Is Wealth\" - Join Detox Camp at SHYNCH,...           2020-03-05   \n",
       "\n",
       "                                                    likes  dislikes  \\\n",
       "title                                                                 \n",
       "\"Align Your Yoga, Align Your Life:\" a Revolutio...   10.0       0.0   \n",
       "\"Fasting Can Save Your Life\" Students sharing s...  430.0      45.0   \n",
       "\"Health Is Wealth\" - Join Detox Camp at SHYNCH,...  217.0      13.0   \n",
       "\n",
       "                                                    video_desc_length  \\\n",
       "title                                                                   \n",
       "\"Align Your Yoga, Align Your Life:\" a Revolutio...             1008.0   \n",
       "\"Fasting Can Save Your Life\" Students sharing s...              945.0   \n",
       "\"Health Is Wealth\" - Join Detox Camp at SHYNCH,...             1605.0   \n",
       "\n",
       "                                                   delivery_method  \n",
       "title                                                               \n",
       "\"Align Your Yoga, Align Your Life:\" a Revolutio...       Published  \n",
       "\"Fasting Can Save Your Life\" Students sharing s...       Published  \n",
       "\"Health Is Wealth\" - Join Detox Camp at SHYNCH,...       Published  "
      ]
     },
     "execution_count": 620,
     "metadata": {},
     "output_type": "execute_result"
    }
   ],
   "source": [
    "videos_df.head(3)"
   ]
  },
  {
   "cell_type": "code",
   "execution_count": 621,
   "metadata": {},
   "outputs": [],
   "source": [
    "#videos_df[(videos_df['channel_URL_page'] == videos_df['channel_URL_info'])]"
   ]
  },
  {
   "cell_type": "code",
   "execution_count": 622,
   "metadata": {},
   "outputs": [],
   "source": [
    "videos_df['channel_URL'] = videos_df['channel_URL_info']\n",
    "videos_df.set_index('channel_URL', inplace=True)\n",
    "channels_about_df.set_index('channel_URL', inplace=True)"
   ]
  },
  {
   "cell_type": "code",
   "execution_count": 623,
   "metadata": {},
   "outputs": [],
   "source": [
    "video_channel_df = pd.merge(videos_df, channels_about_df, on='channel_URL', how='outer')"
   ]
  },
  {
   "cell_type": "code",
   "execution_count": 624,
   "metadata": {},
   "outputs": [
    {
     "data": {
      "text/html": [
       "<div>\n",
       "<style scoped>\n",
       "    .dataframe tbody tr th:only-of-type {\n",
       "        vertical-align: middle;\n",
       "    }\n",
       "\n",
       "    .dataframe tbody tr th {\n",
       "        vertical-align: top;\n",
       "    }\n",
       "\n",
       "    .dataframe thead th {\n",
       "        text-align: right;\n",
       "    }\n",
       "</style>\n",
       "<table border=\"1\" class=\"dataframe\">\n",
       "  <thead>\n",
       "    <tr style=\"text-align: right;\">\n",
       "      <th></th>\n",
       "      <th>channel_URL_page</th>\n",
       "      <th>video_order_num</th>\n",
       "      <th>duration</th>\n",
       "      <th>views_video</th>\n",
       "      <th>video_age_min</th>\n",
       "      <th>channel_URL_info</th>\n",
       "      <th>video_URL_ext</th>\n",
       "      <th>views_DUPL</th>\n",
       "      <th>video_desc</th>\n",
       "      <th>video_published_date</th>\n",
       "      <th>...</th>\n",
       "      <th>video_desc_length</th>\n",
       "      <th>delivery_method</th>\n",
       "      <th>channel_name</th>\n",
       "      <th>subscriber_count</th>\n",
       "      <th>total_views_channel</th>\n",
       "      <th>channel_created_date</th>\n",
       "      <th>n_featured_channels</th>\n",
       "      <th>n_promo_links</th>\n",
       "      <th>channel_desc_length</th>\n",
       "      <th>channel_desc</th>\n",
       "    </tr>\n",
       "    <tr>\n",
       "      <th>channel_URL</th>\n",
       "      <th></th>\n",
       "      <th></th>\n",
       "      <th></th>\n",
       "      <th></th>\n",
       "      <th></th>\n",
       "      <th></th>\n",
       "      <th></th>\n",
       "      <th></th>\n",
       "      <th></th>\n",
       "      <th></th>\n",
       "      <th></th>\n",
       "      <th></th>\n",
       "      <th></th>\n",
       "      <th></th>\n",
       "      <th></th>\n",
       "      <th></th>\n",
       "      <th></th>\n",
       "      <th></th>\n",
       "      <th></th>\n",
       "      <th></th>\n",
       "      <th></th>\n",
       "    </tr>\n",
       "  </thead>\n",
       "  <tbody>\n",
       "    <tr>\n",
       "      <td>https://www.youtube.com/user/oceanworshipper</td>\n",
       "      <td>https://www.youtube.com/user/oceanworshipper</td>\n",
       "      <td>1.0</td>\n",
       "      <td>349.0</td>\n",
       "      <td>932.0</td>\n",
       "      <td>2880.0</td>\n",
       "      <td>https://www.youtube.com/user/oceanworshipper</td>\n",
       "      <td>3GYdWbDE_0g</td>\n",
       "      <td>102.0</td>\n",
       "      <td>Align Your Yoga, Align Your Life is a deep div...</td>\n",
       "      <td>2020-04-07</td>\n",
       "      <td>...</td>\n",
       "      <td>1008.0</td>\n",
       "      <td>Published</td>\n",
       "      <td>Donate to EcoKarma</td>\n",
       "      <td>3020.0</td>\n",
       "      <td>237248.0</td>\n",
       "      <td>2008-02-26</td>\n",
       "      <td>0.0</td>\n",
       "      <td>2.0</td>\n",
       "      <td>288.0</td>\n",
       "      <td>Blissology is about making the world a better ...</td>\n",
       "    </tr>\n",
       "    <tr>\n",
       "      <td>https://www.youtube.com/user/oceanworshipper</td>\n",
       "      <td>https://www.youtube.com/user/oceanworshipper</td>\n",
       "      <td>15.0</td>\n",
       "      <td>60.0</td>\n",
       "      <td>20461.0</td>\n",
       "      <td>15768000.0</td>\n",
       "      <td>https://www.youtube.com/user/oceanworshipper</td>\n",
       "      <td>nCKcW9wbMlM</td>\n",
       "      <td>2046.0</td>\n",
       "      <td>Advanced Alignment and Adjustments is part of ...</td>\n",
       "      <td>2018-07-05</td>\n",
       "      <td>...</td>\n",
       "      <td>381.0</td>\n",
       "      <td>Published</td>\n",
       "      <td>Donate to EcoKarma</td>\n",
       "      <td>3020.0</td>\n",
       "      <td>237248.0</td>\n",
       "      <td>2008-02-26</td>\n",
       "      <td>0.0</td>\n",
       "      <td>2.0</td>\n",
       "      <td>288.0</td>\n",
       "      <td>Blissology is about making the world a better ...</td>\n",
       "    </tr>\n",
       "    <tr>\n",
       "      <td>https://www.youtube.com/user/oceanworshipper</td>\n",
       "      <td>https://www.youtube.com/user/oceanworshipper</td>\n",
       "      <td>17.0</td>\n",
       "      <td>159.0</td>\n",
       "      <td>1602.0</td>\n",
       "      <td>31536000.0</td>\n",
       "      <td>https://www.youtube.com/user/oceanworshipper</td>\n",
       "      <td>KMGAlkw-MbA</td>\n",
       "      <td>160.0</td>\n",
       "      <td>Nature is the ultimate spiritual portal. When ...</td>\n",
       "      <td>2018-01-06</td>\n",
       "      <td>...</td>\n",
       "      <td>1120.0</td>\n",
       "      <td>Published</td>\n",
       "      <td>Donate to EcoKarma</td>\n",
       "      <td>3020.0</td>\n",
       "      <td>237248.0</td>\n",
       "      <td>2008-02-26</td>\n",
       "      <td>0.0</td>\n",
       "      <td>2.0</td>\n",
       "      <td>288.0</td>\n",
       "      <td>Blissology is about making the world a better ...</td>\n",
       "    </tr>\n",
       "    <tr>\n",
       "      <td>https://www.youtube.com/user/oceanworshipper</td>\n",
       "      <td>https://www.youtube.com/user/oceanworshipper</td>\n",
       "      <td>16.0</td>\n",
       "      <td>60.0</td>\n",
       "      <td>2312.0</td>\n",
       "      <td>31536000.0</td>\n",
       "      <td>https://www.youtube.com/user/oceanworshipper</td>\n",
       "      <td>HHudryLLmbk</td>\n",
       "      <td>231.0</td>\n",
       "      <td>The practice of yoga is a powerful tool that a...</td>\n",
       "      <td>2018-01-11</td>\n",
       "      <td>...</td>\n",
       "      <td>1193.0</td>\n",
       "      <td>Published</td>\n",
       "      <td>Donate to EcoKarma</td>\n",
       "      <td>3020.0</td>\n",
       "      <td>237248.0</td>\n",
       "      <td>2008-02-26</td>\n",
       "      <td>0.0</td>\n",
       "      <td>2.0</td>\n",
       "      <td>288.0</td>\n",
       "      <td>Blissology is about making the world a better ...</td>\n",
       "    </tr>\n",
       "    <tr>\n",
       "      <td>https://www.youtube.com/user/oceanworshipper</td>\n",
       "      <td>https://www.youtube.com/user/oceanworshipper</td>\n",
       "      <td>19.0</td>\n",
       "      <td>60.0</td>\n",
       "      <td>8392.0</td>\n",
       "      <td>31536000.0</td>\n",
       "      <td>https://www.youtube.com/user/oceanworshipper</td>\n",
       "      <td>AdoqTzZwljk</td>\n",
       "      <td>839.0</td>\n",
       "      <td>Aloha everyone! This January 22nd - February 4...</td>\n",
       "      <td>2017-10-16</td>\n",
       "      <td>...</td>\n",
       "      <td>529.0</td>\n",
       "      <td>Published</td>\n",
       "      <td>Donate to EcoKarma</td>\n",
       "      <td>3020.0</td>\n",
       "      <td>237248.0</td>\n",
       "      <td>2008-02-26</td>\n",
       "      <td>0.0</td>\n",
       "      <td>2.0</td>\n",
       "      <td>288.0</td>\n",
       "      <td>Blissology is about making the world a better ...</td>\n",
       "    </tr>\n",
       "  </tbody>\n",
       "</table>\n",
       "<p>5 rows × 22 columns</p>\n",
       "</div>"
      ],
      "text/plain": [
       "                                                                          channel_URL_page  \\\n",
       "channel_URL                                                                                  \n",
       "https://www.youtube.com/user/oceanworshipper  https://www.youtube.com/user/oceanworshipper   \n",
       "https://www.youtube.com/user/oceanworshipper  https://www.youtube.com/user/oceanworshipper   \n",
       "https://www.youtube.com/user/oceanworshipper  https://www.youtube.com/user/oceanworshipper   \n",
       "https://www.youtube.com/user/oceanworshipper  https://www.youtube.com/user/oceanworshipper   \n",
       "https://www.youtube.com/user/oceanworshipper  https://www.youtube.com/user/oceanworshipper   \n",
       "\n",
       "                                              video_order_num  duration  \\\n",
       "channel_URL                                                               \n",
       "https://www.youtube.com/user/oceanworshipper              1.0     349.0   \n",
       "https://www.youtube.com/user/oceanworshipper             15.0      60.0   \n",
       "https://www.youtube.com/user/oceanworshipper             17.0     159.0   \n",
       "https://www.youtube.com/user/oceanworshipper             16.0      60.0   \n",
       "https://www.youtube.com/user/oceanworshipper             19.0      60.0   \n",
       "\n",
       "                                              views_video  video_age_min  \\\n",
       "channel_URL                                                                \n",
       "https://www.youtube.com/user/oceanworshipper        932.0         2880.0   \n",
       "https://www.youtube.com/user/oceanworshipper      20461.0     15768000.0   \n",
       "https://www.youtube.com/user/oceanworshipper       1602.0     31536000.0   \n",
       "https://www.youtube.com/user/oceanworshipper       2312.0     31536000.0   \n",
       "https://www.youtube.com/user/oceanworshipper       8392.0     31536000.0   \n",
       "\n",
       "                                                                          channel_URL_info  \\\n",
       "channel_URL                                                                                  \n",
       "https://www.youtube.com/user/oceanworshipper  https://www.youtube.com/user/oceanworshipper   \n",
       "https://www.youtube.com/user/oceanworshipper  https://www.youtube.com/user/oceanworshipper   \n",
       "https://www.youtube.com/user/oceanworshipper  https://www.youtube.com/user/oceanworshipper   \n",
       "https://www.youtube.com/user/oceanworshipper  https://www.youtube.com/user/oceanworshipper   \n",
       "https://www.youtube.com/user/oceanworshipper  https://www.youtube.com/user/oceanworshipper   \n",
       "\n",
       "                                             video_URL_ext  views_DUPL  \\\n",
       "channel_URL                                                              \n",
       "https://www.youtube.com/user/oceanworshipper   3GYdWbDE_0g       102.0   \n",
       "https://www.youtube.com/user/oceanworshipper   nCKcW9wbMlM      2046.0   \n",
       "https://www.youtube.com/user/oceanworshipper   KMGAlkw-MbA       160.0   \n",
       "https://www.youtube.com/user/oceanworshipper   HHudryLLmbk       231.0   \n",
       "https://www.youtube.com/user/oceanworshipper   AdoqTzZwljk       839.0   \n",
       "\n",
       "                                                                                     video_desc  \\\n",
       "channel_URL                                                                                       \n",
       "https://www.youtube.com/user/oceanworshipper  Align Your Yoga, Align Your Life is a deep div...   \n",
       "https://www.youtube.com/user/oceanworshipper  Advanced Alignment and Adjustments is part of ...   \n",
       "https://www.youtube.com/user/oceanworshipper  Nature is the ultimate spiritual portal. When ...   \n",
       "https://www.youtube.com/user/oceanworshipper  The practice of yoga is a powerful tool that a...   \n",
       "https://www.youtube.com/user/oceanworshipper  Aloha everyone! This January 22nd - February 4...   \n",
       "\n",
       "                                             video_published_date  ...  \\\n",
       "channel_URL                                                        ...   \n",
       "https://www.youtube.com/user/oceanworshipper           2020-04-07  ...   \n",
       "https://www.youtube.com/user/oceanworshipper           2018-07-05  ...   \n",
       "https://www.youtube.com/user/oceanworshipper           2018-01-06  ...   \n",
       "https://www.youtube.com/user/oceanworshipper           2018-01-11  ...   \n",
       "https://www.youtube.com/user/oceanworshipper           2017-10-16  ...   \n",
       "\n",
       "                                              video_desc_length  \\\n",
       "channel_URL                                                       \n",
       "https://www.youtube.com/user/oceanworshipper             1008.0   \n",
       "https://www.youtube.com/user/oceanworshipper              381.0   \n",
       "https://www.youtube.com/user/oceanworshipper             1120.0   \n",
       "https://www.youtube.com/user/oceanworshipper             1193.0   \n",
       "https://www.youtube.com/user/oceanworshipper              529.0   \n",
       "\n",
       "                                              delivery_method  \\\n",
       "channel_URL                                                     \n",
       "https://www.youtube.com/user/oceanworshipper        Published   \n",
       "https://www.youtube.com/user/oceanworshipper        Published   \n",
       "https://www.youtube.com/user/oceanworshipper        Published   \n",
       "https://www.youtube.com/user/oceanworshipper        Published   \n",
       "https://www.youtube.com/user/oceanworshipper        Published   \n",
       "\n",
       "                                                    channel_name  \\\n",
       "channel_URL                                                        \n",
       "https://www.youtube.com/user/oceanworshipper  Donate to EcoKarma   \n",
       "https://www.youtube.com/user/oceanworshipper  Donate to EcoKarma   \n",
       "https://www.youtube.com/user/oceanworshipper  Donate to EcoKarma   \n",
       "https://www.youtube.com/user/oceanworshipper  Donate to EcoKarma   \n",
       "https://www.youtube.com/user/oceanworshipper  Donate to EcoKarma   \n",
       "\n",
       "                                             subscriber_count  \\\n",
       "channel_URL                                                     \n",
       "https://www.youtube.com/user/oceanworshipper           3020.0   \n",
       "https://www.youtube.com/user/oceanworshipper           3020.0   \n",
       "https://www.youtube.com/user/oceanworshipper           3020.0   \n",
       "https://www.youtube.com/user/oceanworshipper           3020.0   \n",
       "https://www.youtube.com/user/oceanworshipper           3020.0   \n",
       "\n",
       "                                             total_views_channel  \\\n",
       "channel_URL                                                        \n",
       "https://www.youtube.com/user/oceanworshipper            237248.0   \n",
       "https://www.youtube.com/user/oceanworshipper            237248.0   \n",
       "https://www.youtube.com/user/oceanworshipper            237248.0   \n",
       "https://www.youtube.com/user/oceanworshipper            237248.0   \n",
       "https://www.youtube.com/user/oceanworshipper            237248.0   \n",
       "\n",
       "                                              channel_created_date  \\\n",
       "channel_URL                                                          \n",
       "https://www.youtube.com/user/oceanworshipper            2008-02-26   \n",
       "https://www.youtube.com/user/oceanworshipper            2008-02-26   \n",
       "https://www.youtube.com/user/oceanworshipper            2008-02-26   \n",
       "https://www.youtube.com/user/oceanworshipper            2008-02-26   \n",
       "https://www.youtube.com/user/oceanworshipper            2008-02-26   \n",
       "\n",
       "                                              n_featured_channels  \\\n",
       "channel_URL                                                         \n",
       "https://www.youtube.com/user/oceanworshipper                  0.0   \n",
       "https://www.youtube.com/user/oceanworshipper                  0.0   \n",
       "https://www.youtube.com/user/oceanworshipper                  0.0   \n",
       "https://www.youtube.com/user/oceanworshipper                  0.0   \n",
       "https://www.youtube.com/user/oceanworshipper                  0.0   \n",
       "\n",
       "                                             n_promo_links  \\\n",
       "channel_URL                                                  \n",
       "https://www.youtube.com/user/oceanworshipper           2.0   \n",
       "https://www.youtube.com/user/oceanworshipper           2.0   \n",
       "https://www.youtube.com/user/oceanworshipper           2.0   \n",
       "https://www.youtube.com/user/oceanworshipper           2.0   \n",
       "https://www.youtube.com/user/oceanworshipper           2.0   \n",
       "\n",
       "                                              channel_desc_length  \\\n",
       "channel_URL                                                         \n",
       "https://www.youtube.com/user/oceanworshipper                288.0   \n",
       "https://www.youtube.com/user/oceanworshipper                288.0   \n",
       "https://www.youtube.com/user/oceanworshipper                288.0   \n",
       "https://www.youtube.com/user/oceanworshipper                288.0   \n",
       "https://www.youtube.com/user/oceanworshipper                288.0   \n",
       "\n",
       "                                                                                   channel_desc  \n",
       "channel_URL                                                                                      \n",
       "https://www.youtube.com/user/oceanworshipper  Blissology is about making the world a better ...  \n",
       "https://www.youtube.com/user/oceanworshipper  Blissology is about making the world a better ...  \n",
       "https://www.youtube.com/user/oceanworshipper  Blissology is about making the world a better ...  \n",
       "https://www.youtube.com/user/oceanworshipper  Blissology is about making the world a better ...  \n",
       "https://www.youtube.com/user/oceanworshipper  Blissology is about making the world a better ...  \n",
       "\n",
       "[5 rows x 22 columns]"
      ]
     },
     "execution_count": 624,
     "metadata": {},
     "output_type": "execute_result"
    }
   ],
   "source": [
    "video_channel_df.head()"
   ]
  },
  {
   "cell_type": "code",
   "execution_count": 625,
   "metadata": {},
   "outputs": [
    {
     "data": {
      "text/plain": [
       "(10362, 22)"
      ]
     },
     "execution_count": 625,
     "metadata": {},
     "output_type": "execute_result"
    }
   ],
   "source": [
    "video_channel_df.shape"
   ]
  },
  {
   "cell_type": "code",
   "execution_count": 626,
   "metadata": {},
   "outputs": [
    {
     "name": "stdout",
     "output_type": "stream",
     "text": [
      "<class 'pandas.core.frame.DataFrame'>\n",
      "Index: 10362 entries, https://www.youtube.com/user/oceanworshipper to https://www.youtube.com/user/CaliFitnessYogaVN\n",
      "Data columns (total 22 columns):\n",
      "channel_URL_page        10271 non-null object\n",
      "video_order_num         10271 non-null float64\n",
      "duration                10271 non-null float64\n",
      "views_video             10271 non-null float64\n",
      "video_age_min           10271 non-null float64\n",
      "channel_URL_info        10271 non-null object\n",
      "video_URL_ext           10271 non-null object\n",
      "views_DUPL              10271 non-null float64\n",
      "video_desc              10271 non-null object\n",
      "video_published_date    10271 non-null datetime64[ns]\n",
      "likes                   10271 non-null float64\n",
      "dislikes                10271 non-null float64\n",
      "video_desc_length       10271 non-null float64\n",
      "delivery_method         10271 non-null object\n",
      "channel_name            5876 non-null object\n",
      "subscriber_count        5876 non-null float64\n",
      "total_views_channel     5876 non-null float64\n",
      "channel_created_date    5876 non-null datetime64[ns]\n",
      "n_featured_channels     5876 non-null float64\n",
      "n_promo_links           5876 non-null float64\n",
      "channel_desc_length     5876 non-null float64\n",
      "channel_desc            5876 non-null object\n",
      "dtypes: datetime64[ns](2), float64(13), object(7)\n",
      "memory usage: 1.8+ MB\n"
     ]
    }
   ],
   "source": [
    "video_channel_df.info()"
   ]
  },
  {
   "cell_type": "code",
   "execution_count": 629,
   "metadata": {},
   "outputs": [],
   "source": [
    "video_channel_df = video_channel_df[video_channel_df['channel_name'].notna()]"
   ]
  },
  {
   "cell_type": "code",
   "execution_count": 632,
   "metadata": {},
   "outputs": [],
   "source": [
    "video_channel_df = video_channel_df[video_channel_df['video_URL_ext'].notna()]"
   ]
  },
  {
   "cell_type": "code",
   "execution_count": 633,
   "metadata": {},
   "outputs": [
    {
     "name": "stdout",
     "output_type": "stream",
     "text": [
      "<class 'pandas.core.frame.DataFrame'>\n",
      "Index: 5785 entries, https://www.youtube.com/user/oceanworshipper to https://www.youtube.com/user/onlymyhealthyoga\n",
      "Data columns (total 22 columns):\n",
      "channel_URL_page        5785 non-null object\n",
      "video_order_num         5785 non-null float64\n",
      "duration                5785 non-null float64\n",
      "views_video             5785 non-null float64\n",
      "video_age_min           5785 non-null float64\n",
      "channel_URL_info        5785 non-null object\n",
      "video_URL_ext           5785 non-null object\n",
      "views_DUPL              5785 non-null float64\n",
      "video_desc              5785 non-null object\n",
      "video_published_date    5785 non-null datetime64[ns]\n",
      "likes                   5785 non-null float64\n",
      "dislikes                5785 non-null float64\n",
      "video_desc_length       5785 non-null float64\n",
      "delivery_method         5785 non-null object\n",
      "channel_name            5785 non-null object\n",
      "subscriber_count        5785 non-null float64\n",
      "total_views_channel     5785 non-null float64\n",
      "channel_created_date    5785 non-null datetime64[ns]\n",
      "n_featured_channels     5785 non-null float64\n",
      "n_promo_links           5785 non-null float64\n",
      "channel_desc_length     5785 non-null float64\n",
      "channel_desc            5785 non-null object\n",
      "dtypes: datetime64[ns](2), float64(13), object(7)\n",
      "memory usage: 1.0+ MB\n"
     ]
    }
   ],
   "source": [
    "video_channel_df.info()"
   ]
  },
  {
   "cell_type": "code",
   "execution_count": 628,
   "metadata": {},
   "outputs": [],
   "source": [
    "with open('videos_df_10271.pkl', 'wb') as picklefile:\n",
    "    pickle.dump(videos_df, picklefile)"
   ]
  },
  {
   "cell_type": "code",
   "execution_count": 634,
   "metadata": {},
   "outputs": [],
   "source": [
    "with open('video_channel_df_5785.pkl', 'wb') as picklefile:\n",
    "    pickle.dump(video_channel_df, picklefile)"
   ]
  },
  {
   "cell_type": "code",
   "execution_count": 636,
   "metadata": {},
   "outputs": [
    {
     "data": {
      "text/html": [
       "<div>\n",
       "<style scoped>\n",
       "    .dataframe tbody tr th:only-of-type {\n",
       "        vertical-align: middle;\n",
       "    }\n",
       "\n",
       "    .dataframe tbody tr th {\n",
       "        vertical-align: top;\n",
       "    }\n",
       "\n",
       "    .dataframe thead th {\n",
       "        text-align: right;\n",
       "    }\n",
       "</style>\n",
       "<table border=\"1\" class=\"dataframe\">\n",
       "  <thead>\n",
       "    <tr style=\"text-align: right;\">\n",
       "      <th></th>\n",
       "      <th>video_order_num</th>\n",
       "      <th>duration</th>\n",
       "      <th>views_video</th>\n",
       "      <th>video_age_min</th>\n",
       "      <th>views_DUPL</th>\n",
       "      <th>likes</th>\n",
       "      <th>dislikes</th>\n",
       "      <th>video_desc_length</th>\n",
       "      <th>subscriber_count</th>\n",
       "      <th>total_views_channel</th>\n",
       "      <th>n_featured_channels</th>\n",
       "      <th>n_promo_links</th>\n",
       "      <th>channel_desc_length</th>\n",
       "    </tr>\n",
       "  </thead>\n",
       "  <tbody>\n",
       "    <tr>\n",
       "      <td>count</td>\n",
       "      <td>5785.000000</td>\n",
       "      <td>5785.000000</td>\n",
       "      <td>5.785000e+03</td>\n",
       "      <td>5.785000e+03</td>\n",
       "      <td>5.785000e+03</td>\n",
       "      <td>5785.000000</td>\n",
       "      <td>5785.000000</td>\n",
       "      <td>5785.000000</td>\n",
       "      <td>5.785000e+03</td>\n",
       "      <td>5.785000e+03</td>\n",
       "      <td>5785.000000</td>\n",
       "      <td>5785.000000</td>\n",
       "      <td>5785.000000</td>\n",
       "    </tr>\n",
       "    <tr>\n",
       "      <td>mean</td>\n",
       "      <td>13.203284</td>\n",
       "      <td>1073.760069</td>\n",
       "      <td>2.446859e+05</td>\n",
       "      <td>1.482573e+07</td>\n",
       "      <td>2.253507e+04</td>\n",
       "      <td>304.876059</td>\n",
       "      <td>11.721694</td>\n",
       "      <td>953.672256</td>\n",
       "      <td>7.922169e+04</td>\n",
       "      <td>1.184357e+07</td>\n",
       "      <td>1.508211</td>\n",
       "      <td>6.980121</td>\n",
       "      <td>561.405186</td>\n",
       "    </tr>\n",
       "    <tr>\n",
       "      <td>std</td>\n",
       "      <td>8.468567</td>\n",
       "      <td>1455.002212</td>\n",
       "      <td>4.372039e+06</td>\n",
       "      <td>2.629617e+07</td>\n",
       "      <td>4.344644e+05</td>\n",
       "      <td>3331.569651</td>\n",
       "      <td>243.815897</td>\n",
       "      <td>971.286428</td>\n",
       "      <td>3.944344e+05</td>\n",
       "      <td>6.129304e+07</td>\n",
       "      <td>2.778470</td>\n",
       "      <td>3.390163</td>\n",
       "      <td>311.206245</td>\n",
       "    </tr>\n",
       "    <tr>\n",
       "      <td>min</td>\n",
       "      <td>1.000000</td>\n",
       "      <td>2.000000</td>\n",
       "      <td>2.000000e+00</td>\n",
       "      <td>0.000000e+00</td>\n",
       "      <td>3.000000e+00</td>\n",
       "      <td>0.000000</td>\n",
       "      <td>0.000000</td>\n",
       "      <td>0.000000</td>\n",
       "      <td>0.000000e+00</td>\n",
       "      <td>7.000000e+00</td>\n",
       "      <td>0.000000</td>\n",
       "      <td>2.000000</td>\n",
       "      <td>13.000000</td>\n",
       "    </tr>\n",
       "    <tr>\n",
       "      <td>25%</td>\n",
       "      <td>6.000000</td>\n",
       "      <td>177.000000</td>\n",
       "      <td>1.832000e+03</td>\n",
       "      <td>4.320000e+04</td>\n",
       "      <td>1.690000e+02</td>\n",
       "      <td>5.000000</td>\n",
       "      <td>0.000000</td>\n",
       "      <td>253.000000</td>\n",
       "      <td>1.510000e+03</td>\n",
       "      <td>1.109070e+05</td>\n",
       "      <td>0.000000</td>\n",
       "      <td>4.000000</td>\n",
       "      <td>273.000000</td>\n",
       "    </tr>\n",
       "    <tr>\n",
       "      <td>50%</td>\n",
       "      <td>12.000000</td>\n",
       "      <td>562.000000</td>\n",
       "      <td>8.532000e+03</td>\n",
       "      <td>2.160000e+05</td>\n",
       "      <td>7.980000e+02</td>\n",
       "      <td>20.000000</td>\n",
       "      <td>0.000000</td>\n",
       "      <td>622.000000</td>\n",
       "      <td>7.180000e+03</td>\n",
       "      <td>5.957410e+05</td>\n",
       "      <td>0.000000</td>\n",
       "      <td>8.000000</td>\n",
       "      <td>570.000000</td>\n",
       "    </tr>\n",
       "    <tr>\n",
       "      <td>75%</td>\n",
       "      <td>20.000000</td>\n",
       "      <td>1380.000000</td>\n",
       "      <td>3.754400e+04</td>\n",
       "      <td>1.576800e+07</td>\n",
       "      <td>3.464000e+03</td>\n",
       "      <td>89.000000</td>\n",
       "      <td>2.000000</td>\n",
       "      <td>1317.000000</td>\n",
       "      <td>4.910000e+04</td>\n",
       "      <td>4.913626e+06</td>\n",
       "      <td>2.000000</td>\n",
       "      <td>10.000000</td>\n",
       "      <td>864.000000</td>\n",
       "    </tr>\n",
       "    <tr>\n",
       "      <td>max</td>\n",
       "      <td>30.000000</td>\n",
       "      <td>36120.000000</td>\n",
       "      <td>2.748813e+08</td>\n",
       "      <td>4.336200e+08</td>\n",
       "      <td>2.750022e+07</td>\n",
       "      <td>216457.000000</td>\n",
       "      <td>13039.000000</td>\n",
       "      <td>4895.000000</td>\n",
       "      <td>6.800000e+06</td>\n",
       "      <td>7.440930e+08</td>\n",
       "      <td>10.000000</td>\n",
       "      <td>19.000000</td>\n",
       "      <td>1000.000000</td>\n",
       "    </tr>\n",
       "  </tbody>\n",
       "</table>\n",
       "</div>"
      ],
      "text/plain": [
       "       video_order_num      duration   views_video  video_age_min  \\\n",
       "count      5785.000000   5785.000000  5.785000e+03   5.785000e+03   \n",
       "mean         13.203284   1073.760069  2.446859e+05   1.482573e+07   \n",
       "std           8.468567   1455.002212  4.372039e+06   2.629617e+07   \n",
       "min           1.000000      2.000000  2.000000e+00   0.000000e+00   \n",
       "25%           6.000000    177.000000  1.832000e+03   4.320000e+04   \n",
       "50%          12.000000    562.000000  8.532000e+03   2.160000e+05   \n",
       "75%          20.000000   1380.000000  3.754400e+04   1.576800e+07   \n",
       "max          30.000000  36120.000000  2.748813e+08   4.336200e+08   \n",
       "\n",
       "         views_DUPL          likes      dislikes  video_desc_length  \\\n",
       "count  5.785000e+03    5785.000000   5785.000000        5785.000000   \n",
       "mean   2.253507e+04     304.876059     11.721694         953.672256   \n",
       "std    4.344644e+05    3331.569651    243.815897         971.286428   \n",
       "min    3.000000e+00       0.000000      0.000000           0.000000   \n",
       "25%    1.690000e+02       5.000000      0.000000         253.000000   \n",
       "50%    7.980000e+02      20.000000      0.000000         622.000000   \n",
       "75%    3.464000e+03      89.000000      2.000000        1317.000000   \n",
       "max    2.750022e+07  216457.000000  13039.000000        4895.000000   \n",
       "\n",
       "       subscriber_count  total_views_channel  n_featured_channels  \\\n",
       "count      5.785000e+03         5.785000e+03          5785.000000   \n",
       "mean       7.922169e+04         1.184357e+07             1.508211   \n",
       "std        3.944344e+05         6.129304e+07             2.778470   \n",
       "min        0.000000e+00         7.000000e+00             0.000000   \n",
       "25%        1.510000e+03         1.109070e+05             0.000000   \n",
       "50%        7.180000e+03         5.957410e+05             0.000000   \n",
       "75%        4.910000e+04         4.913626e+06             2.000000   \n",
       "max        6.800000e+06         7.440930e+08            10.000000   \n",
       "\n",
       "       n_promo_links  channel_desc_length  \n",
       "count    5785.000000          5785.000000  \n",
       "mean        6.980121           561.405186  \n",
       "std         3.390163           311.206245  \n",
       "min         2.000000            13.000000  \n",
       "25%         4.000000           273.000000  \n",
       "50%         8.000000           570.000000  \n",
       "75%        10.000000           864.000000  \n",
       "max        19.000000          1000.000000  "
      ]
     },
     "execution_count": 636,
     "metadata": {},
     "output_type": "execute_result"
    }
   ],
   "source": [
    "video_channel_df.describe()"
   ]
  },
  {
   "cell_type": "code",
   "execution_count": null,
   "metadata": {},
   "outputs": [],
   "source": []
  }
 ],
 "metadata": {
  "kernelspec": {
   "display_name": "Python 3",
   "language": "python",
   "name": "python3"
  },
  "language_info": {
   "codemirror_mode": {
    "name": "ipython",
    "version": 3
   },
   "file_extension": ".py",
   "mimetype": "text/x-python",
   "name": "python",
   "nbconvert_exporter": "python",
   "pygments_lexer": "ipython3",
   "version": "3.7.4"
  }
 },
 "nbformat": 4,
 "nbformat_minor": 2
}
