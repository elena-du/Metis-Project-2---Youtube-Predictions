{
 "cells": [
  {
   "cell_type": "code",
   "execution_count": 154,
   "metadata": {},
   "outputs": [],
   "source": [
    "import pickle\n",
    "import pandas as pd\n",
    "import numpy as np\n",
    "from collections import defaultdict\n",
    "import time, os\n",
    "import re"
   ]
  },
  {
   "cell_type": "markdown",
   "metadata": {},
   "source": [
    "## Downloading and casting to dataframe"
   ]
  },
  {
   "cell_type": "code",
   "execution_count": 46,
   "metadata": {},
   "outputs": [],
   "source": [
    "with open('videos_info.pkl', 'rb') as picklefile:\n",
    "    videos_info = pickle.load(picklefile)\n",
    "with open('channels_about.pkl', 'rb') as picklefile:\n",
    "    channels_about = pickle.load(picklefile)\n",
    "with open('channels_videos_page.pkl', 'rb') as picklefile:\n",
    "    channels_videos_page = pickle.load(picklefile)"
   ]
  },
  {
   "cell_type": "code",
   "execution_count": 272,
   "metadata": {},
   "outputs": [],
   "source": [
    "channels_about_df = pd.DataFrame.from_dict(channels_about).T\n",
    "channels_videos_page_df = pd.DataFrame.from_dict(channels_videos_page).T\n",
    "videos_info_df = pd.DataFrame.from_dict(videos_info).T"
   ]
  },
  {
   "cell_type": "markdown",
   "metadata": {},
   "source": [
    "## Cleaning channels_videos_page_df"
   ]
  },
  {
   "cell_type": "code",
   "execution_count": 321,
   "metadata": {},
   "outputs": [
    {
     "data": {
      "text/html": [
       "<div>\n",
       "<style scoped>\n",
       "    .dataframe tbody tr th:only-of-type {\n",
       "        vertical-align: middle;\n",
       "    }\n",
       "\n",
       "    .dataframe tbody tr th {\n",
       "        vertical-align: top;\n",
       "    }\n",
       "\n",
       "    .dataframe thead th {\n",
       "        text-align: right;\n",
       "    }\n",
       "</style>\n",
       "<table border=\"1\" class=\"dataframe\">\n",
       "  <thead>\n",
       "    <tr style=\"text-align: right;\">\n",
       "      <th></th>\n",
       "      <th>channel_URL</th>\n",
       "      <th>video_order_num</th>\n",
       "      <th>duration</th>\n",
       "      <th>title</th>\n",
       "      <th>views_video</th>\n",
       "      <th>video_age_min</th>\n",
       "    </tr>\n",
       "  </thead>\n",
       "  <tbody>\n",
       "    <tr>\n",
       "      <td>0</td>\n",
       "      <td>https://www.youtube.com/user/yogawithadriene</td>\n",
       "      <td>1</td>\n",
       "      <td>2100</td>\n",
       "      <td>Yoga for Vulnerability  |  Move #withme  |  Yo...</td>\n",
       "      <td>3440914.0</td>\n",
       "      <td>5760.0</td>\n",
       "    </tr>\n",
       "    <tr>\n",
       "      <td>1</td>\n",
       "      <td>https://www.youtube.com/channel/UCahoXO8yh6mqJ...</td>\n",
       "      <td>1</td>\n",
       "      <td>2040</td>\n",
       "      <td>30 Min Yoga Flow: Cleanse Your Sacral Chakra |...</td>\n",
       "      <td>25491.0</td>\n",
       "      <td>1440.0</td>\n",
       "    </tr>\n",
       "    <tr>\n",
       "      <td>2</td>\n",
       "      <td>https://www.youtube.com/channel/UCLevFC-tyOhyy...</td>\n",
       "      <td>1</td>\n",
       "      <td>761</td>\n",
       "      <td>Hip Mobility Class l Lizette Pompa Yoga</td>\n",
       "      <td>29437.0</td>\n",
       "      <td>302400.0</td>\n",
       "    </tr>\n",
       "  </tbody>\n",
       "</table>\n",
       "</div>"
      ],
      "text/plain": [
       "                                         channel_URL  video_order_num  \\\n",
       "0       https://www.youtube.com/user/yogawithadriene                1   \n",
       "1  https://www.youtube.com/channel/UCahoXO8yh6mqJ...                1   \n",
       "2  https://www.youtube.com/channel/UCLevFC-tyOhyy...                1   \n",
       "\n",
       "   duration                                              title  views_video  \\\n",
       "0      2100  Yoga for Vulnerability  |  Move #withme  |  Yo...    3440914.0   \n",
       "1      2040  30 Min Yoga Flow: Cleanse Your Sacral Chakra |...      25491.0   \n",
       "2       761            Hip Mobility Class l Lizette Pompa Yoga      29437.0   \n",
       "\n",
       "   video_age_min  \n",
       "0         5760.0  \n",
       "1         1440.0  \n",
       "2       302400.0  "
      ]
     },
     "execution_count": 321,
     "metadata": {},
     "output_type": "execute_result"
    }
   ],
   "source": [
    "channels_videos_page_df.head(3)"
   ]
  },
  {
   "cell_type": "code",
   "execution_count": 274,
   "metadata": {},
   "outputs": [],
   "source": [
    "channels_videos_page_df = channels_videos_page_df.reset_index()"
   ]
  },
  {
   "cell_type": "code",
   "execution_count": 275,
   "metadata": {},
   "outputs": [],
   "source": [
    "videos_scraped = channels_videos_page_df.columns[1:]"
   ]
  },
  {
   "cell_type": "code",
   "execution_count": 276,
   "metadata": {},
   "outputs": [],
   "source": [
    "channels_videos_page_df = pd.melt(channels_videos_page_df, id_vars='index', value_vars = videos_scraped)"
   ]
  },
  {
   "cell_type": "code",
   "execution_count": 277,
   "metadata": {},
   "outputs": [],
   "source": [
    "splitted_value_col = channels_videos_page_df['value'].apply(pd.Series)\n",
    "channels_videos_page_df = pd.concat([channels_videos_page_df, splitted_value_col], axis= 1)"
   ]
  },
  {
   "cell_type": "code",
   "execution_count": 278,
   "metadata": {},
   "outputs": [
    {
     "data": {
      "text/plain": [
       "Index(['index', 'variable', 'value', 0, 'duration', 'title', 'views_days'], dtype='object')"
      ]
     },
     "execution_count": 278,
     "metadata": {},
     "output_type": "execute_result"
    }
   ],
   "source": [
    "channels_videos_page_df.columns"
   ]
  },
  {
   "cell_type": "code",
   "execution_count": 279,
   "metadata": {},
   "outputs": [],
   "source": [
    "channels_videos_page_df = channels_videos_page_df[['index', 'variable', 'duration', 'title', 'views_days']]\n",
    "channels_videos_page_df.rename(columns = {'index':'channel_URL', 'variable':'video_order_num'}, inplace=True)"
   ]
  },
  {
   "cell_type": "code",
   "execution_count": 280,
   "metadata": {},
   "outputs": [
    {
     "data": {
      "text/plain": [
       "(17640, 5)"
      ]
     },
     "execution_count": 280,
     "metadata": {},
     "output_type": "execute_result"
    }
   ],
   "source": [
    "channels_videos_page_df.shape"
   ]
  },
  {
   "cell_type": "markdown",
   "metadata": {},
   "source": [
    "\n",
    "Cleaning: Duration"
   ]
  },
  {
   "cell_type": "code",
   "execution_count": 281,
   "metadata": {},
   "outputs": [
    {
     "data": {
      "text/plain": [
       "2984"
      ]
     },
     "execution_count": 281,
     "metadata": {},
     "output_type": "execute_result"
    }
   ],
   "source": [
    "channels_videos_page_df['duration'].isna().sum()"
   ]
  },
  {
   "cell_type": "markdown",
   "metadata": {},
   "source": [
    "NaNs is a result of video tab having no content: https://www.youtube.com/user/yogatoday, https://www.youtube.com/user/yogaworks\n",
    "Here function didn't work: https://www.youtube.com/user/divinedesignwellness"
   ]
  },
  {
   "cell_type": "code",
   "execution_count": 282,
   "metadata": {},
   "outputs": [
    {
     "data": {
      "text/html": [
       "<div>\n",
       "<style scoped>\n",
       "    .dataframe tbody tr th:only-of-type {\n",
       "        vertical-align: middle;\n",
       "    }\n",
       "\n",
       "    .dataframe tbody tr th {\n",
       "        vertical-align: top;\n",
       "    }\n",
       "\n",
       "    .dataframe thead th {\n",
       "        text-align: right;\n",
       "    }\n",
       "</style>\n",
       "<table border=\"1\" class=\"dataframe\">\n",
       "  <thead>\n",
       "    <tr style=\"text-align: right;\">\n",
       "      <th></th>\n",
       "      <th>channel_URL</th>\n",
       "      <th>video_order_num</th>\n",
       "      <th>duration</th>\n",
       "      <th>title</th>\n",
       "      <th>views_days</th>\n",
       "    </tr>\n",
       "  </thead>\n",
       "  <tbody>\n",
       "    <tr>\n",
       "      <td>17248</td>\n",
       "      <td>https://www.youtube.com/channel/UC-enqt3oO6foL...</td>\n",
       "      <td>30</td>\n",
       "      <td>NaN</td>\n",
       "      <td>NaN</td>\n",
       "      <td>NaN</td>\n",
       "    </tr>\n",
       "    <tr>\n",
       "      <td>16553</td>\n",
       "      <td>https://www.youtube.com/channel/UC7a5LhGLCvslZ...</td>\n",
       "      <td>29</td>\n",
       "      <td>NaN</td>\n",
       "      <td>NaN</td>\n",
       "      <td>NaN</td>\n",
       "    </tr>\n",
       "    <tr>\n",
       "      <td>15466</td>\n",
       "      <td>https://www.youtube.com/user/SiyaYoga</td>\n",
       "      <td>27</td>\n",
       "      <td>NaN</td>\n",
       "      <td>NaN</td>\n",
       "      <td>NaN</td>\n",
       "    </tr>\n",
       "    <tr>\n",
       "      <td>16633</td>\n",
       "      <td>https://www.youtube.com/channel/UCRocO3B31Q02r...</td>\n",
       "      <td>29</td>\n",
       "      <td>NaN</td>\n",
       "      <td>NaN</td>\n",
       "      <td>NaN</td>\n",
       "    </tr>\n",
       "    <tr>\n",
       "      <td>14896</td>\n",
       "      <td>https://www.youtube.com/channel/UC-enqt3oO6foL...</td>\n",
       "      <td>26</td>\n",
       "      <td>NaN</td>\n",
       "      <td>NaN</td>\n",
       "      <td>NaN</td>\n",
       "    </tr>\n",
       "    <tr>\n",
       "      <td>8474</td>\n",
       "      <td>https://www.youtube.com/user/divinedesignwellness</td>\n",
       "      <td>15</td>\n",
       "      <td>NaN</td>\n",
       "      <td>NaN</td>\n",
       "      <td>NaN</td>\n",
       "    </tr>\n",
       "  </tbody>\n",
       "</table>\n",
       "</div>"
      ],
      "text/plain": [
       "                                             channel_URL video_order_num  \\\n",
       "17248  https://www.youtube.com/channel/UC-enqt3oO6foL...              30   \n",
       "16553  https://www.youtube.com/channel/UC7a5LhGLCvslZ...              29   \n",
       "15466              https://www.youtube.com/user/SiyaYoga              27   \n",
       "16633  https://www.youtube.com/channel/UCRocO3B31Q02r...              29   \n",
       "14896  https://www.youtube.com/channel/UC-enqt3oO6foL...              26   \n",
       "8474   https://www.youtube.com/user/divinedesignwellness              15   \n",
       "\n",
       "      duration title views_days  \n",
       "17248      NaN   NaN        NaN  \n",
       "16553      NaN   NaN        NaN  \n",
       "15466      NaN   NaN        NaN  \n",
       "16633      NaN   NaN        NaN  \n",
       "14896      NaN   NaN        NaN  \n",
       "8474       NaN   NaN        NaN  "
      ]
     },
     "execution_count": 282,
     "metadata": {},
     "output_type": "execute_result"
    }
   ],
   "source": [
    "channels_videos_page_df[channels_videos_page_df['duration'].isna()].sample(6)"
   ]
  },
  {
   "cell_type": "code",
   "execution_count": 283,
   "metadata": {},
   "outputs": [],
   "source": [
    "channels_videos_page_df = channels_videos_page_df[channels_videos_page_df['duration'].notna()]"
   ]
  },
  {
   "cell_type": "code",
   "execution_count": 284,
   "metadata": {},
   "outputs": [],
   "source": [
    "channels_videos_page_df['duration'] = channels_videos_page_df['duration'].str.replace('- Duration:','').str.replace('.','')"
   ]
  },
  {
   "cell_type": "code",
   "execution_count": 285,
   "metadata": {},
   "outputs": [],
   "source": [
    "channels_videos_page_df['duration'] = channels_videos_page_df['duration'].str.replace(' minutes', 'M').str.replace(' seconds', 'S').str.replace(' hours', 'H').str.replace(' minute', 'M').str.replace(' second', 'S').str.replace(' hour', 'H').str.replace(',', '').str.replace(' ', '') "
   ]
  },
  {
   "cell_type": "code",
   "execution_count": 286,
   "metadata": {},
   "outputs": [],
   "source": [
    "def parse_duration(string):\n",
    "    try:\n",
    "        dur = pd.to_datetime(string, format = '%MM%SS') \n",
    "    except:\n",
    "        try:\n",
    "            dur = pd.to_datetime(string, format = '%HH%MM')\n",
    "        except:\n",
    "            try:\n",
    "                dur = pd.to_datetime(string, format = '%HH%MM%SS')\n",
    "            except:\n",
    "                try:\n",
    "                    dur = pd.to_datetime(string, format = '%HH')\n",
    "                except:\n",
    "                    try:\n",
    "                        dur = pd.to_datetime(string, format = '%MM')\n",
    "                    except:\n",
    "                        try:\n",
    "                            if int(string.replace('S','')) > 60:\n",
    "                                string = '60S'  #videos with duration a little over 1 min display sec > 60\n",
    "                            dur = pd.to_datetime(string, format = '%SS')\n",
    "                        except:\n",
    "                            dur = ''\n",
    "    return dur"
   ]
  },
  {
   "cell_type": "code",
   "execution_count": 287,
   "metadata": {},
   "outputs": [],
   "source": [
    "channels_videos_page_df['duration'] = channels_videos_page_df['duration'].apply(parse_duration)"
   ]
  },
  {
   "cell_type": "code",
   "execution_count": 288,
   "metadata": {},
   "outputs": [],
   "source": [
    "channels_videos_page_df['duration'] = (channels_videos_page_df['duration'].dt.hour * 60 + channels_videos_page_df['duration'].dt.minute) * 60 + channels_videos_page_df['duration'].dt.second"
   ]
  },
  {
   "cell_type": "markdown",
   "metadata": {},
   "source": [
    "Cleaning: Views & Days"
   ]
  },
  {
   "cell_type": "code",
   "execution_count": 289,
   "metadata": {},
   "outputs": [
    {
     "data": {
      "text/plain": [
       "0"
      ]
     },
     "execution_count": 289,
     "metadata": {},
     "output_type": "execute_result"
    }
   ],
   "source": [
    "channels_videos_page_df['views_days'].isna().sum()"
   ]
  },
  {
   "cell_type": "code",
   "execution_count": 290,
   "metadata": {},
   "outputs": [],
   "source": [
    "channels_videos_page_df['views_days'] = channels_videos_page_df['views_days'].str.replace('No', '0')\n",
    "channels_videos_page_df['views_days'] = channels_videos_page_df['views_days'].str.replace('views', 'view')"
   ]
  },
  {
   "cell_type": "code",
   "execution_count": 291,
   "metadata": {},
   "outputs": [],
   "source": [
    "channels_videos_page_df['views_video'] = channels_videos_page_df['views_days'].apply(lambda string: (re.sub('[^0-9]+', '', string)))"
   ]
  },
  {
   "cell_type": "code",
   "execution_count": 303,
   "metadata": {},
   "outputs": [],
   "source": [
    "channels_videos_page_df['views_video']=pd.to_numeric(channels_videos_page_df['views_video'], errors = 'coerce')"
   ]
  },
  {
   "cell_type": "code",
   "execution_count": 292,
   "metadata": {},
   "outputs": [],
   "source": [
    "channels_videos_page_df['video_age'] = channels_videos_page_df['views_days'].apply(lambda string: re.sub('([0-9]+,[0-9]+ view)|([0-9]+ view)', '', string).replace(' ago', ''))"
   ]
  },
  {
   "cell_type": "code",
   "execution_count": 293,
   "metadata": {},
   "outputs": [],
   "source": [
    "channels_videos_page_df['video_age'] = channels_videos_page_df['video_age'].apply(lambda string: (re.sub('s', '', string)))\n",
    "channels_videos_page_df['video_age'] = channels_videos_page_df['video_age'].apply(lambda string: (re.sub(',', '.', string)))"
   ]
  },
  {
   "cell_type": "code",
   "execution_count": 294,
   "metadata": {},
   "outputs": [
    {
     "data": {
      "text/plain": [
       "array(['4 day', '1 day', '7 month', '6 year', '3 day', '14 hour',\n",
       "       '2 year', '5 year', '12 hour', '2 week', '1 year', '3 week',\n",
       "       '1 hour', '5 day', '1 week', '4 hour', '9 month', '2 day',\n",
       "       '2 month', '23 hour', '1 month', '8 month', '3 year', '6 day',\n",
       "       '32 minute', '11 hour', '3 month', 'Start:', '4 year', '3 hour',\n",
       "       '1.6 year', '19 hour', '6 hour', '6 month', '22 hour', '9 minute',\n",
       "       '5 month', '2 hour', '8 hour', '7 hour', '4 week', '18 hour',\n",
       "       '10 hour', '9 hour', '56 minute', '26 minute', '10 month',\n",
       "       '16 hour', '7 minute', '4 month', '15 hour', '11 month',\n",
       "       '28 minute', '20 hour', '5 hour', '21 hour', '17 hour', '1.4 year',\n",
       "       '3.2 year', '5.1 year', '11.3 year', '13 hour', '39 minute',\n",
       "       '22.1 year', '8.3 year', '7 year', '26.1 year', '1.2 month',\n",
       "       '1.3 year', '27.5 year', '6.3 year', '2.1 year', '1.2 year',\n",
       "       '6.1 year', '15.3 year', '13.3 year', '8 year', '4.6 year',\n",
       "       '8.4 year', '1.8 year', '3.3 year', '1.5 year', '14.5 year',\n",
       "       '5.2 month', '9 year', '4.5 year', '1.4 month', '10 year',\n",
       "       '1.1 month', '2.5 month', '11 year', '2.1 month', '2.3 month',\n",
       "       '1.6 month', '3.4 year', '3.6 month', '2.4 year', '6.7 month',\n",
       "       '1.7 month', '1.3 month', '4.5 month', '1.8 month', '2.5 year',\n",
       "       '5.8 year'], dtype=object)"
      ]
     },
     "execution_count": 294,
     "metadata": {},
     "output_type": "execute_result"
    }
   ],
   "source": [
    "channels_videos_page_df['video_age'].unique()"
   ]
  },
  {
   "cell_type": "code",
   "execution_count": 295,
   "metadata": {},
   "outputs": [],
   "source": [
    "def video_age_to_min(age):\n",
    "    if 'minute' in age:\n",
    "        video_age = float(age.replace('minute',''))\n",
    "    elif 'hour' in age:\n",
    "        video_age = float(age.replace('hour','')) * 60\n",
    "    elif 'day' in age:\n",
    "        video_age = float(age.replace('day','')) * 60 * 24\n",
    "    elif 'month' in age:\n",
    "        video_age = float(age.replace('month','')) * 60 * 24 * 30\n",
    "    elif 'year' in age:\n",
    "        video_age = float(age.replace('year','')) * 60 * 24 * 30 * 365\n",
    "    else:\n",
    "        video_age = 0.0\n",
    "    return video_age"
   ]
  },
  {
   "cell_type": "code",
   "execution_count": 296,
   "metadata": {},
   "outputs": [],
   "source": [
    "channels_videos_page_df['video_age_min'] = channels_videos_page_df['video_age'].apply(video_age_to_min)"
   ]
  },
  {
   "cell_type": "markdown",
   "metadata": {},
   "source": [
    "Miscellaneous"
   ]
  },
  {
   "cell_type": "code",
   "execution_count": 309,
   "metadata": {},
   "outputs": [],
   "source": [
    "channels_videos_page_df['video_order_num']=pd.to_numeric(channels_videos_page_df['video_order_num'], errors = 'coerce')"
   ]
  },
  {
   "cell_type": "code",
   "execution_count": 297,
   "metadata": {},
   "outputs": [
    {
     "data": {
      "text/plain": [
       "0"
      ]
     },
     "execution_count": 297,
     "metadata": {},
     "output_type": "execute_result"
    }
   ],
   "source": [
    "channels_videos_page_df['video_age_min'].isna().sum()"
   ]
  },
  {
   "cell_type": "code",
   "execution_count": 298,
   "metadata": {},
   "outputs": [],
   "source": [
    "channels_videos_page_df = channels_videos_page_df[['channel_URL', \n",
    "                                                   'video_order_num', \n",
    "                                                   'duration', \n",
    "                                                   'title', \n",
    "                                                   'views_video',\n",
    "                                                   'video_age_min']]"
   ]
  },
  {
   "cell_type": "code",
   "execution_count": 300,
   "metadata": {},
   "outputs": [
    {
     "data": {
      "text/plain": [
       "(14656, 6)"
      ]
     },
     "execution_count": 300,
     "metadata": {},
     "output_type": "execute_result"
    }
   ],
   "source": [
    "channels_videos_page_df.shape"
   ]
  },
  {
   "cell_type": "code",
   "execution_count": 304,
   "metadata": {},
   "outputs": [
    {
     "name": "stdout",
     "output_type": "stream",
     "text": [
      "<class 'pandas.core.frame.DataFrame'>\n",
      "Int64Index: 14656 entries, 0 to 17639\n",
      "Data columns (total 6 columns):\n",
      "channel_URL        14656 non-null object\n",
      "video_order_num    14656 non-null object\n",
      "duration           14656 non-null int64\n",
      "title              14656 non-null object\n",
      "views_video        14611 non-null float64\n",
      "video_age_min      14656 non-null float64\n",
      "dtypes: float64(2), int64(1), object(3)\n",
      "memory usage: 801.5+ KB\n"
     ]
    }
   ],
   "source": [
    "channels_videos_page_df.info()"
   ]
  },
  {
   "cell_type": "code",
   "execution_count": 306,
   "metadata": {},
   "outputs": [
    {
     "data": {
      "text/html": [
       "<div>\n",
       "<style scoped>\n",
       "    .dataframe tbody tr th:only-of-type {\n",
       "        vertical-align: middle;\n",
       "    }\n",
       "\n",
       "    .dataframe tbody tr th {\n",
       "        vertical-align: top;\n",
       "    }\n",
       "\n",
       "    .dataframe thead th {\n",
       "        text-align: right;\n",
       "    }\n",
       "</style>\n",
       "<table border=\"1\" class=\"dataframe\">\n",
       "  <thead>\n",
       "    <tr style=\"text-align: right;\">\n",
       "      <th></th>\n",
       "      <th>channel_URL</th>\n",
       "      <th>video_order_num</th>\n",
       "      <th>duration</th>\n",
       "      <th>title</th>\n",
       "      <th>views_video</th>\n",
       "      <th>video_age_min</th>\n",
       "    </tr>\n",
       "  </thead>\n",
       "  <tbody>\n",
       "    <tr>\n",
       "      <td>78</td>\n",
       "      <td>https://www.youtube.com/channel/UCMOuxZneKXsKi...</td>\n",
       "      <td>1</td>\n",
       "      <td>325</td>\n",
       "      <td>Yoga Tutorial For Beginners - Supine Twist wit...</td>\n",
       "      <td>NaN</td>\n",
       "      <td>0.0</td>\n",
       "    </tr>\n",
       "    <tr>\n",
       "      <td>160</td>\n",
       "      <td>https://www.youtube.com/user/yogavedanta</td>\n",
       "      <td>1</td>\n",
       "      <td>4620</td>\n",
       "      <td>Action, renunciation and indifference to objec...</td>\n",
       "      <td>NaN</td>\n",
       "      <td>0.0</td>\n",
       "    </tr>\n",
       "    <tr>\n",
       "      <td>171</td>\n",
       "      <td>https://www.youtube.com/user/AustSchoolMeditation</td>\n",
       "      <td>1</td>\n",
       "      <td>1620</td>\n",
       "      <td>Energising Morning Meditation with Vrindavan d...</td>\n",
       "      <td>NaN</td>\n",
       "      <td>0.0</td>\n",
       "    </tr>\n",
       "    <tr>\n",
       "      <td>465</td>\n",
       "      <td>https://www.youtube.com/user/YogaVidyaVortrag</td>\n",
       "      <td>1</td>\n",
       "      <td>411</td>\n",
       "      <td>Shankaracharyas Lehren - Sukadev | Vedanta | M...</td>\n",
       "      <td>NaN</td>\n",
       "      <td>0.0</td>\n",
       "    </tr>\n",
       "    <tr>\n",
       "      <td>748</td>\n",
       "      <td>https://www.youtube.com/user/yogavedanta</td>\n",
       "      <td>2</td>\n",
       "      <td>5160</td>\n",
       "      <td>Devotion and dharma - James Swartz - Yoga of L...</td>\n",
       "      <td>NaN</td>\n",
       "      <td>0.0</td>\n",
       "    </tr>\n",
       "  </tbody>\n",
       "</table>\n",
       "</div>"
      ],
      "text/plain": [
       "                                           channel_URL video_order_num  \\\n",
       "78   https://www.youtube.com/channel/UCMOuxZneKXsKi...               1   \n",
       "160           https://www.youtube.com/user/yogavedanta               1   \n",
       "171  https://www.youtube.com/user/AustSchoolMeditation               1   \n",
       "465      https://www.youtube.com/user/YogaVidyaVortrag               1   \n",
       "748           https://www.youtube.com/user/yogavedanta               2   \n",
       "\n",
       "     duration                                              title  views_video  \\\n",
       "78        325  Yoga Tutorial For Beginners - Supine Twist wit...          NaN   \n",
       "160      4620  Action, renunciation and indifference to objec...          NaN   \n",
       "171      1620  Energising Morning Meditation with Vrindavan d...          NaN   \n",
       "465       411  Shankaracharyas Lehren - Sukadev | Vedanta | M...          NaN   \n",
       "748      5160  Devotion and dharma - James Swartz - Yoga of L...          NaN   \n",
       "\n",
       "     video_age_min  \n",
       "78             0.0  \n",
       "160            0.0  \n",
       "171            0.0  \n",
       "465            0.0  \n",
       "748            0.0  "
      ]
     },
     "execution_count": 306,
     "metadata": {},
     "output_type": "execute_result"
    }
   ],
   "source": [
    "#NaNs are premieres, remove those.\n",
    "channels_videos_page_df[channels_videos_page_df['views_video'].isna()].head()"
   ]
  },
  {
   "cell_type": "code",
   "execution_count": 307,
   "metadata": {},
   "outputs": [],
   "source": [
    "channels_videos_page_df = channels_videos_page_df[channels_videos_page_df['views_video'].notna()]"
   ]
  },
  {
   "cell_type": "code",
   "execution_count": 310,
   "metadata": {},
   "outputs": [
    {
     "name": "stdout",
     "output_type": "stream",
     "text": [
      "<class 'pandas.core.frame.DataFrame'>\n",
      "Int64Index: 14611 entries, 0 to 17639\n",
      "Data columns (total 6 columns):\n",
      "channel_URL        14611 non-null object\n",
      "video_order_num    14611 non-null int64\n",
      "duration           14611 non-null int64\n",
      "title              14611 non-null object\n",
      "views_video        14611 non-null float64\n",
      "video_age_min      14611 non-null float64\n",
      "dtypes: float64(2), int64(2), object(2)\n",
      "memory usage: 799.0+ KB\n"
     ]
    }
   ],
   "source": [
    "channels_videos_page_df.info()"
   ]
  },
  {
   "cell_type": "code",
   "execution_count": 311,
   "metadata": {},
   "outputs": [
    {
     "data": {
      "text/html": [
       "<div>\n",
       "<style scoped>\n",
       "    .dataframe tbody tr th:only-of-type {\n",
       "        vertical-align: middle;\n",
       "    }\n",
       "\n",
       "    .dataframe tbody tr th {\n",
       "        vertical-align: top;\n",
       "    }\n",
       "\n",
       "    .dataframe thead th {\n",
       "        text-align: right;\n",
       "    }\n",
       "</style>\n",
       "<table border=\"1\" class=\"dataframe\">\n",
       "  <thead>\n",
       "    <tr style=\"text-align: right;\">\n",
       "      <th></th>\n",
       "      <th>channel_URL</th>\n",
       "      <th>video_order_num</th>\n",
       "      <th>duration</th>\n",
       "      <th>title</th>\n",
       "      <th>views_video</th>\n",
       "      <th>video_age_min</th>\n",
       "    </tr>\n",
       "  </thead>\n",
       "  <tbody>\n",
       "    <tr>\n",
       "      <td>0</td>\n",
       "      <td>https://www.youtube.com/user/yogawithadriene</td>\n",
       "      <td>1</td>\n",
       "      <td>2100</td>\n",
       "      <td>Yoga for Vulnerability  |  Move #withme  |  Yo...</td>\n",
       "      <td>3440914.0</td>\n",
       "      <td>5760.0</td>\n",
       "    </tr>\n",
       "    <tr>\n",
       "      <td>1</td>\n",
       "      <td>https://www.youtube.com/channel/UCahoXO8yh6mqJ...</td>\n",
       "      <td>1</td>\n",
       "      <td>2040</td>\n",
       "      <td>30 Min Yoga Flow: Cleanse Your Sacral Chakra |...</td>\n",
       "      <td>25491.0</td>\n",
       "      <td>1440.0</td>\n",
       "    </tr>\n",
       "    <tr>\n",
       "      <td>2</td>\n",
       "      <td>https://www.youtube.com/channel/UCLevFC-tyOhyy...</td>\n",
       "      <td>1</td>\n",
       "      <td>761</td>\n",
       "      <td>Hip Mobility Class l Lizette Pompa Yoga</td>\n",
       "      <td>29437.0</td>\n",
       "      <td>302400.0</td>\n",
       "    </tr>\n",
       "  </tbody>\n",
       "</table>\n",
       "</div>"
      ],
      "text/plain": [
       "                                         channel_URL  video_order_num  \\\n",
       "0       https://www.youtube.com/user/yogawithadriene                1   \n",
       "1  https://www.youtube.com/channel/UCahoXO8yh6mqJ...                1   \n",
       "2  https://www.youtube.com/channel/UCLevFC-tyOhyy...                1   \n",
       "\n",
       "   duration                                              title  views_video  \\\n",
       "0      2100  Yoga for Vulnerability  |  Move #withme  |  Yo...    3440914.0   \n",
       "1      2040  30 Min Yoga Flow: Cleanse Your Sacral Chakra |...      25491.0   \n",
       "2       761            Hip Mobility Class l Lizette Pompa Yoga      29437.0   \n",
       "\n",
       "   video_age_min  \n",
       "0         5760.0  \n",
       "1         1440.0  \n",
       "2       302400.0  "
      ]
     },
     "execution_count": 311,
     "metadata": {},
     "output_type": "execute_result"
    }
   ],
   "source": [
    "channels_videos_page_df.head(3)"
   ]
  },
  {
   "cell_type": "markdown",
   "metadata": {},
   "source": [
    "## Cleaning channels_about_df"
   ]
  },
  {
   "cell_type": "code",
   "execution_count": 346,
   "metadata": {},
   "outputs": [
    {
     "data": {
      "text/html": [
       "<div>\n",
       "<style scoped>\n",
       "    .dataframe tbody tr th:only-of-type {\n",
       "        vertical-align: middle;\n",
       "    }\n",
       "\n",
       "    .dataframe tbody tr th {\n",
       "        vertical-align: top;\n",
       "    }\n",
       "\n",
       "    .dataframe thead th {\n",
       "        text-align: right;\n",
       "    }\n",
       "</style>\n",
       "<table border=\"1\" class=\"dataframe\">\n",
       "  <thead>\n",
       "    <tr style=\"text-align: right;\">\n",
       "      <th></th>\n",
       "      <th>channel_URL</th>\n",
       "      <th>channel_name</th>\n",
       "      <th>subscriber_count</th>\n",
       "      <th>total_views_channel</th>\n",
       "      <th>channel_created_date</th>\n",
       "      <th>n_featured_channels</th>\n",
       "      <th>n_promo_links</th>\n",
       "      <th>channel_desc_length</th>\n",
       "      <th>channel_desc</th>\n",
       "    </tr>\n",
       "  </thead>\n",
       "  <tbody>\n",
       "    <tr>\n",
       "      <td>0</td>\n",
       "      <td>https://www.youtube.com/user/yogawithadriene</td>\n",
       "      <td>YogaWithAdriene.com</td>\n",
       "      <td>6800000.0</td>\n",
       "      <td>557831762</td>\n",
       "      <td>2012-08-30</td>\n",
       "      <td>3</td>\n",
       "      <td>10</td>\n",
       "      <td>946</td>\n",
       "      <td>WELCOME to Yoga With Adriene! Our mission is t...</td>\n",
       "    </tr>\n",
       "    <tr>\n",
       "      <td>1</td>\n",
       "      <td>https://www.youtube.com/user/CorePowerYoga</td>\n",
       "      <td>corepoweryoga.com</td>\n",
       "      <td>17200.0</td>\n",
       "      <td>452439</td>\n",
       "      <td>2008-09-16</td>\n",
       "      <td>0</td>\n",
       "      <td>10</td>\n",
       "      <td>241</td>\n",
       "      <td>Stream a live class or access our library of 2...</td>\n",
       "    </tr>\n",
       "    <tr>\n",
       "      <td>2</td>\n",
       "      <td>https://www.youtube.com/channel/UCE92Hzq1rGv3d...</td>\n",
       "      <td>Free Online Resource Library</td>\n",
       "      <td>1180.0</td>\n",
       "      <td>94978</td>\n",
       "      <td>2014-05-27</td>\n",
       "      <td>0</td>\n",
       "      <td>10</td>\n",
       "      <td>420</td>\n",
       "      <td>Ally Boothroyd is a Kripalu Yoga Teacher, yoga...</td>\n",
       "    </tr>\n",
       "  </tbody>\n",
       "</table>\n",
       "</div>"
      ],
      "text/plain": [
       "                                         channel_URL  \\\n",
       "0       https://www.youtube.com/user/yogawithadriene   \n",
       "1         https://www.youtube.com/user/CorePowerYoga   \n",
       "2  https://www.youtube.com/channel/UCE92Hzq1rGv3d...   \n",
       "\n",
       "                   channel_name  subscriber_count  total_views_channel  \\\n",
       "0           YogaWithAdriene.com         6800000.0            557831762   \n",
       "1             corepoweryoga.com           17200.0               452439   \n",
       "2  Free Online Resource Library            1180.0                94978   \n",
       "\n",
       "  channel_created_date  n_featured_channels  n_promo_links  \\\n",
       "0           2012-08-30                    3             10   \n",
       "1           2008-09-16                    0             10   \n",
       "2           2014-05-27                    0             10   \n",
       "\n",
       "   channel_desc_length                                       channel_desc  \n",
       "0                  946  WELCOME to Yoga With Adriene! Our mission is t...  \n",
       "1                  241  Stream a live class or access our library of 2...  \n",
       "2                  420  Ally Boothroyd is a Kripalu Yoga Teacher, yoga...  "
      ]
     },
     "execution_count": 346,
     "metadata": {},
     "output_type": "execute_result"
    }
   ],
   "source": [
    "channels_about_df.head(3)"
   ]
  },
  {
   "cell_type": "code",
   "execution_count": 313,
   "metadata": {},
   "outputs": [],
   "source": [
    "channels_about_df = channels_about_df.reset_index()"
   ]
  },
  {
   "cell_type": "code",
   "execution_count": 315,
   "metadata": {},
   "outputs": [
    {
     "data": {
      "text/plain": [
       "Index(['index', 'name', 'subscriber_count', 'total_views', 'joined_date',\n",
       "       'n_featured_channels', 'n_links', 'description_length', 'description'],\n",
       "      dtype='object')"
      ]
     },
     "execution_count": 315,
     "metadata": {},
     "output_type": "execute_result"
    }
   ],
   "source": [
    "channels_about_df.columns"
   ]
  },
  {
   "cell_type": "code",
   "execution_count": 322,
   "metadata": {},
   "outputs": [],
   "source": [
    "channels_about_df.rename(columns = {'index':'channel_URL', \n",
    "                                          'name':'channel_name', \n",
    "                                          'total_views': 'total_views_channel', \n",
    "                                          'joined_date':'channel_created_date', \n",
    "                                          'n_links':'n_promo_links', \n",
    "                                          'description_length':'channel_desc_length', \n",
    "                                          'description': 'channel_desc'}, inplace=True)"
   ]
  },
  {
   "cell_type": "markdown",
   "metadata": {},
   "source": [
    "Cleaning Subscriber Count"
   ]
  },
  {
   "cell_type": "code",
   "execution_count": 324,
   "metadata": {},
   "outputs": [
    {
     "data": {
      "text/plain": [
       "0"
      ]
     },
     "execution_count": 324,
     "metadata": {},
     "output_type": "execute_result"
    }
   ],
   "source": [
    "channels_about_df['subscriber_count'].isna().sum()"
   ]
  },
  {
   "cell_type": "code",
   "execution_count": 325,
   "metadata": {},
   "outputs": [],
   "source": [
    "def strval_to_float(subscriber_count):\n",
    "    if type(subscriber_count) == float or type(subscriber_count) == int:\n",
    "        sc = subscriber_count\n",
    "    elif 'K' in subscriber_count:\n",
    "        sc = float(subscriber_count.replace('K',''))*1000\n",
    "    elif 'M' in subscriber_count:\n",
    "        sc = float(subscriber_count.replace('M',''))*1000000\n",
    "    else:\n",
    "        sc = 0.0\n",
    "    return sc"
   ]
  },
  {
   "cell_type": "code",
   "execution_count": 326,
   "metadata": {},
   "outputs": [],
   "source": [
    "channels_about_df['subscriber_count'] = channels_about_df['subscriber_count'].apply(lambda string: (strval_to_float(string)))"
   ]
  },
  {
   "cell_type": "markdown",
   "metadata": {},
   "source": [
    "Cleaning Total Views by Channel"
   ]
  },
  {
   "cell_type": "code",
   "execution_count": 333,
   "metadata": {},
   "outputs": [
    {
     "data": {
      "text/plain": [
       "0"
      ]
     },
     "execution_count": 333,
     "metadata": {},
     "output_type": "execute_result"
    }
   ],
   "source": [
    "channels_about_df['total_views_channel'].isna().sum()"
   ]
  },
  {
   "cell_type": "code",
   "execution_count": 331,
   "metadata": {},
   "outputs": [],
   "source": [
    "channels_about_df['total_views_channel'] = channels_about_df['total_views_channel'].str.replace(',', '')"
   ]
  },
  {
   "cell_type": "code",
   "execution_count": 332,
   "metadata": {},
   "outputs": [],
   "source": [
    "channels_about_df['total_views_channel'] = pd.to_numeric(channels_about_df['total_views_channel'], errors = 'coerce')"
   ]
  },
  {
   "cell_type": "markdown",
   "metadata": {},
   "source": [
    "Cleaning Channel Created Date"
   ]
  },
  {
   "cell_type": "code",
   "execution_count": 341,
   "metadata": {},
   "outputs": [
    {
     "data": {
      "text/plain": [
       "0"
      ]
     },
     "execution_count": 341,
     "metadata": {},
     "output_type": "execute_result"
    }
   ],
   "source": [
    "channels_about_df['channel_created_date'].isna().sum()"
   ]
  },
  {
   "cell_type": "code",
   "execution_count": 336,
   "metadata": {},
   "outputs": [],
   "source": [
    "channels_about_df['channel_created_date'] = channels_about_df['channel_created_date'].str.replace('Joined ', '')"
   ]
  },
  {
   "cell_type": "code",
   "execution_count": 340,
   "metadata": {},
   "outputs": [],
   "source": [
    "channels_about_df['channel_created_date'] = pd.to_datetime(channels_about_df['channel_created_date'])"
   ]
  },
  {
   "cell_type": "markdown",
   "metadata": {},
   "source": [
    "Miscellaneous"
   ]
  },
  {
   "cell_type": "code",
   "execution_count": 345,
   "metadata": {},
   "outputs": [
    {
     "name": "stdout",
     "output_type": "stream",
     "text": [
      "<class 'pandas.core.frame.DataFrame'>\n",
      "RangeIndex: 367 entries, 0 to 366\n",
      "Data columns (total 9 columns):\n",
      "channel_URL             367 non-null object\n",
      "channel_name            367 non-null object\n",
      "subscriber_count        367 non-null float64\n",
      "total_views_channel     367 non-null int64\n",
      "channel_created_date    367 non-null datetime64[ns]\n",
      "n_featured_channels     367 non-null int64\n",
      "n_promo_links           367 non-null int64\n",
      "channel_desc_length     367 non-null int64\n",
      "channel_desc            367 non-null object\n",
      "dtypes: datetime64[ns](1), float64(1), int64(4), object(3)\n",
      "memory usage: 25.9+ KB\n"
     ]
    }
   ],
   "source": [
    "channels_about_df.info()"
   ]
  },
  {
   "cell_type": "code",
   "execution_count": 344,
   "metadata": {},
   "outputs": [],
   "source": [
    "channels_about_df['channel_desc_length']=pd.to_numeric(channels_about_df['channel_desc_length'], errors = 'coerce')\n",
    "channels_about_df['n_promo_links']=pd.to_numeric(channels_about_df['n_promo_links'], errors = 'coerce')\n",
    "channels_about_df['n_featured_channels']=pd.to_numeric(channels_about_df['n_featured_channels'], errors = 'coerce')"
   ]
  },
  {
   "cell_type": "code",
   "execution_count": 347,
   "metadata": {},
   "outputs": [
    {
     "data": {
      "text/html": [
       "<div>\n",
       "<style scoped>\n",
       "    .dataframe tbody tr th:only-of-type {\n",
       "        vertical-align: middle;\n",
       "    }\n",
       "\n",
       "    .dataframe tbody tr th {\n",
       "        vertical-align: top;\n",
       "    }\n",
       "\n",
       "    .dataframe thead th {\n",
       "        text-align: right;\n",
       "    }\n",
       "</style>\n",
       "<table border=\"1\" class=\"dataframe\">\n",
       "  <thead>\n",
       "    <tr style=\"text-align: right;\">\n",
       "      <th></th>\n",
       "      <th>channel_URL</th>\n",
       "      <th>channel_name</th>\n",
       "      <th>subscriber_count</th>\n",
       "      <th>total_views_channel</th>\n",
       "      <th>channel_created_date</th>\n",
       "      <th>n_featured_channels</th>\n",
       "      <th>n_promo_links</th>\n",
       "      <th>channel_desc_length</th>\n",
       "      <th>channel_desc</th>\n",
       "    </tr>\n",
       "  </thead>\n",
       "  <tbody>\n",
       "    <tr>\n",
       "      <td>0</td>\n",
       "      <td>https://www.youtube.com/user/yogawithadriene</td>\n",
       "      <td>YogaWithAdriene.com</td>\n",
       "      <td>6800000.0</td>\n",
       "      <td>557831762</td>\n",
       "      <td>2012-08-30</td>\n",
       "      <td>3</td>\n",
       "      <td>10</td>\n",
       "      <td>946</td>\n",
       "      <td>WELCOME to Yoga With Adriene! Our mission is t...</td>\n",
       "    </tr>\n",
       "    <tr>\n",
       "      <td>1</td>\n",
       "      <td>https://www.youtube.com/user/CorePowerYoga</td>\n",
       "      <td>corepoweryoga.com</td>\n",
       "      <td>17200.0</td>\n",
       "      <td>452439</td>\n",
       "      <td>2008-09-16</td>\n",
       "      <td>0</td>\n",
       "      <td>10</td>\n",
       "      <td>241</td>\n",
       "      <td>Stream a live class or access our library of 2...</td>\n",
       "    </tr>\n",
       "    <tr>\n",
       "      <td>2</td>\n",
       "      <td>https://www.youtube.com/channel/UCE92Hzq1rGv3d...</td>\n",
       "      <td>Free Online Resource Library</td>\n",
       "      <td>1180.0</td>\n",
       "      <td>94978</td>\n",
       "      <td>2014-05-27</td>\n",
       "      <td>0</td>\n",
       "      <td>10</td>\n",
       "      <td>420</td>\n",
       "      <td>Ally Boothroyd is a Kripalu Yoga Teacher, yoga...</td>\n",
       "    </tr>\n",
       "  </tbody>\n",
       "</table>\n",
       "</div>"
      ],
      "text/plain": [
       "                                         channel_URL  \\\n",
       "0       https://www.youtube.com/user/yogawithadriene   \n",
       "1         https://www.youtube.com/user/CorePowerYoga   \n",
       "2  https://www.youtube.com/channel/UCE92Hzq1rGv3d...   \n",
       "\n",
       "                   channel_name  subscriber_count  total_views_channel  \\\n",
       "0           YogaWithAdriene.com         6800000.0            557831762   \n",
       "1             corepoweryoga.com           17200.0               452439   \n",
       "2  Free Online Resource Library            1180.0                94978   \n",
       "\n",
       "  channel_created_date  n_featured_channels  n_promo_links  \\\n",
       "0           2012-08-30                    3             10   \n",
       "1           2008-09-16                    0             10   \n",
       "2           2014-05-27                    0             10   \n",
       "\n",
       "   channel_desc_length                                       channel_desc  \n",
       "0                  946  WELCOME to Yoga With Adriene! Our mission is t...  \n",
       "1                  241  Stream a live class or access our library of 2...  \n",
       "2                  420  Ally Boothroyd is a Kripalu Yoga Teacher, yoga...  "
      ]
     },
     "execution_count": 347,
     "metadata": {},
     "output_type": "execute_result"
    }
   ],
   "source": [
    "channels_about_df.head(3)"
   ]
  },
  {
   "cell_type": "code",
   "execution_count": null,
   "metadata": {},
   "outputs": [],
   "source": []
  },
  {
   "cell_type": "markdown",
   "metadata": {},
   "source": [
    "## Cleaning videos_info_df"
   ]
  },
  {
   "cell_type": "code",
   "execution_count": 400,
   "metadata": {},
   "outputs": [],
   "source": [
    "videos_info_df = pd.DataFrame.from_dict(videos_info).T"
   ]
  },
  {
   "cell_type": "code",
   "execution_count": 401,
   "metadata": {},
   "outputs": [
    {
     "data": {
      "text/html": [
       "<div>\n",
       "<style scoped>\n",
       "    .dataframe tbody tr th:only-of-type {\n",
       "        vertical-align: middle;\n",
       "    }\n",
       "\n",
       "    .dataframe tbody tr th {\n",
       "        vertical-align: top;\n",
       "    }\n",
       "\n",
       "    .dataframe thead th {\n",
       "        text-align: right;\n",
       "    }\n",
       "</style>\n",
       "<table border=\"1\" class=\"dataframe\">\n",
       "  <thead>\n",
       "    <tr style=\"text-align: right;\">\n",
       "      <th></th>\n",
       "      <th></th>\n",
       "      <th>Title</th>\n",
       "      <th>Views</th>\n",
       "      <th>Description</th>\n",
       "      <th>Publication Date</th>\n",
       "      <th>Likes</th>\n",
       "      <th>Dislikes</th>\n",
       "    </tr>\n",
       "  </thead>\n",
       "  <tbody>\n",
       "    <tr>\n",
       "      <td rowspan=\"3\" valign=\"top\">https://www.youtube.com/user/VideoJug</td>\n",
       "      <td>A0GC4z60TPE</td>\n",
       "      <td>Ben &amp; Jimmy's Guide To London: First Impressions</td>\n",
       "      <td>2015</td>\n",
       "      <td>In honour of YouTube Comedy Week we've launche...</td>\n",
       "      <td>Published on May 22, 2013</td>\n",
       "      <td>20</td>\n",
       "      <td>4</td>\n",
       "    </tr>\n",
       "    <tr>\n",
       "      <td>8hHj27QazIQ</td>\n",
       "      <td>Ben &amp; Jimmy's Guide To London: Londoners E1/3</td>\n",
       "      <td>1534</td>\n",
       "      <td>This week is YouTube Comedy Week, so we are br...</td>\n",
       "      <td>Published on May 20, 2013</td>\n",
       "      <td>19</td>\n",
       "      <td>4</td>\n",
       "    </tr>\n",
       "    <tr>\n",
       "      <td>3RifUHkAon0</td>\n",
       "      <td>Tyra Banks Makeup - Models' Corner</td>\n",
       "      <td>3128</td>\n",
       "      <td>Tyra Banks always has defined cheekbones and s...</td>\n",
       "      <td>Published on May 16, 2013</td>\n",
       "      <td>52</td>\n",
       "      <td>4</td>\n",
       "    </tr>\n",
       "  </tbody>\n",
       "</table>\n",
       "</div>"
      ],
      "text/plain": [
       "                                                                                              Title  \\\n",
       "https://www.youtube.com/user/VideoJug A0GC4z60TPE  Ben & Jimmy's Guide To London: First Impressions   \n",
       "                                      8hHj27QazIQ     Ben & Jimmy's Guide To London: Londoners E1/3   \n",
       "                                      3RifUHkAon0                Tyra Banks Makeup - Models' Corner   \n",
       "\n",
       "                                                  Views  \\\n",
       "https://www.youtube.com/user/VideoJug A0GC4z60TPE  2015   \n",
       "                                      8hHj27QazIQ  1534   \n",
       "                                      3RifUHkAon0  3128   \n",
       "\n",
       "                                                                                         Description  \\\n",
       "https://www.youtube.com/user/VideoJug A0GC4z60TPE  In honour of YouTube Comedy Week we've launche...   \n",
       "                                      8hHj27QazIQ  This week is YouTube Comedy Week, so we are br...   \n",
       "                                      3RifUHkAon0  Tyra Banks always has defined cheekbones and s...   \n",
       "\n",
       "                                                            Publication Date  \\\n",
       "https://www.youtube.com/user/VideoJug A0GC4z60TPE  Published on May 22, 2013   \n",
       "                                      8hHj27QazIQ  Published on May 20, 2013   \n",
       "                                      3RifUHkAon0  Published on May 16, 2013   \n",
       "\n",
       "                                                  Likes Dislikes  \n",
       "https://www.youtube.com/user/VideoJug A0GC4z60TPE    20        4  \n",
       "                                      8hHj27QazIQ    19        4  \n",
       "                                      3RifUHkAon0    52        4  "
      ]
     },
     "execution_count": 401,
     "metadata": {},
     "output_type": "execute_result"
    }
   ],
   "source": [
    "videos_info_df.tail(3)"
   ]
  },
  {
   "cell_type": "code",
   "execution_count": 402,
   "metadata": {},
   "outputs": [],
   "source": [
    "videos_info_df = videos_info_df.reset_index()"
   ]
  },
  {
   "cell_type": "code",
   "execution_count": 403,
   "metadata": {},
   "outputs": [
    {
     "data": {
      "text/plain": [
       "Index(['level_0', 'level_1', 'Title', 'Views', 'Description',\n",
       "       'Publication Date', 'Likes', 'Dislikes'],\n",
       "      dtype='object')"
      ]
     },
     "execution_count": 403,
     "metadata": {},
     "output_type": "execute_result"
    }
   ],
   "source": [
    "videos_info_df.columns"
   ]
  },
  {
   "cell_type": "code",
   "execution_count": 404,
   "metadata": {},
   "outputs": [],
   "source": [
    "videos_info_df = videos_info_df[['level_0', 'level_1', 'Title', 'Views', 'Description', 'Publication Date', 'Likes', 'Dislikes']]\n",
    "videos_info_df.rename(columns = {'level_0':'channel_URL', \n",
    "                                 'level_1':'video_URL_ext', \n",
    "                                 'Title':'title', \n",
    "                                 'Views':'views_DUPL', \n",
    "                                 'Description':'video_desc', \n",
    "                                 'Likes':'likes', \n",
    "                                 'Dislikes':'dislikes', 'Publication Date': 'video_published_date'}, inplace=True)"
   ]
  },
  {
   "cell_type": "code",
   "execution_count": 405,
   "metadata": {},
   "outputs": [
    {
     "name": "stdout",
     "output_type": "stream",
     "text": [
      "<class 'pandas.core.frame.DataFrame'>\n",
      "RangeIndex: 9399 entries, 0 to 9398\n",
      "Data columns (total 8 columns):\n",
      "channel_URL             9399 non-null object\n",
      "video_URL_ext           9399 non-null object\n",
      "title                   9399 non-null object\n",
      "views_DUPL              9399 non-null object\n",
      "video_desc              9399 non-null object\n",
      "video_published_date    9399 non-null object\n",
      "likes                   9399 non-null object\n",
      "dislikes                9399 non-null object\n",
      "dtypes: object(8)\n",
      "memory usage: 587.6+ KB\n"
     ]
    }
   ],
   "source": [
    "videos_info_df.info()"
   ]
  },
  {
   "cell_type": "code",
   "execution_count": 406,
   "metadata": {},
   "outputs": [],
   "source": [
    "videos_info_df['video_desc_length'] = videos_info_df['video_desc'].apply(len)"
   ]
  },
  {
   "cell_type": "markdown",
   "metadata": {},
   "source": [
    "Cleaning Video Published Date"
   ]
  },
  {
   "cell_type": "code",
   "execution_count": 421,
   "metadata": {},
   "outputs": [],
   "source": [
    "videos_info_df['video_published_date'] = videos_info_df['video_published_date'].str.replace('Streamed live .+ ago', 'Streamed live on Apr 9, 2020')"
   ]
  },
  {
   "cell_type": "code",
   "execution_count": 415,
   "metadata": {},
   "outputs": [],
   "source": [
    "pattern = re.compile(\"Published|Premiered|Streamed live\")\n",
    "#pattern1 = re.compile(r'Premiered')\n",
    "videos_info_df['delivery method'] = videos_info_df['video_published_date'].apply(lambda string: str(pattern.findall(string)))"
   ]
  },
  {
   "cell_type": "code",
   "execution_count": 416,
   "metadata": {},
   "outputs": [
    {
     "data": {
      "text/plain": [
       "array([\"['Published']\", \"['Streamed live']\", \"['Premiered']\"],\n",
       "      dtype=object)"
      ]
     },
     "execution_count": 416,
     "metadata": {},
     "output_type": "execute_result"
    }
   ],
   "source": [
    "#891 live, not published\n",
    "videos_info_df['delivery method'].unique()"
   ]
  },
  {
   "cell_type": "code",
   "execution_count": null,
   "metadata": {},
   "outputs": [],
   "source": []
  },
  {
   "cell_type": "code",
   "execution_count": null,
   "metadata": {},
   "outputs": [],
   "source": []
  },
  {
   "cell_type": "code",
   "execution_count": 417,
   "metadata": {},
   "outputs": [
    {
     "name": "stdout",
     "output_type": "stream",
     "text": [
      "<class 'pandas.core.frame.DataFrame'>\n",
      "Int64Index: 0 entries\n",
      "Data columns (total 10 columns):\n",
      "channel_URL             0 non-null object\n",
      "video_URL_ext           0 non-null object\n",
      "title                   0 non-null object\n",
      "views_DUPL              0 non-null object\n",
      "video_desc              0 non-null object\n",
      "video_published_date    0 non-null object\n",
      "likes                   0 non-null object\n",
      "dislikes                0 non-null object\n",
      "video_desc_length       0 non-null int64\n",
      "is_published            0 non-null object\n",
      "dtypes: int64(1), object(9)\n",
      "memory usage: 0.0+ bytes\n"
     ]
    }
   ],
   "source": [
    "videos_info_df[videos_info_df['is_published'] == '[]'].info()"
   ]
  },
  {
   "cell_type": "code",
   "execution_count": 422,
   "metadata": {},
   "outputs": [
    {
     "data": {
      "text/html": [
       "<div>\n",
       "<style scoped>\n",
       "    .dataframe tbody tr th:only-of-type {\n",
       "        vertical-align: middle;\n",
       "    }\n",
       "\n",
       "    .dataframe tbody tr th {\n",
       "        vertical-align: top;\n",
       "    }\n",
       "\n",
       "    .dataframe thead th {\n",
       "        text-align: right;\n",
       "    }\n",
       "</style>\n",
       "<table border=\"1\" class=\"dataframe\">\n",
       "  <thead>\n",
       "    <tr style=\"text-align: right;\">\n",
       "      <th></th>\n",
       "      <th>channel_URL</th>\n",
       "      <th>video_URL_ext</th>\n",
       "      <th>title</th>\n",
       "      <th>views_DUPL</th>\n",
       "      <th>video_desc</th>\n",
       "      <th>video_published_date</th>\n",
       "      <th>likes</th>\n",
       "      <th>dislikes</th>\n",
       "      <th>video_desc_length</th>\n",
       "      <th>is_published</th>\n",
       "    </tr>\n",
       "  </thead>\n",
       "  <tbody>\n",
       "    <tr>\n",
       "      <td>8906</td>\n",
       "      <td>https://www.youtube.com/channel/UCEl4J6Zg3tlPu...</td>\n",
       "      <td>Q9mQEIviT7Y</td>\n",
       "      <td>Sivananda Yoga Live class - 29 March 8am</td>\n",
       "      <td>834</td>\n",
       "      <td>@Sivananda Yoga Centre, Gurgaon Continuing an ...</td>\n",
       "      <td>Streamed live on Mar 28, 2020</td>\n",
       "      <td>13</td>\n",
       "      <td>0</td>\n",
       "      <td>792</td>\n",
       "      <td>['Streamed live']</td>\n",
       "    </tr>\n",
       "    <tr>\n",
       "      <td>5906</td>\n",
       "      <td>https://www.youtube.com/user/DrMelissaWest</td>\n",
       "      <td>sy9U_8-wg40</td>\n",
       "      <td>Winter Solstice Restorative Yoga | Yoga with M...</td>\n",
       "      <td>1971</td>\n",
       "      <td>Winter solstice occurs between December 20 and...</td>\n",
       "      <td>Streamed live on Dec 20, 2019</td>\n",
       "      <td>98</td>\n",
       "      <td>0</td>\n",
       "      <td>1095</td>\n",
       "      <td>['Streamed live']</td>\n",
       "    </tr>\n",
       "    <tr>\n",
       "      <td>1509</td>\n",
       "      <td>https://www.youtube.com/channel/UC7a5LhGLCvslZ...</td>\n",
       "      <td>VXQZLtBPCoI</td>\n",
       "      <td>Online Yoga for the Quarantined - Day 4 - Inte...</td>\n",
       "      <td>187</td>\n",
       "      <td>Join me again as I provide you with daily yoga...</td>\n",
       "      <td>Streamed live on Mar 23, 2020</td>\n",
       "      <td>10</td>\n",
       "      <td>0</td>\n",
       "      <td>255</td>\n",
       "      <td>['Streamed live']</td>\n",
       "    </tr>\n",
       "    <tr>\n",
       "      <td>2926</td>\n",
       "      <td>https://www.youtube.com/user/jockestonia</td>\n",
       "      <td>QnogKToi4ZE</td>\n",
       "      <td>Ashtanga Monkey L II day 2 continues</td>\n",
       "      <td>455</td>\n",
       "      <td>http://www.ashtangamonkey.com</td>\n",
       "      <td>Streamed live on Sep 30, 2017</td>\n",
       "      <td>3</td>\n",
       "      <td>0</td>\n",
       "      <td>29</td>\n",
       "      <td>['Streamed live']</td>\n",
       "    </tr>\n",
       "    <tr>\n",
       "      <td>7014</td>\n",
       "      <td>https://www.youtube.com/channel/UC0n6WQ3_PAePX...</td>\n",
       "      <td>syFpUmwZGSM</td>\n",
       "      <td>Day ONE of LIVE Jesus-Centered Yoga!</td>\n",
       "      <td>8338</td>\n",
       "      <td>Welcome to Day ONE of Yoga Week – FOUR DAYS of...</td>\n",
       "      <td>Streamed live on Feb 24, 2020</td>\n",
       "      <td>298</td>\n",
       "      <td>7</td>\n",
       "      <td>1227</td>\n",
       "      <td>['Streamed live']</td>\n",
       "    </tr>\n",
       "    <tr>\n",
       "      <td>8519</td>\n",
       "      <td>https://www.youtube.com/user/yogatic</td>\n",
       "      <td>AFnIYDylLJo</td>\n",
       "      <td>LIVE 31 March 2020 Silver lining - Finding res...</td>\n",
       "      <td>4059</td>\n",
       "      <td>Come join me and our EkhartYoga community from...</td>\n",
       "      <td>Streamed live on Mar 31, 2020</td>\n",
       "      <td>171</td>\n",
       "      <td>3</td>\n",
       "      <td>1984</td>\n",
       "      <td>['Streamed live']</td>\n",
       "    </tr>\n",
       "    <tr>\n",
       "      <td>8518</td>\n",
       "      <td>https://www.youtube.com/user/yogatic</td>\n",
       "      <td>JJMCnOuhtSk</td>\n",
       "      <td>LIVE 1 April 2020 Taking refuge - Finding resi...</td>\n",
       "      <td>3785</td>\n",
       "      <td>Come join me and our EkhartYoga community from...</td>\n",
       "      <td>Streamed live on Apr 1, 2020</td>\n",
       "      <td>187</td>\n",
       "      <td>0</td>\n",
       "      <td>1984</td>\n",
       "      <td>['Streamed live']</td>\n",
       "    </tr>\n",
       "    <tr>\n",
       "      <td>2687</td>\n",
       "      <td>https://www.youtube.com/channel/UCJP1ionI2lIe6...</td>\n",
       "      <td>8gVrffMitII</td>\n",
       "      <td>Healthy Backs Level 1.5</td>\n",
       "      <td>26</td>\n",
       "      <td>Join me for a rejuvenating mix of strength, ba...</td>\n",
       "      <td>Streamed live on Mar 23, 2020</td>\n",
       "      <td>1</td>\n",
       "      <td>0</td>\n",
       "      <td>126</td>\n",
       "      <td>['Streamed live']</td>\n",
       "    </tr>\n",
       "    <tr>\n",
       "      <td>594</td>\n",
       "      <td>https://www.youtube.com/user/yogilou8</td>\n",
       "      <td>l9LaMXA5rnA</td>\n",
       "      <td>SucramYoga for fitness Level 1 &amp; 2</td>\n",
       "      <td>87</td>\n",
       "      <td></td>\n",
       "      <td>Streamed live on Mar 31, 2020</td>\n",
       "      <td>5</td>\n",
       "      <td>0</td>\n",
       "      <td>0</td>\n",
       "      <td>['Streamed live']</td>\n",
       "    </tr>\n",
       "    <tr>\n",
       "      <td>3203</td>\n",
       "      <td>https://www.youtube.com/channel/UC-enqt3oO6foL...</td>\n",
       "      <td>dygp9XC7Tb8</td>\n",
       "      <td>Yoga: les secrets de la longévité.</td>\n",
       "      <td>883</td>\n",
       "      <td>Aujourd'hui, à travers une série de postures s...</td>\n",
       "      <td>Streamed live on Nov 17, 2019</td>\n",
       "      <td>28</td>\n",
       "      <td>1</td>\n",
       "      <td>204</td>\n",
       "      <td>['Streamed live']</td>\n",
       "    </tr>\n",
       "    <tr>\n",
       "      <td>5622</td>\n",
       "      <td>https://www.youtube.com/channel/UCr7TnjWO6GCyo...</td>\n",
       "      <td>OaQ85SOPbOU</td>\n",
       "      <td>Stabilise Gently</td>\n",
       "      <td>194</td>\n",
       "      <td>Join Phoebe for a 30 minute balancing and equa...</td>\n",
       "      <td>Streamed live on Mar 30, 2020</td>\n",
       "      <td>11</td>\n",
       "      <td>0</td>\n",
       "      <td>141</td>\n",
       "      <td>['Streamed live']</td>\n",
       "    </tr>\n",
       "    <tr>\n",
       "      <td>7176</td>\n",
       "      <td>https://www.youtube.com/channel/UCHq45PPPkKogh...</td>\n",
       "      <td>5sfbHNNkJBg</td>\n",
       "      <td>Meditation für jeden Tag Manuel - Den Moment a...</td>\n",
       "      <td>362</td>\n",
       "      <td></td>\n",
       "      <td>Streamed live on Apr 3, 2020</td>\n",
       "      <td>11</td>\n",
       "      <td>0</td>\n",
       "      <td>0</td>\n",
       "      <td>['Streamed live']</td>\n",
       "    </tr>\n",
       "    <tr>\n",
       "      <td>3202</td>\n",
       "      <td>https://www.youtube.com/channel/UC-enqt3oO6foL...</td>\n",
       "      <td>3IZwwhE_8bg</td>\n",
       "      <td>Séance de yoga entière couché sur le dos!</td>\n",
       "      <td>907</td>\n",
       "      <td>Si vous êtes fatigué(e), malade, ou simplement...</td>\n",
       "      <td>Streamed live on Nov 24, 2019</td>\n",
       "      <td>39</td>\n",
       "      <td>2</td>\n",
       "      <td>146</td>\n",
       "      <td>['Streamed live']</td>\n",
       "    </tr>\n",
       "    <tr>\n",
       "      <td>8795</td>\n",
       "      <td>https://www.youtube.com/user/dahnyoga</td>\n",
       "      <td>IFVKAzKoRYg</td>\n",
       "      <td>Guided Meditation #2 for Love | Body &amp; Brain Live</td>\n",
       "      <td>113</td>\n",
       "      <td>Body &amp; Brain is excited to provide FREE, 20-mi...</td>\n",
       "      <td>Streamed live on Apr 9, 2020</td>\n",
       "      <td>11</td>\n",
       "      <td>0</td>\n",
       "      <td>1801</td>\n",
       "      <td>['Streamed live']</td>\n",
       "    </tr>\n",
       "    <tr>\n",
       "      <td>4344</td>\n",
       "      <td>https://www.youtube.com/channel/UC37yMVAa8iFXh...</td>\n",
       "      <td>3fJ7jHD26bA</td>\n",
       "      <td>Yoga for Osteoporosis:  Recorded 4/2/2020</td>\n",
       "      <td>99</td>\n",
       "      <td>Yoga for Osteoporosis and Osteopenia focuses o...</td>\n",
       "      <td>Streamed live on Apr 2, 2020</td>\n",
       "      <td>9</td>\n",
       "      <td>0</td>\n",
       "      <td>447</td>\n",
       "      <td>['Streamed live']</td>\n",
       "    </tr>\n",
       "    <tr>\n",
       "      <td>6281</td>\n",
       "      <td>https://www.youtube.com/channel/UCvV7ez9he51up...</td>\n",
       "      <td>-YB75BAu4rI</td>\n",
       "      <td>Day 1 - 10 Minutes for 10 Days</td>\n",
       "      <td>79</td>\n",
       "      <td></td>\n",
       "      <td>Streamed live on Apr 3, 2020</td>\n",
       "      <td>10</td>\n",
       "      <td>0</td>\n",
       "      <td>0</td>\n",
       "      <td>['Streamed live']</td>\n",
       "    </tr>\n",
       "    <tr>\n",
       "      <td>6760</td>\n",
       "      <td>https://www.youtube.com/user/yogalanbcn</td>\n",
       "      <td>EXw-wFAg_Z8</td>\n",
       "      <td>Yoga en casa en directo | Clase de Vinyasa Int...</td>\n",
       "      <td>126920</td>\n",
       "      <td>❤️ MI NUEVO LIBRO: https://amzn.to/385Zl7d📖 MI...</td>\n",
       "      <td>Streamed live on Mar 26, 2020</td>\n",
       "      <td>3851</td>\n",
       "      <td>56</td>\n",
       "      <td>1423</td>\n",
       "      <td>['Streamed live']</td>\n",
       "    </tr>\n",
       "    <tr>\n",
       "      <td>384</td>\n",
       "      <td>https://www.youtube.com/user/BreatheLosGatos</td>\n",
       "      <td>HRk9aENV2QU</td>\n",
       "      <td>Handstand Workshop with Leslie Germain</td>\n",
       "      <td>181</td>\n",
       "      <td>A 45 min workshop designed to teach you the ti...</td>\n",
       "      <td>Streamed live on Mar 25, 2020</td>\n",
       "      <td>14</td>\n",
       "      <td>0</td>\n",
       "      <td>1258</td>\n",
       "      <td>['Streamed live']</td>\n",
       "    </tr>\n",
       "    <tr>\n",
       "      <td>1510</td>\n",
       "      <td>https://www.youtube.com/channel/UC7a5LhGLCvslZ...</td>\n",
       "      <td>D3zjj8ZX0Ww</td>\n",
       "      <td>Online Yoga for the Quarantined - Day 3 - Gent...</td>\n",
       "      <td>141</td>\n",
       "      <td>If you enjoy the class, feel free to make a do...</td>\n",
       "      <td>Streamed live on Mar 22, 2020</td>\n",
       "      <td>12</td>\n",
       "      <td>0</td>\n",
       "      <td>99</td>\n",
       "      <td>['Streamed live']</td>\n",
       "    </tr>\n",
       "    <tr>\n",
       "      <td>1456</td>\n",
       "      <td>https://www.youtube.com/channel/UCloA0DkzKG5rG...</td>\n",
       "      <td>8_f85PEkeHg</td>\n",
       "      <td>Bottle Rocket 3</td>\n",
       "      <td>43</td>\n",
       "      <td>Please donate here: https://www.paypal.com/pay...</td>\n",
       "      <td>Streamed live on Mar 20, 2020</td>\n",
       "      <td>1</td>\n",
       "      <td>0</td>\n",
       "      <td>60</td>\n",
       "      <td>['Streamed live']</td>\n",
       "    </tr>\n",
       "  </tbody>\n",
       "</table>\n",
       "</div>"
      ],
      "text/plain": [
       "                                            channel_URL video_URL_ext  \\\n",
       "8906  https://www.youtube.com/channel/UCEl4J6Zg3tlPu...   Q9mQEIviT7Y   \n",
       "5906         https://www.youtube.com/user/DrMelissaWest   sy9U_8-wg40   \n",
       "1509  https://www.youtube.com/channel/UC7a5LhGLCvslZ...   VXQZLtBPCoI   \n",
       "2926           https://www.youtube.com/user/jockestonia   QnogKToi4ZE   \n",
       "7014  https://www.youtube.com/channel/UC0n6WQ3_PAePX...   syFpUmwZGSM   \n",
       "8519               https://www.youtube.com/user/yogatic   AFnIYDylLJo   \n",
       "8518               https://www.youtube.com/user/yogatic   JJMCnOuhtSk   \n",
       "2687  https://www.youtube.com/channel/UCJP1ionI2lIe6...   8gVrffMitII   \n",
       "594               https://www.youtube.com/user/yogilou8   l9LaMXA5rnA   \n",
       "3203  https://www.youtube.com/channel/UC-enqt3oO6foL...   dygp9XC7Tb8   \n",
       "5622  https://www.youtube.com/channel/UCr7TnjWO6GCyo...   OaQ85SOPbOU   \n",
       "7176  https://www.youtube.com/channel/UCHq45PPPkKogh...   5sfbHNNkJBg   \n",
       "3202  https://www.youtube.com/channel/UC-enqt3oO6foL...   3IZwwhE_8bg   \n",
       "8795              https://www.youtube.com/user/dahnyoga   IFVKAzKoRYg   \n",
       "4344  https://www.youtube.com/channel/UC37yMVAa8iFXh...   3fJ7jHD26bA   \n",
       "6281  https://www.youtube.com/channel/UCvV7ez9he51up...   -YB75BAu4rI   \n",
       "6760            https://www.youtube.com/user/yogalanbcn   EXw-wFAg_Z8   \n",
       "384        https://www.youtube.com/user/BreatheLosGatos   HRk9aENV2QU   \n",
       "1510  https://www.youtube.com/channel/UC7a5LhGLCvslZ...   D3zjj8ZX0Ww   \n",
       "1456  https://www.youtube.com/channel/UCloA0DkzKG5rG...   8_f85PEkeHg   \n",
       "\n",
       "                                                  title views_DUPL  \\\n",
       "8906           Sivananda Yoga Live class - 29 March 8am        834   \n",
       "5906  Winter Solstice Restorative Yoga | Yoga with M...       1971   \n",
       "1509  Online Yoga for the Quarantined - Day 4 - Inte...        187   \n",
       "2926               Ashtanga Monkey L II day 2 continues        455   \n",
       "7014               Day ONE of LIVE Jesus-Centered Yoga!       8338   \n",
       "8519  LIVE 31 March 2020 Silver lining - Finding res...       4059   \n",
       "8518  LIVE 1 April 2020 Taking refuge - Finding resi...       3785   \n",
       "2687                            Healthy Backs Level 1.5         26   \n",
       "594                  SucramYoga for fitness Level 1 & 2         87   \n",
       "3203                 Yoga: les secrets de la longévité.        883   \n",
       "5622                                   Stabilise Gently        194   \n",
       "7176  Meditation für jeden Tag Manuel - Den Moment a...        362   \n",
       "3202          Séance de yoga entière couché sur le dos!        907   \n",
       "8795  Guided Meditation #2 for Love | Body & Brain Live        113   \n",
       "4344          Yoga for Osteoporosis:  Recorded 4/2/2020         99   \n",
       "6281                     Day 1 - 10 Minutes for 10 Days         79   \n",
       "6760  Yoga en casa en directo | Clase de Vinyasa Int...     126920   \n",
       "384              Handstand Workshop with Leslie Germain        181   \n",
       "1510  Online Yoga for the Quarantined - Day 3 - Gent...        141   \n",
       "1456                                    Bottle Rocket 3         43   \n",
       "\n",
       "                                             video_desc  \\\n",
       "8906  @Sivananda Yoga Centre, Gurgaon Continuing an ...   \n",
       "5906  Winter solstice occurs between December 20 and...   \n",
       "1509  Join me again as I provide you with daily yoga...   \n",
       "2926                      http://www.ashtangamonkey.com   \n",
       "7014  Welcome to Day ONE of Yoga Week – FOUR DAYS of...   \n",
       "8519  Come join me and our EkhartYoga community from...   \n",
       "8518  Come join me and our EkhartYoga community from...   \n",
       "2687  Join me for a rejuvenating mix of strength, ba...   \n",
       "594                                                       \n",
       "3203  Aujourd'hui, à travers une série de postures s...   \n",
       "5622  Join Phoebe for a 30 minute balancing and equa...   \n",
       "7176                                                      \n",
       "3202  Si vous êtes fatigué(e), malade, ou simplement...   \n",
       "8795  Body & Brain is excited to provide FREE, 20-mi...   \n",
       "4344  Yoga for Osteoporosis and Osteopenia focuses o...   \n",
       "6281                                                      \n",
       "6760  ❤️ MI NUEVO LIBRO: https://amzn.to/385Zl7d📖 MI...   \n",
       "384   A 45 min workshop designed to teach you the ti...   \n",
       "1510  If you enjoy the class, feel free to make a do...   \n",
       "1456  Please donate here: https://www.paypal.com/pay...   \n",
       "\n",
       "               video_published_date likes dislikes  video_desc_length  \\\n",
       "8906  Streamed live on Mar 28, 2020    13        0                792   \n",
       "5906  Streamed live on Dec 20, 2019    98        0               1095   \n",
       "1509  Streamed live on Mar 23, 2020    10        0                255   \n",
       "2926  Streamed live on Sep 30, 2017     3        0                 29   \n",
       "7014  Streamed live on Feb 24, 2020   298        7               1227   \n",
       "8519  Streamed live on Mar 31, 2020   171        3               1984   \n",
       "8518   Streamed live on Apr 1, 2020   187        0               1984   \n",
       "2687  Streamed live on Mar 23, 2020     1        0                126   \n",
       "594   Streamed live on Mar 31, 2020     5        0                  0   \n",
       "3203  Streamed live on Nov 17, 2019    28        1                204   \n",
       "5622  Streamed live on Mar 30, 2020    11        0                141   \n",
       "7176   Streamed live on Apr 3, 2020    11        0                  0   \n",
       "3202  Streamed live on Nov 24, 2019    39        2                146   \n",
       "8795   Streamed live on Apr 9, 2020    11        0               1801   \n",
       "4344   Streamed live on Apr 2, 2020     9        0                447   \n",
       "6281   Streamed live on Apr 3, 2020    10        0                  0   \n",
       "6760  Streamed live on Mar 26, 2020  3851       56               1423   \n",
       "384   Streamed live on Mar 25, 2020    14        0               1258   \n",
       "1510  Streamed live on Mar 22, 2020    12        0                 99   \n",
       "1456  Streamed live on Mar 20, 2020     1        0                 60   \n",
       "\n",
       "           is_published  \n",
       "8906  ['Streamed live']  \n",
       "5906  ['Streamed live']  \n",
       "1509  ['Streamed live']  \n",
       "2926  ['Streamed live']  \n",
       "7014  ['Streamed live']  \n",
       "8519  ['Streamed live']  \n",
       "8518  ['Streamed live']  \n",
       "2687  ['Streamed live']  \n",
       "594   ['Streamed live']  \n",
       "3203  ['Streamed live']  \n",
       "5622  ['Streamed live']  \n",
       "7176  ['Streamed live']  \n",
       "3202  ['Streamed live']  \n",
       "8795  ['Streamed live']  \n",
       "4344  ['Streamed live']  \n",
       "6281  ['Streamed live']  \n",
       "6760  ['Streamed live']  \n",
       "384   ['Streamed live']  \n",
       "1510  ['Streamed live']  \n",
       "1456  ['Streamed live']  "
      ]
     },
     "execution_count": 422,
     "metadata": {},
     "output_type": "execute_result"
    }
   ],
   "source": [
    "videos_info_df[videos_info_df['is_published'] == \"['Streamed live']\"].sample(20)"
   ]
  },
  {
   "cell_type": "code",
   "execution_count": null,
   "metadata": {},
   "outputs": [],
   "source": []
  },
  {
   "cell_type": "code",
   "execution_count": null,
   "metadata": {},
   "outputs": [],
   "source": [
    "pattern = re.compile('([0-9]+,[0-9]+ views)|([0-9]+ views)')\n",
    "video_channel_df_nona['views_video'] = video_channel_df_nona['views_days'].apply(lambda string: str(pattern.findall(string)))#.str.replace('/'',''))"
   ]
  },
  {
   "cell_type": "code",
   "execution_count": null,
   "metadata": {},
   "outputs": [],
   "source": []
  },
  {
   "cell_type": "code",
   "execution_count": null,
   "metadata": {},
   "outputs": [],
   "source": []
  },
  {
   "cell_type": "code",
   "execution_count": 362,
   "metadata": {},
   "outputs": [
    {
     "data": {
      "text/plain": [
       "0"
      ]
     },
     "execution_count": 362,
     "metadata": {},
     "output_type": "execute_result"
    }
   ],
   "source": [
    "videos_info_df['video_published_date'].isna().sum()"
   ]
  },
  {
   "cell_type": "code",
   "execution_count": 365,
   "metadata": {},
   "outputs": [],
   "source": [
    "videos_info_df['video_published_date'] = videos_info_df['video_published_date'].str.replace('Published on ', '')"
   ]
  },
  {
   "cell_type": "code",
   "execution_count": 372,
   "metadata": {},
   "outputs": [],
   "source": [
    "videos_info_df['video_published_date'] = videos_info_df['video_published_date'].str.replace('Streamed live on ', '')"
   ]
  },
  {
   "cell_type": "code",
   "execution_count": 375,
   "metadata": {},
   "outputs": [],
   "source": [
    "videos_info_df['video_published_date'] = videos_info_df['video_published_date'].str.replace('Streamed live ', '').str.replace(' ago', '')\n"
   ]
  },
  {
   "cell_type": "code",
   "execution_count": 377,
   "metadata": {},
   "outputs": [
    {
     "data": {
      "text/plain": [
       "array(['Apr 4, 2020', 'Feb 29, 2020', 'Feb 1, 2020', ..., 'May 24, 2013',\n",
       "       'May 22, 2013', 'May 16, 2013'], dtype=object)"
      ]
     },
     "execution_count": 377,
     "metadata": {},
     "output_type": "execute_result"
    }
   ],
   "source": [
    "videos_info_df['video_published_date'].unique()"
   ]
  },
  {
   "cell_type": "code",
   "execution_count": 380,
   "metadata": {},
   "outputs": [
    {
     "data": {
      "text/plain": [
       "5812     Feb 9, 2017\n",
       "7830    Jan 30, 2020\n",
       "4046     Nov 2, 2019\n",
       "8802     Apr 3, 2020\n",
       "698      Oct 3, 2019\n",
       "4113    Mar 28, 2020\n",
       "5471    Oct 28, 2019\n",
       "7777    Dec 21, 2019\n",
       "8760     Feb 5, 2015\n",
       "6415    Mar 31, 2019\n",
       "7920    Feb 21, 2020\n",
       "7461     Mar 9, 2020\n",
       "5359     May 2, 2018\n",
       "309     Mar 29, 2020\n",
       "5056     Mar 3, 2019\n",
       "5603     Jan 1, 2020\n",
       "471      Nov 9, 2018\n",
       "6837    Apr 17, 2015\n",
       "4111    Jan 24, 2019\n",
       "4148    Mar 23, 2020\n",
       "Name: video_published_date, dtype: object"
      ]
     },
     "execution_count": 380,
     "metadata": {},
     "output_type": "execute_result"
    }
   ],
   "source": [
    "videos_info_df['video_published_date'].sample(20)"
   ]
  },
  {
   "cell_type": "code",
   "execution_count": 376,
   "metadata": {},
   "outputs": [
    {
     "ename": "OutOfBoundsDatetime",
     "evalue": "Out of bounds nanosecond timestamp: 1-01-01 05:00:00",
     "output_type": "error",
     "traceback": [
      "\u001b[0;31m---------------------------------------------------------------------------\u001b[0m",
      "\u001b[0;31mTypeError\u001b[0m                                 Traceback (most recent call last)",
      "\u001b[0;32m~/opt/anaconda3/lib/python3.7/site-packages/pandas/core/arrays/datetimes.py\u001b[0m in \u001b[0;36mobjects_to_datetime64ns\u001b[0;34m(data, dayfirst, yearfirst, utc, errors, require_iso8601, allow_object)\u001b[0m\n\u001b[1;32m   1978\u001b[0m         \u001b[0;32mtry\u001b[0m\u001b[0;34m:\u001b[0m\u001b[0;34m\u001b[0m\u001b[0;34m\u001b[0m\u001b[0m\n\u001b[0;32m-> 1979\u001b[0;31m             \u001b[0mvalues\u001b[0m\u001b[0;34m,\u001b[0m \u001b[0mtz_parsed\u001b[0m \u001b[0;34m=\u001b[0m \u001b[0mconversion\u001b[0m\u001b[0;34m.\u001b[0m\u001b[0mdatetime_to_datetime64\u001b[0m\u001b[0;34m(\u001b[0m\u001b[0mdata\u001b[0m\u001b[0;34m)\u001b[0m\u001b[0;34m\u001b[0m\u001b[0;34m\u001b[0m\u001b[0m\n\u001b[0m\u001b[1;32m   1980\u001b[0m             \u001b[0;31m# If tzaware, these values represent unix timestamps, so we\u001b[0m\u001b[0;34m\u001b[0m\u001b[0;34m\u001b[0m\u001b[0;34m\u001b[0m\u001b[0m\n",
      "\u001b[0;32mpandas/_libs/tslibs/conversion.pyx\u001b[0m in \u001b[0;36mpandas._libs.tslibs.conversion.datetime_to_datetime64\u001b[0;34m()\u001b[0m\n",
      "\u001b[0;31mTypeError\u001b[0m: Unrecognized value type: <class 'str'>",
      "\nDuring handling of the above exception, another exception occurred:\n",
      "\u001b[0;31mOutOfBoundsDatetime\u001b[0m                       Traceback (most recent call last)",
      "\u001b[0;32m<ipython-input-376-3077c5b91b19>\u001b[0m in \u001b[0;36m<module>\u001b[0;34m\u001b[0m\n\u001b[0;32m----> 1\u001b[0;31m \u001b[0mvideos_info_df\u001b[0m\u001b[0;34m[\u001b[0m\u001b[0;34m'video_published_date'\u001b[0m\u001b[0;34m]\u001b[0m \u001b[0;34m=\u001b[0m \u001b[0mpd\u001b[0m\u001b[0;34m.\u001b[0m\u001b[0mto_datetime\u001b[0m\u001b[0;34m(\u001b[0m\u001b[0mvideos_info_df\u001b[0m\u001b[0;34m[\u001b[0m\u001b[0;34m'video_published_date'\u001b[0m\u001b[0;34m]\u001b[0m\u001b[0;34m)\u001b[0m\u001b[0;34m\u001b[0m\u001b[0;34m\u001b[0m\u001b[0m\n\u001b[0m",
      "\u001b[0;32m~/opt/anaconda3/lib/python3.7/site-packages/pandas/util/_decorators.py\u001b[0m in \u001b[0;36mwrapper\u001b[0;34m(*args, **kwargs)\u001b[0m\n\u001b[1;32m    206\u001b[0m                 \u001b[0;32melse\u001b[0m\u001b[0;34m:\u001b[0m\u001b[0;34m\u001b[0m\u001b[0;34m\u001b[0m\u001b[0m\n\u001b[1;32m    207\u001b[0m                     \u001b[0mkwargs\u001b[0m\u001b[0;34m[\u001b[0m\u001b[0mnew_arg_name\u001b[0m\u001b[0;34m]\u001b[0m \u001b[0;34m=\u001b[0m \u001b[0mnew_arg_value\u001b[0m\u001b[0;34m\u001b[0m\u001b[0;34m\u001b[0m\u001b[0m\n\u001b[0;32m--> 208\u001b[0;31m             \u001b[0;32mreturn\u001b[0m \u001b[0mfunc\u001b[0m\u001b[0;34m(\u001b[0m\u001b[0;34m*\u001b[0m\u001b[0margs\u001b[0m\u001b[0;34m,\u001b[0m \u001b[0;34m**\u001b[0m\u001b[0mkwargs\u001b[0m\u001b[0;34m)\u001b[0m\u001b[0;34m\u001b[0m\u001b[0;34m\u001b[0m\u001b[0m\n\u001b[0m\u001b[1;32m    209\u001b[0m \u001b[0;34m\u001b[0m\u001b[0m\n\u001b[1;32m    210\u001b[0m         \u001b[0;32mreturn\u001b[0m \u001b[0mwrapper\u001b[0m\u001b[0;34m\u001b[0m\u001b[0;34m\u001b[0m\u001b[0m\n",
      "\u001b[0;32m~/opt/anaconda3/lib/python3.7/site-packages/pandas/core/tools/datetimes.py\u001b[0m in \u001b[0;36mto_datetime\u001b[0;34m(arg, errors, dayfirst, yearfirst, utc, box, format, exact, unit, infer_datetime_format, origin, cache)\u001b[0m\n\u001b[1;32m    772\u001b[0m                 \u001b[0mresult\u001b[0m \u001b[0;34m=\u001b[0m \u001b[0mresult\u001b[0m\u001b[0;34m.\u001b[0m\u001b[0mtz_localize\u001b[0m\u001b[0;34m(\u001b[0m\u001b[0mtz\u001b[0m\u001b[0;34m)\u001b[0m\u001b[0;34m\u001b[0m\u001b[0;34m\u001b[0m\u001b[0m\n\u001b[1;32m    773\u001b[0m     \u001b[0;32melif\u001b[0m \u001b[0misinstance\u001b[0m\u001b[0;34m(\u001b[0m\u001b[0marg\u001b[0m\u001b[0;34m,\u001b[0m \u001b[0mABCSeries\u001b[0m\u001b[0;34m)\u001b[0m\u001b[0;34m:\u001b[0m\u001b[0;34m\u001b[0m\u001b[0;34m\u001b[0m\u001b[0m\n\u001b[0;32m--> 774\u001b[0;31m         \u001b[0mcache_array\u001b[0m \u001b[0;34m=\u001b[0m \u001b[0m_maybe_cache\u001b[0m\u001b[0;34m(\u001b[0m\u001b[0marg\u001b[0m\u001b[0;34m,\u001b[0m \u001b[0mformat\u001b[0m\u001b[0;34m,\u001b[0m \u001b[0mcache\u001b[0m\u001b[0;34m,\u001b[0m \u001b[0mconvert_listlike\u001b[0m\u001b[0;34m)\u001b[0m\u001b[0;34m\u001b[0m\u001b[0;34m\u001b[0m\u001b[0m\n\u001b[0m\u001b[1;32m    775\u001b[0m         \u001b[0;32mif\u001b[0m \u001b[0;32mnot\u001b[0m \u001b[0mcache_array\u001b[0m\u001b[0;34m.\u001b[0m\u001b[0mempty\u001b[0m\u001b[0;34m:\u001b[0m\u001b[0;34m\u001b[0m\u001b[0;34m\u001b[0m\u001b[0m\n\u001b[1;32m    776\u001b[0m             \u001b[0mresult\u001b[0m \u001b[0;34m=\u001b[0m \u001b[0marg\u001b[0m\u001b[0;34m.\u001b[0m\u001b[0mmap\u001b[0m\u001b[0;34m(\u001b[0m\u001b[0mcache_array\u001b[0m\u001b[0;34m)\u001b[0m\u001b[0;34m\u001b[0m\u001b[0;34m\u001b[0m\u001b[0m\n",
      "\u001b[0;32m~/opt/anaconda3/lib/python3.7/site-packages/pandas/core/tools/datetimes.py\u001b[0m in \u001b[0;36m_maybe_cache\u001b[0;34m(arg, format, cache, convert_listlike)\u001b[0m\n\u001b[1;32m    154\u001b[0m         \u001b[0munique_dates\u001b[0m \u001b[0;34m=\u001b[0m \u001b[0munique\u001b[0m\u001b[0;34m(\u001b[0m\u001b[0marg\u001b[0m\u001b[0;34m)\u001b[0m\u001b[0;34m\u001b[0m\u001b[0;34m\u001b[0m\u001b[0m\n\u001b[1;32m    155\u001b[0m         \u001b[0;32mif\u001b[0m \u001b[0mlen\u001b[0m\u001b[0;34m(\u001b[0m\u001b[0munique_dates\u001b[0m\u001b[0;34m)\u001b[0m \u001b[0;34m<\u001b[0m \u001b[0mlen\u001b[0m\u001b[0;34m(\u001b[0m\u001b[0marg\u001b[0m\u001b[0;34m)\u001b[0m\u001b[0;34m:\u001b[0m\u001b[0;34m\u001b[0m\u001b[0;34m\u001b[0m\u001b[0m\n\u001b[0;32m--> 156\u001b[0;31m             \u001b[0mcache_dates\u001b[0m \u001b[0;34m=\u001b[0m \u001b[0mconvert_listlike\u001b[0m\u001b[0;34m(\u001b[0m\u001b[0munique_dates\u001b[0m\u001b[0;34m,\u001b[0m \u001b[0;32mTrue\u001b[0m\u001b[0;34m,\u001b[0m \u001b[0mformat\u001b[0m\u001b[0;34m)\u001b[0m\u001b[0;34m\u001b[0m\u001b[0;34m\u001b[0m\u001b[0m\n\u001b[0m\u001b[1;32m    157\u001b[0m             \u001b[0mcache_array\u001b[0m \u001b[0;34m=\u001b[0m \u001b[0mSeries\u001b[0m\u001b[0;34m(\u001b[0m\u001b[0mcache_dates\u001b[0m\u001b[0;34m,\u001b[0m \u001b[0mindex\u001b[0m\u001b[0;34m=\u001b[0m\u001b[0munique_dates\u001b[0m\u001b[0;34m)\u001b[0m\u001b[0;34m\u001b[0m\u001b[0;34m\u001b[0m\u001b[0m\n\u001b[1;32m    158\u001b[0m     \u001b[0;32mreturn\u001b[0m \u001b[0mcache_array\u001b[0m\u001b[0;34m\u001b[0m\u001b[0;34m\u001b[0m\u001b[0m\n",
      "\u001b[0;32m~/opt/anaconda3/lib/python3.7/site-packages/pandas/core/tools/datetimes.py\u001b[0m in \u001b[0;36m_convert_listlike_datetimes\u001b[0;34m(arg, box, format, name, tz, unit, errors, infer_datetime_format, dayfirst, yearfirst, exact)\u001b[0m\n\u001b[1;32m    461\u001b[0m             \u001b[0merrors\u001b[0m\u001b[0;34m=\u001b[0m\u001b[0merrors\u001b[0m\u001b[0;34m,\u001b[0m\u001b[0;34m\u001b[0m\u001b[0;34m\u001b[0m\u001b[0m\n\u001b[1;32m    462\u001b[0m             \u001b[0mrequire_iso8601\u001b[0m\u001b[0;34m=\u001b[0m\u001b[0mrequire_iso8601\u001b[0m\u001b[0;34m,\u001b[0m\u001b[0;34m\u001b[0m\u001b[0;34m\u001b[0m\u001b[0m\n\u001b[0;32m--> 463\u001b[0;31m             \u001b[0mallow_object\u001b[0m\u001b[0;34m=\u001b[0m\u001b[0;32mTrue\u001b[0m\u001b[0;34m,\u001b[0m\u001b[0;34m\u001b[0m\u001b[0;34m\u001b[0m\u001b[0m\n\u001b[0m\u001b[1;32m    464\u001b[0m         )\n\u001b[1;32m    465\u001b[0m \u001b[0;34m\u001b[0m\u001b[0m\n",
      "\u001b[0;32m~/opt/anaconda3/lib/python3.7/site-packages/pandas/core/arrays/datetimes.py\u001b[0m in \u001b[0;36mobjects_to_datetime64ns\u001b[0;34m(data, dayfirst, yearfirst, utc, errors, require_iso8601, allow_object)\u001b[0m\n\u001b[1;32m   1982\u001b[0m             \u001b[0;32mreturn\u001b[0m \u001b[0mvalues\u001b[0m\u001b[0;34m.\u001b[0m\u001b[0mview\u001b[0m\u001b[0;34m(\u001b[0m\u001b[0;34m\"i8\"\u001b[0m\u001b[0;34m)\u001b[0m\u001b[0;34m,\u001b[0m \u001b[0mtz_parsed\u001b[0m\u001b[0;34m\u001b[0m\u001b[0;34m\u001b[0m\u001b[0m\n\u001b[1;32m   1983\u001b[0m         \u001b[0;32mexcept\u001b[0m \u001b[0;34m(\u001b[0m\u001b[0mValueError\u001b[0m\u001b[0;34m,\u001b[0m \u001b[0mTypeError\u001b[0m\u001b[0;34m)\u001b[0m\u001b[0;34m:\u001b[0m\u001b[0;34m\u001b[0m\u001b[0;34m\u001b[0m\u001b[0m\n\u001b[0;32m-> 1984\u001b[0;31m             \u001b[0;32mraise\u001b[0m \u001b[0me\u001b[0m\u001b[0;34m\u001b[0m\u001b[0;34m\u001b[0m\u001b[0m\n\u001b[0m\u001b[1;32m   1985\u001b[0m \u001b[0;34m\u001b[0m\u001b[0m\n\u001b[1;32m   1986\u001b[0m     \u001b[0;32mif\u001b[0m \u001b[0mtz_parsed\u001b[0m \u001b[0;32mis\u001b[0m \u001b[0;32mnot\u001b[0m \u001b[0;32mNone\u001b[0m\u001b[0;34m:\u001b[0m\u001b[0;34m\u001b[0m\u001b[0;34m\u001b[0m\u001b[0m\n",
      "\u001b[0;32m~/opt/anaconda3/lib/python3.7/site-packages/pandas/core/arrays/datetimes.py\u001b[0m in \u001b[0;36mobjects_to_datetime64ns\u001b[0;34m(data, dayfirst, yearfirst, utc, errors, require_iso8601, allow_object)\u001b[0m\n\u001b[1;32m   1973\u001b[0m             \u001b[0mdayfirst\u001b[0m\u001b[0;34m=\u001b[0m\u001b[0mdayfirst\u001b[0m\u001b[0;34m,\u001b[0m\u001b[0;34m\u001b[0m\u001b[0;34m\u001b[0m\u001b[0m\n\u001b[1;32m   1974\u001b[0m             \u001b[0myearfirst\u001b[0m\u001b[0;34m=\u001b[0m\u001b[0myearfirst\u001b[0m\u001b[0;34m,\u001b[0m\u001b[0;34m\u001b[0m\u001b[0;34m\u001b[0m\u001b[0m\n\u001b[0;32m-> 1975\u001b[0;31m             \u001b[0mrequire_iso8601\u001b[0m\u001b[0;34m=\u001b[0m\u001b[0mrequire_iso8601\u001b[0m\u001b[0;34m,\u001b[0m\u001b[0;34m\u001b[0m\u001b[0;34m\u001b[0m\u001b[0m\n\u001b[0m\u001b[1;32m   1976\u001b[0m         )\n\u001b[1;32m   1977\u001b[0m     \u001b[0;32mexcept\u001b[0m \u001b[0mValueError\u001b[0m \u001b[0;32mas\u001b[0m \u001b[0me\u001b[0m\u001b[0;34m:\u001b[0m\u001b[0;34m\u001b[0m\u001b[0;34m\u001b[0m\u001b[0m\n",
      "\u001b[0;32mpandas/_libs/tslib.pyx\u001b[0m in \u001b[0;36mpandas._libs.tslib.array_to_datetime\u001b[0;34m()\u001b[0m\n",
      "\u001b[0;32mpandas/_libs/tslib.pyx\u001b[0m in \u001b[0;36mpandas._libs.tslib.array_to_datetime\u001b[0;34m()\u001b[0m\n",
      "\u001b[0;32mpandas/_libs/tslib.pyx\u001b[0m in \u001b[0;36mpandas._libs.tslib.array_to_datetime\u001b[0;34m()\u001b[0m\n",
      "\u001b[0;32mpandas/_libs/tslib.pyx\u001b[0m in \u001b[0;36mpandas._libs.tslib.array_to_datetime\u001b[0;34m()\u001b[0m\n",
      "\u001b[0;32mpandas/_libs/tslibs/conversion.pyx\u001b[0m in \u001b[0;36mpandas._libs.tslibs.conversion.convert_datetime_to_tsobject\u001b[0;34m()\u001b[0m\n",
      "\u001b[0;32mpandas/_libs/tslibs/np_datetime.pyx\u001b[0m in \u001b[0;36mpandas._libs.tslibs.np_datetime.check_dts_bounds\u001b[0;34m()\u001b[0m\n",
      "\u001b[0;31mOutOfBoundsDatetime\u001b[0m: Out of bounds nanosecond timestamp: 1-01-01 05:00:00"
     ]
    }
   ],
   "source": [
    "videos_info_df['video_published_date'] = pd.to_datetime(videos_info_df['video_published_date'])"
   ]
  },
  {
   "cell_type": "code",
   "execution_count": null,
   "metadata": {},
   "outputs": [],
   "source": []
  }
 ],
 "metadata": {
  "kernelspec": {
   "display_name": "Python 3",
   "language": "python",
   "name": "python3"
  },
  "language_info": {
   "codemirror_mode": {
    "name": "ipython",
    "version": 3
   },
   "file_extension": ".py",
   "mimetype": "text/x-python",
   "name": "python",
   "nbconvert_exporter": "python",
   "pygments_lexer": "ipython3",
   "version": "3.7.4"
  }
 },
 "nbformat": 4,
 "nbformat_minor": 2
}
