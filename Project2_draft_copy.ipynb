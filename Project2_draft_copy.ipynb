{
 "cells": [
  {
   "cell_type": "code",
   "execution_count": 1,
   "metadata": {},
   "outputs": [],
   "source": [
    "from bs4 import BeautifulSoup\n",
    "import requests"
   ]
  },
  {
   "cell_type": "markdown",
   "metadata": {},
   "source": [
    "## Scratch 0: Vinny's Tutorial"
   ]
  },
  {
   "cell_type": "code",
   "execution_count": 2,
   "metadata": {},
   "outputs": [],
   "source": [
    "url = 'https://www.youtube.com/watch?v=F47hdaNXwT4' \n",
    "\n",
    "response = requests.get(url)"
   ]
  },
  {
   "cell_type": "code",
   "execution_count": 3,
   "metadata": {},
   "outputs": [
    {
     "data": {
      "text/plain": [
       "200"
      ]
     },
     "execution_count": 3,
     "metadata": {},
     "output_type": "execute_result"
    }
   ],
   "source": [
    "response.status_code"
   ]
  },
  {
   "cell_type": "code",
   "execution_count": 6,
   "metadata": {},
   "outputs": [
    {
     "data": {
      "text/plain": [
       "'<!DOCTYPE html><html lang=\"en\" data-cast-api-enabled=\"true\"><head><style name=\"www-roboto\" >@font-face{font-family:\\'Roboto\\';font-style:italic;font-weight:400;src:local(\\'Roboto Italic\\'),local(\\'Roboto-Italic\\'),url(//fonts.gstatic.com/s/roboto/v18/KFOkCnqEu92Fr1Mu51xIIzc.ttf)format(\\'truetype\\');}@font-face{font-family:\\'Roboto\\';font-style:italic;font-weight:500;src:local(\\'Roboto Medium Italic\\'),local(\\'Roboto-MediumItalic\\'),url(//fonts.gstatic.com/s/roboto/v18/KFOjCnqEu92Fr1Mu51S7ACc6CsE.ttf)format(\\'truetype\\');}@font-face{font-family:\\'Roboto\\';font-style:normal;font-weight:400;src:local(\\'Roboto Regular\\'),local(\\'Roboto-Regular\\'),url(//fonts.gstatic.com/s/roboto/v18/KFOmCnqEu92Fr1Mu4mxP.ttf)format(\\'truetype\\');}@font-face{font-family:\\'Roboto\\';font-style:normal;font-weight:500;src:local(\\'Roboto Medium\\'),local(\\'Roboto-Medium\\'),url(//fonts.gstatic.com/s/roboto/v18/KFOlCnqEu92Fr1MmEU9fBBc9.ttf)format(\\'truetype\\');}</style><script name=\"www-roboto\" >if (document.fonts && document.fonts.load) {document'"
      ]
     },
     "execution_count": 6,
     "metadata": {},
     "output_type": "execute_result"
    }
   ],
   "source": [
    "response.text[:1000]"
   ]
  },
  {
   "cell_type": "code",
   "execution_count": 7,
   "metadata": {},
   "outputs": [],
   "source": [
    "page = response.text"
   ]
  },
  {
   "cell_type": "code",
   "execution_count": 9,
   "metadata": {},
   "outputs": [
    {
     "data": {
      "text/plain": [
       "'<!DOCTYPE html><html lang=\"en\" data-cast-api-enabled=\"true\"><head><style name=\"www-roboto\" >@font-face{font-family:\\'Roboto\\';font-style:italic;font-weight:400;src:local(\\'Roboto Italic\\'),local(\\'Roboto-Italic\\'),url(//fonts.gstatic.com/s/roboto/v18/KFOkCnqEu92Fr1Mu51xIIzc.ttf)format(\\'truetype\\');}@font-face{font-family:\\'Roboto\\';font-style:italic;font-weight:500;src:local(\\'Roboto Medium Italic\\'),local(\\'Roboto-MediumItalic\\'),url(//fonts.gstatic.com/s/roboto/v18/KFOjCnqEu92Fr1Mu51S7ACc6CsE.ttf)format(\\'truetype\\');}@font-face{font-family:\\'Roboto\\';font-style:normal;font-weight:400;src:local(\\'Roboto Regular\\'),local(\\'Roboto-Regular\\'),url(//fonts.gstatic.com/s/roboto/v18/KFOmCnqEu92Fr1Mu4mxP.ttf)format(\\'truetype\\');}@font-face{font-family:\\'Roboto\\';font-style:normal;font-weight:500;src:local(\\'Roboto Medium\\'),local(\\'Roboto-Medium\\'),url(//fonts.gstatic.com/s/roboto/v18/KFOlCnqEu92Fr1MmEU9fBBc9.ttf)format(\\'truetype\\');}</style><script name=\"www-roboto\" >if (document.fonts && document.fonts.load) {document'"
      ]
     },
     "execution_count": 9,
     "metadata": {},
     "output_type": "execute_result"
    }
   ],
   "source": [
    "page[:1000]"
   ]
  },
  {
   "cell_type": "code",
   "execution_count": 10,
   "metadata": {},
   "outputs": [],
   "source": [
    "soup = BeautifulSoup(page, \"html5lib\")"
   ]
  },
  {
   "cell_type": "code",
   "execution_count": 108,
   "metadata": {},
   "outputs": [],
   "source": [
    "#print(soup)"
   ]
  },
  {
   "cell_type": "code",
   "execution_count": 109,
   "metadata": {},
   "outputs": [],
   "source": [
    "#print(soup.prettify())"
   ]
  },
  {
   "cell_type": "code",
   "execution_count": 15,
   "metadata": {},
   "outputs": [
    {
     "data": {
      "text/plain": [
       "'Sign in'"
      ]
     },
     "execution_count": 15,
     "metadata": {},
     "output_type": "execute_result"
    }
   ],
   "source": [
    "soup.find_all(\"a\")[-1].text"
   ]
  },
  {
   "cell_type": "code",
   "execution_count": 16,
   "metadata": {},
   "outputs": [
    {
     "name": "stdout",
     "output_type": "stream",
     "text": [
      "<a class=\"spf-link masthead-logo-renderer yt-uix-sessionlink\" data-sessionlink=\"\" href=\"/\" id=\"logo-container\" title=\"YouTube home\"><span class=\"logo masthead-logo-renderer-logo yt-sprite\" title=\"YouTube home\"></span></a> \n",
      "\n",
      "<a class=\"yt-uix-button yt-uix-sessionlink yt-uix-button-opacity yt-uix-button-size-default yt-uix-button-has-icon yt-uix-tooltip yt-uix-button-empty\" data-sessionlink=\"ei=n4SLXv-LBZjihgb224bYCA&amp;feature=mhsb\" href=\"//www.youtube.com/upload\" id=\"upload-btn\" title=\"Upload\"><span class=\"yt-uix-button-icon-wrapper\"><span class=\"yt-uix-button-icon yt-uix-button-icon-material-upload yt-sprite\"></span></span></a> \n",
      "\n",
      "<a href=\"/supported_browsers\">update your browser</a> \n",
      "\n",
      "<a class=\"yt-uix-button yt-uix-sessionlink yt-uix-button-alert-info yt-uix-button-size-small\" data-sessionlink=\"ei=n4SLXv-LBZjihgb224bYCA\" href=\"https://www.google.com/get/videoqualityreport/?v=F47hdaNXwT4\" id=\"speedyg-link\" target=\"_blank\"><span class=\"yt-uix-button-content\">Find out why</span></a> \n",
      "\n",
      "<a class=\"yt-user-photo yt-uix-sessionlink spf-link\" data-sessionlink=\"itct=CDAQ4TkiEwj-z5ODxtToAhUYjcEKHWPPB7w\" href=\"/user/yogawithadriene\">\n",
      "      <span class=\"video-thumb yt-thumb yt-thumb-48\">\n",
      "    <span class=\"yt-thumb-square\">\n",
      "      <span class=\"yt-thumb-clip\">\n",
      "        \n",
      "  <img alt=\"Yoga With Adriene\" data-thumb=\"https://yt3.ggpht.com/a/AATXAJwVNmm-XsiVN8334Y2yFYCMxWThdFC3eEh1AQ=s48-c-k-c0xffffffff-no-rj-mo\" data-ytimg=\"1\" height=\"48\" onload=\";window.__ytRIL &amp;&amp; __ytRIL(this)\" src=\"/yts/img/pixel-vfl3z5WfW.gif\" width=\"48\"/>\n",
      "\n",
      "        <span class=\"vertical-align\"></span>\n",
      "      </span>\n",
      "    </span>\n",
      "  </span>\n",
      "\n",
      "  </a> \n",
      "\n"
     ]
    }
   ],
   "source": [
    "for link in soup.find_all('a')[:5]:\n",
    "    print(link, '\\n')"
   ]
  },
  {
   "cell_type": "code",
   "execution_count": null,
   "metadata": {},
   "outputs": [],
   "source": []
  },
  {
   "cell_type": "markdown",
   "metadata": {},
   "source": [
    "## Scratch 1: Vidaya Tutorial "
   ]
  },
  {
   "cell_type": "code",
   "execution_count": 17,
   "metadata": {},
   "outputs": [],
   "source": [
    "divs = soup.find_all('div')"
   ]
  },
  {
   "cell_type": "code",
   "execution_count": 110,
   "metadata": {},
   "outputs": [],
   "source": [
    "#divs[1]"
   ]
  },
  {
   "cell_type": "code",
   "execution_count": 38,
   "metadata": {},
   "outputs": [],
   "source": [
    "title = divs[1].find('span', class_='watch-title').text.strip()"
   ]
  },
  {
   "cell_type": "code",
   "execution_count": 41,
   "metadata": {},
   "outputs": [
    {
     "data": {
      "text/plain": [
       "'Movement Medicine - Energy Practice - Yoga With Adriene'"
      ]
     },
     "execution_count": 41,
     "metadata": {},
     "output_type": "execute_result"
    }
   ],
   "source": [
    "title"
   ]
  },
  {
   "cell_type": "code",
   "execution_count": 61,
   "metadata": {},
   "outputs": [
    {
     "data": {
      "text/plain": [
       "'6.74M'"
      ]
     },
     "execution_count": 61,
     "metadata": {},
     "output_type": "execute_result"
    }
   ],
   "source": [
    "subscribers = divs[1].find('span', class_='yt-subscription-button-subscriber-count-branded-horizontal yt-subscriber-count').text.strip()\n",
    "subscribers"
   ]
  },
  {
   "cell_type": "code",
   "execution_count": 62,
   "metadata": {},
   "outputs": [
    {
     "data": {
      "text/plain": [
       "'6.74M'"
      ]
     },
     "execution_count": 62,
     "metadata": {},
     "output_type": "execute_result"
    }
   ],
   "source": [
    "view_count = divs[1].find('span', class_='yt-subscription-button-subscriber-count-branded-horizontal yt-subscriber-count').text.strip()\n",
    "subscribers"
   ]
  },
  {
   "cell_type": "code",
   "execution_count": 63,
   "metadata": {},
   "outputs": [
    {
     "data": {
      "text/plain": [
       "'Yoga With Adriene'"
      ]
     },
     "execution_count": 63,
     "metadata": {},
     "output_type": "execute_result"
    }
   ],
   "source": [
    "channel_name = divs[1].find('a', class_='yt-uix-sessionlink spf-link').text\n",
    "channel_name"
   ]
  },
  {
   "cell_type": "code",
   "execution_count": 66,
   "metadata": {},
   "outputs": [],
   "source": [
    "category_index = {\n",
    "    1: 'Film & Animation',\n",
    "    2: 'Autos & Vehicles',\n",
    "    10: 'Music',\n",
    "    15: 'Pets & Animals',\n",
    "    17: 'Sports',\n",
    "    19: 'Travel & Events',\n",
    "    20: 'Gaming',\n",
    "    22: 'People & Blogs',\n",
    "    23: 'Comedy',\n",
    "    24: 'Entertainment',\n",
    "    25: 'News & Politics',\n",
    "    26: 'Howto & Style',\n",
    "    27: 'Education', \n",
    "    28: 'Science & Technology',\n",
    "    29: 'Nonprofits & Activism'\n",
    "}"
   ]
  },
  {
   "cell_type": "code",
   "execution_count": 67,
   "metadata": {},
   "outputs": [],
   "source": [
    "#sp = divs[1].text.split(':')"
   ]
  },
  {
   "cell_type": "code",
   "execution_count": 69,
   "metadata": {},
   "outputs": [],
   "source": [
    "#subs = 'categoryId'"
   ]
  },
  {
   "cell_type": "code",
   "execution_count": 72,
   "metadata": {},
   "outputs": [],
   "source": [
    "#for j in range(len(sp)):\n",
    "#    if subs in sp[j]:\n",
    "#        value = int(sp[j+1].split(',')[0])\n",
    "#        print(value)"
   ]
  },
  {
   "cell_type": "code",
   "execution_count": 74,
   "metadata": {},
   "outputs": [],
   "source": [
    "#video_category = category_index[value]"
   ]
  },
  {
   "cell_type": "code",
   "execution_count": 77,
   "metadata": {},
   "outputs": [
    {
     "data": {
      "text/plain": [
       "'1,949,931'"
      ]
     },
     "execution_count": 77,
     "metadata": {},
     "output_type": "execute_result"
    }
   ],
   "source": [
    "view_count = divs[1].find(class_='watch-view-count').text.strip().split()[0]\n",
    "view_count"
   ]
  },
  {
   "cell_type": "code",
   "execution_count": 96,
   "metadata": {},
   "outputs": [],
   "source": [
    "like_class = 'yt-uix-button yt-uix-button-size-default yt-uix-button-opacity yt-uix-button-has-icon no-icon-markup like-button-renderer-like-button like-button-renderer-like-button-unclicked yt-uix-clickcard-target yt-uix-tooltip'"
   ]
  },
  {
   "cell_type": "code",
   "execution_count": 97,
   "metadata": {},
   "outputs": [],
   "source": [
    "likes = divs[1].find('button', class_=like_class).text.strip()#.split()[0]"
   ]
  },
  {
   "cell_type": "code",
   "execution_count": 98,
   "metadata": {},
   "outputs": [
    {
     "data": {
      "text/plain": [
       "'25,860'"
      ]
     },
     "execution_count": 98,
     "metadata": {},
     "output_type": "execute_result"
    }
   ],
   "source": [
    "likes"
   ]
  },
  {
   "cell_type": "code",
   "execution_count": null,
   "metadata": {},
   "outputs": [],
   "source": []
  },
  {
   "cell_type": "code",
   "execution_count": 101,
   "metadata": {},
   "outputs": [],
   "source": [
    "dislike_class = 'yt-uix-button yt-uix-button-size-default yt-uix-button-opacity yt-uix-button-has-icon no-icon-markup like-button-renderer-dislike-button like-button-renderer-dislike-button-unclicked yt-uix-clickcard-target yt-uix-tooltip'"
   ]
  },
  {
   "cell_type": "code",
   "execution_count": 102,
   "metadata": {},
   "outputs": [],
   "source": [
    "dislikes = divs[1].find('button', class_=dislike_class).text.strip()#.split()[0]"
   ]
  },
  {
   "cell_type": "code",
   "execution_count": 103,
   "metadata": {},
   "outputs": [
    {
     "data": {
      "text/plain": [
       "'362'"
      ]
     },
     "execution_count": 103,
     "metadata": {},
     "output_type": "execute_result"
    }
   ],
   "source": [
    "dislikes"
   ]
  },
  {
   "cell_type": "markdown",
   "metadata": {},
   "source": [
    "## Scratch 2: Python_code_tutorial"
   ]
  },
  {
   "cell_type": "code",
   "execution_count": 113,
   "metadata": {},
   "outputs": [],
   "source": [
    "publish_date = soup.find('strong', attrs={'class': 'watch-time-text'}).text.strip()"
   ]
  },
  {
   "cell_type": "code",
   "execution_count": 114,
   "metadata": {},
   "outputs": [
    {
     "data": {
      "text/plain": [
       "'Published on Jun 4, 2017'"
      ]
     },
     "execution_count": 114,
     "metadata": {},
     "output_type": "execute_result"
    }
   ],
   "source": [
    "publish_date"
   ]
  },
  {
   "cell_type": "code",
   "execution_count": 136,
   "metadata": {},
   "outputs": [],
   "source": [
    "#+formatting\n",
    "view_count_1 = int(soup.find('div', attrs={'class': 'watch-view-count'}).text[:-6].replace(',', ''))"
   ]
  },
  {
   "cell_type": "code",
   "execution_count": 137,
   "metadata": {},
   "outputs": [
    {
     "data": {
      "text/plain": [
       "1949931"
      ]
     },
     "execution_count": 137,
     "metadata": {},
     "output_type": "execute_result"
    }
   ],
   "source": [
    "view_count_1"
   ]
  },
  {
   "cell_type": "code",
   "execution_count": 128,
   "metadata": {},
   "outputs": [
    {
     "data": {
      "text/plain": [
       "'Movement Medicine - Energy Practice - Yoga With Adriene'"
      ]
     },
     "execution_count": 128,
     "metadata": {},
     "output_type": "execute_result"
    }
   ],
   "source": [
    "title_1 = soup.find('span', attrs={'class': 'watch-title'}).text.strip()\n",
    "title_1"
   ]
  },
  {
   "cell_type": "code",
   "execution_count": 131,
   "metadata": {},
   "outputs": [
    {
     "data": {
      "text/plain": [
       "'Movement Medicine -  15 min Energy Practice is one of a two part series called Movement Medicine. It’s designed to help you cultivate strength and stamina.This type of practice invites you to use the power tools of breath, movement and discipline to get clear about what you want.Practice mindfully and regularly so that you can find the energy you need to rise to the occasion you were born to.  More at www.yogawithadriene.com Twitter: @yogawithadrieneInstagram: @adrienelouiseFacebook: Yoga With Adriene'"
      ]
     },
     "execution_count": 131,
     "metadata": {},
     "output_type": "execute_result"
    }
   ],
   "source": [
    "desc_1 = soup.find('p', attrs={'id': 'eow-description'}).text.strip()\n",
    "desc_1"
   ]
  },
  {
   "cell_type": "code",
   "execution_count": 135,
   "metadata": {},
   "outputs": [
    {
     "data": {
      "text/plain": [
       "25860"
      ]
     },
     "execution_count": 135,
     "metadata": {},
     "output_type": "execute_result"
    }
   ],
   "source": [
    "likes_1 = int(soup.find('button', attrs={'title': 'I like this'}).text.replace(',', ''))\n",
    "likes_1"
   ]
  },
  {
   "cell_type": "code",
   "execution_count": 140,
   "metadata": {},
   "outputs": [
    {
     "data": {
      "text/plain": [
       "362"
      ]
     },
     "execution_count": 140,
     "metadata": {},
     "output_type": "execute_result"
    }
   ],
   "source": [
    "dislikes_1 = int(soup.find('button', attrs={'title': 'I dislike this'}).text.replace(',', ''))\n",
    "dislikes_1"
   ]
  },
  {
   "cell_type": "code",
   "execution_count": 143,
   "metadata": {},
   "outputs": [
    {
     "data": {
      "text/plain": [
       "<a class=\"yt-uix-sessionlink spf-link\" data-sessionlink=\"itct=CDAQ4TkiEwj-z5ODxtToAhUYjcEKHWPPB7w\" href=\"/channel/UCFKE7WVJfvaHW5q283SxchA\">Yoga With Adriene</a>"
      ]
     },
     "execution_count": 143,
     "metadata": {},
     "output_type": "execute_result"
    }
   ],
   "source": [
    "channel_tag = soup.find('div', attrs={'class': 'yt-user-info'}).find('a')\n",
    "channel_tag"
   ]
  },
  {
   "cell_type": "code",
   "execution_count": 145,
   "metadata": {},
   "outputs": [
    {
     "data": {
      "text/plain": [
       "'Yoga With Adriene'"
      ]
     },
     "execution_count": 145,
     "metadata": {},
     "output_type": "execute_result"
    }
   ],
   "source": [
    "channel_name = channel_tag.text\n",
    "channel_name"
   ]
  },
  {
   "cell_type": "code",
   "execution_count": 147,
   "metadata": {},
   "outputs": [
    {
     "data": {
      "text/plain": [
       "'https://www.youtube.com/channel/UCFKE7WVJfvaHW5q283SxchA'"
      ]
     },
     "execution_count": 147,
     "metadata": {},
     "output_type": "execute_result"
    }
   ],
   "source": [
    "channel_url = f\"https://www.youtube.com{channel_tag['href']}\"\n",
    "channel_url"
   ]
  },
  {
   "cell_type": "code",
   "execution_count": 148,
   "metadata": {},
   "outputs": [
    {
     "data": {
      "text/plain": [
       "'6.74M'"
      ]
     },
     "execution_count": 148,
     "metadata": {},
     "output_type": "execute_result"
    }
   ],
   "source": [
    "channel_subscribers = soup.find('span', attrs={'class':'yt-subscriber-count'}).text.strip()\n",
    "channel_subscribers"
   ]
  },
  {
   "cell_type": "code",
   "execution_count": 159,
   "metadata": {},
   "outputs": [],
   "source": [
    "#comments = soup.find('h2', attrs={'class':'comment-section-header-renderer'}).text#.strip()"
   ]
  },
  {
   "cell_type": "code",
   "execution_count": null,
   "metadata": {},
   "outputs": [],
   "source": [
    "yoga_dict = {}\n",
    "yoga_dict['Title'] = title\n",
    "yoga_dict['Link'] = url\n",
    "yoga_dict['Subscribers'] = subscribers\n",
    "yoga_dict['Channel Name'] = channel_name\n",
    "yoga_dict['Publish Date'] = publish_date\n",
    "yoga_dict['Description'] = desc_1\n",
    "yoga_dict['View Count'] = view_count_1\n",
    "yoga_dict['Likes'] = likes_1\n",
    "yoga_dict['Dislikes'] = dislikes_1"
   ]
  },
  {
   "cell_type": "code",
   "execution_count": null,
   "metadata": {},
   "outputs": [],
   "source": [
    "yoga_dict"
   ]
  },
  {
   "cell_type": "markdown",
   "metadata": {},
   "source": [
    "## Initial Function"
   ]
  },
  {
   "cell_type": "code",
   "execution_count": 149,
   "metadata": {},
   "outputs": [],
   "source": [
    "def get_video_info(url):\n",
    "    response = requests.get(url)\n",
    "    page = response.text\n",
    "    soup = BeautifulSoup(page, \"html5lib\")\n",
    "    video_data = {}\n",
    "    \n",
    "    video_data['Title'] = soup.find('span', attrs={'class': 'watch-title'}).text.strip()\n",
    "    video_data['Views'] = int(soup.find('div', attrs={'class': 'watch-view-count'}).text[:-6].replace(',', ''))\n",
    "    video_data['Description'] = soup.find('p', attrs={'id': 'eow-description'}).text\n",
    "    video_data['Publication Date'] = soup.find('strong', attrs={'class': 'watch-time-text'}).text.strip()\n",
    "    video_data['Likes'] = int(soup.find('button', attrs={'title': 'I like this'}).text.replace(',', ''))\n",
    "    video_data['Dislikes'] = int(soup.find('button', attrs={'title': 'I dislike this'}).text.replace(',', ''))\n",
    "    \n",
    "    channel_name = soup.find('div', attrs={'class': 'yt-user-info'}).find('a').text\n",
    "    channel_url = f\"https://www.youtube.com{channel_tag['href']}\"\n",
    "    channel_subscribers = soup.find('span', attrs={'class':'yt-subscriber-count'}).text.strip()\n",
    "    \n",
    "    video_data['Channel'] = {'name': channel_name, 'url': channel_url, 'subscribers': channel_subscribers}\n",
    "    \n",
    "    return video_data\n",
    "    "
   ]
  },
  {
   "cell_type": "code",
   "execution_count": 150,
   "metadata": {},
   "outputs": [
    {
     "data": {
      "text/plain": [
       "{'Title': 'Movement Medicine - Energy Practice - Yoga With Adriene',\n",
       " 'Views': 1952806,\n",
       " 'Description': 'Movement Medicine -  15 min Energy Practice is one of a two part series called Movement Medicine. It’s designed to help you cultivate strength and stamina.This type of practice invites you to use the power tools of breath, movement and discipline to get clear about what you want.Practice mindfully and regularly so that you can find the energy you need to rise to the occasion you were born to.  More at www.yogawithadriene.com Twitter: @yogawithadrieneInstagram: @adrienelouiseFacebook: Yoga With Adriene',\n",
       " 'Publication Date': 'Published on Jun 4, 2017',\n",
       " 'Likes': 25891,\n",
       " 'Dislikes': 363,\n",
       " 'Channel': {'name': 'Yoga With Adriene',\n",
       "  'url': 'https://www.youtube.com/channel/UCFKE7WVJfvaHW5q283SxchA',\n",
       "  'subscribers': '6.75M'}}"
      ]
     },
     "execution_count": 150,
     "metadata": {},
     "output_type": "execute_result"
    }
   ],
   "source": [
    "get_video_info(url)"
   ]
  },
  {
   "cell_type": "code",
   "execution_count": 152,
   "metadata": {},
   "outputs": [],
   "source": [
    "url1 = 'https://www.youtube.com/watch?v=CRKmB-78elI'"
   ]
  },
  {
   "cell_type": "code",
   "execution_count": 153,
   "metadata": {},
   "outputs": [
    {
     "data": {
      "text/plain": [
       "{'Title': 'Core Strength Ritual - Yoga With Adriene',\n",
       " 'Views': 1908516,\n",
       " 'Description': \"Yoga With Adriene - Core Strength Ritual! This 20 min core strength video is a great ritual for you to supplement your yoga practice or other workouts. Tone the belly, heal back pain and find stability in the body. Connect with the breath, repeat this ritual regularly and enjoy the results. Great for that booty and your arms and shoulders too.  PS: You're beautiful. Stay connectedInstagram: @adrienelouiseFacebook: https://www.facebook.com/yogawithadrieneTwitter: https://twitter.com/yogawithadrienePinterest: http://pinterest.com/YogaWithAdriene/...For more Yoga With Adriene visit www.yogawithadriene.comFor programs and merch visit www.fwfg.comCheck out our new membership site at: https://fwfg.com//Intro music by Shakey GravesSong: House Of Winston www.shakeygraves.com\",\n",
       " 'Publication Date': 'Published on Apr 27, 2016',\n",
       " 'Likes': 26808,\n",
       " 'Dislikes': 406,\n",
       " 'Channel': {'name': 'Yoga With Adriene',\n",
       "  'url': 'https://www.youtube.com/channel/UCFKE7WVJfvaHW5q283SxchA',\n",
       "  'subscribers': '6.75M'}}"
      ]
     },
     "execution_count": 153,
     "metadata": {},
     "output_type": "execute_result"
    }
   ],
   "source": [
    "get_video_info(url1)"
   ]
  },
  {
   "cell_type": "code",
   "execution_count": 154,
   "metadata": {},
   "outputs": [],
   "source": [
    "url2 = \"https://www.youtube.com/watch?v=phuS5VLQy8c\""
   ]
  },
  {
   "cell_type": "raw",
   "metadata": {},
   "source": [
    "get_video_info(url2)"
   ]
  },
  {
   "cell_type": "code",
   "execution_count": null,
   "metadata": {},
   "outputs": [],
   "source": []
  }
 ],
 "metadata": {
  "kernelspec": {
   "display_name": "Python 3",
   "language": "python",
   "name": "python3"
  },
  "language_info": {
   "codemirror_mode": {
    "name": "ipython",
    "version": 3
   },
   "file_extension": ".py",
   "mimetype": "text/x-python",
   "name": "python",
   "nbconvert_exporter": "python",
   "pygments_lexer": "ipython3",
   "version": "3.7.4"
  }
 },
 "nbformat": 4,
 "nbformat_minor": 2
}
