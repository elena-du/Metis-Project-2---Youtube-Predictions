{
 "cells": [
  {
   "cell_type": "code",
   "execution_count": 1,
   "metadata": {},
   "outputs": [],
   "source": [
    "import pickle\n",
    "import pandas as pd\n",
    "import numpy as np\n",
    "import seaborn as sns\n",
    "import matplotlib.pyplot as plt\n",
    "import datetime\n",
    "\n",
    "import statsmodels.api as sm\n",
    "from scipy import stats\n",
    "\n",
    "from sklearn.model_selection import train_test_split\n",
    "from sklearn.linear_model import LinearRegression, Lasso, LassoCV, Ridge, RidgeCV\n",
    "from sklearn.metrics import r2_score\n",
    "from sklearn.preprocessing import PolynomialFeatures\n",
    "from sklearn.pipeline import Pipeline\n",
    "from sklearn.preprocessing import StandardScaler\n",
    "from sklearn.linear_model import lars_path\n",
    "\n",
    "%matplotlib inline\n",
    "sns.set()\n",
    "\n",
    "import warnings\n",
    "warnings.simplefilter(\"ignore\")"
   ]
  },
  {
   "cell_type": "code",
   "execution_count": 2,
   "metadata": {},
   "outputs": [],
   "source": [
    "with open('../feature_engineering/video_channel_df_8162_fin.pkl', 'rb') as picklefile:\n",
    "    df = pickle.load(picklefile)"
   ]
  },
  {
   "cell_type": "code",
   "execution_count": 3,
   "metadata": {},
   "outputs": [
    {
     "data": {
      "text/plain": [
       "Index(['views_video', 'video_order_num', 'duration_sec', 'likes', 'dislikes',\n",
       "       'video_desc_length', 'subscriber_count', 'total_views_channel',\n",
       "       'n_featured_channels', 'n_promo_links', 'channel_desc_length',\n",
       "       'channel_age_days', 'video_age_days', 'delivery_method_Published',\n",
       "       'delivery_method_Streamed live', 'sentiment_score_channel_desc',\n",
       "       'sentiment_score_video_desc', 'channel_URL', 'channel_name'],\n",
       "      dtype='object')"
      ]
     },
     "execution_count": 3,
     "metadata": {},
     "output_type": "execute_result"
    }
   ],
   "source": [
    "df.columns"
   ]
  },
  {
   "cell_type": "code",
   "execution_count": 4,
   "metadata": {},
   "outputs": [],
   "source": [
    "X_array = df.loc[:,'video_order_num':'sentiment_score_video_desc'].values.reshape(-1, 1)\n",
    "X_df = df[['video_order_num', 'duration_sec', 'likes', 'dislikes',\n",
    "       'video_desc_length', 'subscriber_count', 'total_views_channel',\n",
    "       'n_featured_channels', 'n_promo_links', 'channel_desc_length',\n",
    "       'channel_age_days', 'video_age_days', 'delivery_method_Published',\n",
    "       'delivery_method_Streamed live', 'sentiment_score_channel_desc',\n",
    "       'sentiment_score_video_desc']]\n",
    "y = df['views_video']"
   ]
  },
  {
   "cell_type": "markdown",
   "metadata": {},
   "source": [
    "## Baseline linear regression"
   ]
  },
  {
   "cell_type": "code",
   "execution_count": 5,
   "metadata": {},
   "outputs": [
    {
     "data": {
      "text/plain": [
       "LinearRegression(copy_X=True, fit_intercept=True, n_jobs=None, normalize=False)"
      ]
     },
     "execution_count": 5,
     "metadata": {},
     "output_type": "execute_result"
    }
   ],
   "source": [
    "X_train, X_test, y_train, y_test = train_test_split(X_df, y, \n",
    "                                                    test_size=0.3, \n",
    "                                                    random_state=42)\n",
    "\n",
    "vanilla_LR = LinearRegression()\n",
    "vanilla_LR.fit(X_train,y_train)"
   ]
  },
  {
   "cell_type": "code",
   "execution_count": 6,
   "metadata": {
    "scrolled": true
   },
   "outputs": [
    {
     "data": {
      "text/plain": [
       "0.9597382729266982"
      ]
     },
     "execution_count": 6,
     "metadata": {},
     "output_type": "execute_result"
    }
   ],
   "source": [
    "vanilla_LR.score(X_train,y_train) "
   ]
  },
  {
   "cell_type": "code",
   "execution_count": 7,
   "metadata": {},
   "outputs": [
    {
     "data": {
      "text/plain": [
       "0.7475116440993992"
      ]
     },
     "execution_count": 7,
     "metadata": {},
     "output_type": "execute_result"
    }
   ],
   "source": [
    "vanilla_LR.score(X_test,y_test)"
   ]
  },
  {
   "cell_type": "markdown",
   "metadata": {},
   "source": [
    "## Study Influence of Outliers on Best Model"
   ]
  },
  {
   "cell_type": "code",
   "execution_count": 8,
   "metadata": {},
   "outputs": [],
   "source": [
    "df['res'] = abs(vanilla_LR.predict(X_df)-df['views_video'])"
   ]
  },
  {
   "cell_type": "code",
   "execution_count": 9,
   "metadata": {},
   "outputs": [
    {
     "data": {
      "text/plain": [
       "count    8.162000e+03\n",
       "mean     2.197852e+05\n",
       "std      1.230999e+06\n",
       "min      2.785025e+01\n",
       "25%      3.631629e+04\n",
       "50%      7.971599e+04\n",
       "75%      1.460839e+05\n",
       "max      5.814060e+07\n",
       "Name: res, dtype: float64"
      ]
     },
     "execution_count": 9,
     "metadata": {},
     "output_type": "execute_result"
    }
   ],
   "source": [
    "df['res'].describe()"
   ]
  },
  {
   "cell_type": "code",
   "execution_count": 10,
   "metadata": {},
   "outputs": [
    {
     "data": {
      "image/png": "[encoded data removed]",
      "text/plain": [
       "<Figure size 432x288 with 1 Axes>"
      ]
     },
     "metadata": {},
     "output_type": "display_data"
    }
   ],
   "source": [
    "plt.boxplot(df['res']);"
   ]
  },
  {
   "cell_type": "code",
   "execution_count": 11,
   "metadata": {},
   "outputs": [
    {
     "data": {
      "image/png": "[encoded data removed]",
      "text/plain": [
       "<Figure size 432x288 with 1 Axes>"
      ]
     },
     "metadata": {},
     "output_type": "display_data"
    }
   ],
   "source": [
    "plt.scatter(df['res'], df['views_video']);"
   ]
  },
  {
   "cell_type": "code",
   "execution_count": 12,
   "metadata": {},
   "outputs": [
    {
     "data": {
      "text/html": [
       "<div>\n",
       "<style scoped>\n",
       "    .dataframe tbody tr th:only-of-type {\n",
       "        vertical-align: middle;\n",
       "    }\n",
       "\n",
       "    .dataframe tbody tr th {\n",
       "        vertical-align: top;\n",
       "    }\n",
       "\n",
       "    .dataframe thead th {\n",
       "        text-align: right;\n",
       "    }\n",
       "</style>\n",
       "<table border=\"1\" class=\"dataframe\">\n",
       "  <thead>\n",
       "    <tr style=\"text-align: right;\">\n",
       "      <th></th>\n",
       "      <th>views_video</th>\n",
       "      <th>video_order_num</th>\n",
       "      <th>duration_sec</th>\n",
       "      <th>likes</th>\n",
       "      <th>dislikes</th>\n",
       "      <th>video_desc_length</th>\n",
       "      <th>subscriber_count</th>\n",
       "      <th>total_views_channel</th>\n",
       "      <th>n_featured_channels</th>\n",
       "      <th>n_promo_links</th>\n",
       "      <th>channel_desc_length</th>\n",
       "      <th>channel_age_days</th>\n",
       "      <th>video_age_days</th>\n",
       "      <th>delivery_method_Published</th>\n",
       "      <th>delivery_method_Streamed live</th>\n",
       "      <th>sentiment_score_channel_desc</th>\n",
       "      <th>sentiment_score_video_desc</th>\n",
       "      <th>channel_URL</th>\n",
       "      <th>channel_name</th>\n",
       "      <th>res</th>\n",
       "    </tr>\n",
       "    <tr>\n",
       "      <th>video_id</th>\n",
       "      <th></th>\n",
       "      <th></th>\n",
       "      <th></th>\n",
       "      <th></th>\n",
       "      <th></th>\n",
       "      <th></th>\n",
       "      <th></th>\n",
       "      <th></th>\n",
       "      <th></th>\n",
       "      <th></th>\n",
       "      <th></th>\n",
       "      <th></th>\n",
       "      <th></th>\n",
       "      <th></th>\n",
       "      <th></th>\n",
       "      <th></th>\n",
       "      <th></th>\n",
       "      <th></th>\n",
       "      <th></th>\n",
       "      <th></th>\n",
       "    </tr>\n",
       "  </thead>\n",
       "  <tbody>\n",
       "    <tr>\n",
       "      <th>c8RrUCDu6RU</th>\n",
       "      <td>10874.0</td>\n",
       "      <td>21.0</td>\n",
       "      <td>2100.0</td>\n",
       "      <td>15.0</td>\n",
       "      <td>1.0</td>\n",
       "      <td>574.0</td>\n",
       "      <td>3070.0</td>\n",
       "      <td>237924.0</td>\n",
       "      <td>0.0</td>\n",
       "      <td>2.0</td>\n",
       "      <td>288.0</td>\n",
       "      <td>4426.0</td>\n",
       "      <td>1645.0</td>\n",
       "      <td>0</td>\n",
       "      <td>1</td>\n",
       "      <td>11.0</td>\n",
       "      <td>-2.0</td>\n",
       "      <td>https://www.youtube.com/user/oceanworshipper</td>\n",
       "      <td>Donate to EcoKarma</td>\n",
       "      <td>133336.452127</td>\n",
       "    </tr>\n",
       "    <tr>\n",
       "      <th>-U5LaNdDVO4</th>\n",
       "      <td>10134.0</td>\n",
       "      <td>22.0</td>\n",
       "      <td>2700.0</td>\n",
       "      <td>19.0</td>\n",
       "      <td>0.0</td>\n",
       "      <td>1111.0</td>\n",
       "      <td>3070.0</td>\n",
       "      <td>237924.0</td>\n",
       "      <td>0.0</td>\n",
       "      <td>2.0</td>\n",
       "      <td>288.0</td>\n",
       "      <td>4426.0</td>\n",
       "      <td>1659.0</td>\n",
       "      <td>0</td>\n",
       "      <td>1</td>\n",
       "      <td>11.0</td>\n",
       "      <td>1.0</td>\n",
       "      <td>https://www.youtube.com/user/oceanworshipper</td>\n",
       "      <td>Donate to EcoKarma</td>\n",
       "      <td>147778.723871</td>\n",
       "    </tr>\n",
       "    <tr>\n",
       "      <th>cRkp5_w9JLM</th>\n",
       "      <td>21721.0</td>\n",
       "      <td>9.0</td>\n",
       "      <td>444.0</td>\n",
       "      <td>667.0</td>\n",
       "      <td>0.0</td>\n",
       "      <td>513.0</td>\n",
       "      <td>3070.0</td>\n",
       "      <td>237924.0</td>\n",
       "      <td>0.0</td>\n",
       "      <td>2.0</td>\n",
       "      <td>288.0</td>\n",
       "      <td>4426.0</td>\n",
       "      <td>637.0</td>\n",
       "      <td>1</td>\n",
       "      <td>0</td>\n",
       "      <td>11.0</td>\n",
       "      <td>17.0</td>\n",
       "      <td>https://www.youtube.com/user/oceanworshipper</td>\n",
       "      <td>Donate to EcoKarma</td>\n",
       "      <td>552764.319120</td>\n",
       "    </tr>\n",
       "    <tr>\n",
       "      <th>2bmF9Ms2ihI</th>\n",
       "      <td>812210.0</td>\n",
       "      <td>4.0</td>\n",
       "      <td>2520.0</td>\n",
       "      <td>140.0</td>\n",
       "      <td>2.0</td>\n",
       "      <td>810.0</td>\n",
       "      <td>3070.0</td>\n",
       "      <td>237924.0</td>\n",
       "      <td>0.0</td>\n",
       "      <td>2.0</td>\n",
       "      <td>288.0</td>\n",
       "      <td>4426.0</td>\n",
       "      <td>306.0</td>\n",
       "      <td>1</td>\n",
       "      <td>0</td>\n",
       "      <td>11.0</td>\n",
       "      <td>8.0</td>\n",
       "      <td>https://www.youtube.com/user/oceanworshipper</td>\n",
       "      <td>Donate to EcoKarma</td>\n",
       "      <td>611138.701781</td>\n",
       "    </tr>\n",
       "    <tr>\n",
       "      <th>Ys84hYfrRmw</th>\n",
       "      <td>62235.0</td>\n",
       "      <td>24.0</td>\n",
       "      <td>759.0</td>\n",
       "      <td>76.0</td>\n",
       "      <td>2.0</td>\n",
       "      <td>981.0</td>\n",
       "      <td>3070.0</td>\n",
       "      <td>237924.0</td>\n",
       "      <td>0.0</td>\n",
       "      <td>2.0</td>\n",
       "      <td>288.0</td>\n",
       "      <td>4426.0</td>\n",
       "      <td>1835.0</td>\n",
       "      <td>1</td>\n",
       "      <td>0</td>\n",
       "      <td>11.0</td>\n",
       "      <td>11.0</td>\n",
       "      <td>https://www.youtube.com/user/oceanworshipper</td>\n",
       "      <td>Donate to EcoKarma</td>\n",
       "      <td>134105.193701</td>\n",
       "    </tr>\n",
       "    <tr>\n",
       "      <th>...</th>\n",
       "      <td>...</td>\n",
       "      <td>...</td>\n",
       "      <td>...</td>\n",
       "      <td>...</td>\n",
       "      <td>...</td>\n",
       "      <td>...</td>\n",
       "      <td>...</td>\n",
       "      <td>...</td>\n",
       "      <td>...</td>\n",
       "      <td>...</td>\n",
       "      <td>...</td>\n",
       "      <td>...</td>\n",
       "      <td>...</td>\n",
       "      <td>...</td>\n",
       "      <td>...</td>\n",
       "      <td>...</td>\n",
       "      <td>...</td>\n",
       "      <td>...</td>\n",
       "      <td>...</td>\n",
       "      <td>...</td>\n",
       "    </tr>\n",
       "    <tr>\n",
       "      <th>Q3MiLWxo1Jc</th>\n",
       "      <td>66972.0</td>\n",
       "      <td>18.0</td>\n",
       "      <td>43200.0</td>\n",
       "      <td>94.0</td>\n",
       "      <td>10.0</td>\n",
       "      <td>3345.0</td>\n",
       "      <td>659000.0</td>\n",
       "      <td>207880503.0</td>\n",
       "      <td>0.0</td>\n",
       "      <td>0.0</td>\n",
       "      <td>0.0</td>\n",
       "      <td>5047.0</td>\n",
       "      <td>19.0</td>\n",
       "      <td>1</td>\n",
       "      <td>0</td>\n",
       "      <td>0.0</td>\n",
       "      <td>23.0</td>\n",
       "      <td>https://www.youtube.com/user/yogayak</td>\n",
       "      <td></td>\n",
       "      <td>235336.891249</td>\n",
       "    </tr>\n",
       "    <tr>\n",
       "      <th>kYVXSQaF1n0</th>\n",
       "      <td>136991.0</td>\n",
       "      <td>13.0</td>\n",
       "      <td>43200.0</td>\n",
       "      <td>128.0</td>\n",
       "      <td>11.0</td>\n",
       "      <td>3307.0</td>\n",
       "      <td>659000.0</td>\n",
       "      <td>207880503.0</td>\n",
       "      <td>0.0</td>\n",
       "      <td>0.0</td>\n",
       "      <td>0.0</td>\n",
       "      <td>5047.0</td>\n",
       "      <td>14.0</td>\n",
       "      <td>1</td>\n",
       "      <td>0</td>\n",
       "      <td>0.0</td>\n",
       "      <td>19.0</td>\n",
       "      <td>https://www.youtube.com/user/yogayak</td>\n",
       "      <td></td>\n",
       "      <td>235528.953731</td>\n",
       "    </tr>\n",
       "    <tr>\n",
       "      <th>h6BlCAs6LgU</th>\n",
       "      <td>65901.0</td>\n",
       "      <td>2.0</td>\n",
       "      <td>43200.0</td>\n",
       "      <td>118.0</td>\n",
       "      <td>3.0</td>\n",
       "      <td>3162.0</td>\n",
       "      <td>659000.0</td>\n",
       "      <td>207880503.0</td>\n",
       "      <td>0.0</td>\n",
       "      <td>0.0</td>\n",
       "      <td>0.0</td>\n",
       "      <td>5047.0</td>\n",
       "      <td>2.0</td>\n",
       "      <td>1</td>\n",
       "      <td>0</td>\n",
       "      <td>0.0</td>\n",
       "      <td>16.0</td>\n",
       "      <td>https://www.youtube.com/user/yogayak</td>\n",
       "      <td></td>\n",
       "      <td>197297.504292</td>\n",
       "    </tr>\n",
       "    <tr>\n",
       "      <th>N4SYOEexnxc</th>\n",
       "      <td>150321.0</td>\n",
       "      <td>8.0</td>\n",
       "      <td>43200.0</td>\n",
       "      <td>168.0</td>\n",
       "      <td>9.0</td>\n",
       "      <td>3275.0</td>\n",
       "      <td>659000.0</td>\n",
       "      <td>207880503.0</td>\n",
       "      <td>0.0</td>\n",
       "      <td>0.0</td>\n",
       "      <td>0.0</td>\n",
       "      <td>5047.0</td>\n",
       "      <td>9.0</td>\n",
       "      <td>1</td>\n",
       "      <td>0</td>\n",
       "      <td>0.0</td>\n",
       "      <td>14.0</td>\n",
       "      <td>https://www.youtube.com/user/yogayak</td>\n",
       "      <td></td>\n",
       "      <td>204972.608038</td>\n",
       "    </tr>\n",
       "    <tr>\n",
       "      <th>9WbXvW2_XEM</th>\n",
       "      <td>52322.0</td>\n",
       "      <td>20.0</td>\n",
       "      <td>36000.0</td>\n",
       "      <td>138.0</td>\n",
       "      <td>5.0</td>\n",
       "      <td>3259.0</td>\n",
       "      <td>659000.0</td>\n",
       "      <td>207880503.0</td>\n",
       "      <td>0.0</td>\n",
       "      <td>0.0</td>\n",
       "      <td>0.0</td>\n",
       "      <td>5047.0</td>\n",
       "      <td>21.0</td>\n",
       "      <td>1</td>\n",
       "      <td>0</td>\n",
       "      <td>0.0</td>\n",
       "      <td>16.0</td>\n",
       "      <td>https://www.youtube.com/user/yogayak</td>\n",
       "      <td></td>\n",
       "      <td>258739.876825</td>\n",
       "    </tr>\n",
       "  </tbody>\n",
       "</table>\n",
       "<p>2573 rows × 20 columns</p>\n",
       "</div>"
      ],
      "text/plain": [
       "             views_video  video_order_num  duration_sec  likes  dislikes  \\\n",
       "video_id                                                                   \n",
       "c8RrUCDu6RU      10874.0             21.0        2100.0   15.0       1.0   \n",
       "-U5LaNdDVO4      10134.0             22.0        2700.0   19.0       0.0   \n",
       "cRkp5_w9JLM      21721.0              9.0         444.0  667.0       0.0   \n",
       "2bmF9Ms2ihI     812210.0              4.0        2520.0  140.0       2.0   \n",
       "Ys84hYfrRmw      62235.0             24.0         759.0   76.0       2.0   \n",
       "...                  ...              ...           ...    ...       ...   \n",
       "Q3MiLWxo1Jc      66972.0             18.0       43200.0   94.0      10.0   \n",
       "kYVXSQaF1n0     136991.0             13.0       43200.0  128.0      11.0   \n",
       "h6BlCAs6LgU      65901.0              2.0       43200.0  118.0       3.0   \n",
       "N4SYOEexnxc     150321.0              8.0       43200.0  168.0       9.0   \n",
       "9WbXvW2_XEM      52322.0             20.0       36000.0  138.0       5.0   \n",
       "\n",
       "             video_desc_length  subscriber_count  total_views_channel  \\\n",
       "video_id                                                                \n",
       "c8RrUCDu6RU              574.0            3070.0             237924.0   \n",
       "-U5LaNdDVO4             1111.0            3070.0             237924.0   \n",
       "cRkp5_w9JLM              513.0            3070.0             237924.0   \n",
       "2bmF9Ms2ihI              810.0            3070.0             237924.0   \n",
       "Ys84hYfrRmw              981.0            3070.0             237924.0   \n",
       "...                        ...               ...                  ...   \n",
       "Q3MiLWxo1Jc             3345.0          659000.0          207880503.0   \n",
       "kYVXSQaF1n0             3307.0          659000.0          207880503.0   \n",
       "h6BlCAs6LgU             3162.0          659000.0          207880503.0   \n",
       "N4SYOEexnxc             3275.0          659000.0          207880503.0   \n",
       "9WbXvW2_XEM             3259.0          659000.0          207880503.0   \n",
       "\n",
       "             n_featured_channels  n_promo_links  channel_desc_length  \\\n",
       "video_id                                                               \n",
       "c8RrUCDu6RU                  0.0            2.0                288.0   \n",
       "-U5LaNdDVO4                  0.0            2.0                288.0   \n",
       "cRkp5_w9JLM                  0.0            2.0                288.0   \n",
       "2bmF9Ms2ihI                  0.0            2.0                288.0   \n",
       "Ys84hYfrRmw                  0.0            2.0                288.0   \n",
       "...                          ...            ...                  ...   \n",
       "Q3MiLWxo1Jc                  0.0            0.0                  0.0   \n",
       "kYVXSQaF1n0                  0.0            0.0                  0.0   \n",
       "h6BlCAs6LgU                  0.0            0.0                  0.0   \n",
       "N4SYOEexnxc                  0.0            0.0                  0.0   \n",
       "9WbXvW2_XEM                  0.0            0.0                  0.0   \n",
       "\n",
       "             channel_age_days  video_age_days  delivery_method_Published  \\\n",
       "video_id                                                                   \n",
       "c8RrUCDu6RU            4426.0          1645.0                          0   \n",
       "-U5LaNdDVO4            4426.0          1659.0                          0   \n",
       "cRkp5_w9JLM            4426.0           637.0                          1   \n",
       "2bmF9Ms2ihI            4426.0           306.0                          1   \n",
       "Ys84hYfrRmw            4426.0          1835.0                          1   \n",
       "...                       ...             ...                        ...   \n",
       "Q3MiLWxo1Jc            5047.0            19.0                          1   \n",
       "kYVXSQaF1n0            5047.0            14.0                          1   \n",
       "h6BlCAs6LgU            5047.0             2.0                          1   \n",
       "N4SYOEexnxc            5047.0             9.0                          1   \n",
       "9WbXvW2_XEM            5047.0            21.0                          1   \n",
       "\n",
       "             delivery_method_Streamed live  sentiment_score_channel_desc  \\\n",
       "video_id                                                                   \n",
       "c8RrUCDu6RU                              1                          11.0   \n",
       "-U5LaNdDVO4                              1                          11.0   \n",
       "cRkp5_w9JLM                              0                          11.0   \n",
       "2bmF9Ms2ihI                              0                          11.0   \n",
       "Ys84hYfrRmw                              0                          11.0   \n",
       "...                                    ...                           ...   \n",
       "Q3MiLWxo1Jc                              0                           0.0   \n",
       "kYVXSQaF1n0                              0                           0.0   \n",
       "h6BlCAs6LgU                              0                           0.0   \n",
       "N4SYOEexnxc                              0                           0.0   \n",
       "9WbXvW2_XEM                              0                           0.0   \n",
       "\n",
       "             sentiment_score_video_desc  \\\n",
       "video_id                                  \n",
       "c8RrUCDu6RU                        -2.0   \n",
       "-U5LaNdDVO4                         1.0   \n",
       "cRkp5_w9JLM                        17.0   \n",
       "2bmF9Ms2ihI                         8.0   \n",
       "Ys84hYfrRmw                        11.0   \n",
       "...                                 ...   \n",
       "Q3MiLWxo1Jc                        23.0   \n",
       "kYVXSQaF1n0                        19.0   \n",
       "h6BlCAs6LgU                        16.0   \n",
       "N4SYOEexnxc                        14.0   \n",
       "9WbXvW2_XEM                        16.0   \n",
       "\n",
       "                                              channel_URL        channel_name  \\\n",
       "video_id                                                                        \n",
       "c8RrUCDu6RU  https://www.youtube.com/user/oceanworshipper  Donate to EcoKarma   \n",
       "-U5LaNdDVO4  https://www.youtube.com/user/oceanworshipper  Donate to EcoKarma   \n",
       "cRkp5_w9JLM  https://www.youtube.com/user/oceanworshipper  Donate to EcoKarma   \n",
       "2bmF9Ms2ihI  https://www.youtube.com/user/oceanworshipper  Donate to EcoKarma   \n",
       "Ys84hYfrRmw  https://www.youtube.com/user/oceanworshipper  Donate to EcoKarma   \n",
       "...                                                   ...                 ...   \n",
       "Q3MiLWxo1Jc          https://www.youtube.com/user/yogayak                       \n",
       "kYVXSQaF1n0          https://www.youtube.com/user/yogayak                       \n",
       "h6BlCAs6LgU          https://www.youtube.com/user/yogayak                       \n",
       "N4SYOEexnxc          https://www.youtube.com/user/yogayak                       \n",
       "9WbXvW2_XEM          https://www.youtube.com/user/yogayak                       \n",
       "\n",
       "                       res  \n",
       "video_id                    \n",
       "c8RrUCDu6RU  133336.452127  \n",
       "-U5LaNdDVO4  147778.723871  \n",
       "cRkp5_w9JLM  552764.319120  \n",
       "2bmF9Ms2ihI  611138.701781  \n",
       "Ys84hYfrRmw  134105.193701  \n",
       "...                    ...  \n",
       "Q3MiLWxo1Jc  235336.891249  \n",
       "kYVXSQaF1n0  235528.953731  \n",
       "h6BlCAs6LgU  197297.504292  \n",
       "N4SYOEexnxc  204972.608038  \n",
       "9WbXvW2_XEM  258739.876825  \n",
       "\n",
       "[2573 rows x 20 columns]"
      ]
     },
     "execution_count": 12,
     "metadata": {},
     "output_type": "execute_result"
    }
   ],
   "source": [
    "#outliers in terms of residuals\n",
    "df[df['res'] > 1.233987e+05]"
   ]
  },
  {
   "cell_type": "code",
   "execution_count": 13,
   "metadata": {},
   "outputs": [
    {
     "name": "stdout",
     "output_type": "stream",
     "text": [
      "video_id\n",
      "2Z3DC7RLjfY    https://www.youtube.com/channel/UC4dlco6FzS-AJ...\n",
      "Name: channel_URL, dtype: object\n"
     ]
    }
   ],
   "source": [
    "#df[df['res'].max()]\n",
    "#58140600.89979908\n",
    "max_r = df[df['res']==58140600.89979908]\n",
    "print(str(max_r['channel_URL']))"
   ]
  },
  {
   "cell_type": "code",
   "execution_count": 14,
   "metadata": {},
   "outputs": [
    {
     "data": {
      "text/plain": [
       "array([2.0000000e+00, 2.0000000e+02, 1.6504500e+05, 7.1010000e+03,\n",
       "       2.9790000e+03, 0.0000000e+00, 2.9174939e+07, 0.0000000e+00,\n",
       "       0.0000000e+00, 2.6100000e+02, 6.4400000e+02, 3.8100000e+02,\n",
       "       1.0000000e+00, 0.0000000e+00, 0.0000000e+00, 9.0000000e+00])"
      ]
     },
     "execution_count": 14,
     "metadata": {},
     "output_type": "execute_result"
    }
   ],
   "source": [
    "np.array(X_df.loc['2Z3DC7RLjfY',:].values)"
   ]
  },
  {
   "cell_type": "code",
   "execution_count": 15,
   "metadata": {},
   "outputs": [
    {
     "data": {
      "text/plain": [
       "array([2.0732306e+08])"
      ]
     },
     "execution_count": 15,
     "metadata": {},
     "output_type": "execute_result"
    }
   ],
   "source": [
    "vanilla_LR.predict(np.array(X_df.loc['2Z3DC7RLjfY',:].values).reshape(1, -1))"
   ]
  },
  {
   "cell_type": "code",
   "execution_count": 16,
   "metadata": {},
   "outputs": [
    {
     "data": {
      "text/html": [
       "<div>\n",
       "<style scoped>\n",
       "    .dataframe tbody tr th:only-of-type {\n",
       "        vertical-align: middle;\n",
       "    }\n",
       "\n",
       "    .dataframe tbody tr th {\n",
       "        vertical-align: top;\n",
       "    }\n",
       "\n",
       "    .dataframe thead th {\n",
       "        text-align: right;\n",
       "    }\n",
       "</style>\n",
       "<table border=\"1\" class=\"dataframe\">\n",
       "  <thead>\n",
       "    <tr style=\"text-align: right;\">\n",
       "      <th></th>\n",
       "      <th>views_video</th>\n",
       "      <th>video_order_num</th>\n",
       "      <th>duration_sec</th>\n",
       "      <th>likes</th>\n",
       "      <th>dislikes</th>\n",
       "      <th>video_desc_length</th>\n",
       "      <th>subscriber_count</th>\n",
       "      <th>total_views_channel</th>\n",
       "      <th>n_featured_channels</th>\n",
       "      <th>n_promo_links</th>\n",
       "      <th>channel_desc_length</th>\n",
       "      <th>channel_age_days</th>\n",
       "      <th>video_age_days</th>\n",
       "      <th>delivery_method_Published</th>\n",
       "      <th>delivery_method_Streamed live</th>\n",
       "      <th>sentiment_score_channel_desc</th>\n",
       "      <th>sentiment_score_video_desc</th>\n",
       "      <th>channel_URL</th>\n",
       "      <th>channel_name</th>\n",
       "      <th>res</th>\n",
       "    </tr>\n",
       "    <tr>\n",
       "      <th>video_id</th>\n",
       "      <th></th>\n",
       "      <th></th>\n",
       "      <th></th>\n",
       "      <th></th>\n",
       "      <th></th>\n",
       "      <th></th>\n",
       "      <th></th>\n",
       "      <th></th>\n",
       "      <th></th>\n",
       "      <th></th>\n",
       "      <th></th>\n",
       "      <th></th>\n",
       "      <th></th>\n",
       "      <th></th>\n",
       "      <th></th>\n",
       "      <th></th>\n",
       "      <th></th>\n",
       "      <th></th>\n",
       "      <th></th>\n",
       "      <th></th>\n",
       "    </tr>\n",
       "  </thead>\n",
       "  <tbody>\n",
       "    <tr>\n",
       "      <th>FkLz8Xe7pn4</th>\n",
       "      <td>2033.0</td>\n",
       "      <td>12.0</td>\n",
       "      <td>51.0</td>\n",
       "      <td>2.0</td>\n",
       "      <td>0.0</td>\n",
       "      <td>351.0</td>\n",
       "      <td>0.0</td>\n",
       "      <td>115252.0</td>\n",
       "      <td>0.0</td>\n",
       "      <td>8.0</td>\n",
       "      <td>592.0</td>\n",
       "      <td>2109.0</td>\n",
       "      <td>1266.0</td>\n",
       "      <td>1</td>\n",
       "      <td>0</td>\n",
       "      <td>12.0</td>\n",
       "      <td>4.0</td>\n",
       "      <td>https://www.youtube.com/channel/UCwCBAbstJ5VNv...</td>\n",
       "      <td>Yoga for Men</td>\n",
       "      <td>27.850251</td>\n",
       "    </tr>\n",
       "  </tbody>\n",
       "</table>\n",
       "</div>"
      ],
      "text/plain": [
       "             views_video  video_order_num  duration_sec  likes  dislikes  \\\n",
       "video_id                                                                   \n",
       "FkLz8Xe7pn4       2033.0             12.0          51.0    2.0       0.0   \n",
       "\n",
       "             video_desc_length  subscriber_count  total_views_channel  \\\n",
       "video_id                                                                \n",
       "FkLz8Xe7pn4              351.0               0.0             115252.0   \n",
       "\n",
       "             n_featured_channels  n_promo_links  channel_desc_length  \\\n",
       "video_id                                                               \n",
       "FkLz8Xe7pn4                  0.0            8.0                592.0   \n",
       "\n",
       "             channel_age_days  video_age_days  delivery_method_Published  \\\n",
       "video_id                                                                   \n",
       "FkLz8Xe7pn4            2109.0          1266.0                          1   \n",
       "\n",
       "             delivery_method_Streamed live  sentiment_score_channel_desc  \\\n",
       "video_id                                                                   \n",
       "FkLz8Xe7pn4                              0                          12.0   \n",
       "\n",
       "             sentiment_score_video_desc  \\\n",
       "video_id                                  \n",
       "FkLz8Xe7pn4                         4.0   \n",
       "\n",
       "                                                   channel_URL  channel_name  \\\n",
       "video_id                                                                       \n",
       "FkLz8Xe7pn4  https://www.youtube.com/channel/UCwCBAbstJ5VNv...  Yoga for Men   \n",
       "\n",
       "                   res  \n",
       "video_id                \n",
       "FkLz8Xe7pn4  27.850251  "
      ]
     },
     "execution_count": 16,
     "metadata": {},
     "output_type": "execute_result"
    }
   ],
   "source": [
    "#df[df['res'].min()]\n",
    "#58140600.89979908\n",
    "max_r = df[df['res']<28]\n",
    "#print(str(max_r['channel_URL']))\n",
    "max_r"
   ]
  },
  {
   "cell_type": "code",
   "execution_count": 17,
   "metadata": {},
   "outputs": [
    {
     "data": {
      "text/plain": [
       "array([2005.14974892])"
      ]
     },
     "execution_count": 17,
     "metadata": {},
     "output_type": "execute_result"
    }
   ],
   "source": [
    "vanilla_LR.predict(np.array(X_df.loc['FkLz8Xe7pn4',:].values).reshape(1, -1))"
   ]
  },
  {
   "cell_type": "code",
   "execution_count": 18,
   "metadata": {},
   "outputs": [],
   "source": [
    "df_no_outliers = df[df['res'] < 1.233987e+05]  ## keep 6"
   ]
  },
  {
   "cell_type": "code",
   "execution_count": 19,
   "metadata": {},
   "outputs": [
    {
     "data": {
      "text/plain": [
       "(5589, 20)"
      ]
     },
     "execution_count": 19,
     "metadata": {},
     "output_type": "execute_result"
    }
   ],
   "source": [
    "df_no_outliers.shape ##removed 2573 observations with greatest residual values "
   ]
  },
  {
   "cell_type": "code",
   "execution_count": 20,
   "metadata": {},
   "outputs": [],
   "source": [
    "X_array_no_outliers = df_no_outliers.loc[:,'video_order_num':'sentiment_score_video_desc'].values.reshape(-1, 1)\n",
    "X_df_no_outliers = df_no_outliers[['video_order_num', 'duration_sec', 'likes', 'dislikes',\n",
    "       'video_desc_length', 'subscriber_count', 'total_views_channel',\n",
    "       'n_featured_channels', 'n_promo_links', 'channel_desc_length',\n",
    "       'channel_age_days', 'video_age_days', 'delivery_method_Published',\n",
    "       'delivery_method_Streamed live', 'sentiment_score_channel_desc',\n",
    "       'sentiment_score_video_desc']]\n",
    "y_no_outliers = df_no_outliers['views_video']"
   ]
  },
  {
   "cell_type": "code",
   "execution_count": 21,
   "metadata": {},
   "outputs": [
    {
     "data": {
      "image/png": "[encoded data removed]",
      "text/plain": [
       "<Figure size 432x288 with 1 Axes>"
      ]
     },
     "metadata": {},
     "output_type": "display_data"
    }
   ],
   "source": [
    "plt.boxplot(df_no_outliers['res']);"
   ]
  },
  {
   "cell_type": "code",
   "execution_count": 22,
   "metadata": {},
   "outputs": [
    {
     "data": {
      "text/html": [
       "<div>\n",
       "<style scoped>\n",
       "    .dataframe tbody tr th:only-of-type {\n",
       "        vertical-align: middle;\n",
       "    }\n",
       "\n",
       "    .dataframe tbody tr th {\n",
       "        vertical-align: top;\n",
       "    }\n",
       "\n",
       "    .dataframe thead th {\n",
       "        text-align: right;\n",
       "    }\n",
       "</style>\n",
       "<table border=\"1\" class=\"dataframe\">\n",
       "  <thead>\n",
       "    <tr style=\"text-align: right;\">\n",
       "      <th></th>\n",
       "      <th>views_video</th>\n",
       "      <th>video_order_num</th>\n",
       "      <th>duration_sec</th>\n",
       "      <th>likes</th>\n",
       "      <th>dislikes</th>\n",
       "      <th>video_desc_length</th>\n",
       "      <th>subscriber_count</th>\n",
       "      <th>total_views_channel</th>\n",
       "      <th>n_featured_channels</th>\n",
       "      <th>n_promo_links</th>\n",
       "      <th>channel_desc_length</th>\n",
       "      <th>channel_age_days</th>\n",
       "      <th>video_age_days</th>\n",
       "      <th>delivery_method_Published</th>\n",
       "      <th>delivery_method_Streamed live</th>\n",
       "      <th>sentiment_score_channel_desc</th>\n",
       "      <th>sentiment_score_video_desc</th>\n",
       "      <th>res</th>\n",
       "    </tr>\n",
       "  </thead>\n",
       "  <tbody>\n",
       "    <tr>\n",
       "      <th>count</th>\n",
       "      <td>5589.0</td>\n",
       "      <td>5589.0</td>\n",
       "      <td>5589.0</td>\n",
       "      <td>5589.0</td>\n",
       "      <td>5589.0</td>\n",
       "      <td>5589.0</td>\n",
       "      <td>5589.0</td>\n",
       "      <td>5589.0</td>\n",
       "      <td>5589.0</td>\n",
       "      <td>5589.0</td>\n",
       "      <td>5589.0</td>\n",
       "      <td>5589.0</td>\n",
       "      <td>5589.0</td>\n",
       "      <td>5589.0</td>\n",
       "      <td>5589.0</td>\n",
       "      <td>5589.0</td>\n",
       "      <td>5589.0</td>\n",
       "      <td>5589.0</td>\n",
       "    </tr>\n",
       "    <tr>\n",
       "      <th>mean</th>\n",
       "      <td>25689.0</td>\n",
       "      <td>13.0</td>\n",
       "      <td>894.0</td>\n",
       "      <td>45.0</td>\n",
       "      <td>1.0</td>\n",
       "      <td>682.0</td>\n",
       "      <td>18244.0</td>\n",
       "      <td>2586366.0</td>\n",
       "      <td>1.0</td>\n",
       "      <td>4.0</td>\n",
       "      <td>400.0</td>\n",
       "      <td>2032.0</td>\n",
       "      <td>502.0</td>\n",
       "      <td>1.0</td>\n",
       "      <td>0.0</td>\n",
       "      <td>6.0</td>\n",
       "      <td>6.0</td>\n",
       "      <td>54200.0</td>\n",
       "    </tr>\n",
       "    <tr>\n",
       "      <th>std</th>\n",
       "      <td>94977.0</td>\n",
       "      <td>8.0</td>\n",
       "      <td>1714.0</td>\n",
       "      <td>99.0</td>\n",
       "      <td>5.0</td>\n",
       "      <td>815.0</td>\n",
       "      <td>53686.0</td>\n",
       "      <td>15096014.0</td>\n",
       "      <td>2.0</td>\n",
       "      <td>4.0</td>\n",
       "      <td>352.0</td>\n",
       "      <td>1194.0</td>\n",
       "      <td>558.0</td>\n",
       "      <td>0.0</td>\n",
       "      <td>0.0</td>\n",
       "      <td>8.0</td>\n",
       "      <td>11.0</td>\n",
       "      <td>34671.0</td>\n",
       "    </tr>\n",
       "    <tr>\n",
       "      <th>min</th>\n",
       "      <td>1.0</td>\n",
       "      <td>1.0</td>\n",
       "      <td>3.0</td>\n",
       "      <td>0.0</td>\n",
       "      <td>0.0</td>\n",
       "      <td>0.0</td>\n",
       "      <td>0.0</td>\n",
       "      <td>182.0</td>\n",
       "      <td>0.0</td>\n",
       "      <td>0.0</td>\n",
       "      <td>0.0</td>\n",
       "      <td>16.0</td>\n",
       "      <td>0.0</td>\n",
       "      <td>0.0</td>\n",
       "      <td>0.0</td>\n",
       "      <td>-7.0</td>\n",
       "      <td>-41.0</td>\n",
       "      <td>28.0</td>\n",
       "    </tr>\n",
       "    <tr>\n",
       "      <th>25%</th>\n",
       "      <td>1471.0</td>\n",
       "      <td>6.0</td>\n",
       "      <td>60.0</td>\n",
       "      <td>3.0</td>\n",
       "      <td>0.0</td>\n",
       "      <td>115.0</td>\n",
       "      <td>1030.0</td>\n",
       "      <td>89906.0</td>\n",
       "      <td>0.0</td>\n",
       "      <td>0.0</td>\n",
       "      <td>28.0</td>\n",
       "      <td>1042.0</td>\n",
       "      <td>35.0</td>\n",
       "      <td>1.0</td>\n",
       "      <td>0.0</td>\n",
       "      <td>0.0</td>\n",
       "      <td>0.0</td>\n",
       "      <td>24119.0</td>\n",
       "    </tr>\n",
       "    <tr>\n",
       "      <th>50%</th>\n",
       "      <td>6332.0</td>\n",
       "      <td>12.0</td>\n",
       "      <td>356.0</td>\n",
       "      <td>13.0</td>\n",
       "      <td>0.0</td>\n",
       "      <td>401.0</td>\n",
       "      <td>2740.0</td>\n",
       "      <td>326204.0</td>\n",
       "      <td>0.0</td>\n",
       "      <td>2.0</td>\n",
       "      <td>323.0</td>\n",
       "      <td>1910.0</td>\n",
       "      <td>253.0</td>\n",
       "      <td>1.0</td>\n",
       "      <td>0.0</td>\n",
       "      <td>3.0</td>\n",
       "      <td>2.0</td>\n",
       "      <td>50166.0</td>\n",
       "    </tr>\n",
       "    <tr>\n",
       "      <th>75%</th>\n",
       "      <td>21518.0</td>\n",
       "      <td>19.0</td>\n",
       "      <td>1080.0</td>\n",
       "      <td>44.0</td>\n",
       "      <td>1.0</td>\n",
       "      <td>921.0</td>\n",
       "      <td>13100.0</td>\n",
       "      <td>1224804.0</td>\n",
       "      <td>0.0</td>\n",
       "      <td>7.0</td>\n",
       "      <td>742.0</td>\n",
       "      <td>2756.0</td>\n",
       "      <td>893.0</td>\n",
       "      <td>1.0</td>\n",
       "      <td>0.0</td>\n",
       "      <td>10.0</td>\n",
       "      <td>9.0</td>\n",
       "      <td>82302.0</td>\n",
       "    </tr>\n",
       "    <tr>\n",
       "      <th>max</th>\n",
       "      <td>4338084.0</td>\n",
       "      <td>30.0</td>\n",
       "      <td>43200.0</td>\n",
       "      <td>2440.0</td>\n",
       "      <td>203.0</td>\n",
       "      <td>4897.0</td>\n",
       "      <td>798000.0</td>\n",
       "      <td>525487655.0</td>\n",
       "      <td>10.0</td>\n",
       "      <td>16.0</td>\n",
       "      <td>1000.0</td>\n",
       "      <td>5297.0</td>\n",
       "      <td>3136.0</td>\n",
       "      <td>1.0</td>\n",
       "      <td>1.0</td>\n",
       "      <td>41.0</td>\n",
       "      <td>162.0</td>\n",
       "      <td>123359.0</td>\n",
       "    </tr>\n",
       "  </tbody>\n",
       "</table>\n",
       "</div>"
      ],
      "text/plain": [
       "       views_video  video_order_num  duration_sec   likes  dislikes  \\\n",
       "count       5589.0           5589.0        5589.0  5589.0    5589.0   \n",
       "mean       25689.0             13.0         894.0    45.0       1.0   \n",
       "std        94977.0              8.0        1714.0    99.0       5.0   \n",
       "min            1.0              1.0           3.0     0.0       0.0   \n",
       "25%         1471.0              6.0          60.0     3.0       0.0   \n",
       "50%         6332.0             12.0         356.0    13.0       0.0   \n",
       "75%        21518.0             19.0        1080.0    44.0       1.0   \n",
       "max      4338084.0             30.0       43200.0  2440.0     203.0   \n",
       "\n",
       "       video_desc_length  subscriber_count  total_views_channel  \\\n",
       "count             5589.0            5589.0               5589.0   \n",
       "mean               682.0           18244.0            2586366.0   \n",
       "std                815.0           53686.0           15096014.0   \n",
       "min                  0.0               0.0                182.0   \n",
       "25%                115.0            1030.0              89906.0   \n",
       "50%                401.0            2740.0             326204.0   \n",
       "75%                921.0           13100.0            1224804.0   \n",
       "max               4897.0          798000.0          525487655.0   \n",
       "\n",
       "       n_featured_channels  n_promo_links  channel_desc_length  \\\n",
       "count               5589.0         5589.0               5589.0   \n",
       "mean                   1.0            4.0                400.0   \n",
       "std                    2.0            4.0                352.0   \n",
       "min                    0.0            0.0                  0.0   \n",
       "25%                    0.0            0.0                 28.0   \n",
       "50%                    0.0            2.0                323.0   \n",
       "75%                    0.0            7.0                742.0   \n",
       "max                   10.0           16.0               1000.0   \n",
       "\n",
       "       channel_age_days  video_age_days  delivery_method_Published  \\\n",
       "count            5589.0          5589.0                     5589.0   \n",
       "mean             2032.0           502.0                        1.0   \n",
       "std              1194.0           558.0                        0.0   \n",
       "min                16.0             0.0                        0.0   \n",
       "25%              1042.0            35.0                        1.0   \n",
       "50%              1910.0           253.0                        1.0   \n",
       "75%              2756.0           893.0                        1.0   \n",
       "max              5297.0          3136.0                        1.0   \n",
       "\n",
       "       delivery_method_Streamed live  sentiment_score_channel_desc  \\\n",
       "count                         5589.0                        5589.0   \n",
       "mean                             0.0                           6.0   \n",
       "std                              0.0                           8.0   \n",
       "min                              0.0                          -7.0   \n",
       "25%                              0.0                           0.0   \n",
       "50%                              0.0                           3.0   \n",
       "75%                              0.0                          10.0   \n",
       "max                              1.0                          41.0   \n",
       "\n",
       "       sentiment_score_video_desc       res  \n",
       "count                      5589.0    5589.0  \n",
       "mean                          6.0   54200.0  \n",
       "std                          11.0   34671.0  \n",
       "min                         -41.0      28.0  \n",
       "25%                           0.0   24119.0  \n",
       "50%                           2.0   50166.0  \n",
       "75%                           9.0   82302.0  \n",
       "max                         162.0  123359.0  "
      ]
     },
     "execution_count": 22,
     "metadata": {},
     "output_type": "execute_result"
    }
   ],
   "source": [
    "round(df_no_outliers.describe())"
   ]
  },
  {
   "cell_type": "markdown",
   "metadata": {},
   "source": [
    "## Baseline Regression with Outliers Removed"
   ]
  },
  {
   "cell_type": "code",
   "execution_count": 23,
   "metadata": {},
   "outputs": [],
   "source": [
    "X_train, X_test, y_train, y_test = train_test_split(X_df_no_outliers, \n",
    "                                                    y_no_outliers, \n",
    "                                                    test_size=0.3, \n",
    "                                                    random_state=42)"
   ]
  },
  {
   "cell_type": "code",
   "execution_count": 24,
   "metadata": {},
   "outputs": [
    {
     "data": {
      "text/plain": [
       "LinearRegression(copy_X=True, fit_intercept=True, n_jobs=None, normalize=False)"
      ]
     },
     "execution_count": 24,
     "metadata": {},
     "output_type": "execute_result"
    }
   ],
   "source": [
    "vanilla_LR_no = LinearRegression()\n",
    "vanilla_LR_no.fit(X_train,y_train)"
   ]
  },
  {
   "cell_type": "code",
   "execution_count": 25,
   "metadata": {},
   "outputs": [
    {
     "data": {
      "text/plain": [
       "0.9068768699977708"
      ]
     },
     "execution_count": 25,
     "metadata": {},
     "output_type": "execute_result"
    }
   ],
   "source": [
    "vanilla_LR_no.score(X_train,y_train) #--> outliers"
   ]
  },
  {
   "cell_type": "code",
   "execution_count": 26,
   "metadata": {
    "scrolled": true
   },
   "outputs": [
    {
     "data": {
      "text/plain": [
       "0.6294751526179592"
      ]
     },
     "execution_count": 26,
     "metadata": {},
     "output_type": "execute_result"
    }
   ],
   "source": [
    "vanilla_LR_no.score(X_test,y_test)"
   ]
  },
  {
   "cell_type": "markdown",
   "metadata": {},
   "source": [
    "## Regularizing, keeping Original Features"
   ]
  },
  {
   "cell_type": "code",
   "execution_count": 27,
   "metadata": {},
   "outputs": [],
   "source": [
    "std = StandardScaler()\n",
    "std.fit(X_train)\n",
    "X_tr = std.transform(X_train)\n",
    "X_te = std.transform(X_test)#numpy.ndarray"
   ]
  },
  {
   "cell_type": "code",
   "execution_count": 28,
   "metadata": {},
   "outputs": [],
   "source": [
    "alphavec = 10**np.linspace(-6,4,200)\n",
    "lasso_model = LassoCV(alphas = alphavec, cv=5)\n",
    "lasso_model.fit(X_tr, y_train);"
   ]
  },
  {
   "cell_type": "code",
   "execution_count": 29,
   "metadata": {
    "scrolled": true
   },
   "outputs": [
    {
     "data": {
      "text/plain": [
       "0.9067556235835056"
      ]
     },
     "execution_count": 29,
     "metadata": {},
     "output_type": "execute_result"
    }
   ],
   "source": [
    "lasso_model.score(X_tr,y_train)"
   ]
  },
  {
   "cell_type": "code",
   "execution_count": 30,
   "metadata": {},
   "outputs": [
    {
     "data": {
      "text/plain": [
       "77.52597488629465"
      ]
     },
     "execution_count": 30,
     "metadata": {},
     "output_type": "execute_result"
    }
   ],
   "source": [
    "lasso_model.alpha_"
   ]
  },
  {
   "cell_type": "code",
   "execution_count": 31,
   "metadata": {
    "scrolled": true
   },
   "outputs": [
    {
     "data": {
      "text/plain": [
       "0.6290198539565494"
      ]
     },
     "execution_count": 31,
     "metadata": {},
     "output_type": "execute_result"
    }
   ],
   "source": [
    "lasso_model.score(X_te,y_test) ##doesnt work as it is about variation in the data, "
   ]
  },
  {
   "cell_type": "markdown",
   "metadata": {},
   "source": [
    "## Adding Channel Level Aggrigative Features"
   ]
  },
  {
   "cell_type": "code",
   "execution_count": 32,
   "metadata": {},
   "outputs": [],
   "source": [
    "df_channel_video_history = (df_no_outliers\n",
    " .groupby(['channel_URL'])[['views_video', 'video_order_num', 'video_desc_length', \n",
    "                            'likes', 'dislikes', 'duration_sec', \n",
    "                            'video_age_days', 'sentiment_score_video_desc']]\n",
    " .agg({\n",
    "     'views_video':'mean',\n",
    "     'video_order_num':'count',\n",
    "     'video_desc_length': 'mean',\n",
    "     'likes':'sum',\n",
    "     'dislikes':'sum',\n",
    "     'duration_sec':'mean',\n",
    "     'video_age_days':'mean',\n",
    "     'sentiment_score_video_desc':'mean'\n",
    "     \n",
    " })\n",
    ")"
   ]
  },
  {
   "cell_type": "code",
   "execution_count": 33,
   "metadata": {},
   "outputs": [],
   "source": [
    "df_no_outliers = df_no_outliers.join(df_channel_video_history, on='channel_URL', how='left', rsuffix='_history')"
   ]
  },
  {
   "cell_type": "code",
   "execution_count": 34,
   "metadata": {
    "scrolled": true
   },
   "outputs": [
    {
     "data": {
      "text/plain": [
       "Index(['views_video', 'video_order_num', 'duration_sec', 'likes', 'dislikes',\n",
       "       'video_desc_length', 'subscriber_count', 'total_views_channel',\n",
       "       'n_featured_channels', 'n_promo_links', 'channel_desc_length',\n",
       "       'channel_age_days', 'video_age_days', 'delivery_method_Published',\n",
       "       'delivery_method_Streamed live', 'sentiment_score_channel_desc',\n",
       "       'sentiment_score_video_desc', 'channel_URL', 'channel_name', 'res',\n",
       "       'views_video_history', 'video_order_num_history',\n",
       "       'video_desc_length_history', 'likes_history', 'dislikes_history',\n",
       "       'duration_sec_history', 'video_age_days_history',\n",
       "       'sentiment_score_video_desc_history'],\n",
       "      dtype='object')"
      ]
     },
     "execution_count": 34,
     "metadata": {},
     "output_type": "execute_result"
    }
   ],
   "source": [
    "df_no_outliers.columns"
   ]
  },
  {
   "cell_type": "code",
   "execution_count": 35,
   "metadata": {},
   "outputs": [],
   "source": [
    "df_no_outliers.rename(columns={'views_video_history':'views_video_hist_mean',\n",
    "                   'video_order_num_history':'video_order_num_hist_count',\n",
    "                   'video_desc_length_history':'video_desc_length_hist_mean', \n",
    "                   'likes_history':'likes_hist_sum', \n",
    "                   'dislikes_history':'dislikes_hist_sum',\n",
    "                   'duration_sec_history':'duration_sec_hist_mean', \n",
    "                   'video_age_days_history':'video_age_days_hist_mean',\n",
    "                   'sentiment_score_video_desc_history':'sentiment_score_video_desc_hist_mean'}, \n",
    "          inplace=True)"
   ]
  },
  {
   "cell_type": "code",
   "execution_count": 36,
   "metadata": {},
   "outputs": [
    {
     "data": {
      "text/plain": [
       "Index(['views_video', 'video_order_num', 'duration_sec', 'likes', 'dislikes',\n",
       "       'video_desc_length', 'subscriber_count', 'total_views_channel',\n",
       "       'n_featured_channels', 'n_promo_links', 'channel_desc_length',\n",
       "       'channel_age_days', 'video_age_days', 'delivery_method_Published',\n",
       "       'delivery_method_Streamed live', 'sentiment_score_channel_desc',\n",
       "       'sentiment_score_video_desc', 'channel_URL', 'channel_name', 'res',\n",
       "       'views_video_hist_mean', 'video_order_num_hist_count',\n",
       "       'video_desc_length_hist_mean', 'likes_hist_sum', 'dislikes_hist_sum',\n",
       "       'duration_sec_hist_mean', 'video_age_days_hist_mean',\n",
       "       'sentiment_score_video_desc_hist_mean'],\n",
       "      dtype='object')"
      ]
     },
     "execution_count": 36,
     "metadata": {},
     "output_type": "execute_result"
    }
   ],
   "source": [
    "df_no_outliers.columns"
   ]
  },
  {
   "cell_type": "markdown",
   "metadata": {},
   "source": [
    "## Add polynomial and interaction terms "
   ]
  },
  {
   "cell_type": "code",
   "execution_count": 37,
   "metadata": {},
   "outputs": [],
   "source": [
    "X_array_h = df_no_outliers.loc[:,['video_order_num', 'duration_sec', 'likes', 'dislikes',\n",
    "       'video_desc_length', 'subscriber_count', 'total_views_channel',\n",
    "       'n_featured_channels', 'n_promo_links', 'channel_desc_length',\n",
    "       'channel_age_days', 'video_age_days', 'delivery_method_Published',\n",
    "       'delivery_method_Streamed live', 'sentiment_score_channel_desc',\n",
    "       'sentiment_score_video_desc',\n",
    "       'views_video_hist_mean', 'video_order_num_hist_count',\n",
    "       'video_desc_length_hist_mean', 'likes_hist_sum', 'dislikes_hist_sum',\n",
    "       'duration_sec_hist_mean', 'video_age_days_hist_mean',\n",
    "       'sentiment_score_video_desc_hist_mean']].values.reshape(-1, 1)\n",
    "\n",
    "X_df_h = df_no_outliers[['video_order_num', 'duration_sec', 'likes', 'dislikes',\n",
    "       'video_desc_length', 'subscriber_count', 'total_views_channel',\n",
    "       'n_featured_channels', 'n_promo_links', 'channel_desc_length',\n",
    "       'channel_age_days', 'video_age_days', 'delivery_method_Published',\n",
    "       'delivery_method_Streamed live', 'sentiment_score_channel_desc',\n",
    "       'sentiment_score_video_desc',\n",
    "       'views_video_hist_mean', 'video_order_num_hist_count',\n",
    "       'video_desc_length_hist_mean', 'likes_hist_sum', 'dislikes_hist_sum',\n",
    "       'duration_sec_hist_mean', 'video_age_days_hist_mean',\n",
    "       'sentiment_score_video_desc_hist_mean']]\n",
    "\n",
    "y_h = df_no_outliers['views_video']"
   ]
  },
  {
   "cell_type": "code",
   "execution_count": 38,
   "metadata": {},
   "outputs": [
    {
     "data": {
      "text/plain": [
       "PolynomialFeatures(degree=2, include_bias=True, interaction_only=False,\n",
       "                   order='C')"
      ]
     },
     "execution_count": 38,
     "metadata": {},
     "output_type": "execute_result"
    }
   ],
   "source": [
    "pf = PolynomialFeatures(degree=2)\n",
    "orig_features_h = X_df_h.columns\n",
    "pf.fit(df_no_outliers[orig_features_h])"
   ]
  },
  {
   "cell_type": "code",
   "execution_count": 39,
   "metadata": {},
   "outputs": [],
   "source": [
    "feat_array_h = pf.transform(df_no_outliers[orig_features_h])\n",
    "feat_array_h = pd.DataFrame(feat_array_h, columns = pf.get_feature_names(input_features=orig_features_h))"
   ]
  },
  {
   "cell_type": "code",
   "execution_count": 40,
   "metadata": {},
   "outputs": [
    {
     "data": {
      "text/plain": [
       "LinearRegression(copy_X=True, fit_intercept=True, n_jobs=None, normalize=False)"
      ]
     },
     "execution_count": 40,
     "metadata": {},
     "output_type": "execute_result"
    }
   ],
   "source": [
    "X_train, X_test, y_train, y_test = train_test_split(feat_array_h, y_h, \n",
    "                                                    test_size=0.3, \n",
    "                                                    random_state=42)\n",
    "model_w_poly_feat_h = LinearRegression()\n",
    "model_w_poly_feat_h.fit(X_train,y_train)"
   ]
  },
  {
   "cell_type": "code",
   "execution_count": 41,
   "metadata": {},
   "outputs": [
    {
     "data": {
      "text/plain": [
       "0.969861153992098"
      ]
     },
     "execution_count": 41,
     "metadata": {},
     "output_type": "execute_result"
    }
   ],
   "source": [
    "model_w_poly_feat_h.score(X_train,y_train)"
   ]
  },
  {
   "cell_type": "code",
   "execution_count": 42,
   "metadata": {},
   "outputs": [
    {
     "data": {
      "text/plain": [
       "0.7581980182699333"
      ]
     },
     "execution_count": 42,
     "metadata": {},
     "output_type": "execute_result"
    }
   ],
   "source": [
    "model_w_poly_feat_h.score(X_test,y_test) #overfit alert! regularize"
   ]
  },
  {
   "cell_type": "code",
   "execution_count": 43,
   "metadata": {},
   "outputs": [],
   "source": [
    "std = StandardScaler()\n",
    "std.fit(X_train)\n",
    "X_tr = std.transform(X_train)\n",
    "X_te = std.transform(X_test)#numpy.ndarray\n",
    "alphavec = 10**np.linspace(-10,10,200)\n",
    "lasso_model_w_poly_feat_h = LassoCV(alphas = alphavec, cv=5)\n",
    "lasso_model_w_poly_feat_h.fit(X_tr, y_train);"
   ]
  },
  {
   "cell_type": "code",
   "execution_count": 44,
   "metadata": {},
   "outputs": [
    {
     "data": {
      "text/plain": [
       "0.9589580705171986"
      ]
     },
     "execution_count": 44,
     "metadata": {},
     "output_type": "execute_result"
    }
   ],
   "source": [
    "lasso_model_w_poly_feat_h.score(X_tr,y_train) ##note:ridge gives slightly worse result"
   ]
  },
  {
   "cell_type": "code",
   "execution_count": 45,
   "metadata": {},
   "outputs": [
    {
     "data": {
      "text/plain": [
       "580.5225516094907"
      ]
     },
     "execution_count": 45,
     "metadata": {},
     "output_type": "execute_result"
    }
   ],
   "source": [
    "lasso_model_w_poly_feat_h.alpha_"
   ]
  },
  {
   "cell_type": "code",
   "execution_count": 46,
   "metadata": {},
   "outputs": [
    {
     "data": {
      "text/plain": [
       "0.7979397733493132"
      ]
     },
     "execution_count": 46,
     "metadata": {},
     "output_type": "execute_result"
    }
   ],
   "source": [
    "lasso_model_w_poly_feat_h.score(X_te,y_test)"
   ]
  },
  {
   "cell_type": "code",
   "execution_count": 47,
   "metadata": {},
   "outputs": [],
   "source": [
    "coefs = list(zip(X_train.columns, lasso_model_w_poly_feat_h.coef_))"
   ]
  },
  {
   "cell_type": "code",
   "execution_count": 49,
   "metadata": {
    "scrolled": false
   },
   "outputs": [
    {
     "data": {
      "text/html": [
       "<div>\n",
       "<style scoped>\n",
       "    .dataframe tbody tr th:only-of-type {\n",
       "        vertical-align: middle;\n",
       "    }\n",
       "\n",
       "    .dataframe tbody tr th {\n",
       "        vertical-align: top;\n",
       "    }\n",
       "\n",
       "    .dataframe thead th {\n",
       "        text-align: right;\n",
       "    }\n",
       "</style>\n",
       "<table border=\"1\" class=\"dataframe\">\n",
       "  <thead>\n",
       "    <tr style=\"text-align: right;\">\n",
       "      <th></th>\n",
       "      <th>variable</th>\n",
       "      <th>coefficient</th>\n",
       "    </tr>\n",
       "  </thead>\n",
       "  <tbody>\n",
       "    <tr>\n",
       "      <th>0</th>\n",
       "      <td>1</td>\n",
       "      <td>0.000000</td>\n",
       "    </tr>\n",
       "    <tr>\n",
       "      <th>1</th>\n",
       "      <td>video_order_num</td>\n",
       "      <td>-0.000000</td>\n",
       "    </tr>\n",
       "    <tr>\n",
       "      <th>2</th>\n",
       "      <td>duration_sec</td>\n",
       "      <td>-0.000000</td>\n",
       "    </tr>\n",
       "    <tr>\n",
       "      <th>3</th>\n",
       "      <td>likes</td>\n",
       "      <td>13295.319761</td>\n",
       "    </tr>\n",
       "    <tr>\n",
       "      <th>4</th>\n",
       "      <td>dislikes</td>\n",
       "      <td>4625.622935</td>\n",
       "    </tr>\n",
       "    <tr>\n",
       "      <th>...</th>\n",
       "      <td>...</td>\n",
       "      <td>...</td>\n",
       "    </tr>\n",
       "    <tr>\n",
       "      <th>320</th>\n",
       "      <td>duration_sec_hist_mean video_age_days_hist_mean</td>\n",
       "      <td>-0.000000</td>\n",
       "    </tr>\n",
       "    <tr>\n",
       "      <th>321</th>\n",
       "      <td>duration_sec_hist_mean sentiment_score_video_d...</td>\n",
       "      <td>-0.000000</td>\n",
       "    </tr>\n",
       "    <tr>\n",
       "      <th>322</th>\n",
       "      <td>video_age_days_hist_mean^2</td>\n",
       "      <td>-0.000000</td>\n",
       "    </tr>\n",
       "    <tr>\n",
       "      <th>323</th>\n",
       "      <td>video_age_days_hist_mean sentiment_score_video...</td>\n",
       "      <td>-0.000000</td>\n",
       "    </tr>\n",
       "    <tr>\n",
       "      <th>324</th>\n",
       "      <td>sentiment_score_video_desc_hist_mean^2</td>\n",
       "      <td>-0.000000</td>\n",
       "    </tr>\n",
       "  </tbody>\n",
       "</table>\n",
       "<p>325 rows × 2 columns</p>\n",
       "</div>"
      ],
      "text/plain": [
       "                                              variable   coefficient\n",
       "0                                                    1      0.000000\n",
       "1                                      video_order_num     -0.000000\n",
       "2                                         duration_sec     -0.000000\n",
       "3                                                likes  13295.319761\n",
       "4                                             dislikes   4625.622935\n",
       "..                                                 ...           ...\n",
       "320    duration_sec_hist_mean video_age_days_hist_mean     -0.000000\n",
       "321  duration_sec_hist_mean sentiment_score_video_d...     -0.000000\n",
       "322                         video_age_days_hist_mean^2     -0.000000\n",
       "323  video_age_days_hist_mean sentiment_score_video...     -0.000000\n",
       "324             sentiment_score_video_desc_hist_mean^2     -0.000000\n",
       "\n",
       "[325 rows x 2 columns]"
      ]
     },
     "execution_count": 49,
     "metadata": {},
     "output_type": "execute_result"
    }
   ],
   "source": [
    "df_coefs = pd.DataFrame(coefs, columns=['variable', 'coefficient'])\n",
    "df_coefs"
   ]
  },
  {
   "cell_type": "code",
   "execution_count": 50,
   "metadata": {},
   "outputs": [
    {
     "data": {
      "text/html": [
       "<div>\n",
       "<style scoped>\n",
       "    .dataframe tbody tr th:only-of-type {\n",
       "        vertical-align: middle;\n",
       "    }\n",
       "\n",
       "    .dataframe tbody tr th {\n",
       "        vertical-align: top;\n",
       "    }\n",
       "\n",
       "    .dataframe thead th {\n",
       "        text-align: right;\n",
       "    }\n",
       "</style>\n",
       "<table border=\"1\" class=\"dataframe\">\n",
       "  <thead>\n",
       "    <tr style=\"text-align: right;\">\n",
       "      <th></th>\n",
       "      <th>variable</th>\n",
       "      <th>coefficient</th>\n",
       "    </tr>\n",
       "  </thead>\n",
       "  <tbody>\n",
       "    <tr>\n",
       "      <th>3</th>\n",
       "      <td>likes</td>\n",
       "      <td>13295.319761</td>\n",
       "    </tr>\n",
       "    <tr>\n",
       "      <th>4</th>\n",
       "      <td>dislikes</td>\n",
       "      <td>4625.622935</td>\n",
       "    </tr>\n",
       "    <tr>\n",
       "      <th>17</th>\n",
       "      <td>views_video_hist_mean</td>\n",
       "      <td>12693.248834</td>\n",
       "    </tr>\n",
       "    <tr>\n",
       "      <th>29</th>\n",
       "      <td>video_order_num video_desc_length</td>\n",
       "      <td>1218.914557</td>\n",
       "    </tr>\n",
       "    <tr>\n",
       "      <th>50</th>\n",
       "      <td>duration_sec likes</td>\n",
       "      <td>2629.156653</td>\n",
       "    </tr>\n",
       "    <tr>\n",
       "      <th>72</th>\n",
       "      <td>likes^2</td>\n",
       "      <td>9265.330637</td>\n",
       "    </tr>\n",
       "    <tr>\n",
       "      <th>77</th>\n",
       "      <td>likes n_featured_channels</td>\n",
       "      <td>2.483314</td>\n",
       "    </tr>\n",
       "    <tr>\n",
       "      <th>80</th>\n",
       "      <td>likes channel_age_days</td>\n",
       "      <td>2182.129818</td>\n",
       "    </tr>\n",
       "    <tr>\n",
       "      <th>81</th>\n",
       "      <td>likes video_age_days</td>\n",
       "      <td>26155.668401</td>\n",
       "    </tr>\n",
       "    <tr>\n",
       "      <th>82</th>\n",
       "      <td>likes delivery_method_Published</td>\n",
       "      <td>4073.094820</td>\n",
       "    </tr>\n",
       "    <tr>\n",
       "      <th>90</th>\n",
       "      <td>likes dislikes_hist_sum</td>\n",
       "      <td>8389.531380</td>\n",
       "    </tr>\n",
       "    <tr>\n",
       "      <th>92</th>\n",
       "      <td>likes video_age_days_hist_mean</td>\n",
       "      <td>5640.570294</td>\n",
       "    </tr>\n",
       "    <tr>\n",
       "      <th>101</th>\n",
       "      <td>dislikes channel_age_days</td>\n",
       "      <td>5529.279079</td>\n",
       "    </tr>\n",
       "    <tr>\n",
       "      <th>102</th>\n",
       "      <td>dislikes video_age_days</td>\n",
       "      <td>11912.938432</td>\n",
       "    </tr>\n",
       "    <tr>\n",
       "      <th>103</th>\n",
       "      <td>dislikes delivery_method_Published</td>\n",
       "      <td>27300.343340</td>\n",
       "    </tr>\n",
       "    <tr>\n",
       "      <th>122</th>\n",
       "      <td>video_desc_length video_age_days</td>\n",
       "      <td>774.920081</td>\n",
       "    </tr>\n",
       "    <tr>\n",
       "      <th>125</th>\n",
       "      <td>video_desc_length sentiment_score_channel_desc</td>\n",
       "      <td>445.243031</td>\n",
       "    </tr>\n",
       "    <tr>\n",
       "      <th>128</th>\n",
       "      <td>video_desc_length video_order_num_hist_count</td>\n",
       "      <td>208.373123</td>\n",
       "    </tr>\n",
       "    <tr>\n",
       "      <th>147</th>\n",
       "      <td>subscriber_count video_order_num_hist_count</td>\n",
       "      <td>850.091660</td>\n",
       "    </tr>\n",
       "    <tr>\n",
       "      <th>221</th>\n",
       "      <td>channel_age_days video_age_days</td>\n",
       "      <td>829.246690</td>\n",
       "    </tr>\n",
       "    <tr>\n",
       "      <th>234</th>\n",
       "      <td>video_age_days^2</td>\n",
       "      <td>2233.943947</td>\n",
       "    </tr>\n",
       "    <tr>\n",
       "      <th>239</th>\n",
       "      <td>video_age_days views_video_hist_mean</td>\n",
       "      <td>1912.867828</td>\n",
       "    </tr>\n",
       "    <tr>\n",
       "      <th>251</th>\n",
       "      <td>delivery_method_Published views_video_hist_mean</td>\n",
       "      <td>929.491421</td>\n",
       "    </tr>\n",
       "    <tr>\n",
       "      <th>265</th>\n",
       "      <td>delivery_method_Streamed live likes_hist_sum</td>\n",
       "      <td>1168.750484</td>\n",
       "    </tr>\n",
       "    <tr>\n",
       "      <th>290</th>\n",
       "      <td>views_video_hist_mean video_order_num_hist_count</td>\n",
       "      <td>6287.294490</td>\n",
       "    </tr>\n",
       "  </tbody>\n",
       "</table>\n",
       "</div>"
      ],
      "text/plain": [
       "                                             variable   coefficient\n",
       "3                                               likes  13295.319761\n",
       "4                                            dislikes   4625.622935\n",
       "17                              views_video_hist_mean  12693.248834\n",
       "29                  video_order_num video_desc_length   1218.914557\n",
       "50                                 duration_sec likes   2629.156653\n",
       "72                                            likes^2   9265.330637\n",
       "77                          likes n_featured_channels      2.483314\n",
       "80                             likes channel_age_days   2182.129818\n",
       "81                               likes video_age_days  26155.668401\n",
       "82                    likes delivery_method_Published   4073.094820\n",
       "90                            likes dislikes_hist_sum   8389.531380\n",
       "92                     likes video_age_days_hist_mean   5640.570294\n",
       "101                         dislikes channel_age_days   5529.279079\n",
       "102                           dislikes video_age_days  11912.938432\n",
       "103                dislikes delivery_method_Published  27300.343340\n",
       "122                  video_desc_length video_age_days    774.920081\n",
       "125    video_desc_length sentiment_score_channel_desc    445.243031\n",
       "128      video_desc_length video_order_num_hist_count    208.373123\n",
       "147       subscriber_count video_order_num_hist_count    850.091660\n",
       "221                   channel_age_days video_age_days    829.246690\n",
       "234                                  video_age_days^2   2233.943947\n",
       "239              video_age_days views_video_hist_mean   1912.867828\n",
       "251   delivery_method_Published views_video_hist_mean    929.491421\n",
       "265      delivery_method_Streamed live likes_hist_sum   1168.750484\n",
       "290  views_video_hist_mean video_order_num_hist_count   6287.294490"
      ]
     },
     "execution_count": 50,
     "metadata": {},
     "output_type": "execute_result"
    }
   ],
   "source": [
    "df_coefs[df_coefs['coefficient']>0.0]"
   ]
  },
  {
   "cell_type": "code",
   "execution_count": 51,
   "metadata": {},
   "outputs": [],
   "source": [
    "#95, 74 --> #99,77"
   ]
  },
  {
   "cell_type": "code",
   "execution_count": 52,
   "metadata": {},
   "outputs": [],
   "source": [
    "test_set_pred = lasso_model_w_poly_feat_h.predict(X_te)"
   ]
  },
  {
   "cell_type": "code",
   "execution_count": 53,
   "metadata": {},
   "outputs": [
    {
     "data": {
      "text/plain": [
       "11712.237203148024"
      ]
     },
     "execution_count": 53,
     "metadata": {},
     "output_type": "execute_result"
    }
   ],
   "source": [
    "#mae\n",
    "np.mean(np.abs(test_set_pred - y_test))"
   ]
  },
  {
   "cell_type": "markdown",
   "metadata": {},
   "source": [
    "## Model2: Remove variables that we do not have for new video"
   ]
  },
  {
   "cell_type": "markdown",
   "metadata": {},
   "source": [
    "Inspect"
   ]
  },
  {
   "cell_type": "code",
   "execution_count": 54,
   "metadata": {},
   "outputs": [],
   "source": [
    "df_nolidisl = df_no_outliers.drop(['likes', 'dislikes','channel_URL', 'channel_name'], axis=1)"
   ]
  },
  {
   "cell_type": "code",
   "execution_count": 55,
   "metadata": {},
   "outputs": [
    {
     "data": {
      "image/png": "[encoded data removed]",
      "text/plain": [
       "<Figure size 720x720 with 2 Axes>"
      ]
     },
     "metadata": {},
     "output_type": "display_data"
    }
   ],
   "source": [
    "plt.figure(figsize=[10,10])\n",
    "sns.heatmap(df_nolidisl.corr(), square=False, cmap=\"seismic\", annot=False,  vmin=-1, vmax=1)\n",
    "plt.gca().set_xlim(1);"
   ]
  },
  {
   "cell_type": "markdown",
   "metadata": {},
   "source": [
    "Model"
   ]
  },
  {
   "cell_type": "code",
   "execution_count": 56,
   "metadata": {},
   "outputs": [],
   "source": [
    "X_array_no_outliers = df_no_outliers.loc[:,'video_order_num':'sentiment_score_video_desc'].values.reshape(-1, 1)\n",
    "X_df_no_outliers = df_no_outliers[['video_order_num', 'duration_sec', \n",
    "       'video_desc_length', 'subscriber_count', 'total_views_channel',\n",
    "       'n_featured_channels', 'n_promo_links', 'channel_desc_length',\n",
    "       'channel_age_days', 'video_age_days', 'delivery_method_Published',\n",
    "       'delivery_method_Streamed live', 'sentiment_score_channel_desc',\n",
    "       'sentiment_score_video_desc']]\n",
    "y_no_outliers = df_no_outliers['views_video']"
   ]
  },
  {
   "cell_type": "code",
   "execution_count": 57,
   "metadata": {},
   "outputs": [],
   "source": [
    "X_train, X_test, y_train, y_test = train_test_split(X_df_no_outliers, \n",
    "                                                    y_no_outliers, \n",
    "                                                    test_size=0.3, \n",
    "                                                    random_state=42)"
   ]
  },
  {
   "cell_type": "code",
   "execution_count": 58,
   "metadata": {},
   "outputs": [
    {
     "data": {
      "text/plain": [
       "LinearRegression(copy_X=True, fit_intercept=True, n_jobs=None, normalize=False)"
      ]
     },
     "execution_count": 58,
     "metadata": {},
     "output_type": "execute_result"
    }
   ],
   "source": [
    "vanilla_LR_no = LinearRegression()\n",
    "vanilla_LR_no.fit(X_train,y_train)"
   ]
  },
  {
   "cell_type": "code",
   "execution_count": 59,
   "metadata": {},
   "outputs": [
    {
     "data": {
      "text/plain": [
       "0.12118359548189472"
      ]
     },
     "execution_count": 59,
     "metadata": {},
     "output_type": "execute_result"
    }
   ],
   "source": [
    "vanilla_LR_no.score(X_train,y_train) #--> outliers"
   ]
  },
  {
   "cell_type": "code",
   "execution_count": 60,
   "metadata": {
    "scrolled": true
   },
   "outputs": [
    {
     "data": {
      "text/plain": [
       "0.12872661784780726"
      ]
     },
     "execution_count": 60,
     "metadata": {},
     "output_type": "execute_result"
    }
   ],
   "source": [
    "vanilla_LR_no.score(X_test,y_test)"
   ]
  },
  {
   "cell_type": "markdown",
   "metadata": {},
   "source": [
    "## Regularizing, keeping Original Features"
   ]
  },
  {
   "cell_type": "code",
   "execution_count": 61,
   "metadata": {},
   "outputs": [],
   "source": [
    "std = StandardScaler()\n",
    "std.fit(X_train)\n",
    "X_tr = std.transform(X_train)\n",
    "X_te = std.transform(X_test)#numpy.ndarray"
   ]
  },
  {
   "cell_type": "code",
   "execution_count": 62,
   "metadata": {},
   "outputs": [],
   "source": [
    "alphavec = 10**np.linspace(-6,4,200)\n",
    "lasso_model = LassoCV(alphas = alphavec, cv=5)\n",
    "lasso_model.fit(X_tr, y_train);"
   ]
  },
  {
   "cell_type": "code",
   "execution_count": 63,
   "metadata": {
    "scrolled": true
   },
   "outputs": [
    {
     "data": {
      "text/plain": [
       "0.12118359548189495"
      ]
     },
     "execution_count": 63,
     "metadata": {},
     "output_type": "execute_result"
    }
   ],
   "source": [
    "lasso_model.score(X_tr,y_train)"
   ]
  },
  {
   "cell_type": "code",
   "execution_count": 64,
   "metadata": {},
   "outputs": [
    {
     "data": {
      "text/plain": [
       "1e-06"
      ]
     },
     "execution_count": 64,
     "metadata": {},
     "output_type": "execute_result"
    }
   ],
   "source": [
    "lasso_model.alpha_"
   ]
  },
  {
   "cell_type": "code",
   "execution_count": 65,
   "metadata": {
    "scrolled": true
   },
   "outputs": [
    {
     "data": {
      "text/plain": [
       "0.12872661794575446"
      ]
     },
     "execution_count": 65,
     "metadata": {},
     "output_type": "execute_result"
    }
   ],
   "source": [
    "lasso_model.score(X_te,y_test) ##doesnt work as it is about variation in the data, "
   ]
  },
  {
   "cell_type": "code",
   "execution_count": 66,
   "metadata": {},
   "outputs": [],
   "source": [
    "#removing likes and dislikes\n",
    "X_array_h_rem_likes = df_no_outliers.loc[:,['video_order_num', 'duration_sec', \n",
    "       'video_desc_length', 'subscriber_count', 'total_views_channel',\n",
    "       'n_featured_channels', 'n_promo_links', 'channel_desc_length',\n",
    "       'channel_age_days', 'video_age_days', 'delivery_method_Published',\n",
    "       'delivery_method_Streamed live', 'sentiment_score_channel_desc',\n",
    "       'sentiment_score_video_desc',\n",
    "       'views_video_hist_mean', 'video_order_num_hist_count',\n",
    "       'video_desc_length_hist_mean', 'likes_hist_sum', 'dislikes_hist_sum',\n",
    "       'duration_sec_hist_mean', 'video_age_days_hist_mean',\n",
    "       'sentiment_score_video_desc_hist_mean']].values.reshape(-1, 1)\n",
    "\n",
    "X_df_h_rem_likes = df_no_outliers[['video_order_num', 'duration_sec', \n",
    "       'video_desc_length', 'subscriber_count', 'total_views_channel',\n",
    "       'n_featured_channels', 'n_promo_links', 'channel_desc_length',\n",
    "       'channel_age_days', 'video_age_days', 'delivery_method_Published',\n",
    "       'delivery_method_Streamed live', 'sentiment_score_channel_desc',\n",
    "       'sentiment_score_video_desc',\n",
    "       'views_video_hist_mean', 'video_order_num_hist_count',\n",
    "       'video_desc_length_hist_mean', 'likes_hist_sum', 'dislikes_hist_sum',\n",
    "       'duration_sec_hist_mean', 'video_age_days_hist_mean',\n",
    "       'sentiment_score_video_desc_hist_mean']]\n",
    "\n",
    "y_h_rem_likes = df_no_outliers['views_video']"
   ]
  },
  {
   "cell_type": "code",
   "execution_count": 67,
   "metadata": {},
   "outputs": [
    {
     "data": {
      "text/plain": [
       "PolynomialFeatures(degree=2, include_bias=True, interaction_only=False,\n",
       "                   order='C')"
      ]
     },
     "execution_count": 67,
     "metadata": {},
     "output_type": "execute_result"
    }
   ],
   "source": [
    "pf = PolynomialFeatures(degree=2)\n",
    "orig_features_h_rem_likes = X_df_h_rem_likes.columns\n",
    "pf.fit(df_no_outliers[orig_features_h_rem_likes])"
   ]
  },
  {
   "cell_type": "code",
   "execution_count": 68,
   "metadata": {},
   "outputs": [],
   "source": [
    "feat_array_h_rem_likes = pf.transform(df_no_outliers[orig_features_h_rem_likes])\n",
    "feat_array_h_rem_likes = pd.DataFrame(feat_array_h_rem_likes, columns = pf.get_feature_names(input_features=orig_features_h_rem_likes))"
   ]
  },
  {
   "cell_type": "code",
   "execution_count": 69,
   "metadata": {},
   "outputs": [
    {
     "data": {
      "text/plain": [
       "LinearRegression(copy_X=True, fit_intercept=True, n_jobs=None, normalize=False)"
      ]
     },
     "execution_count": 69,
     "metadata": {},
     "output_type": "execute_result"
    }
   ],
   "source": [
    "X_train, X_test, y_train, y_test = train_test_split(feat_array_h_rem_likes, y_h_rem_likes, \n",
    "                                                    test_size=0.3, \n",
    "                                                    random_state=42)\n",
    "model_w_poly_feat_h_rem_likes = LinearRegression()\n",
    "model_w_poly_feat_h_rem_likes.fit(X_train,y_train)"
   ]
  },
  {
   "cell_type": "code",
   "execution_count": 70,
   "metadata": {},
   "outputs": [
    {
     "data": {
      "text/plain": [
       "0.8382687782537948"
      ]
     },
     "execution_count": 70,
     "metadata": {},
     "output_type": "execute_result"
    }
   ],
   "source": [
    "model_w_poly_feat_h_rem_likes.score(X_train,y_train)"
   ]
  },
  {
   "cell_type": "code",
   "execution_count": 71,
   "metadata": {},
   "outputs": [
    {
     "data": {
      "text/plain": [
       "0.373327967812396"
      ]
     },
     "execution_count": 71,
     "metadata": {},
     "output_type": "execute_result"
    }
   ],
   "source": [
    "model_w_poly_feat_h_rem_likes.score(X_test,y_test) #overfit alert! regularize"
   ]
  },
  {
   "cell_type": "code",
   "execution_count": 72,
   "metadata": {},
   "outputs": [],
   "source": [
    "std = StandardScaler()\n",
    "std.fit(X_train)\n",
    "X_tr = std.transform(X_train)\n",
    "X_te = std.transform(X_test)#numpy.ndarray\n",
    "alphavec = 10**np.linspace(-10,10,200)\n",
    "lasso_model_w_poly_feat_h_rem_likes = LassoCV(alphas = alphavec, cv=5)\n",
    "lasso_model_w_poly_feat_h_rem_likes.fit(X_tr, y_train);"
   ]
  },
  {
   "cell_type": "code",
   "execution_count": 73,
   "metadata": {},
   "outputs": [
    {
     "data": {
      "text/plain": [
       "0.803692765709135"
      ]
     },
     "execution_count": 73,
     "metadata": {},
     "output_type": "execute_result"
    }
   ],
   "source": [
    "lasso_model_w_poly_feat_h_rem_likes.score(X_tr,y_train) "
   ]
  },
  {
   "cell_type": "code",
   "execution_count": 74,
   "metadata": {},
   "outputs": [
    {
     "data": {
      "text/plain": [
       "731.6807143427208"
      ]
     },
     "execution_count": 74,
     "metadata": {},
     "output_type": "execute_result"
    }
   ],
   "source": [
    "lasso_model_w_poly_feat_h_rem_likes.alpha_"
   ]
  },
  {
   "cell_type": "code",
   "execution_count": 75,
   "metadata": {},
   "outputs": [
    {
     "data": {
      "text/plain": [
       "0.47110730984093935"
      ]
     },
     "execution_count": 75,
     "metadata": {},
     "output_type": "execute_result"
    }
   ],
   "source": [
    "lasso_model_w_poly_feat_h_rem_likes.score(X_te,y_test)"
   ]
  },
  {
   "cell_type": "code",
   "execution_count": 76,
   "metadata": {},
   "outputs": [],
   "source": [
    "#coefs = list(zip(X_train.columns, lasso_model_w_poly_feat_h.coef_))"
   ]
  },
  {
   "cell_type": "code",
   "execution_count": 77,
   "metadata": {},
   "outputs": [],
   "source": [
    "#df_coefs = pd.DataFrame(coefs, columns=['variable', 'coefficient'])\n",
    "#df_coefs"
   ]
  },
  {
   "cell_type": "code",
   "execution_count": 78,
   "metadata": {},
   "outputs": [],
   "source": [
    "#df_coefs[df_coefs['coefficient']>0.0]"
   ]
  },
  {
   "cell_type": "markdown",
   "metadata": {},
   "source": [
    "Conclusion: removing outliers help to boost results a little, but it does not influence the fact of insufficient information; one cannot predict views without likes/dislikes or other features. "
   ]
  },
  {
   "cell_type": "markdown",
   "metadata": {},
   "source": [
    "## Visualizing Results"
   ]
  },
  {
   "cell_type": "code",
   "execution_count": 79,
   "metadata": {},
   "outputs": [],
   "source": [
    "scores_full_no_out = {'baseline':[0.9068768699977708, 0.6294751526179592], 'baseline-lasso':[0.9067556235835056, 0.6290198539565494], 'added-features':[0.969861153992098, 0.7581980182699333], 'added-features-lasso': [0.9589580705171986, 0.7979397733493132] }\n",
    "scores_full_no_out_no_likes = {'baseline':[0.12118359548189472, 0.12872661784780726], 'baseline-lasso':[0.12118359548189495, 0.12872661794575446], 'added-features':[0.8382687782537948, 0.373327967812396], 'added-features-lasso': [0.803692765709135, 0.47110730984093935] }"
   ]
  },
  {
   "cell_type": "code",
   "execution_count": 80,
   "metadata": {},
   "outputs": [],
   "source": [
    "scores_full_no_out_df = pd.DataFrame.from_dict(scores_full_no_out).T.reset_index()\n",
    "scores_full_no_out_df.rename(columns={0:'R2_train', 1:'R2_test', 'index':'model'}, inplace=True)\n",
    "scores_full_no_out_no_likes_df = pd.DataFrame.from_dict(scores_full_no_out_no_likes).T.reset_index()\n",
    "scores_full_no_out_no_likes_df.rename(columns={0:'R2_train', 1:'R2_test', 'index':'model'}, inplace=True)"
   ]
  },
  {
   "cell_type": "code",
   "execution_count": 81,
   "metadata": {},
   "outputs": [],
   "source": [
    "scores_full = {'baseline':[0.9597382729266982, 0.7475116440993992], 'baseline-lasso':[0.9596720678574545, 0.7487661708655377], 'added-features':[0.9965608803465577, -2.2976078488820093], 'added-features-lasso': [0.9892881419367454, 0.7735661621041386] }\n",
    "scores_no_likes = {'baseline':[0.47071838197885274, -0.5545173252566922], 'baseline-lasso':[0.4703677315816639, -0.5137389688002472], 'added-features':[0.671638781800988, -9.499030390134314], 'added-features-lasso': [0.46571963880441947, -0.5137389688002472] }"
   ]
  },
  {
   "cell_type": "code",
   "execution_count": 82,
   "metadata": {},
   "outputs": [],
   "source": [
    "scores_full_df = pd.DataFrame.from_dict(scores_full).T.reset_index()\n",
    "scores_full_df.rename(columns={0:'R2_train', 1:'R2_test', 'index':'model'}, inplace=True)\n",
    "scores_no_likes_df = pd.DataFrame.from_dict(scores_no_likes).T.reset_index()\n",
    "scores_no_likes_df.rename(columns={0:'R2_train', 1:'R2_test', 'index':'model'}, inplace=True)"
   ]
  },
  {
   "cell_type": "code",
   "execution_count": 83,
   "metadata": {},
   "outputs": [
    {
     "data": {
      "text/html": [
       "<div>\n",
       "<style scoped>\n",
       "    .dataframe tbody tr th:only-of-type {\n",
       "        vertical-align: middle;\n",
       "    }\n",
       "\n",
       "    .dataframe tbody tr th {\n",
       "        vertical-align: top;\n",
       "    }\n",
       "\n",
       "    .dataframe thead th {\n",
       "        text-align: right;\n",
       "    }\n",
       "</style>\n",
       "<table border=\"1\" class=\"dataframe\">\n",
       "  <thead>\n",
       "    <tr style=\"text-align: right;\">\n",
       "      <th></th>\n",
       "      <th>model</th>\n",
       "      <th>R2_train</th>\n",
       "      <th>R2_test</th>\n",
       "    </tr>\n",
       "  </thead>\n",
       "  <tbody>\n",
       "    <tr>\n",
       "      <th>0</th>\n",
       "      <td>baseline</td>\n",
       "      <td>0.906877</td>\n",
       "      <td>0.629475</td>\n",
       "    </tr>\n",
       "    <tr>\n",
       "      <th>1</th>\n",
       "      <td>baseline-lasso</td>\n",
       "      <td>0.906756</td>\n",
       "      <td>0.629020</td>\n",
       "    </tr>\n",
       "    <tr>\n",
       "      <th>2</th>\n",
       "      <td>added-features</td>\n",
       "      <td>0.969861</td>\n",
       "      <td>0.758198</td>\n",
       "    </tr>\n",
       "    <tr>\n",
       "      <th>3</th>\n",
       "      <td>added-features-lasso</td>\n",
       "      <td>0.958958</td>\n",
       "      <td>0.797940</td>\n",
       "    </tr>\n",
       "  </tbody>\n",
       "</table>\n",
       "</div>"
      ],
      "text/plain": [
       "                  model  R2_train   R2_test\n",
       "0              baseline  0.906877  0.629475\n",
       "1        baseline-lasso  0.906756  0.629020\n",
       "2        added-features  0.969861  0.758198\n",
       "3  added-features-lasso  0.958958  0.797940"
      ]
     },
     "execution_count": 83,
     "metadata": {},
     "output_type": "execute_result"
    }
   ],
   "source": [
    "scores_full_no_out_df"
   ]
  },
  {
   "cell_type": "code",
   "execution_count": 84,
   "metadata": {},
   "outputs": [
    {
     "data": {
      "text/html": [
       "<div>\n",
       "<style scoped>\n",
       "    .dataframe tbody tr th:only-of-type {\n",
       "        vertical-align: middle;\n",
       "    }\n",
       "\n",
       "    .dataframe tbody tr th {\n",
       "        vertical-align: top;\n",
       "    }\n",
       "\n",
       "    .dataframe thead th {\n",
       "        text-align: right;\n",
       "    }\n",
       "</style>\n",
       "<table border=\"1\" class=\"dataframe\">\n",
       "  <thead>\n",
       "    <tr style=\"text-align: right;\">\n",
       "      <th></th>\n",
       "      <th>model</th>\n",
       "      <th>R2_train</th>\n",
       "      <th>R2_test</th>\n",
       "      <th>model_no_out</th>\n",
       "      <th>R2_train_no_out</th>\n",
       "      <th>R2_test_no_out</th>\n",
       "    </tr>\n",
       "  </thead>\n",
       "  <tbody>\n",
       "    <tr>\n",
       "      <th>0</th>\n",
       "      <td>baseline</td>\n",
       "      <td>0.959738</td>\n",
       "      <td>0.747512</td>\n",
       "      <td>baseline</td>\n",
       "      <td>0.906877</td>\n",
       "      <td>0.629475</td>\n",
       "    </tr>\n",
       "    <tr>\n",
       "      <th>1</th>\n",
       "      <td>baseline-lasso</td>\n",
       "      <td>0.959672</td>\n",
       "      <td>0.748766</td>\n",
       "      <td>baseline-lasso</td>\n",
       "      <td>0.906756</td>\n",
       "      <td>0.629020</td>\n",
       "    </tr>\n",
       "    <tr>\n",
       "      <th>2</th>\n",
       "      <td>added-features</td>\n",
       "      <td>0.996561</td>\n",
       "      <td>-2.297608</td>\n",
       "      <td>added-features</td>\n",
       "      <td>0.969861</td>\n",
       "      <td>0.758198</td>\n",
       "    </tr>\n",
       "    <tr>\n",
       "      <th>3</th>\n",
       "      <td>added-features-lasso</td>\n",
       "      <td>0.989288</td>\n",
       "      <td>0.773566</td>\n",
       "      <td>added-features-lasso</td>\n",
       "      <td>0.958958</td>\n",
       "      <td>0.797940</td>\n",
       "    </tr>\n",
       "  </tbody>\n",
       "</table>\n",
       "</div>"
      ],
      "text/plain": [
       "                  model  R2_train   R2_test          model_no_out  \\\n",
       "0              baseline  0.959738  0.747512              baseline   \n",
       "1        baseline-lasso  0.959672  0.748766        baseline-lasso   \n",
       "2        added-features  0.996561 -2.297608        added-features   \n",
       "3  added-features-lasso  0.989288  0.773566  added-features-lasso   \n",
       "\n",
       "   R2_train_no_out  R2_test_no_out  \n",
       "0         0.906877        0.629475  \n",
       "1         0.906756        0.629020  \n",
       "2         0.969861        0.758198  \n",
       "3         0.958958        0.797940  "
      ]
     },
     "execution_count": 84,
     "metadata": {},
     "output_type": "execute_result"
    }
   ],
   "source": [
    "full = scores_full_df.join(scores_full_no_out_df, rsuffix='_no_out')\n",
    "full"
   ]
  },
  {
   "cell_type": "code",
   "execution_count": 85,
   "metadata": {},
   "outputs": [
    {
     "data": {
      "text/html": [
       "<div>\n",
       "<style scoped>\n",
       "    .dataframe tbody tr th:only-of-type {\n",
       "        vertical-align: middle;\n",
       "    }\n",
       "\n",
       "    .dataframe tbody tr th {\n",
       "        vertical-align: top;\n",
       "    }\n",
       "\n",
       "    .dataframe thead th {\n",
       "        text-align: right;\n",
       "    }\n",
       "</style>\n",
       "<table border=\"1\" class=\"dataframe\">\n",
       "  <thead>\n",
       "    <tr style=\"text-align: right;\">\n",
       "      <th></th>\n",
       "      <th>model</th>\n",
       "      <th>R2_train</th>\n",
       "      <th>R2_test</th>\n",
       "    </tr>\n",
       "  </thead>\n",
       "  <tbody>\n",
       "    <tr>\n",
       "      <th>0</th>\n",
       "      <td>baseline</td>\n",
       "      <td>0.121184</td>\n",
       "      <td>0.128727</td>\n",
       "    </tr>\n",
       "    <tr>\n",
       "      <th>1</th>\n",
       "      <td>baseline-lasso</td>\n",
       "      <td>0.121184</td>\n",
       "      <td>0.128727</td>\n",
       "    </tr>\n",
       "    <tr>\n",
       "      <th>2</th>\n",
       "      <td>added-features</td>\n",
       "      <td>0.838269</td>\n",
       "      <td>0.373328</td>\n",
       "    </tr>\n",
       "    <tr>\n",
       "      <th>3</th>\n",
       "      <td>added-features-lasso</td>\n",
       "      <td>0.803693</td>\n",
       "      <td>0.471107</td>\n",
       "    </tr>\n",
       "  </tbody>\n",
       "</table>\n",
       "</div>"
      ],
      "text/plain": [
       "                  model  R2_train   R2_test\n",
       "0              baseline  0.121184  0.128727\n",
       "1        baseline-lasso  0.121184  0.128727\n",
       "2        added-features  0.838269  0.373328\n",
       "3  added-features-lasso  0.803693  0.471107"
      ]
     },
     "execution_count": 85,
     "metadata": {},
     "output_type": "execute_result"
    }
   ],
   "source": [
    "scores_full_no_out_no_likes_df"
   ]
  },
  {
   "cell_type": "code",
   "execution_count": 86,
   "metadata": {},
   "outputs": [],
   "source": [
    "full.rename(columns={'R2_train':'R2 Train', 'R2_test':'R2 Test', \n",
    "                     'R2_train_no_out':'R2 Train No Outliers', 'R2_test_no_out':'R2 Test No Outliers'}, inplace=True)"
   ]
  },
  {
   "cell_type": "code",
   "execution_count": 87,
   "metadata": {},
   "outputs": [
    {
     "data": {
      "text/html": [
       "<div>\n",
       "<style scoped>\n",
       "    .dataframe tbody tr th:only-of-type {\n",
       "        vertical-align: middle;\n",
       "    }\n",
       "\n",
       "    .dataframe tbody tr th {\n",
       "        vertical-align: top;\n",
       "    }\n",
       "\n",
       "    .dataframe thead th {\n",
       "        text-align: right;\n",
       "    }\n",
       "</style>\n",
       "<table border=\"1\" class=\"dataframe\">\n",
       "  <thead>\n",
       "    <tr style=\"text-align: right;\">\n",
       "      <th></th>\n",
       "      <th>model</th>\n",
       "      <th>R2 Train</th>\n",
       "      <th>R2 Test</th>\n",
       "      <th>model_no_out</th>\n",
       "      <th>R2 Train No Outliers</th>\n",
       "      <th>R2 Test No Outliers</th>\n",
       "    </tr>\n",
       "  </thead>\n",
       "  <tbody>\n",
       "    <tr>\n",
       "      <th>0</th>\n",
       "      <td>baseline</td>\n",
       "      <td>0.959738</td>\n",
       "      <td>0.747512</td>\n",
       "      <td>baseline</td>\n",
       "      <td>0.906877</td>\n",
       "      <td>0.629475</td>\n",
       "    </tr>\n",
       "    <tr>\n",
       "      <th>1</th>\n",
       "      <td>baseline-lasso</td>\n",
       "      <td>0.959672</td>\n",
       "      <td>0.748766</td>\n",
       "      <td>baseline-lasso</td>\n",
       "      <td>0.906756</td>\n",
       "      <td>0.629020</td>\n",
       "    </tr>\n",
       "    <tr>\n",
       "      <th>2</th>\n",
       "      <td>added-features</td>\n",
       "      <td>0.996561</td>\n",
       "      <td>-2.297608</td>\n",
       "      <td>added-features</td>\n",
       "      <td>0.969861</td>\n",
       "      <td>0.758198</td>\n",
       "    </tr>\n",
       "    <tr>\n",
       "      <th>3</th>\n",
       "      <td>added-features-lasso</td>\n",
       "      <td>0.989288</td>\n",
       "      <td>0.773566</td>\n",
       "      <td>added-features-lasso</td>\n",
       "      <td>0.958958</td>\n",
       "      <td>0.797940</td>\n",
       "    </tr>\n",
       "  </tbody>\n",
       "</table>\n",
       "</div>"
      ],
      "text/plain": [
       "                  model  R2 Train   R2 Test          model_no_out  \\\n",
       "0              baseline  0.959738  0.747512              baseline   \n",
       "1        baseline-lasso  0.959672  0.748766        baseline-lasso   \n",
       "2        added-features  0.996561 -2.297608        added-features   \n",
       "3  added-features-lasso  0.989288  0.773566  added-features-lasso   \n",
       "\n",
       "   R2 Train No Outliers  R2 Test No Outliers  \n",
       "0              0.906877             0.629475  \n",
       "1              0.906756             0.629020  \n",
       "2              0.969861             0.758198  \n",
       "3              0.958958             0.797940  "
      ]
     },
     "execution_count": 87,
     "metadata": {},
     "output_type": "execute_result"
    }
   ],
   "source": [
    "full"
   ]
  },
  {
   "cell_type": "code",
   "execution_count": 88,
   "metadata": {},
   "outputs": [
    {
     "data": {
      "text/html": [
       "<div>\n",
       "<style scoped>\n",
       "    .dataframe tbody tr th:only-of-type {\n",
       "        vertical-align: middle;\n",
       "    }\n",
       "\n",
       "    .dataframe tbody tr th {\n",
       "        vertical-align: top;\n",
       "    }\n",
       "\n",
       "    .dataframe thead th {\n",
       "        text-align: right;\n",
       "    }\n",
       "</style>\n",
       "<table border=\"1\" class=\"dataframe\">\n",
       "  <thead>\n",
       "    <tr style=\"text-align: right;\">\n",
       "      <th></th>\n",
       "      <th>model</th>\n",
       "      <th>R2 Train</th>\n",
       "      <th>R2 Test</th>\n",
       "      <th>model_no_out</th>\n",
       "      <th>R2 Train No Outliers</th>\n",
       "      <th>R2 Test No Outliers</th>\n",
       "    </tr>\n",
       "  </thead>\n",
       "  <tbody>\n",
       "    <tr>\n",
       "      <th>0</th>\n",
       "      <td>baseline</td>\n",
       "      <td>0.959738</td>\n",
       "      <td>0.747512</td>\n",
       "      <td>baseline</td>\n",
       "      <td>0.906877</td>\n",
       "      <td>0.629475</td>\n",
       "    </tr>\n",
       "    <tr>\n",
       "      <th>1</th>\n",
       "      <td>baseline-lasso</td>\n",
       "      <td>0.959672</td>\n",
       "      <td>0.748766</td>\n",
       "      <td>baseline-lasso</td>\n",
       "      <td>0.906756</td>\n",
       "      <td>0.629020</td>\n",
       "    </tr>\n",
       "    <tr>\n",
       "      <th>2</th>\n",
       "      <td>added-features</td>\n",
       "      <td>0.996561</td>\n",
       "      <td>-2.297608</td>\n",
       "      <td>added-features</td>\n",
       "      <td>0.969861</td>\n",
       "      <td>0.758198</td>\n",
       "    </tr>\n",
       "    <tr>\n",
       "      <th>3</th>\n",
       "      <td>added-features-lasso</td>\n",
       "      <td>0.989288</td>\n",
       "      <td>0.773566</td>\n",
       "      <td>added-features-lasso</td>\n",
       "      <td>0.958958</td>\n",
       "      <td>0.797940</td>\n",
       "    </tr>\n",
       "  </tbody>\n",
       "</table>\n",
       "</div>"
      ],
      "text/plain": [
       "                  model  R2 Train   R2 Test          model_no_out  \\\n",
       "0              baseline  0.959738  0.747512              baseline   \n",
       "1        baseline-lasso  0.959672  0.748766        baseline-lasso   \n",
       "2        added-features  0.996561 -2.297608        added-features   \n",
       "3  added-features-lasso  0.989288  0.773566  added-features-lasso   \n",
       "\n",
       "   R2 Train No Outliers  R2 Test No Outliers  \n",
       "0              0.906877             0.629475  \n",
       "1              0.906756             0.629020  \n",
       "2              0.969861             0.758198  \n",
       "3              0.958958             0.797940  "
      ]
     },
     "execution_count": 88,
     "metadata": {},
     "output_type": "execute_result"
    }
   ],
   "source": [
    "#full = full.drop(['model_no_out'], axis=1)\n",
    "full"
   ]
  },
  {
   "cell_type": "code",
   "execution_count": 89,
   "metadata": {},
   "outputs": [],
   "source": [
    "full = full.set_index('model')"
   ]
  },
  {
   "cell_type": "code",
   "execution_count": 90,
   "metadata": {},
   "outputs": [
    {
     "data": {
      "image/png": "[encoded data removed]",
      "text/plain": [
       "<Figure size 432x288 with 1 Axes>"
      ]
     },
     "metadata": {},
     "output_type": "display_data"
    }
   ],
   "source": [
    "full.loc[:,['R2 Train', 'R2 Train No Outliers']].plot.bar(legend=False);"
   ]
  },
  {
   "cell_type": "code",
   "execution_count": 91,
   "metadata": {},
   "outputs": [
    {
     "data": {
      "image/png": "[encoded data removed]",
      "text/plain": [
       "<Figure size 432x288 with 1 Axes>"
      ]
     },
     "metadata": {},
     "output_type": "display_data"
    }
   ],
   "source": [
    "full.loc[:,['R2 Test', 'R2 Test No Outliers']].plot.bar()\n",
    "plt.title('Coefficients of Multiple Determination: Outliers Impact for Full Model', fontsize=16, pad=15);"
   ]
  },
  {
   "cell_type": "code",
   "execution_count": 92,
   "metadata": {},
   "outputs": [
    {
     "data": {
      "text/html": [
       "<div>\n",
       "<style scoped>\n",
       "    .dataframe tbody tr th:only-of-type {\n",
       "        vertical-align: middle;\n",
       "    }\n",
       "\n",
       "    .dataframe tbody tr th {\n",
       "        vertical-align: top;\n",
       "    }\n",
       "\n",
       "    .dataframe thead th {\n",
       "        text-align: right;\n",
       "    }\n",
       "</style>\n",
       "<table border=\"1\" class=\"dataframe\">\n",
       "  <thead>\n",
       "    <tr style=\"text-align: right;\">\n",
       "      <th></th>\n",
       "      <th>model</th>\n",
       "      <th>R2_train</th>\n",
       "      <th>R2_test</th>\n",
       "      <th>model_no_out</th>\n",
       "      <th>R2_train_no_out</th>\n",
       "      <th>R2_test_no_out</th>\n",
       "    </tr>\n",
       "  </thead>\n",
       "  <tbody>\n",
       "    <tr>\n",
       "      <th>0</th>\n",
       "      <td>baseline</td>\n",
       "      <td>0.470718</td>\n",
       "      <td>-0.554517</td>\n",
       "      <td>baseline</td>\n",
       "      <td>0.121184</td>\n",
       "      <td>0.128727</td>\n",
       "    </tr>\n",
       "    <tr>\n",
       "      <th>1</th>\n",
       "      <td>baseline-lasso</td>\n",
       "      <td>0.470368</td>\n",
       "      <td>-0.513739</td>\n",
       "      <td>baseline-lasso</td>\n",
       "      <td>0.121184</td>\n",
       "      <td>0.128727</td>\n",
       "    </tr>\n",
       "    <tr>\n",
       "      <th>2</th>\n",
       "      <td>added-features</td>\n",
       "      <td>0.671639</td>\n",
       "      <td>-9.499030</td>\n",
       "      <td>added-features</td>\n",
       "      <td>0.838269</td>\n",
       "      <td>0.373328</td>\n",
       "    </tr>\n",
       "    <tr>\n",
       "      <th>3</th>\n",
       "      <td>added-features-lasso</td>\n",
       "      <td>0.465720</td>\n",
       "      <td>-0.513739</td>\n",
       "      <td>added-features-lasso</td>\n",
       "      <td>0.803693</td>\n",
       "      <td>0.471107</td>\n",
       "    </tr>\n",
       "  </tbody>\n",
       "</table>\n",
       "</div>"
      ],
      "text/plain": [
       "                  model  R2_train   R2_test          model_no_out  \\\n",
       "0              baseline  0.470718 -0.554517              baseline   \n",
       "1        baseline-lasso  0.470368 -0.513739        baseline-lasso   \n",
       "2        added-features  0.671639 -9.499030        added-features   \n",
       "3  added-features-lasso  0.465720 -0.513739  added-features-lasso   \n",
       "\n",
       "   R2_train_no_out  R2_test_no_out  \n",
       "0         0.121184        0.128727  \n",
       "1         0.121184        0.128727  \n",
       "2         0.838269        0.373328  \n",
       "3         0.803693        0.471107  "
      ]
     },
     "execution_count": 92,
     "metadata": {},
     "output_type": "execute_result"
    }
   ],
   "source": [
    "no_likes = scores_no_likes_df.join(scores_full_no_out_no_likes_df, rsuffix='_no_out')\n",
    "no_likes"
   ]
  },
  {
   "cell_type": "code",
   "execution_count": 93,
   "metadata": {},
   "outputs": [],
   "source": [
    "no_likes.rename(columns={'R2_train':'R2 Train', 'R2_test':'R2 Test', \n",
    "                     'R2_train_no_out':'R2 Train No Outliers', 'R2_test_no_out':'R2 Test No Outliers'}, inplace=True)"
   ]
  },
  {
   "cell_type": "code",
   "execution_count": 94,
   "metadata": {},
   "outputs": [
    {
     "data": {
      "text/html": [
       "<div>\n",
       "<style scoped>\n",
       "    .dataframe tbody tr th:only-of-type {\n",
       "        vertical-align: middle;\n",
       "    }\n",
       "\n",
       "    .dataframe tbody tr th {\n",
       "        vertical-align: top;\n",
       "    }\n",
       "\n",
       "    .dataframe thead th {\n",
       "        text-align: right;\n",
       "    }\n",
       "</style>\n",
       "<table border=\"1\" class=\"dataframe\">\n",
       "  <thead>\n",
       "    <tr style=\"text-align: right;\">\n",
       "      <th></th>\n",
       "      <th>model</th>\n",
       "      <th>R2 Train</th>\n",
       "      <th>R2 Test</th>\n",
       "      <th>model_no_out</th>\n",
       "      <th>R2 Train No Outliers</th>\n",
       "      <th>R2 Test No Outliers</th>\n",
       "    </tr>\n",
       "  </thead>\n",
       "  <tbody>\n",
       "    <tr>\n",
       "      <th>0</th>\n",
       "      <td>baseline</td>\n",
       "      <td>0.470718</td>\n",
       "      <td>-0.554517</td>\n",
       "      <td>baseline</td>\n",
       "      <td>0.121184</td>\n",
       "      <td>0.128727</td>\n",
       "    </tr>\n",
       "    <tr>\n",
       "      <th>1</th>\n",
       "      <td>baseline-lasso</td>\n",
       "      <td>0.470368</td>\n",
       "      <td>-0.513739</td>\n",
       "      <td>baseline-lasso</td>\n",
       "      <td>0.121184</td>\n",
       "      <td>0.128727</td>\n",
       "    </tr>\n",
       "    <tr>\n",
       "      <th>2</th>\n",
       "      <td>added-features</td>\n",
       "      <td>0.671639</td>\n",
       "      <td>-9.499030</td>\n",
       "      <td>added-features</td>\n",
       "      <td>0.838269</td>\n",
       "      <td>0.373328</td>\n",
       "    </tr>\n",
       "    <tr>\n",
       "      <th>3</th>\n",
       "      <td>added-features-lasso</td>\n",
       "      <td>0.465720</td>\n",
       "      <td>-0.513739</td>\n",
       "      <td>added-features-lasso</td>\n",
       "      <td>0.803693</td>\n",
       "      <td>0.471107</td>\n",
       "    </tr>\n",
       "  </tbody>\n",
       "</table>\n",
       "</div>"
      ],
      "text/plain": [
       "                  model  R2 Train   R2 Test          model_no_out  \\\n",
       "0              baseline  0.470718 -0.554517              baseline   \n",
       "1        baseline-lasso  0.470368 -0.513739        baseline-lasso   \n",
       "2        added-features  0.671639 -9.499030        added-features   \n",
       "3  added-features-lasso  0.465720 -0.513739  added-features-lasso   \n",
       "\n",
       "   R2 Train No Outliers  R2 Test No Outliers  \n",
       "0              0.121184             0.128727  \n",
       "1              0.121184             0.128727  \n",
       "2              0.838269             0.373328  \n",
       "3              0.803693             0.471107  "
      ]
     },
     "execution_count": 94,
     "metadata": {},
     "output_type": "execute_result"
    }
   ],
   "source": [
    "no_likes"
   ]
  },
  {
   "cell_type": "code",
   "execution_count": 95,
   "metadata": {},
   "outputs": [],
   "source": [
    "no_likes = no_likes.drop(['model_no_out'], axis=1)"
   ]
  },
  {
   "cell_type": "code",
   "execution_count": 96,
   "metadata": {},
   "outputs": [],
   "source": [
    "no_likes = no_likes.set_index('model')"
   ]
  },
  {
   "cell_type": "code",
   "execution_count": 97,
   "metadata": {},
   "outputs": [
    {
     "data": {
      "image/png": "[encoded data removed]",
      "text/plain": [
       "<Figure size 432x288 with 1 Axes>"
      ]
     },
     "metadata": {},
     "output_type": "display_data"
    }
   ],
   "source": [
    "no_likes.loc[:,['R2 Test', 'R2 Test No Outliers']].plot.bar()\n",
    "plt.title('Coefficients of Multiple Determination: Outliers Impact with Likes/Dislikes Removed', fontsize=16, pad=15);"
   ]
  }
 ],
 "metadata": {
  "kernelspec": {
   "display_name": "Python 3",
   "language": "python",
   "name": "python3"
  },
  "language_info": {
   "codemirror_mode": {
    "name": "ipython",
    "version": 3
   },
   "file_extension": ".py",
   "mimetype": "text/x-python",
   "name": "python",
   "nbconvert_exporter": "python",
   "pygments_lexer": "ipython3",
   "version": "3.7.7"
  }
 },
 "nbformat": 4,
 "nbformat_minor": 2
}
