{
 "cells": [
  {
   "cell_type": "code",
   "execution_count": 1,
   "metadata": {},
   "outputs": [],
   "source": [
    "from bs4 import BeautifulSoup\n",
    "import requests\n",
    "import time, os\n",
    "from selenium import webdriver\n",
    "from selenium.webdriver.common.keys import Keys\n",
    "import pickle\n",
    "import random\n",
    "from collections import defaultdict"
   ]
  },
  {
   "cell_type": "code",
   "execution_count": 2,
   "metadata": {},
   "outputs": [],
   "source": [
    "with open('videos_links_by_channel.pkl', 'rb') as picklefile:\n",
    "    links_dict = pickle.load(picklefile)"
   ]
  },
  {
   "cell_type": "code",
   "execution_count": 45,
   "metadata": {},
   "outputs": [
    {
     "data": {
      "text/plain": [
       "'https://www.youtube.com/user/yogawithadriene'"
      ]
     },
     "execution_count": 45,
     "metadata": {},
     "output_type": "execute_result"
    }
   ],
   "source": [
    "next(iter(links_dict.keys()))"
   ]
  },
  {
   "cell_type": "code",
   "execution_count": null,
   "metadata": {},
   "outputs": [],
   "source": [
    "url = 'https://www.youtube.com/watch?v=' + 'h5CEOjPY_uw'\n",
    "url"
   ]
  },
  {
   "cell_type": "code",
   "execution_count": 49,
   "metadata": {},
   "outputs": [],
   "source": [
    "#links_dict"
   ]
  },
  {
   "cell_type": "code",
   "execution_count": 5,
   "metadata": {},
   "outputs": [
    {
     "data": {
      "text/plain": [
       "['h5CEOjPY_uw',\n",
       " 'twDBxdmjCA8',\n",
       " 'qiu1SYtAdBg',\n",
       " '4VSqbSCcvuU',\n",
       " 'xAc-c7-suRc',\n",
       " 'Lnvt4jj9Ajg',\n",
       " 'tYfg3x9oFgo',\n",
       " 'O0gD1v8ob-s',\n",
       " 'ZZ7ID_-8OkY',\n",
       " 'jQPraKYoH54',\n",
       " '-1jGG62K0Dk',\n",
       " 'mdsZzKK19Ko',\n",
       " 'O8BlybmA9SU',\n",
       " 'Dh5oLHetZ1Y',\n",
       " 'cQQvsEUlhfM',\n",
       " '79gRqVTtTK0',\n",
       " 'LGEMzfXfj-g',\n",
       " '8KrY1ePvguw',\n",
       " 'aU0KYsCTbyM',\n",
       " 'A2I-G651IQg',\n",
       " '9DlVaq_-KjA',\n",
       " 'E_Xxqv_tBgU',\n",
       " 'm0PAyp7QM1M',\n",
       " 'VPMqn8OJii8',\n",
       " 'sT5OAAYPHkc',\n",
       " 'b5fxInaetEQ',\n",
       " 'iQKrWQB_Mi4',\n",
       " 'qIWOSQZAvTo',\n",
       " 'NVeNMX8WDeQ',\n",
       " '8PO95Jy8LUQ']"
      ]
     },
     "execution_count": 5,
     "metadata": {},
     "output_type": "execute_result"
    }
   ],
   "source": [
    "next(iter(links_dict.values()))"
   ]
  },
  {
   "cell_type": "code",
   "execution_count": 50,
   "metadata": {},
   "outputs": [],
   "source": [
    "sample = {k: links_dict[k] for k in ('https://www.youtube.com/user/yogawithadriene', 'https://www.youtube.com/channel/UCahoXO8yh6mqJD9EiARHI7w')}"
   ]
  },
  {
   "cell_type": "code",
   "execution_count": 51,
   "metadata": {},
   "outputs": [
    {
     "data": {
      "text/plain": [
       "{'https://www.youtube.com/user/yogawithadriene': ['h5CEOjPY_uw',\n",
       "  'twDBxdmjCA8',\n",
       "  'qiu1SYtAdBg',\n",
       "  '4VSqbSCcvuU',\n",
       "  'xAc-c7-suRc',\n",
       "  'Lnvt4jj9Ajg',\n",
       "  'tYfg3x9oFgo',\n",
       "  'O0gD1v8ob-s',\n",
       "  'ZZ7ID_-8OkY',\n",
       "  'jQPraKYoH54',\n",
       "  '-1jGG62K0Dk',\n",
       "  'mdsZzKK19Ko',\n",
       "  'O8BlybmA9SU',\n",
       "  'Dh5oLHetZ1Y',\n",
       "  'cQQvsEUlhfM',\n",
       "  '79gRqVTtTK0',\n",
       "  'LGEMzfXfj-g',\n",
       "  '8KrY1ePvguw',\n",
       "  'aU0KYsCTbyM',\n",
       "  'A2I-G651IQg',\n",
       "  '9DlVaq_-KjA',\n",
       "  'E_Xxqv_tBgU',\n",
       "  'm0PAyp7QM1M',\n",
       "  'VPMqn8OJii8',\n",
       "  'sT5OAAYPHkc',\n",
       "  'b5fxInaetEQ',\n",
       "  'iQKrWQB_Mi4',\n",
       "  'qIWOSQZAvTo',\n",
       "  'NVeNMX8WDeQ',\n",
       "  '8PO95Jy8LUQ'],\n",
       " 'https://www.youtube.com/channel/UCahoXO8yh6mqJD9EiARHI7w': ['c_IyqUyilPQ',\n",
       "  'UX4BX3oOwT0',\n",
       "  'Mtmcz1YN5Gk',\n",
       "  'Wu_3-C-p4ZE',\n",
       "  'IAF2O2CQDkk',\n",
       "  'UbthP_xPzb0',\n",
       "  'r3HeZgmCABE',\n",
       "  'FBucDn6Hvcw',\n",
       "  'tOXHrwCr_cc',\n",
       "  'TluLxh6rwsI',\n",
       "  'kF6H3UEtUQ4',\n",
       "  'UB-MFWFIKPQ',\n",
       "  '5NPyEhlrGcs',\n",
       "  'Fu_E5TBQwfI',\n",
       "  'WjTaT64dzHI',\n",
       "  'aa7OlPKgIS4',\n",
       "  'FsijElMEaJA',\n",
       "  'XBAib_vsmEM',\n",
       "  '10H7Yncb0Ec',\n",
       "  'KM9SlMZ8Zik',\n",
       "  'c-aqzzN2Q38',\n",
       "  'VLM-5PPCA98',\n",
       "  'FxXRtVhQWKQ',\n",
       "  '1VFVg36jNTQ',\n",
       "  'aoeu9BW2csM',\n",
       "  '3I9BSKCwIB4',\n",
       "  'jG0F2l5lCOA',\n",
       "  'jtvUkj7n2GE',\n",
       "  'W3Xpi1l8J_g',\n",
       "  'sSlt0vd-HtY']}"
      ]
     },
     "execution_count": 51,
     "metadata": {},
     "output_type": "execute_result"
    }
   ],
   "source": [
    "sample"
   ]
  },
  {
   "cell_type": "code",
   "execution_count": 55,
   "metadata": {},
   "outputs": [],
   "source": [
    "videos_info = defaultdict()\n",
    "for key, val in sample.items():\n",
    "    try:\n",
    "        for i in val:\n",
    "            url = 'https://www.youtube.com/watch?v=' + i\n",
    "            videos_info[(key, i)] = get_video_info(url)\n",
    "    except:\n",
    "        continue \n",
    "        \n",
    "    time.sleep(.5+2*random.random())"
   ]
  },
  {
   "cell_type": "code",
   "execution_count": 54,
   "metadata": {},
   "outputs": [
    {
     "name": "stdout",
     "output_type": "stream",
     "text": [
      "https://www.youtube.com/user/yogawithadriene ['h5CEOjPY_uw', 'twDBxdmjCA8', 'qiu1SYtAdBg', '4VSqbSCcvuU', 'xAc-c7-suRc', 'Lnvt4jj9Ajg', 'tYfg3x9oFgo', 'O0gD1v8ob-s', 'ZZ7ID_-8OkY', 'jQPraKYoH54', '-1jGG62K0Dk', 'mdsZzKK19Ko', 'O8BlybmA9SU', 'Dh5oLHetZ1Y', 'cQQvsEUlhfM', '79gRqVTtTK0', 'LGEMzfXfj-g', '8KrY1ePvguw', 'aU0KYsCTbyM', 'A2I-G651IQg', '9DlVaq_-KjA', 'E_Xxqv_tBgU', 'm0PAyp7QM1M', 'VPMqn8OJii8', 'sT5OAAYPHkc', 'b5fxInaetEQ', 'iQKrWQB_Mi4', 'qIWOSQZAvTo', 'NVeNMX8WDeQ', '8PO95Jy8LUQ']\n",
      "https://www.youtube.com/channel/UCahoXO8yh6mqJD9EiARHI7w ['c_IyqUyilPQ', 'UX4BX3oOwT0', 'Mtmcz1YN5Gk', 'Wu_3-C-p4ZE', 'IAF2O2CQDkk', 'UbthP_xPzb0', 'r3HeZgmCABE', 'FBucDn6Hvcw', 'tOXHrwCr_cc', 'TluLxh6rwsI', 'kF6H3UEtUQ4', 'UB-MFWFIKPQ', '5NPyEhlrGcs', 'Fu_E5TBQwfI', 'WjTaT64dzHI', 'aa7OlPKgIS4', 'FsijElMEaJA', 'XBAib_vsmEM', '10H7Yncb0Ec', 'KM9SlMZ8Zik', 'c-aqzzN2Q38', 'VLM-5PPCA98', 'FxXRtVhQWKQ', '1VFVg36jNTQ', 'aoeu9BW2csM', '3I9BSKCwIB4', 'jG0F2l5lCOA', 'jtvUkj7n2GE', 'W3Xpi1l8J_g', 'sSlt0vd-HtY']\n"
     ]
    }
   ],
   "source": [
    "videos_info = defaultdict()\n",
    "for key, val in sample.items():\n",
    "    print(key, val)"
   ]
  },
  {
   "cell_type": "code",
   "execution_count": 56,
   "metadata": {},
   "outputs": [
    {
     "data": {
      "text/plain": [
       "defaultdict(None,\n",
       "            {('https://www.youtube.com/user/yogawithadriene',\n",
       "              'h5CEOjPY_uw'): {'Title': 'Yoga for Vulnerability  |  Move #withme  |  Yoga With Adriene', 'Views': 352868, 'Description': \"Join me for this 35 minute loving and powerful grounding yoga session. This special at-home practice is anchored in an invitation to focus on the rise and fall. Through this structure we will lean in and use the tools of asana, breath, and science to welcome a sense of peacefulness and ease for both mind and body. The awareness of my own vulnerability has made me more aware of others' vulnerability and more loving and receptive in general. Thank you for taking some time to be with yourself, to care for your self, and to notice what all is possible. Please share this practice with a friend and subscribe to the YWA YouTube channel. Let me know how this session feels for you in the comment section down below. Made with love. From my home to yours!For more videos like this, check out this playlist: Yoga for Uncertain Times: https://www.youtube.com/playlist?list...- - - - - - - - - - ❤️SUBSCRIBE to the YWA channel for free yoga videos every week and to support high-quality free yoga for all! ❤️https://www.youtube.com/user/yogawith...- - - - - - - - - - 🧘🏽\\u200d♂️Become a FWFG YOGA member! 🧘🏻\\u200d♂️https://fwfgyoga.comFree 7-Day trial featuring over 25 hours of exclusive videos + all my digital courses. - - - - - - - - - - 🗓Get your FREE Yoga Calendar: 🗓http://yogawithadriene.com/calendar/- - - - - - - - - - More at www.yogawithadriene.com▶︎ Instagram: @adrienelouise▶︎ Twitter: @yogawithadriene▶︎ Facebook: Yoga With Adriene▶︎ Shop: www.fwfg.com- - - - - - - - - - Music by Shakey Graves: https://www.shakeygraves.com- - - - - - - - - - Yoga With Adriene, LLC recommends that you consult your physician regarding the applicability of any recommendations and follow all safety instructions before beginning any exercise program. When participating in any exercise or exercise program, there is the possibility of physical injury. If you engage in this exercise or exercise program, you agree that you do so at your own risk, are voluntarily participating in these activities, assume all risk of injury to yourself.\", 'Publication Date': 'Published on Apr 4, 2020', 'Likes': 7253, 'Dislikes': 92},\n",
       "             ('https://www.youtube.com/user/yogawithadriene',\n",
       "              'twDBxdmjCA8'): {'Title': 'Awaken The Artist Within  |  Yoga With Adriene', 'Views': 996315, 'Description': 'Yoga to Awaken Your Inner Artist. Let go of the distractions and tap into your creative energy with this warming flow to help cultivate your artistic expression. This fluid practice creates heat while encouraging a healthy flow of energy to support you in feeling a clear presence in body and mind. In this practice we focus on expansion and contraction, just like the creative process. Play within the structure to create, find freedom within the form. Call in an intuitive state while honoring the practice of being in the moment. Learn to trust and enjoy the process while you stretch and strengthen the body, expand, and co-create with the breath.Let me know how it goes for you in the comment section down below!For more videos like this, try this Yoga Flows playlist: https://www.youtube.com/playlist?list...- - - - - - - - - - ❤️SUBSCRIBE to the YWA channel for free yoga videos every week and to support high-quality free yoga for all! ❤️https://www.youtube.com/user/yogawith...- - - - - - - - - - 🧘🏽\\u200d♂️Become a FWFG YOGA member! 🧘🏻\\u200d♂️https://fwfgyoga.comFree 7-Day trial featuring over 25 hours of exclusive videos + all my digital courses. - - - - - - - - - - 🗓Get your FREE Yoga Calendar: 🗓http://yogawithadriene.com/calendar/- - - - - - - - - - More at www.yogawithadriene.com▶︎ Instagram: @adrienelouise▶︎ Twitter: @yogawithadriene▶︎ Facebook: Yoga With Adriene▶︎ Shop: www.fwfg.com- - - - - - - - - - Music by Shakey Graves: https://www.shakeygraves.com- - - - - - - - - - Yoga With Adriene, LLC recommends that you consult your physician regarding the applicability of any recommendations and follow all safety instructions before beginning any exercise program. When participating in any exercise or exercise program, there is the possibility of physical injury. If you engage in this exercise or exercise program, you agree that you do so at your own risk, are voluntarily participating in these activities, assume all risk of injury to yourself.', 'Publication Date': 'Published on Feb 29, 2020', 'Likes': 13027, 'Dislikes': 189},\n",
       "             ('https://www.youtube.com/user/yogawithadriene',\n",
       "              'qiu1SYtAdBg'): {'Title': 'Yoga Kiss | Total Body Flow |  Yoga With Adriene', 'Views': 1042128, 'Description': 'Join me for this special 40 minute yoga flow designed to remind you of your worth and created to tend to all parts of the body. Yoga Kiss reminds us that a little goes a long way and that small loving gestures can amount to a big sense of balance, confidence, and ease. Open your heart while cultivating strength and flexibility in mind, body, and spirit. Feel how your body responds to your own loving awareness. Build some heat, stretch it out, and get your core work in. The hardest part is showing up. Once you press play, all you have to do is find a willingness to love yourself where you are today. I’ll meet you there. Let me know how it goes for you in the comment section down below! For more videos like this, try:Self Love Yoga: https://youtu.be/GAnKh5kKpgAYoga for Self Respect: https://youtu.be/sJfkWNW183UDeepen & Flow: https://youtu.be/RKUNOvgM0Y4Yoga for Strength: https://youtu.be/9kOCY0KNBywSuggested Playlists: Yoga Flows: https://www.youtube.com/playlist?list...40-60 min Full Yoga Practices: https://www.youtube.com/playlist?list...Intermediate Yoga: https://www.youtube.com/playlist?list...- - - - - - - - - - ❤️SUBSCRIBE to the YWA channel for free yoga videos every week and to support high-quality free yoga for all! ❤️https://www.youtube.com/user/yogawith...- - - - - - - - - - 🧘🏽\\u200d♂️Become a FWFG YOGA member! 🧘🏻\\u200d♂️https://fwfgyoga.comFree 7-Day trial featuring over 25 hours of exclusive videos + all my digital courses. - - - - - - - - - - 🗓Get your FREE Yoga Calendar: 🗓http://yogawithadriene.com/calendar/- - - - - - - - - - More at www.yogawithadriene.com▶︎ Instagram: @adrienelouise▶︎ Twitter: @yogawithadriene▶︎ Facebook: Yoga With Adriene▶︎ Shop: www.fwfg.com- - - - - - - - - - Music by Shakey Graves: https://www.shakeygraves.com- - - - - - - - - - Yoga With Adriene, LLC recommends that you consult your physician regarding the applicability of any recommendations and follow all safety instructions before beginning any exercise program. When participating in any exercise or exercise program, there is the possibility of physical injury. If you engage in this exercise or exercise program, you agree that you do so at your own risk, are voluntarily participating in these activities, assume all risk of injury to yourself.', 'Publication Date': 'Published on Feb 1, 2020', 'Likes': 13185, 'Dislikes': 286},\n",
       "             ('https://www.youtube.com/user/yogawithadriene',\n",
       "              '4VSqbSCcvuU'): {'Title': 'Home - Day 30 - Journey  |  30 Days of Yoga With Adriene', 'Views': 434279, 'Description': 'Today’s theme is what it is all about. The Journey on home. One that is unique to all of us. For this practice, it is a Day 30 tradition for me to take the microphone off. Can you trust me? Can you trust yourself?You are going to use the vocabulary that we have learned together thus far to choreograph your home practice and to create your experience today. You have the tools. You always have had everything you need to uncover and to reveal what matters most.This is such a beautiful day because, for me, it really does embody the spirit of Yoga With Adriene and this exchange that you are participating in.It is this essence, or spirit, that says, “Hey, I am taking care of myself in my little corner of the world, but also…I am right here with you. I got you.”Try to keep an open mind, please move slowly, and as always, prioritize your breath. Use me as a reference or a guide. You have everything you need. Trust it. Trust it all.It has been my truest honor and pleasure to accompany you on this journey. Thank you for allowing me to guide you and thank you for welcoming me into your HOME.Please remember, that in every end - is a beautiful new beginning.I honor you today.Let me know how it goes for you and where you are practicing from in the comment section down below. #ywahome   #30DaysofYoga   #freeyoga- - - - - - - - - - 🏡HOME - Downloadable Collection 🏡Get the full series - for keeps! Great for those who wish to practice without streaming via internet connection!Just pay what feels good...   http://bit.ly/homeyoga30 🗓Get your free HOME Yoga Calendar: 🗓http://bit.ly/home30calendar- - - - - - - - - - ❤️SUBSCRIBE to the YWA channel for free yoga videos every week and to support high-quality free yoga for all! ❤️https://www.youtube.com/user/yogawith...- - - - - - - - - - Yoga With Adriene, LLC recommends that you consult your physician regarding the applicability of any recommendations and follow all safety instructions before beginning any exercise program. When participating in any exercise or exercise program, there is the possibility of physical injury. If you engage in this exercise or exercise program, you agree that you do so at your own risk, are voluntarily participating in these activities, assume all risk of injury to yourself.', 'Publication Date': 'Published on Jan 30, 2020', 'Likes': 9210, 'Dislikes': 203},\n",
       "             ('https://www.youtube.com/user/yogawithadriene',\n",
       "              'xAc-c7-suRc'): {'Title': 'Home - Day 29 - Intuit  |  30 Days of Yoga With Adriene', 'Views': 327815, 'Description': 'Oh Day 29, my luckiest number, and the most special practice that provides such a beautiful opportunity to listen to your inner voice, your higher self, your best teacher. Today, I invite you to find freedom within the form. Don’t decide where it ends. Embody it. Listen. Pay attention. Respond. Intuit. This is a powerful practice that starts with a good dose of spinal flexion and ends with creative core. Look, we have come a long way so I intuited that a little Wu-Tang boat pose was most necessary, for me. Don’t forget… it’s okay to have FUN!Use your breath to bring yourself back home, darling. We continue to play with our vocabulary today before our final session, Day 30.We are almost there, though I must gently warn you… tomorrow’s practice will be different. But the same. (Cool, Adriene.)It is all a part of the journey, which is most certainly the reward.The process is the candy. See?Honor the time you’ve taken to listen and hone your intuition. Seek to move in a way that feels truly in alignment with who you are.Finally, let’s try to get in the habit of taking only what we need and not more than what we need.What do you say?Let me know how it goes for you in the comment section down below!#ywahome   #30DaysofYoga   #freeyoga- - - - - - - - - - 🏡HOME - Downloadable Collection 🏡Get the full series - for keeps! Great for those who wish to practice without streaming via internet connection!Just pay what feels good...   http://bit.ly/homeyoga30 🗓Get your free HOME Yoga Calendar: 🗓http://bit.ly/home30calendar- - - - - - - - - - ❤️SUBSCRIBE to the YWA channel for free yoga videos every week and to support high-quality free yoga for all! ❤️https://www.youtube.com/user/yogawith...- - - - - - - - - - Yoga With Adriene, LLC recommends that you consult your physician regarding the applicability of any recommendations and follow all safety instructions before beginning any exercise program. When participating in any exercise or exercise program, there is the possibility of physical injury. If you engage in this exercise or exercise program, you agree that you do so at your own risk, are voluntarily participating in these activities, assume all risk of injury to yourself.', 'Publication Date': 'Published on Jan 29, 2020', 'Likes': 6856, 'Dislikes': 50},\n",
       "             ('https://www.youtube.com/user/yogawithadriene',\n",
       "              'Lnvt4jj9Ajg'): {'Title': 'Home - Day 28 - Nourish  |  30 Days of Yoga With Adriene', 'Views': 350531, 'Description': 'You don’t need to understand the science of yoga to experience it. And this session will prove it.In a lot of ways, the journey HOME is about simplifying. Peeling back those parts, those habits, those layers that take away instead of give back. It’s about reuniting with the type of vibration that gives life and connection to your relationship with yourself and to the big picture.When we take time to notice we can start to pay better attention to the things that nourish.But don’t forget, “simplifying” and “nourishing” don’t connote easy.We can build sustainable practices and rituals that serve. This can have a direct effect on how we carry ourselves, energetically, posturally, and in the way you hold space for yourself and for others.We will also take time to nourish parts of the body that could be a little bit sore from the past few practices.When we nourish ourselves, we can better serve others. Please let me know how this session goes for you in the comment section down below.#ywahome   #30DaysofYoga   #freeyoga- - - - - - - - - - 🏡HOME - Downloadable Collection 🏡Get the full series - for keeps! Great for those who wish to practice without streaming via internet connection!Just pay what feels good...   http://bit.ly/homeyoga30 🗓Get your free HOME Yoga Calendar: 🗓http://bit.ly/home30calendar- - - - - - - - - - ❤️SUBSCRIBE to the YWA channel for free yoga videos every week and to support high-quality free yoga for all! ❤️https://www.youtube.com/user/yogawith...- - - - - - - - - - Yoga With Adriene, LLC recommends that you consult your physician regarding the applicability of any recommendations and follow all safety instructions before beginning any exercise program. When participating in any exercise or exercise program, there is the possibility of physical injury. If you engage in this exercise or exercise program, you agree that you do so at your own risk, are voluntarily participating in these activities, assume all risk of injury to yourself.', 'Publication Date': 'Published on Jan 28, 2020', 'Likes': 7283, 'Dislikes': 65},\n",
       "             ('https://www.youtube.com/user/yogawithadriene',\n",
       "              'tYfg3x9oFgo'): {'Title': 'Home - Day 27 - Integrate  |  30 Days of Yoga With Adriene', 'Views': 325128, 'Description': 'The at-home yoga practice provides us the ongoing opportunity to begin again.This journey HOME offers a worthwhile opportunity to learn about your body, integrate the breath, and ultimately explore how to move better. I invite you to consider what it means to move well. We approach today’s practice with a willingness to explore what it means to integrate.Try to think of the body as one complete moving part, versus a bunch of different units. Then, notice if that changes the quality of your breath and the quality of your movement.Only 3 more practices after this!If you are already wondering what you might like to do next, I have your back! We have free Yoga calendars that are curated each month and dropped on our calendar page here:  www.yogawithadriene.com/calendarThese last 4 practices are special. Stay focused, stick with it, and enjoy them. You are my hero.Let me know how it goes for you in the comment section down below!#ywahome   #30DaysofYoga   #freeyoga- - - - - - - - - - 🏡HOME - Downloadable Collection 🏡Get the full series - for keeps! Great for those who wish to practice without streaming via internet connection!Just pay what feels good...   http://bit.ly/homeyoga30 🗓Get your free HOME Yoga Calendar: 🗓http://bit.ly/home30calendar- - - - - - - - - - ❤️SUBSCRIBE to the YWA channel for free yoga videos every week and to support high-quality free yoga for all! ❤️https://www.youtube.com/user/yogawith...- - - - - - - - - - Yoga With Adriene, LLC recommends that you consult your physician regarding the applicability of any recommendations and follow all safety instructions before beginning any exercise program. When participating in any exercise or exercise program, there is the possibility of physical injury. If you engage in this exercise or exercise program, you agree that you do so at your own risk, are voluntarily participating in these activities, assume all risk of injury to yourself.', 'Publication Date': 'Published on Jan 27, 2020', 'Likes': 6932, 'Dislikes': 67},\n",
       "             ('https://www.youtube.com/user/yogawithadriene',\n",
       "              'O0gD1v8ob-s'): {'Title': 'Home - Day 26 - Keep  |  30 Days of Yoga With Adriene', 'Views': 365521, 'Description': 'Drop into the moment today with this special practice that invites you to pull back another layer and look inside. This session asks us to look at our patterns and to take stock of our habitual side and its power. The tools of yoga invite you to get in the habit of keeping the things that work for you and gaining the awareness to notice the things that aren’t working for you.It’s about listening and responding. Keep what works, let go of what doesn’t serve.In this practice, we continue to work from center and the midline, still working to nurture a strong foundation in order to build strength from within.Visit behind the scenes of YWA! Check out the “Making Of Home” on the FWFG Membership: www.fwfg.com #ywahome   #30DaysofYoga   #freeyoga- - - - - - - - - - 🏡HOME - Downloadable Collection 🏡Get the full series - for keeps! Great for those who wish to practice without streaming via internet connection!Just pay what feels good...   http://bit.ly/homeyoga30 🗓Get your free HOME Yoga Calendar: 🗓http://bit.ly/home30calendar- - - - - - - - - - ❤️SUBSCRIBE to the YWA channel for free yoga videos every week and to support high-quality free yoga for all! ❤️https://www.youtube.com/user/yogawith...- - - - - - - - - - Yoga With Adriene, LLC recommends that you consult your physician regarding the applicability of any recommendations and follow all safety instructions before beginning any exercise program. When participating in any exercise or exercise program, there is the possibility of physical injury. If you engage in this exercise or exercise program, you agree that you do so at your own risk, are voluntarily participating in these activities, assume all risk of injury to yourself.', 'Publication Date': 'Published on Jan 26, 2020', 'Likes': 7644, 'Dislikes': 57},\n",
       "             ('https://www.youtube.com/user/yogawithadriene',\n",
       "              'ZZ7ID_-8OkY'): {'Title': 'Home - Day 25 - Unwind  |  30 Days of Yoga With Adriene', 'Views': 320310, 'Description': 'Today’s session offers you a chance to take it easy. Invite in stillness, a sense of calm, relax and unwind. In this restorative practice, we will work to increase flexibility and target areas of the body that may feel tired after your last week of practice. With the tempo of this therapeutic practice, you really get a chance to re-focus on sensation.Take it.Enjoy it.You deserve this.Bring a pillow and a blanket with you to this one if you can, because I have two words for you…Extended savasana.Visit behind the scenes of YWA! Check out the “Making Of Home” on the FWFG Membership: www.fwfg.com#ywahome   #30DaysofYoga   #freeyoga- - - - - - - - - - 🏡HOME - Downloadable Collection 🏡Get the full series - for keeps! Great for those who wish to practice without streaming via internet connection!Just pay what feels good...   http://bit.ly/homeyoga30 🗓Get your free HOME Yoga Calendar: 🗓http://bit.ly/home30calendar- - - - - - - - - - ❤️SUBSCRIBE to the YWA channel for free yoga videos every week and to support high-quality free yoga for all! ❤️https://www.youtube.com/user/yogawith...- - - - - - - - - - Yoga With Adriene, LLC recommends that you consult your physician regarding the applicability of any recommendations and follow all safety instructions before beginning any exercise program. When participating in any exercise or exercise program, there is the possibility of physical injury. If you engage in this exercise or exercise program, you agree that you do so at your own risk, are voluntarily participating in these activities, assume all risk of injury to yourself.', 'Publication Date': 'Published on Jan 25, 2020', 'Likes': 7004, 'Dislikes': 71},\n",
       "             ('https://www.youtube.com/user/yogawithadriene',\n",
       "              'jQPraKYoH54'): {'Title': 'Home - Day 24 - Uplift  |  30 Days of Yoga With Adriene', 'Views': 388580, 'Description': 'Today’s session is a quick 16 minute practice designed to stimulate and elevate. Uplift. This practice invites you to keep an open mind as you continue to build strength and condition. Do not be deceived by this quick vinyasa flow, it packs a loving punch with a focus that moves from your center. The journey continues. Remember the hardest part is showing up.Your core is calling!Enjoy this gift.Give it to yourself.Visit behind the scenes of YWA! Check out the “Making Of Home” on the FWFG Membership: www.fwfg.com#ywahome   #30DaysofYoga   #freeyoga- - - - - - - - - - 🏡HOME - Downloadable Collection 🏡Get the full series - for keeps! Great for those who wish to practice without streaming via internet connection!Just pay what feels good...   http://bit.ly/homeyoga30 🗓Get your free HOME Yoga Calendar: 🗓http://bit.ly/home30calendar- - - - - - - - - - ❤️SUBSCRIBE to the YWA channel for free yoga videos every week and to support high-quality free yoga for all! ❤️https://www.youtube.com/user/yogawith...- - - - - - - - - - Yoga With Adriene, LLC recommends that you consult your physician regarding the applicability of any recommendations and follow all safety instructions before beginning any exercise program. When participating in any exercise or exercise program, there is the possibility of physical injury. If you engage in this exercise or exercise program, you agree that you do so at your own risk, are voluntarily participating in these activities, assume all risk of injury to yourself.', 'Publication Date': 'Published on Jan 24, 2020', 'Likes': 8771, 'Dislikes': 61},\n",
       "             ('https://www.youtube.com/user/yogawithadriene',\n",
       "              '-1jGG62K0Dk'): {'Title': 'Home - Day 23 - Focus  |  30 Days of Yoga With Adriene', 'Views': 371761, 'Description': 'With so many distractions these days, our ability to focus or refocus our attention is beyond valuable, in fact, it’s paramount. Today’s 20 minute session should fly by but will require you to dial inwards. For how else will you balance on one leg, my dear?The invitation today is one in which you can focus or re-focus back on your WHY. What led you to go on this journey in the first place? Remember, the goal is not to aspire to transform into something you have not yet become, but rather to return home to embody everything that you already are, fully. In this session, we will focus on neck and shoulder relief, spinal flexion, and use what we’ve learned so far to maintain balance between the left and right sides of the body. Use the flow to build heat and enjoy the process of learning to find your balance. Pro-tip: work with your breath and lead from your center. Where attention goes, energy flows. Visit behind the scenes of YWA! Check out the “Making Of Home” on the FWFG Membership: www.fwfg.com#ywahome   #30DaysofYoga   #freeyoga- - - - - - - - - - 🏡HOME - Downloadable Collection 🏡Get the full series - for keeps! Great for those who wish to practice without streaming via internet connection!Just pay what feels good...   http://bit.ly/homeyoga30 🗓Get your free HOME Yoga Calendar: 🗓http://bit.ly/home30calendar- - - - - - - - - - ❤️SUBSCRIBE to the YWA channel for free yoga videos every week and to support high-quality free yoga for all! ❤️https://www.youtube.com/user/yogawith...- - - - - - - - - - Yoga With Adriene, LLC recommends that you consult your physician regarding the applicability of any recommendations and follow all safety instructions before beginning any exercise program. When participating in any exercise or exercise program, there is the possibility of physical injury. If you engage in this exercise or exercise program, you agree that you do so at your own risk, are voluntarily participating in these activities, assume all risk of injury to yourself.', 'Publication Date': 'Published on Jan 23, 2020', 'Likes': 7733, 'Dislikes': 56},\n",
       "             ('https://www.youtube.com/user/yogawithadriene',\n",
       "              'mdsZzKK19Ko'): {'Title': 'Home - Day 22 - Stir  |  30 Days of Yoga With Adriene', 'Views': 389532, 'Description': 'Stir it up! This is a slow flow class to soften out the hard edges, inviting you to continue to pay attention to the sensations in the physical and emotional body. I love regular daily, at-home yoga practice because I really get this sense that every time I show up, the practice is catching me on any given day. Wherever I land, with whatever I am bringing, the mat has my back. What if that were true? Our exploration in yoga practice can stir up some powerful mind and body work. Continue to slow down your breath, move mindfully, and stay open. This practice (and this whole project) is designed to support you and have your back. Stir it up, little darling. Notice what it feels like to be alive today. Be kind to yourself. Be gentle. Create space. If you are this way on your yoga mat, you are more likely to be this way off the mat.Visit behind the scenes of YWA! Check out the “Making Of Home” on the FWFG Membership: www.FWFG.com. #ywahome   #30DaysofYoga   #freeyoga- - - - - - - - - - 🏡HOME - Downloadable Collection 🏡Get the full series - for keeps! Great for those who wish to practice without streaming via internet connection!Just pay what feels good...   http://bit.ly/homeyoga30 🗓Get your free HOME Yoga Calendar: 🗓http://bit.ly/home30calendar- - - - - - - - - - ❤️SUBSCRIBE to the YWA channel for free yoga videos every week and to support high-quality free yoga for all! ❤️https://www.youtube.com/user/yogawith...- - - - - - - - - - Yoga With Adriene, LLC recommends that you consult your physician regarding the applicability of any recommendations and follow all safety instructions before beginning any exercise program. When participating in any exercise or exercise program, there is the possibility of physical injury. If you engage in this exercise or exercise program, you agree that you do so at your own risk, are voluntarily participating in these activities, assume all risk of injury to yourself.', 'Publication Date': 'Published on Jan 22, 2020', 'Likes': 8234, 'Dislikes': 62},\n",
       "             ('https://www.youtube.com/user/yogawithadriene',\n",
       "              'O8BlybmA9SU'): {'Title': 'Home - Day 21 - Boost  |  30 Days of Yoga With Adriene', 'Views': 425779, 'Description': 'Do not fear, nor be wary of this BOOST practice. This session will provide. We will begin with some workshopping on the floor, continuing to explore and establish core connection. Core connection that is sustainable and truly serves.  You will also get a little internal organ massage, boosting the health of the organs and the immune system. Who else will be able to say that they received that today?We work with a pranayama called Breath Of Fire today. Fair warning, animals/pets love this one. If you are interested in learning the foundations of this breath, check out this video here: https://youtu.be/jbtLH-3DfLc Be willing to receive the benefits of this incredible practice via your breath. I will guide you, but you have to bring the breath. I know you will.Visit behind the scenes of YWA! Check out the “Making Of Home” on the FWFG Membership: www.FWFG.com. #ywahome   #30DaysofYoga   #freeyoga- - - - - - - - - - 🏡HOME - Downloadable Collection 🏡Get the full series - for keeps! Great for those who wish to practice without streaming via internet connection!Just pay what feels good...   http://bit.ly/homeyoga30 🗓Get your free HOME Yoga Calendar: 🗓http://bit.ly/home30calendar- - - - - - - - - - ❤️SUBSCRIBE to the YWA channel for free yoga videos every week and to support high-quality free yoga for all! ❤️https://www.youtube.com/user/yogawith...- - - - - - - - - - Yoga With Adriene, LLC recommends that you consult your physician regarding the applicability of any recommendations and follow all safety instructions before beginning any exercise program. When participating in any exercise or exercise program, there is the possibility of physical injury. If you engage in this exercise or exercise program, you agree that you do so at your own risk, are voluntarily participating in these activities, assume all risk of injury to yourself.', 'Publication Date': 'Published on Jan 21, 2020', 'Likes': 7772, 'Dislikes': 93},\n",
       "             ('https://www.youtube.com/user/yogawithadriene',\n",
       "              'Dh5oLHetZ1Y'): {'Title': 'Home - Day 20 - Still  |  30 Days of Yoga With Adriene', 'Views': 405674, 'Description': 'Let this day 20 day motivate you to stay on the path, dear one. 10 days left. Today’s session could be special, inviting you to be still… in so many ways.  Building on the last few practices, we continue to work on finding action within alignment and continue to mindfully build on core strength. As our vocabulary grows, maintain your connection to the foundation. Remember, it doesn’t always have to be harder, faster, stronger. Come into stillness, notice where your thoughts go, and let’s keep exploring. Want to see behind the scenes of YWA? Check out the “Making Of Home” on the FWFG Membership: www.fwfg.com #ywahome   #30DaysofYoga   #freeyoga- - - - - - - - - - 🏡HOME - Downloadable Collection 🏡Get the full series - for keeps! Great for those who wish to practice without streaming via internet connection!Just pay what feels good...   http://bit.ly/homeyoga30 🗓Get your free HOME Yoga Calendar: 🗓http://bit.ly/home30calendar- - - - - - - - - - ❤️SUBSCRIBE to the YWA channel for free yoga videos every week and to support high-quality free yoga for all! ❤️https://www.youtube.com/user/yogawith...- - - - - - - - - - Yoga With Adriene, LLC recommends that you consult your physician regarding the applicability of any recommendations and follow all safety instructions before beginning any exercise program. When participating in any exercise or exercise program, there is the possibility of physical injury. If you engage in this exercise or exercise program, you agree that you do so at your own risk, are voluntarily participating in these activities, assume all risk of injury to yourself.', 'Publication Date': 'Published on Jan 20, 2020', 'Likes': 8598, 'Dislikes': 83},\n",
       "             ('https://www.youtube.com/user/yogawithadriene',\n",
       "              'cQQvsEUlhfM'): {'Title': 'Home - Day 19 - Balance  |  30 Days of Yoga With Adriene', 'Views': 451811, 'Description': 'Balance is our natural state. I like to think that this notion of coming home really does make sense, because we are not trying to achieve balance, but rather return to it. The path to balance isn’t always in the “doing.” It can be about the undoing. Both require listening. In addition to your daily alignment work, this flow lights up the energy we’ve been cultivating this entire journey. It includes two sets of plank push-ups and some balancing work. But don’t let that intimidate you. Instead, acknowledge what it took you to get here. Look how far we have come. You should feel proud.  There is an option to follow this practice with an extra pranayama video, if you have time. This breath will help to balance the left and the right side of the brain and body: https://www.youtube.com/watch?v=8Vwuf...I have at long last uploaded The Making Of Home to the Find What Feels Good Membership. If you are interested in some of the history of this project or just like to see behind the scenes - check it out at www.fwfg.com!#ywahome   #30DaysofYoga   #freeyoga- - - - - - - - - - 🏡HOME - Downloadable Collection 🏡Get the full series - for keeps! Great for those who wish to practice without streaming via internet connection!Just pay what feels good...   http://bit.ly/homeyoga30 🗓Get your free HOME Yoga Calendar: 🗓http://bit.ly/home30calendar- - - - - - - - - - ❤️SUBSCRIBE to the YWA channel for free yoga videos every week and to support high-quality free yoga for all! ❤️https://www.youtube.com/user/yogawith...- - - - - - - - - - Yoga With Adriene, LLC recommends that you consult your physician regarding the applicability of any recommendations and follow all safety instructions before beginning any exercise program. When participating in any exercise or exercise program, there is the possibility of physical injury. If you engage in this exercise or exercise program, you agree that you do so at your own risk, are voluntarily participating in these activities, assume all risk of injury to yourself.', 'Publication Date': 'Published on Jan 19, 2020', 'Likes': 8822, 'Dislikes': 69},\n",
       "             ('https://www.youtube.com/user/yogawithadriene',\n",
       "              '79gRqVTtTK0'): {'Title': 'Home - Day 18 - Believe  |  30 Days of Yoga With Adriene', 'Views': 471505, 'Description': 'Today’s practice does move, but it will start with a lesson on surrender. Surrender as a pathway toward home. I invite you to use what we practiced in day 17, linking the breath with the movement, and incorporate that into today’s flow. Remember to take a breath of gratitude. This is valuable time you are giving yourself. It’s a gift. You better believe it. Believe me when I say make it your own. Believe in your own intuition. Embrace the slower paced action to find that inner intrinsic work that is most valuable and necessary for when you are thrown off balance. Work from the inside out based on sensation. This is about working with your body. Not on it. What would it feel like to wake up each day and have a practice where you believed in yourself?- - - - - - -Per your request, the HOME pop up shop is LIVE! These limited HOME t-shirts, tanks, and baseball tees are on sale till 2/25/20 only and ship everywhere. Visit here to get yours: www.ywapopup.com!  I am about to upload The Making Of Home to the FWFG Membership! Join us so you can peep behind the scenes: www.fwfg.com!  Sign up for my daily emails that correspond with the practice, receive your free HOME calendar, and invite a friend to join: www.ywahome.comHave a question? Visit the HOME FAQ page: https://help.fwfg.com#ywahome   #30DaysofYoga   #freeyoga- - - - - - - - - - 🏡HOME - Downloadable Collection 🏡Get the full series - for keeps! Great for those who wish to practice without streaming via internet connection!Just pay what feels good...   http://bit.ly/homeyoga30 🗓Get your free HOME Yoga Calendar: 🗓http://bit.ly/home30calendar- - - - - - - - - - ❤️SUBSCRIBE to the YWA channel for free yoga videos every week and to support high-quality free yoga for all! ❤️https://www.youtube.com/user/yogawith...- - - - - - - - - - Yoga With Adriene, LLC recommends that you consult your physician regarding the applicability of any recommendations and follow all safety instructions before beginning any exercise program. When participating in any exercise or exercise program, there is the possibility of physical injury. If you engage in this exercise or exercise program, you agree that you do so at your own risk, are voluntarily participating in these activities, assume all risk of injury to yourself.', 'Publication Date': 'Published on Jan 18, 2020', 'Likes': 9198, 'Dislikes': 65},\n",
       "             ('https://www.youtube.com/user/yogawithadriene',\n",
       "              'LGEMzfXfj-g'): {'Title': 'Home - Day 17 - Synchronize  |  30 Days of Yoga With Adriene', 'Views': 482811, 'Description': 'Today we synchronize our watches, our hearts, our brains, and the movement with our almighty breath. In this session, we work to re-pattern the rigid beginnings of our past and find our renewed sense of self. This slower paced, gentle practice invites you to focus on grounding through the feet, working with the currents of energy through the back and front body, and the marriage between the movement and the breath. If you are feeling a little tired today, heads up, I got you. In fact, you will stay on the ground in a comfortable seat pose stretching it out for about the first 10 minutes. Look. It’s all about connection. Take the time to seek it, play with it, unlock it, use it to bring yourself back to savor the moment, over and over again.Stay open to the small (or large) ways in which these practices can show up off the mat. Per your request, the HOME pop up shop is LIVE! These limited HOME t-shirts, tanks, and baseball tees are on sale till 2/25 only and ship everywhere. Visit ywapopup.com to get yours! I am about to upload The Making Of Home to the FWFG Membership! Join us at fwfg.com so you can peep behind the scenes! Sign up for my daily emails that correspond with the practice, receive your free HOME calendar, and invite a friend to join: www.ywahome.comHave a question? Visit the HOME FAQ page: https://help.fwfg.com#ywahome   #30DaysofYoga   #freeyoga- - - - - - - - - - 🏡HOME - Downloadable Collection 🏡Get the full series - for keeps! Great for those who wish to practice without streaming via internet connection!Just pay what feels good...   http://bit.ly/homeyoga30 🗓Get your free HOME Yoga Calendar: 🗓http://bit.ly/home30calendar- - - - - - - - - - ❤️SUBSCRIBE to the YWA channel for free yoga videos every week and to support high-quality free yoga for all! ❤️https://www.youtube.com/user/yogawith...- - - - - - - - - - Yoga With Adriene, LLC recommends that you consult your physician regarding the applicability of any recommendations and follow all safety instructions before beginning any exercise program. When participating in any exercise or exercise program, there is the possibility of physical injury. If you engage in this exercise or exercise program, you agree that you do so at your own risk, are voluntarily participating in these activities, assume all risk of injury to yourself.', 'Publication Date': 'Published on Jan 17, 2020', 'Likes': 8776, 'Dislikes': 193},\n",
       "             ('https://www.youtube.com/user/yogawithadriene',\n",
       "              '8KrY1ePvguw'): {'Title': 'Home - Day 16 - Savor  |  30 Days of Yoga With Adriene', 'Views': 523846, 'Description': 'Happy Sweet 16. And oh, is it a sweet one, designed for you to SAVOR! Take the invitation to really focus on your exhalations today. In fact, don’t be shy, go for it. Really establish that exhale today, Okay?Learn to savor the moment. Allow one present moment to bleed into the next. Let me know how it goes in the comment section down below!Per your request, the HOME pop up shop is LIVE! These limited HOME t-shirts, tanks, and baseball tees are on sale till 2/25 only and ship everywhere. Visit here to get yours: www.ywapopup.com  I am about to upload The Making Of Home to the FWFG Membership! Join at www.fwfg.com so you can peep behind the scenes! Sign up for my daily emails that correspond with the practice, receive your free HOME calendar, and invite a friend to join: www.ywahome.comHave a question? Visit the HOME FAQ page: https://help.fwfg.com#ywahome   #30DaysofYoga   #freeyoga- - - - - - - - - - 🏡HOME - Downloadable Collection 🏡Get the full series - for keeps! Great for those who wish to practice without streaming via internet connection!Just pay what feels good...   http://bit.ly/homeyoga30 🗓Get your free HOME Yoga Calendar: 🗓http://bit.ly/home30calendar- - - - - - - - - - ❤️SUBSCRIBE to the YWA channel for free yoga videos every week and to support high-quality free yoga for all! ❤️https://www.youtube.com/user/yogawith...- - - - - - - - - - Yoga With Adriene, LLC recommends that you consult your physician regarding the applicability of any recommendations and follow all safety instructions before beginning any exercise program. When participating in any exercise or exercise program, there is the possibility of physical injury. If you engage in this exercise or exercise program, you agree that you do so at your own risk, are voluntarily participating in these activities, assume all risk of injury to yourself.', 'Publication Date': 'Published on Jan 16, 2020', 'Likes': 9842, 'Dislikes': 85},\n",
       "             ('https://www.youtube.com/user/yogawithadriene',\n",
       "              'aU0KYsCTbyM'): {'Title': 'Home - Day 15 - Reset  |  30 Days of Yoga With Adriene', 'Views': 564581, 'Description': 'We are at the halfway mark! We did not say that it would not be challenging to show up for the full 30. But darling, yes, we are here! We celebrate Day 15 with a strong, rejuvenating flow designed to guide you to your comfortable edge, promote healthy blood flow, and guide you towards a connected RESET. I cannot describe the true power of knowing when and how to hit the reset button. I practice this on the mat and then I find this power with me off the mat, Showing up when I need it most. A connected RESET isn’t always comfortable. But trust it. Try to find something new today!The breath is your number one tool for RESET.Make use of it. You are doing great!Per your request and in honor of the halfway mark, I am happy to announce these fun YWA/HOME t-shirts, tanks, and baseball tees! http://ywapopup.com Sign up for my daily emails that correspond with the practice, receive your free HOME calendar, and invite a friend to join: www.ywahome.comHave a question? Visit the HOME FAQ page: https://help.fwfg.com#ywahome   #30DaysofYoga   #freeyoga- - - - - - - - - - 🏡HOME - Downloadable Collection 🏡Get the full series - for keeps! Great for those who wish to practice without streaming via internet connection!Just pay what feels good...   http://bit.ly/homeyoga30 🗓Get your free HOME Yoga Calendar: 🗓http://bit.ly/home30calendar- - - - - - - - - - ❤️SUBSCRIBE to the YWA channel for free yoga videos every week and to support high-quality free yoga for all! ❤️https://www.youtube.com/user/yogawith...- - - - - - - - - - Yoga With Adriene, LLC recommends that you consult your physician regarding the applicability of any recommendations and follow all safety instructions before beginning any exercise program. When participating in any exercise or exercise program, there is the possibility of physical injury. If you engage in this exercise or exercise program, you agree that you do so at your own risk, are voluntarily participating in these activities, assume all risk of injury to yourself.', 'Publication Date': 'Published on Jan 15, 2020', 'Likes': 11238, 'Dislikes': 72},\n",
       "             ('https://www.youtube.com/user/yogawithadriene',\n",
       "              'A2I-G651IQg'): {'Title': 'Home - Day 14 - Return  |  30 Days of Yoga With Adriene', 'Views': 569855, 'Description': 'If you started this journey out seeking transformation or craving a change - consider this:In the philosophy of Yoga, we are not actually ever working towards the goal of becoming someone or something that we are not already. We are already that thing. That which we desire, we already possess. We are not trying to step out and change, conform, or embody someone else’s idea or concept of who we should be. This is a return. Expect, a juicy hip practice that engages the whole body. As we stir the pot today, anchor your thoughts by choosing something specific that you want to return to. Let me know how this session goes for you in the comment section below! Sign up for my daily emails that correspond with the practice, receive your free HOME calendar, and invite a friend to join: www.ywahome.comI am uploading a special “Making of HOME” video to the Find What Feels Good Membership VERY soon! If you like to see BEHIND THE SCENES, consider joining the membership! Click here to try it for free: www.fwfg.comHave a question? Visit the HOME FAQ page: https://help.fwfg.com#ywahome   #30DaysofYoga   #freeyoga- - - - - - - - - - 🏡HOME - Downloadable Collection 🏡Get the full series - for keeps! Great for those who wish to practice without streaming via internet connection!Just pay what feels good...   http://bit.ly/homeyoga30 🗓Get your free HOME Yoga Calendar: 🗓http://bit.ly/home30calendar- - - - - - - - - - ❤️SUBSCRIBE to the YWA channel for free yoga videos every week and to support high-quality free yoga for all! ❤️https://www.youtube.com/user/yogawith...- - - - - - - - - - Yoga With Adriene, LLC recommends that you consult your physician regarding the applicability of any recommendations and follow all safety instructions before beginning any exercise program. When participating in any exercise or exercise program, there is the possibility of physical injury. If you engage in this exercise or exercise program, you agree that you do so at your own risk, are voluntarily participating in these activities, assume all risk of injury to yourself.', 'Publication Date': 'Published on Jan 14, 2020', 'Likes': 11299, 'Dislikes': 81},\n",
       "             ('https://www.youtube.com/user/yogawithadriene',\n",
       "              '9DlVaq_-KjA'): {'Title': 'Home - Day 13 - Grow  | 30 Days of Yoga With Adriene', 'Views': 587058, 'Description': 'Let’s grow our practice, shall we? I am so excited to continue to expand on this home practice and create a vocabulary together. Not just in the shapes. But also in the way we approach and the way we listen. Make room to grow. Today’s session encourages you to make space so you can fill it with new discovery. Have you had a taste of your own potential lately?Are you giving yourself enough time and space to continue to grow and blossom in new ways?This is a flow that is designed to help you build strength, and endurance - in the most therapeutic way. Remember, you have to bring the breath. Own it. Inquire. Ground. Dig. Nurture. Let’s grow.Sign up for my daily emails that correspond with the practice, receive your free HOME calendar, and invite a friend to join: www.ywahome.comHave a question? Visit the HOME FAQ page: https://help.fwfg.com#ywahome   #30DaysofYoga   #freeyoga- - - - - - - - - - 🏡HOME - Downloadable Collection 🏡Get the full series - for keeps! Great for those who wish to practice without streaming via internet connection!Just pay what feels good...   http://bit.ly/homeyoga30 🗓Get your free HOME Yoga Calendar: 🗓http://bit.ly/home30calendar- - - - - - - - - - ❤️SUBSCRIBE to the YWA channel for free yoga videos every week and to support high-quality free yoga for all! ❤️https://www.youtube.com/user/yogawith...- - - - - - - - - - Yoga With Adriene, LLC recommends that you consult your physician regarding the applicability of any recommendations and follow all safety instructions before beginning any exercise program. When participating in any exercise or exercise program, there is the possibility of physical injury. If you engage in this exercise or exercise program, you agree that you do so at your own risk, are voluntarily participating in these activities, assume all risk of injury to yourself.', 'Publication Date': 'Published on Jan 13, 2020', 'Likes': 11646, 'Dislikes': 76},\n",
       "             ('https://www.youtube.com/user/yogawithadriene',\n",
       "              'E_Xxqv_tBgU'): {'Title': 'Home - Day 12 - Nurture  |  30 Days of Yoga With Adriene', 'Views': 590416, 'Description': 'Day 12 offers an efficient and therapeutic practice to nurture the mind and body. (Plus some sneaky core!) This is not about sweeping whatever you have going on under the rug so you can get your workout in. Nah. Yoga doesn’t play that way. Or at least, not our practice. Trust your practice. Trust that you are being led to the right place. Nurture. Please do not underestimate the power of stillness. So take that sweet sweet savasana ending today and bring a blanket if you have one. Take good care of yourself. Let me know how this session goes for you in the comment section below! Sign up for my daily emails that correspond with the practice, receive your free HOME calendar, and invite a friend to join: www.ywahome.comHave a question? Visit the HOME FAQ page: https://help.fwfg.com#ywahome   #30DaysofYoga   #freeyoga- - - - - - - - - - 🏡HOME - Downloadable Collection 🏡Get the full series - for keeps! Great for those who wish to practice without streaming via internet connection!Just pay what feels good...   http://bit.ly/homeyoga30 🗓Get your free HOME Yoga Calendar: 🗓http://bit.ly/home30calendar- - - - - - - - - - ❤️SUBSCRIBE to the YWA channel for free yoga videos every week and to support high-quality free yoga for all! ❤️https://www.youtube.com/user/yogawith...- - - - - - - - - - Yoga With Adriene, LLC recommends that you consult your physician regarding the applicability of any recommendations and follow all safety instructions before beginning any exercise program. When participating in any exercise or exercise program, there is the possibility of physical injury. If you engage in this exercise or exercise program, you agree that you do so at your own risk, are voluntarily participating in these activities, assume all risk of injury to yourself.', 'Publication Date': 'Published on Jan 12, 2020', 'Likes': 11294, 'Dislikes': 87},\n",
       "             ('https://www.youtube.com/user/yogawithadriene',\n",
       "              'm0PAyp7QM1M'): {'Title': 'Home - Day 11 - Dig  |  30 Days of Yoga With Adriene', 'Views': 667624, 'Description': 'On Day 11, we jump right in with a dynamic flow practice to replenish your soil. If you like, please take a couple mindful breaths to tune in before you press play. In today’s practice, try to give your thinking mind a break, dropping expectations and patterns of judgment. I know it’s easier said than done, but use your tools. Namely, the sound of your breath. Feel it out. Loving reminder: You have everything you need here. So move mindfully and take your time. If you are not in rhythm with my guidance, that is okay. Move at your own pace. Work where you are today. (There are so many layers to play with!)Darling, allow yourself to… dig in. Sign up for my daily emails that correspond with the practice, receive your free HOME calendar, and invite a friend to join: www.ywahome.comHave a question? Visit the HOME FAQ page: https://help.fwfg.com#ywahome   #30DaysofYoga   #freeyoga- - - - - - - - - - 🏡HOME - Downloadable Collection 🏡Get the full series - for keeps! Great for those who wish to practice without streaming via internet connection!Just pay what feels good...   http://bit.ly/homeyoga30 🗓Get your free HOME Yoga Calendar: 🗓http://bit.ly/home30calendar- - - - - - - - - - ❤️SUBSCRIBE to the YWA channel for free yoga videos every week and to support high-quality free yoga for all! ❤️https://www.youtube.com/user/yogawith...- - - - - - - - - - Yoga With Adriene, LLC recommends that you consult your physician regarding the applicability of any recommendations and follow all safety instructions before beginning any exercise program. When participating in any exercise or exercise program, there is the possibility of physical injury. If you engage in this exercise or exercise program, you agree that you do so at your own risk, are voluntarily participating in these activities, assume all risk of injury to yourself.', 'Publication Date': 'Published on Jan 11, 2020', 'Likes': 12138, 'Dislikes': 80},\n",
       "             ('https://www.youtube.com/user/yogawithadriene',\n",
       "              'VPMqn8OJii8'): {'Title': 'Home - Day 10 - Ground  |  30 Days of Yoga With Adriene', 'Views': 710726, 'Description': 'Today’s offering is a standing yoga practice that is most necessary for us to move forward on this journey. It’s 18 minutes that should fly by, so whatever you are coming to the mat with, try to stay focused and take yesterday’s inquisitiveness with you. You might find that it’s easier to find your breath when you are flowing in and out of shapes. See if you can find that same depth of breath today as we ground in new asana vocabulary. Take whatever you are working with today and make a home for it. Allow it to teach you, serve you, reflect back to you. This is a practice for the mind and body. Ground. So we can grow. I got your back!Sign up for my daily emails that correspond with the practice, receive your free HOME calendar, and invite a friend to join: www.ywahome.comHave a question? Visit the HOME FAQ page: https://help.fwfg.com#ywahome   #30DaysofYoga   #freeyoga- - - - - - - - - - 🏡HOME - Downloadable Collection 🏡Get the full series - for keeps! Great for those who wish to practice without streaming via internet connection!Just pay what feels good...   http://bit.ly/homeyoga30 🗓Get your free HOME Yoga Calendar: 🗓http://bit.ly/home30calendar- - - - - - - - - - ❤️SUBSCRIBE to the YWA channel for free yoga videos every week and to support high-quality free yoga for all! ❤️https://www.youtube.com/user/yogawith...- - - - - - - - - - Yoga With Adriene, LLC recommends that you consult your physician regarding the applicability of any recommendations and follow all safety instructions before beginning any exercise program. When participating in any exercise or exercise program, there is the possibility of physical injury. If you engage in this exercise or exercise program, you agree that you do so at your own risk, are voluntarily participating in these activities, assume all risk of injury to yourself.', 'Publication Date': 'Published on Jan 10, 2020', 'Likes': 11812, 'Dislikes': 187},\n",
       "             ('https://www.youtube.com/user/yogawithadriene',\n",
       "              'sT5OAAYPHkc'): {'Title': 'Home - Day 9 - Inquire  |  30 Days of Yoga With Adriene', 'Views': 784698, 'Description': 'We begin week two highlighting the power of self-inquiry. Consider the idea that our practice is not one of “doing,” or one of imminent mastery, but rather one of self study. This is key for the journey HOME. What feels good? What doesn’t? What feels honest?Can we begin to close the gap between how we feel and how we want to feel?This time is about examining your self. It’s not about doing it right. When we approach the practice through the lens of self study, we find that we have everything we need to both gracefully and fiercely move toward what serves… and to move away from what doesn’t.Honor your inner voice. Celebrate the learning process. Sign up for my daily emails that correspond with the practice, receive your free HOME calendar, and invite a friend to join: www.ywahome.comHave a question? Visit the HOME FAQ page: https://help.fwfg.com#ywahome   #30DaysofYoga   #freeyoga- - - - - - - - - - 🏡HOME - Downloadable Collection 🏡Get the full series - for keeps! Great for those who wish to practice without streaming via internet connection!Just pay what feels good...   http://bit.ly/homeyoga30 🗓Get your free HOME Yoga Calendar: 🗓http://bit.ly/home30calendar- - - - - - - - - - ❤️SUBSCRIBE to the YWA channel for free yoga videos every week and to support high-quality free yoga for all! ❤️https://www.youtube.com/user/yogawith...- - - - - - - - - - Yoga With Adriene, LLC recommends that you consult your physician regarding the applicability of any recommendations and follow all safety instructions before beginning any exercise program. When participating in any exercise or exercise program, there is the possibility of physical injury. If you engage in this exercise or exercise program, you agree that you do so at your own risk, are voluntarily participating in these activities, assume all risk of injury to yourself.', 'Publication Date': 'Published on Jan 9, 2020', 'Likes': 14036, 'Dislikes': 98},\n",
       "             ('https://www.youtube.com/user/yogawithadriene',\n",
       "              'b5fxInaetEQ'): {'Title': 'Home - Day 8 - Heal  |  30 Days of Yoga With Adriene', 'Views': 781703, 'Description': 'It is easy to spot and own our physical wounds. But our emotional wounds seldom get the attention they need for real healing. Innately we know, even if you don’t understand, that it’s all connected. Yet, we often feel we lack the time, the space, and the tools to sincerely tend to what ails. At home yoga provides us an opportunity to heal ourselves. To seek and work to find a way to check in, recover, restore, and begin again - each time we show up. Today’s low to the ground moving meditation reminds you that your only task is to listen and respond. And to be honest about it. I hope you enjoy this session and find a moment to relax whatever might be gripping, to let go of that which is no longer serving you, and to Find What Feels Good. Bring a blanket and a pillow, if you have them at hand. Let me know how it goes for you in the comment section down below!Sign up for my daily emails that correspond with the practice, receive your free HOME calendar, and invite a friend to join: www.ywahome.comHave a question? Visit the HOME FAQ page: https://help.fwfg.com#ywahome   #30DaysofYoga   #freeyoga- - - - - - - - - - 🏡HOME - Downloadable Collection 🏡Get the full series - for keeps! Great for those who wish to practice without streaming via internet connection!Just pay what feels good...   http://bit.ly/homeyoga30 🗓Get your free HOME Yoga Calendar: 🗓http://bit.ly/home30calendar- - - - - - - - - - ❤️SUBSCRIBE to the YWA channel for free yoga videos every week and to support high-quality free yoga for all! ❤️https://www.youtube.com/user/yogawith...- - - - - - - - - - Yoga With Adriene, LLC recommends that you consult your physician regarding the applicability of any recommendations and follow all safety instructions before beginning any exercise program. When participating in any exercise or exercise program, there is the possibility of physical injury. If you engage in this exercise or exercise program, you agree that you do so at your own risk, are voluntarily participating in these activities, assume all risk of injury to yourself.', 'Publication Date': 'Published on Jan 8, 2020', 'Likes': 14220, 'Dislikes': 162},\n",
       "             ('https://www.youtube.com/user/yogawithadriene',\n",
       "              'iQKrWQB_Mi4'): {'Title': 'Home - Day 7 - Stretch  |  30 Days of Yoga With Adriene', 'Views': 1003737, 'Description': 'Your Day 7 yoga practice begins with a little self massage and yoga philosophy - so if you were thinking about missing today’s practice - don’t. This hands free session offers an opportunity to re-balance the body after your first six practices, providing relief in the shoulders and wrists while initiating grounding energy to help you get in the right mindset for week two.This is not just the bendy stretchy stretch practice you might anticipate. No way, we said we were going all the way HOME. Stretch your mind’s eye, your imagination, and your awareness a little further beyond the physical body today. (Don’t fret, your body will get a nice opportunity to stretch it out too.)Let me know how it goes for you in the comment section down below. Share your experience with #ywaHOMESign up for my daily emails that correspond with the practice, receive your free HOME calendar, and invite a friend to join: www.ywahome.comHave a question? Visit the HOME FAQ page: https://help.fwfg.com#ywahome   #30DaysofYoga   #freeyoga- - - - - - - - - - 🏡HOME - Downloadable Collection 🏡Get the full series - for keeps! Great for those who wish to practice without streaming via internet connection!Just pay what feels good...   http://bit.ly/homeyoga30 🗓Get your free HOME Yoga Calendar: 🗓http://bit.ly/home30calendar- - - - - - - - - - ❤️SUBSCRIBE to the YWA channel for free yoga videos every week and to support high-quality free yoga for all! ❤️https://www.youtube.com/user/yogawith...- - - - - - - - - - Yoga With Adriene, LLC recommends that you consult your physician regarding the applicability of any recommendations and follow all safety instructions before beginning any exercise program. When participating in any exercise or exercise program, there is the possibility of physical injury. If you engage in this exercise or exercise program, you agree that you do so at your own risk, are voluntarily participating in these activities, assume all risk of injury to yourself.', 'Publication Date': 'Published on Jan 7, 2020', 'Likes': 15200, 'Dislikes': 247},\n",
       "             ('https://www.youtube.com/user/yogawithadriene',\n",
       "              'qIWOSQZAvTo'): {'Title': 'Home - Day 6 - Ignite  |  30 Days of Yoga With Adriene', 'Views': 999461, 'Description': 'Your Day 6 yoga is the ultimate core power practice. You are a lot stronger than you think. This is a process! Trust it. Utilize the tools that we have introduced thus far, starting with your breath. This practice includes a lot of philosophy to ignite more than just a fire in the core muscles of the body. In the midst of a targeted core practice, who knew you could learn and love so hard? Prioritize that. This core strength session is all about valuing presence over outcome. Be present with what is. This is what the yoga practice lovingly asks of us. This session may not be easy. It really is not designed to be. I talk about why at the end of the practice. Choose to have fun!Let me know how it goes for you in the comment section down below. Share your experience with #ywaHOMESign up for my daily emails that correspond with the practice, receive your free HOME calendar, and invite a friend to join: www.ywahome.comHave a question? Visit the HOME FAQ page: https://help.fwfg.com#ywahome   #30DaysofYoga   #freeyoga- - - - - - - - - - 🏡HOME - Downloadable Collection 🏡Get the full series - for keeps! Great for those who wish to practice without streaming via internet connection!Just pay what feels good...   http://bit.ly/homeyoga30 🗓Get your free HOME Yoga Calendar: 🗓http://bit.ly/home30calendar- - - - - - - - - - ❤️SUBSCRIBE to the YWA channel for free yoga videos every week and to support high-quality free yoga for all! ❤️https://www.youtube.com/user/yogawith...- - - - - - - - - - Yoga With Adriene, LLC recommends that you consult your physician regarding the applicability of any recommendations and follow all safety instructions before beginning any exercise program. When participating in any exercise or exercise program, there is the possibility of physical injury. If you engage in this exercise or exercise program, you agree that you do so at your own risk, are voluntarily participating in these activities, assume all risk of injury to yourself.', 'Publication Date': 'Published on Jan 6, 2020', 'Likes': 18384, 'Dislikes': 287},\n",
       "             ('https://www.youtube.com/user/yogawithadriene',\n",
       "              'NVeNMX8WDeQ'): {'Title': 'Home - Day 5 - Soften  |  30 Days of Yoga With Adriene', 'Views': 1071569, 'Description': 'In today’s yoga practice we ask, “Am I working harder than I need to?” There is some work today. (You have to wait till Day 8 for a total RELAX.)You are working, but not any harder than you need to. See if you can let your breath do some of the heavy lifting today. Experiment.Learn to soften around hard edges. Practice softening in hard times. Can a rise of a breath guide you into a pose?With regular practice, I start to experience a feeling in which I am living in a body that is working for me, rather than against. Pro-tip: activate your breath - and let it do the work for you. Let me know how it goes for you in the comment section down below. Share your experience with #ywaHOMESign up for my daily emails that correspond with the practice, receive your free HOME calendar, and invite a friend to join: www.ywahome.comHave a question? Visit the HOME FAQ page: https://help.fwfg.com#ywahome   #30DaysofYoga   #freeyoga   - - - - - - - - - - 🏡HOME - Downloadable Collection 🏡Get the full series - for keeps! Great for those who wish to practice without streaming via internet connection!Just pay what feels good...   http://bit.ly/homeyoga30 🗓Get your free HOME Yoga Calendar: 🗓http://bit.ly/home30calendar- - - - - - - - - - ❤️SUBSCRIBE to the YWA channel for free yoga videos every week and to support high-quality free yoga for all! ❤️https://www.youtube.com/user/yogawith...- - - - - - - - - - Yoga With Adriene, LLC recommends that you consult your physician regarding the applicability of any recommendations and follow all safety instructions before beginning any exercise program. When participating in any exercise or exercise program, there is the possibility of physical injury. If you engage in this exercise or exercise program, you agree that you do so at your own risk, are voluntarily participating in these activities, assume all risk of injury to yourself.', 'Publication Date': 'Published on Jan 5, 2020', 'Likes': 17752, 'Dislikes': 137},\n",
       "             ('https://www.youtube.com/user/yogawithadriene',\n",
       "              '8PO95Jy8LUQ'): {'Title': 'Home - Day 4 - Activate  |  30 Days of Yoga With Adriene', 'Views': 1168990, 'Description': 'Activate your energy centers and introduce an overall awareness of the energetic body. This is a key player on this journey HOME. Activating is part of the awakening process. For me, when I activate my breath, I am awakening to my true spirit. From awareness of my breath, I keep going, working to bring action and awareness to my feet, my midline, my abdominals, my glutes, you name it. Devote to this practice and you might just activate your damn truth and abundance. Or, at least you will continue to lay the foundation for a fulfilling, sustainable at home practice.Stay open! This flow is a practice that takes you through the alignment and activation of the entire body. Enjoy!Let me know how it goes for you in the comment section down below. Share your experience with #ywaHOMESign up for my daily emails that correspond with the practice, receive your free HOME calendar, and invite a friend to join: www.ywahome.com#ywahome   #30DaysofYoga   #freeyoga- - - - - - - - - - 🏡HOME - Downloadable Collection 🏡Get the full series - for keeps! Great for those who wish to practice without streaming via internet connection!Just pay what feels good...   http://bit.ly/homeyoga30 🗓Get your free HOME Yoga Calendar: 🗓http://bit.ly/home30calendar- - - - - - - - - - ❤️SUBSCRIBE to the YWA channel for free yoga videos every week and to support high-quality free yoga for all! ❤️https://www.youtube.com/user/yogawith...- - - - - - - - - - Yoga With Adriene, LLC recommends that you consult your physician regarding the applicability of any recommendations and follow all safety instructions before beginning any exercise program. When participating in any exercise or exercise program, there is the possibility of physical injury. If you engage in this exercise or exercise program, you agree that you do so at your own risk, are voluntarily participating in these activities, assume all risk of injury to yourself.', 'Publication Date': 'Published on Jan 4, 2020', 'Likes': 18499, 'Dislikes': 206},\n",
       "             ('https://www.youtube.com/channel/UCahoXO8yh6mqJD9EiARHI7w',\n",
       "              'c_IyqUyilPQ'): {'Title': '30 Min Yoga Flow: Cleanse Your Sacral Chakra | The Journey Junkie',\n",
       "              'Views': 2733,\n",
       "              'Description': 'Feeling resistant? Struggle with lightening up? Come join me for this 30 Min Chakra Yoga Flow to Cleanse Your Sacral Chakra. This yoga class focuses on hip-centric yoga postures, transitions, affirmations, and pranayama to open to receiving & cleanse your sacral chakra. Want to experience the entire chakra system? Click here to join my 7-Day Chakra Challenge - http://bit.ly/chakrachallengeSacral Chakra Hatha Yoga: https://youtu.be/8aL_OQA9NhcSacral Chakra Live Training Replay: https://youtu.be/10H7Yncb0Ec✅ Subscribe to support free yoga -  http://bit.ly/thejourneyjunkieyoutube🔔 Don’t forget to click the bell to turn on new yoga class notifications!Thanks for practicing with me,Allie, xx🔸 🔸 🔸🔸 🔸 🔸🔸 🔸 🔸🔸 🔸 🔸🔸 🔸 🔸FREE YOGA CHALLENGES  👉💪 7-Day Yoga Body Bootcamp Challenge - http://bit.ly/yogabodybootcamp🕉️ 7-Day Chakra Yoga Challenge  - http://bit.ly/chakrachallenge☀️ 7-Day Morning Yoga Challenge - http://bit.ly/morningyogaclasspack🧘 Beginner Yoga Challenge - http://bit.ly/back2yogabasics 📆 30 Pose Yoga Journey Challenge - http://bit.ly/30posejourney🔸 🔸 🔸🔸 🔸 🔸🔸 🔸 🔸🔸 🔸 🔸🔸 🔸 🔸RECOMMENDED YOGA CLOTHES & PROPS  👉✅ Shop my fav yoga brands - https://bit.ly/3bEJRta ✅ Best Yoga Mat - https://amzn.to/2vZn8su✅ Yoga Block Set - https://amzn.to/3avarVr✅ Yoga Bolster - https://amzn.to/2JqJUg2✅ Yoga Strap - https://amzn.to/2Jn6TbX✅ Yoga Blanket - https://amzn.to/2xAe91v✅ Meditation Cushion - https://amzn.to/2yfEMsI✅ Yoga Eye Mask - https://amzn.to/3buNsKe✅ Yoga Trapeze - http://bit.ly/2bP1Jaf✅ Yoga Wheel - https://amzn.to/33V4Hlr*The links  above are affiliate links that support this community.🔸 🔸 🔸🔸 🔸 🔸🔸 🔸 🔸🔸 🔸 🔸🔸 🔸 🔸RECOMMENDED CAMERA GEAR  👉📸 Main Camera - https://amzn.to/2QV5E7K📸 Second Camera - https://amzn.to/2xyE7lR📸 Lens for 2nd camera - https://amzn.to/2wEHd80📸 Cheaper camera for new teachers - https://amzn.to/2ULVCHn📸 Light set - https://amzn.to/2UTEhMS📸 Microphone - https://amzn.to/3dIUg8K📸 Camera Tripod - https://amzn.to/3bDGTVL📸 Memory Cards - https://amzn.to/39ADw0w📸 Extra Batteries - https://amzn.to/2WTZ2uh*The links above are affiliate links that support this community.🔸 🔸 🔸🔸 🔸 🔸🔸 🔸 🔸🔸 🔸 🔸🔸 🔸 🔸Welcome to The Journey Junkie channel, led by Allie Van Fossen, where we use the yoga practice to discover your untapped potential and create on and off the yoga mat transformation. Here you can find yoga classes ranging in all styles with the central message to prioritize yourself, love yourself, not take life for granted, and go LIVE YOUR JOURNEY!The Journey Junkie HQ - https://www.thejourneyjunkie.comInstagram - www.instagram.com/thejourneyjunkie/🔸 🔸 🔸🔸 🔸 🔸🔸 🔸 🔸🔸 🔸 🔸🔸 🔸 🔸The Journey Junkie LLC Disclaimer: All content on our channel is subject to copyright or other intellectual property ownership by Journey Junkie, LLC. The ideas, exercises, programs, meal plans and other opinions expressed here and on our blog reflect our opinions and personal experiences, and are not intended to be or replace medical advice. We are not dietitians, nutritionists, exercise specialists, or medical professionals. By participating in this exercise or exercise program, you agree that you do so at your own risk, are voluntarily participating in these activities, assume all risk of injury to yourself, and agree to forever hold harmless, release and discharge the Journey Junkie from any and all claims or causes of action, known or unknown, arising out of your use of these materials.#chakrayoga #sacralchakra #30minyoga',\n",
       "              'Publication Date': 'Published on Apr 8, 2020',\n",
       "              'Likes': 218,\n",
       "              'Dislikes': 0},\n",
       "             ('https://www.youtube.com/channel/UCahoXO8yh6mqJD9EiARHI7w',\n",
       "              'UX4BX3oOwT0'): {'Title': '30 Min Yoga Flow: Cleanse Your Root Chakra | The Journey Junkie',\n",
       "              'Views': 6394,\n",
       "              'Description': 'Feeling uprooted? Join me for this 30 Minute Chakra Yoga Flow to Cleanse Your Root Chakra to get grounded, strengthen your body, nourish your energy, and feel more whole and balanced. This yoga class focuses on lower-body yoga postures, transitions, and pranayama to cleanse your root chakra and create connection. Want to experience the entire chakra system? Click here to join my 7-Day Chakra Challenge - http://bit.ly/chakrachallengeRoot Chakra Yoga to Connect to Your Roots: https://youtu.be/iTddXxbdC-U20 Minute Practice to Get Grounded: https://youtu.be/ZOlsPLSGM0c✅ Subscribe to support free yoga -  http://bit.ly/thejourneyjunkieyoutube🔔 Don’t forget to click the bell to turn on new yoga class notifications!Thanks for practicing with me,Allie, xx🔸 🔸 🔸🔸 🔸 🔸🔸 🔸 🔸🔸 🔸 🔸🔸 🔸 🔸FREE YOGA CHALLENGES  👉💪 7-Day Yoga Body Bootcamp Challenge - http://bit.ly/yogabodybootcamp🕉️ 7-Day Chakra Yoga Challenge  - http://bit.ly/chakrachallenge☀️ 7-Day Morning Yoga Challenge - http://bit.ly/morningyogaclasspack🧘 Beginner Yoga Challenge - http://bit.ly/back2yogabasics 📆 30 Pose Yoga Journey Challenge - http://bit.ly/30posejourney🔸 🔸 🔸🔸 🔸 🔸🔸 🔸 🔸🔸 🔸 🔸🔸 🔸 🔸RECOMMENDED YOGA CLOTHES & PROPS  👉✅ Shop my fav yoga brands - https://bit.ly/3bEJRta ✅ Best Yoga Mat - https://amzn.to/2vZn8su✅ Yoga Block Set - https://amzn.to/3avarVr✅ Yoga Bolster - https://amzn.to/2JqJUg2✅ Yoga Strap - https://amzn.to/2Jn6TbX✅ Yoga Blanket - https://amzn.to/2xAe91v✅ Meditation Cushion - https://amzn.to/2yfEMsI✅ Yoga Eye Mask - https://amzn.to/3buNsKe✅ Yoga Trapeze - http://bit.ly/2bP1Jaf✅ Yoga Wheel - https://amzn.to/33V4Hlr*The links  above are affiliate links that support this community.🔸 🔸 🔸🔸 🔸 🔸🔸 🔸 🔸🔸 🔸 🔸🔸 🔸 🔸RECOMMENDED CAMERA GEAR  👉📸 Main Camera - https://amzn.to/2QV5E7K📸 Second Camera - https://amzn.to/2xyE7lR📸 Lens for 2nd camera - https://amzn.to/2wEHd80📸 Cheaper camera for new teachers - https://amzn.to/2ULVCHn📸 Light set - https://amzn.to/2UTEhMS📸 Microphone - https://amzn.to/3dIUg8K📸 Camera Tripod - https://amzn.to/3bDGTVL📸 Memory Cards - https://amzn.to/39ADw0w📸 Extra Batteries - https://amzn.to/2WTZ2uh*The links above are affiliate links that support this community.🔸 🔸 🔸🔸 🔸 🔸🔸 🔸 🔸🔸 🔸 🔸🔸 🔸 🔸Welcome to The Journey Junkie channel, led by Allie Van Fossen, where we use the yoga practice to discover your untapped potential and create on and off the yoga mat transformation. Here you can find yoga classes ranging in all styles with the central message to prioritize yourself, love yourself, not take life for granted, and go LIVE YOUR JOURNEY!The Journey Junkie HQ - https://www.thejourneyjunkie.comInstagram - www.instagram.com/thejourneyjunkie/🔸 🔸 🔸🔸 🔸 🔸🔸 🔸 🔸🔸 🔸 🔸🔸 🔸 🔸The Journey Junkie LLC Disclaimer: All content on our channel is subject to copyright or other intellectual property ownership by Journey Junkie, LLC. The ideas, exercises, programs, meal plans and other opinions expressed here and on our blog reflect our opinions and personal experiences, and are not intended to be or replace medical advice. We are not dietitians, nutritionists, exercise specialists, or medical professionals. By participating in this exercise or exercise program, you agree that you do so at your own risk, are voluntarily participating in these activities, assume all risk of injury to yourself, and agree to forever hold harmless, release and discharge the Journey Junkie from any and all claims or causes of action, known or unknown, arising out of your use of these materials.#chakrayoga #rootchakra #30minyoga',\n",
       "              'Publication Date': 'Published on Apr 1, 2020',\n",
       "              'Likes': 404,\n",
       "              'Dislikes': 6},\n",
       "             ('https://www.youtube.com/channel/UCahoXO8yh6mqJD9EiARHI7w',\n",
       "              'Mtmcz1YN5Gk'): {'Title': '30 Minute Full Body Power Yoga Practice',\n",
       "              'Views': 11871,\n",
       "              'Description': 'Join me for a 30 Minute Full Body Power Yoga Practice to feel energized, strong, and calm! Want more at-home, power yoga classes? Join my 7-Day Yoga Body Bootcamp Challenge - http://bit.ly/yogabodybootcamp🔸 🔸 🔸🔸 🔸 🔸🔸 🔸 🔸🔸 🔸 🔸🔸 🔸 🔸Welcome to The Journey Junkie channel, led by Allie Van Fossen, where we use the yoga practice as a framework to discover our untapped potential and guide our on and off the yoga mat efforts. Here you can find yoga classes ranging in all styles, travel vlogs, and various videos with the central   message to prioritize yourself, love yourself, not take it for granted, and go LIVE YOUR JOURNEY!Subscribe for new yoga videos: http://bit.ly/thejourneyjunkieyoutube🔸 🔸 🔸🔸 🔸 🔸🔸 🔸 🔸🔸 🔸 🔸🔸 🔸 🔸Want more yoga? YOGA BODY BOOTCAMP CHALLENGE - http://bit.ly/yogabodybootcampNEW YOGA VIDEOS  - http://bit.ly/newyogaclassplaylistThe Journey Junkie HQ - https://www.thejourneyjunkie.comInstagram - www.instagram.com/thejourneyjunkie/🔸 🔸 🔸🔸 🔸 🔸🔸 🔸 🔸🔸 🔸 🔸🔸 🔸 🔸Disclaimer: All content on our channel is subject to copyright or other intellectual property ownership by Journey Junkie, LLC. The ideas, exercises, programs, meal plans and other opinions expressed here and on our blog reflect our opinions and personal experiences, and are not intended to be or replace medical advice. We are not dietitians, nutritionists, exercise specialists, or medical professionals. By participating in this exercise or exercise program, you agree that you do so at your own risk, are voluntarily participating in these activities, assume all risk of injury to yourself, and agree to forever hold harmless, release and discharge the Journey Junkie from any and all claims or causes of action, known or unknown, arising out of your use of these materials.#poweryoga #30minyoga #vinyasayoga',\n",
       "              'Publication Date': 'Published on Mar 25, 2020',\n",
       "              'Likes': 545,\n",
       "              'Dislikes': 1},\n",
       "             ('https://www.youtube.com/channel/UCahoXO8yh6mqJD9EiARHI7w',\n",
       "              'Wu_3-C-p4ZE'): {'Title': '15 Minute Guided Body Scan Meditation',\n",
       "              'Views': 4058,\n",
       "              'Description': 'Join me for a 15 Minute Guided Body Scan Meditation to feel grounded, safe, secure, and supported! Want more at-home, spiritually nourishing yoga practices? Join my 7-Day Chakra Yoga Challenge - http://bit.ly/chakrachallenge🔸 🔸 🔸🔸 🔸 🔸🔸 🔸 🔸🔸 🔸 🔸🔸 🔸 🔸Welcome to The Journey Junkie channel, led by Allie Van Fossen, where we use the yoga practice as a framework to discover our untapped potential and guide our on and off the yoga mat efforts. Here you can find yoga classes ranging in all styles, travel vlogs, and various videos with the central   message to prioritize yourself, love yourself, not take it for granted, and go LIVE YOUR JOURNEY!Subscribe for new yoga videos: http://bit.ly/thejourneyjunkieyoutube🔸 🔸 🔸🔸 🔸 🔸🔸 🔸 🔸🔸 🔸 🔸🔸 🔸 🔸Want more yoga? CHAKRA YOGA CHALLENGE - http://bit.ly/chakrachallengeNEW YOGA PLAYLIST  - http://bit.ly/newyogaclassplaylistThe Journey Junkie HQ - https://www.thejourneyjunkie.comInstagram - www.instagram.com/thejourneyjunkie/🔸 🔸 🔸🔸 🔸 🔸🔸 🔸 🔸🔸 🔸 🔸🔸 🔸 🔸Disclaimer: All content on our channel is subject to copyright or other intellectual property ownership by Journey Junkie, LLC. The ideas, exercises, programs, meal plans and other opinions expressed here and on our blog reflect our opinions and personal experiences, and are not intended to be or replace medical advice. We are not dietitians, nutritionists, exercise specialists, or medical professionals. By participating in this exercise or exercise program, you agree that you do so at your own risk, are voluntarily participating in these activities, assume all risk of injury to yourself, and agree to forever hold harmless, release and discharge the Journey Junkie from any and all claims or causes of action, known or unknown, arising out of your use of these materials.#bodyscanmeditation #guidedmeditation #15minyogaclass',\n",
       "              'Publication Date': 'Published on Mar 18, 2020',\n",
       "              'Likes': 175,\n",
       "              'Dislikes': 3},\n",
       "             ('https://www.youtube.com/channel/UCahoXO8yh6mqJD9EiARHI7w',\n",
       "              'IAF2O2CQDkk'): {'Title': '20 Min Morning Yoga Stretch to Energize & Enliven Your Day',\n",
       "              'Views': 8394,\n",
       "              'Description': 'Join me for a 20 Minute Morning Yoga Stretch to Energize & Enliven Your Day! Want more morning yoga? Join me for a week-long yoga challenge + get a free morning workbook! Sign up here - http://bit.ly/morningyogaclasspack🔸 🔸 🔸🔸 🔸 🔸🔸 🔸 🔸🔸 🔸 🔸🔸 🔸 🔸Welcome to The Journey Junkie channel, led by Allie Van Fossen, where we use the yoga practice as a framework to discover our untapped potential and guide our on and off the yoga mat efforts. Here you can find yoga classes ranging in all styles, travel vlogs, and various videos with the central   message to prioritize yourself, love yourself, not take it for granted, and go LIVE YOUR JOURNEY!Subscribe for new yoga videos: http://bit.ly/thejourneyjunkieyoutube🔸 🔸 🔸🔸 🔸 🔸🔸 🔸 🔸🔸 🔸 🔸🔸 🔸 🔸Want more yoga? NEW YOGA PLAYLIST  - http://bit.ly/newyogaclassplaylistMORNING YOGA CHALLENGE - http://bit.ly/morningyogaclasspackThe Journey Junkie HQ - https://www.thejourneyjunkie.comInstagram - www.instagram.com/thejourneyjunkie/🔸 🔸 🔸🔸 🔸 🔸🔸 🔸 🔸🔸 🔸 🔸🔸 🔸 🔸Disclaimer: All content on our channel is subject to copyright or other intellectual property ownership by Journey Junkie, LLC. The ideas, exercises, programs, meal plans and other opinions expressed here and on our blog reflect our opinions and personal experiences, and are not intended to be or replace medical advice. We are not dietitians, nutritionists, exercise specialists, or medical professionals. By participating in this exercise or exercise program, you agree that you do so at your own risk, are voluntarily participating in these activities, assume all risk of injury to yourself, and agree to forever hold harmless, release and discharge the Journey Junkie from any and all claims or causes of action, known or unknown, arising out of your use of these materials.#morningyoga #20minyoga #yogastretch',\n",
       "              'Publication Date': 'Published on Mar 11, 2020',\n",
       "              'Likes': 354,\n",
       "              'Dislikes': 6},\n",
       "             ('https://www.youtube.com/channel/UCahoXO8yh6mqJD9EiARHI7w',\n",
       "              'UbthP_xPzb0'): {'Title': '20 Min Morning Yoga: Start Your Day with Power & Purpose',\n",
       "              'Views': 7088,\n",
       "              'Description': \"Say hello to your 20 Minute Morning Yoga Flow ☀️☕👋 This class has a no frills, keep it simple attitude. Wake up, transition from lying in your bed to lying on your yoga mat, slowly awaken your body through easy, feel good movements,  breathe energetically, make your way to a standing forward fold, relax and hold, then roll yourself up to standing and power pose. Not sure what a power pose is? You'll have to unroll your mat and come experience it! Want more more morning yoga? Join me for a week-long morning yoga challenge + get a free morning workbook! Sign up here - http://bit.ly/morningyogaclasspack🔸 🔸 🔸🔸 🔸 🔸🔸 🔸 🔸🔸 🔸 🔸🔸 🔸 🔸Welcome to The Journey Junkie channel, led by Allie Van Fossen, where we use the yoga practice as a framework to discover our untapped potential and guide our on and off the yoga mat efforts. Here you can find yoga classes ranging in all styles, travel vlogs, and various videos with the central   message to prioritize yourself, love yourself, not take it for granted, and go LIVE YOUR JOURNEY!Subscribe for new yoga videos: http://bit.ly/thejourneyjunkieyoutube🔸 🔸 🔸🔸 🔸 🔸🔸 🔸 🔸🔸 🔸 🔸🔸 🔸 🔸Want more yoga? NEW YOGA PLAYLIST  - http://bit.ly/newyogaclassplaylistMORNING YOGA CHALLENGE - http://bit.ly/morningyogaclasspackThe Journey Junkie HQ - https://www.thejourneyjunkie.comInstagram - www.instagram.com/thejourneyjunkie/🔸 🔸 🔸🔸 🔸 🔸🔸 🔸 🔸🔸 🔸 🔸🔸 🔸 🔸Disclaimer: All content on our channel is subject to copyright or other intellectual property ownership by Journey Junkie, LLC. The ideas, exercises, programs, meal plans and other opinions expressed here and on our blog reflect our opinions and personal experiences, and are not intended to be or replace medical advice. We are not dietitians, nutritionists, exercise specialists, or medical professionals. By participating in this exercise or exercise program, you agree that you do so at your own risk, are voluntarily participating in these activities, assume all risk of injury to yourself, and agree to forever hold harmless, release and discharge the Journey Junkie from any and all claims or causes of action, known or unknown, arising out of your use of these materials.#morningyoga #20minyoga #yoga\",\n",
       "              'Publication Date': 'Published on Mar 4, 2020',\n",
       "              'Likes': 285,\n",
       "              'Dislikes': 18},\n",
       "             ('https://www.youtube.com/channel/UCahoXO8yh6mqJD9EiARHI7w',\n",
       "              'r3HeZgmCABE'): {'Title': 'Yoga for Soothing Sleep: 20 Min Bedtime Beginner Yoga Class',\n",
       "              'Views': 3987,\n",
       "              'Description': 'Join me for a 20 Min Bedtime Yoga Practice to ease into your evening and enjoy a restful night of sleep! When you wake up, come join my 7-Day Morning Yoga Challenge to start your day  - http://bit.ly/morningyogaclasspack ✨⚡💫Welcome to The Journey Junkie channel, led by Allie Van Fossen, where we use the yoga practice as a framework to discover our untapped potential and guide our on and off the yoga mat efforts. Here you can find yoga classes ranging in all styles, travel vlogs, and various videos with the central  message to prioritize yourself, love yourself, not take life for granted, and go LIVE YOUR JOURNEY! Subscribe for new yoga videos: http://bit.ly/thejourneyjunkieyoutube The Journey Junkie HQ - https://www.thejourneyjunkie.com Instagram - www.instagram.com/thejourneyjunkie/🔸 🔸 🔸🔸 🔸 🔸🔸 🔸 🔸🔸 🔸 🔸🔸 🔸 🔸 Want more gentle yoga?  ▶ GENTLE YOGA - http://bit.ly/relaxrestoreyogaplaylist▶ 10 Minute Best Bedtime Yoga - https://youtu.be/FxXRtVhQWKQ▶  20 Min Bedtime Yoga for Ultimate Sleep  - https://youtu.be/FNGDHg3q1xI▶  Bedtime Yoga Rest & Relax - https://youtu.be/Ydhyt6UKUsw🔸 🔸 🔸🔸 🔸 🔸🔸 🔸 🔸🔸 🔸 🔸🔸 🔸 🔸 Disclaimer:  All content on our channel is subject to copyright or other intellectual property ownership by Journey Junkie, LLC. The ideas, exercises, programs, meal plans and other opinions expressed here and on our blog reflect our opinions and personal experiences, and are not intended to be or replace medical advice. We are not dieticians, nutritionists, exercise specialists, or medical professionals. By participating in this exercise or exercise program, you agree that you do so at your own risk, are voluntarily participating in these activities, assume all risk of injury to yourself, and agree to forever hold harmless, release and discharge the Journey Junkie from any and all claims or causes of action, known or unknown, arising out of your use of these materials.#bedtimeyoga #20minyoga #beginneryoga',\n",
       "              'Publication Date': 'Published on Feb 26, 2020',\n",
       "              'Likes': 145,\n",
       "              'Dislikes': 2},\n",
       "             ('https://www.youtube.com/channel/UCahoXO8yh6mqJD9EiARHI7w',\n",
       "              'FBucDn6Hvcw'): {'Title': '15 Minute Meditation: Guided Meditation for Self-Love',\n",
       "              'Views': 7801,\n",
       "              'Description': 'Join me for a 15 Min Heart-Centered Guided Meditation that uses breath-work and affirmations to cultivate self-love and self-acceptance. Wanna start your day loving yourself? Join my free 7-Day Morning Yoga Challenge - http://bit.ly/morningyogaclasspack ✨⚡💫Want more heart-centered yoga?  Try the below classes:► Do No Harm, Take No Shit Class - https://youtu.be/agPxgWxuvWw► Open Your Heart & Hips - https://youtu.be/-_YASBsdtlY► Heart Chakra Expansion Class - https://youtu.be/odIkn2bal2YThe Journey Junkie HQ - https://www.thejourneyjunkie.com Instagram - www.instagram.com/thejourneyjunkie/ 🔸 🔸 🔸🔸 🔸 🔸🔸 🔸 🔸🔸 🔸 🔸🔸 🔸 🔸 Welcome to The Journey Junkie channel, led by Allie Van Fossen, where we use the yoga practice as a framework to discover our untapped potential and guide our on and off the yoga mat efforts. Here you can find yoga classes ranging in all styles, travel vlogs, and various videos with the central  message to prioritize yourself, love yourself, not take life for granted, and go LIVE YOUR JOURNEY! Subscribe for new yoga videos: http://bit.ly/thejourneyjunkieyoutube Disclaimer:  All content on our channel is subject to copyright or other intellectual property ownership by Journey Junkie, LLC. The ideas, exercises, programs, meal plans and other opinions expressed here and on our blog reflect our opinions and personal experiences, and are not intended to be or replace medical advice. We are not dieticians, nutritionists, exercise specialists, or medical professionals. By participating in this exercise or exercise program, you agree that you do so at your own risk, are voluntarily participating in these activities, assume all risk of injury to yourself, and agree to forever hold harmless, release and discharge the Journey Junkie from any and all claims or causes of action, known or unknown, arising out of your use of these materials.#meditation #15minyoga #heartchakra',\n",
       "              'Publication Date': 'Published on Feb 19, 2020',\n",
       "              'Likes': 179,\n",
       "              'Dislikes': 2},\n",
       "             ('https://www.youtube.com/channel/UCahoXO8yh6mqJD9EiARHI7w',\n",
       "              'tOXHrwCr_cc'): {'Title': '30 Min Full Body Vinyasa Yoga: Crown to Root Chakra Yoga Flow',\n",
       "              'Views': 13313,\n",
       "              'Description': 'Join me for a 30 Min Full Body Vinyasa Yoga Practice that teaches you the Chakra System! Wanna learn more about the chakra system? Click here to join my 7-DAY CHALLENGE - http://bit.ly/chakrachallenge ✨⚡💫Want more chakra yoga?  CHAKRA CHALLENGE - http://bit.ly/chakrachallengeCHAKRA YOGA CLASSES - http://bit.ly/chakrayogaplaylistThe Journey Junkie HQ - https://www.thejourneyjunkie.com Instagram - www.instagram.com/thejourneyjunkie/ 🔸 🔸 🔸🔸 🔸 🔸🔸 🔸 🔸🔸 🔸 🔸🔸 🔸 🔸 Welcome to The Journey Junkie channel, led by Allie Van Fossen, where we use the yoga practice as a framework to discover our untapped potential and guide our on and off the yoga mat efforts. Here you can find yoga classes ranging in all styles, travel vlogs, and various videos with the central  message to prioritize yourself, love yourself, not take life for granted, and go LIVE YOUR JOURNEY! Subscribe for new yoga videos: http://bit.ly/thejourneyjunkieyoutube 🔸 🔸 🔸🔸 🔸 🔸🔸 🔸 🔸🔸 🔸 🔸🔸 🔸 🔸 Disclaimer:  All content on our channel is subject to copyright or other intellectual property ownership by Journey Junkie, LLC. The ideas, exercises, programs, meal plans and other opinions expressed here and on our blog reflect our opinions and personal experiences, and are not intended to be or replace medical advice. We are not dieticians, nutritionists, exercise specialists, or medical professionals. By participating in this exercise or exercise program, you agree that you do so at your own risk, are voluntarily participating in these activities, assume all risk of injury to yourself, and agree to forever hold harmless, release and discharge the Journey Junkie from any and all claims or causes of action, known or unknown, arising out of your use of these materials.#vinyasayoga #30minyoga #chakrayogaIntro Music: Long Road Ahead Kevin MacLeod (incompetech.com)Licensed under Creative Commons: By Attribution 3.0 Licensehttp://creativecommons.org/licenses/b...http://creativecommons.org/licenses/b...',\n",
       "              'Publication Date': 'Published on Jan 22, 2020',\n",
       "              'Likes': 460,\n",
       "              'Dislikes': 4},\n",
       "             ('https://www.youtube.com/channel/UCahoXO8yh6mqJD9EiARHI7w',\n",
       "              'TluLxh6rwsI'): {'Title': '45 Min Full Body Vinyasa Yoga: Root to Crown Chakra Yoga Flow',\n",
       "              'Views': 16275,\n",
       "              'Description': 'Join me for a 45 Min Full Body Vinyasa Yoga Practice that teaches you the Chakra System! Wanna learn more about the chakra system? Click here to join my 7-DAY CHALLENGE - http://bit.ly/chakrachallenge ✨⚡💫Welcome to The Journey Junkie channel, led by Allie Van Fossen, where we use the yoga practice as a framework to discover our untapped potential and guide our on and off the yoga mat efforts. Here you can find yoga classes ranging in all styles, travel vlogs, and various videos with the central  message to prioritize yourself, love yourself, not take life for granted, and go LIVE YOUR JOURNEY! Subscribe for new yoga videos: http://bit.ly/thejourneyjunkieyoutube 🔸 🔸 🔸🔸 🔸 🔸🔸 🔸 🔸🔸 🔸 🔸🔸 🔸 🔸 Want more chakra yoga?  CHAKRA CHALLENGE - http://bit.ly/chakrachallengeCHAKRA YOGA CLASSES - http://bit.ly/chakrayogaplaylistThe Journey Junkie HQ - https://www.thejourneyjunkie.com Instagram - www.instagram.com/thejourneyjunkie/ 🔸 🔸 🔸🔸 🔸 🔸🔸 🔸 🔸🔸 🔸 🔸🔸 🔸 🔸 Disclaimer:  All content on our channel is subject to copyright or other intellectual property ownership by Journey Junkie, LLC. The ideas, exercises, programs, meal plans and other opinions expressed here and on our blog reflect our opinions and personal experiences, and are not intended to be or replace medical advice. We are not dieticians, nutritionists, exercise specialists, or medical professionals. By participating in this exercise or exercise program, you agree that you do so at your own risk, are voluntarily participating in these activities, assume all risk of injury to yourself, and agree to forever hold harmless, release and discharge the Journey Junkie from any and all claims or causes of action, known or unknown, arising out of your use of these materials.#vinyasayoga #45minyoga #chakrayogaIntro Music: Long Road Ahead Kevin MacLeod (incompetech.com)Licensed under Creative Commons: By Attribution 3.0 Licensehttp://creativecommons.org/licenses/b...',\n",
       "              'Publication Date': 'Published on Jan 8, 2020',\n",
       "              'Likes': 569,\n",
       "              'Dislikes': 6},\n",
       "             ('https://www.youtube.com/channel/UCahoXO8yh6mqJD9EiARHI7w',\n",
       "              'kF6H3UEtUQ4'): {'Title': 'New Years Vinyasa Yoga Class: Celebrate Yourself & Your Achievements',\n",
       "              'Views': 10591,\n",
       "              'Description': 'Join me for a Total Body Vinyasa Yoga practice that focuses on celebrating yourself and acknowledging your achievements. Want the Celebrate Yourself Worksheet? Click here to get it -\\xa0 http://bit.ly/newyearsworksheet\\xa0 ❤️ Welcome to The Journey Junkie channel, led by Allie Van Fossen, where we use the yoga practice as a framework to discover our untapped potential and guide our on and off the yoga mat efforts. Here you can find yoga classes ranging in all styles, travel vlogs, and various videos with the central \\xa0message to prioritize yourself, love yourself, not take life for granted, and go LIVE YOUR JOURNEY! Subscribe for new yoga videos:\\xa0http://bit.ly/thejourneyjunkieyoutube 🔸\\xa0🔸\\xa0🔸🔸\\xa0🔸\\xa0🔸🔸\\xa0🔸\\xa0🔸🔸\\xa0🔸\\xa0🔸🔸\\xa0🔸\\xa0🔸 Want more yoga?\\xa0 POWER YOGA PLAYLIST \\xa0- http://bit.ly/vinyasapowerplaylistYOGA BODY BOOTCAMP CHALLENGE -\\xa0http://bit.ly/yogabodybootcampThe Journey Junkie HQ -\\xa0https://www.thejourneyjunkie.com Instagram -\\xa0www.instagram.com/thejourneyjunkie/ 🔸\\xa0🔸\\xa0🔸🔸\\xa0🔸\\xa0🔸🔸\\xa0🔸\\xa0🔸🔸\\xa0🔸\\xa0🔸🔸\\xa0🔸\\xa0🔸 Disclaimer:\\xa0 All content on our channel is subject to copyright or other intellectual property ownership by Journey Junkie, LLC. The ideas, exercises, programs, meal plans and other opinions expressed here and on our blog reflect our opinions and personal experiences, and are not intended to be or replace medical advice. We are not dieticians, nutritionists, exercise specialists, or medical professionals. By participating in this exercise or exercise program, you agree that you do so at your own risk, are voluntarily participating in these activities, assume all risk of injury to yourself, and agree to forever hold harmless, release and discharge the Journey Junkie from any and all claims or causes of action, known or unknown, arising out of your use of these materials.#vinyasayoga #45minyoga #poweryogaIntro Music: Long Road Ahead Kevin MacLeod (incompetech.com)Licensed under Creative Commons: By Attribution 3.0 Licensehttp://creativecommons.org/licenses/b...',\n",
       "              'Publication Date': 'Published on Jan 1, 2020',\n",
       "              'Likes': 409,\n",
       "              'Dislikes': 3},\n",
       "             ('https://www.youtube.com/channel/UCahoXO8yh6mqJD9EiARHI7w',\n",
       "              'UB-MFWFIKPQ'): {'Title': 'Chakra Chats: Crown Chakra Explained',\n",
       "              'Views': 2499,\n",
       "              'Description': \"Welcome to the Crown Chakra Chat! This video is part of my eight week live experience that's teaching the practical, spiritual, and powerful pillars of each energetic center. Are you new to the chakras? Want to combine these chats with your yoga practice? Join my 7-Day Chakra Challenge — http://bit.ly/chakrachallenge ❤️  Want Crown Chakra yoga?  Dive into the below classes.👑Crown Chakra Yoga Class - https://youtu.be/fkhphyd6_nA👑Crown Chakra Beliefs Class - https://youtu.be/bCTy3lfdFtg👑Full-Body Chakra Practice - https://youtu.be/Hucvl3WoTj8👑 Headstand Yoga Class - https://youtu.be/RhasxHqBha0Crown Chakra Mantras:👑 I CREATE MY BELIEFS👑 I EMBRACE MEDITATION👑 I AM A SPIRITUAL BEING👑 I BELIEVE IN MY WHOLENESSRecommended chakra reads (these are affiliate links):📚Wheels of Life - https://amzn.to/2roXfQ6📚Eastern Body, Western Mind - https://amzn.to/34QyQ4i📚Chakra Yoga - https://amzn.to/34N1xPJ📚Yoga of the Subtle Body - https://amzn.to/2QbSnsd📚 Anatomy of the Spirit - https://amzn.to/2p5TZIN🔸 🔸 🔸🔸 🔸 🔸🔸 🔸 🔸🔸 🔸 🔸🔸 🔸 🔸 Welcome to The Journey Junkie channel, led by Allie Van Fossen, where we use the yoga practice as a framework to discover our untapped potential and guide our on and off the yoga mat efforts. Here you can find yoga classes ranging in all styles, travel vlogs, and various videos with the central   message to prioritize yourself, love yourself, not take it for granted, and go LIVE YOUR JOURNEY! Subscribe for new yoga videos: http://bit.ly/thejourneyjunkieyoutube🔸 🔸 🔸🔸 🔸 🔸🔸 🔸 🔸🔸 🔸 🔸🔸 🔸 🔸 Disclaimer:  All content on our channel is subject to copyright or other intellectual property ownership by Journey Junkie, LLC. The ideas, exercises, programs, meal plans and other opinions expressed here and on our blog reflect our opinions and personal experiences, and are not intended to be or replace medical advice. We are not dieticians, nutritionists, exercise specialists, or medical professionals. By participating in this exercise or exercise program, you agree that you do so at your own risk, are voluntarily participating in these activities, assume all risk of injury to yourself, and agree to forever hold harmless, release and discharge the Journey Junkie from any and all claims or causes of action, known or unknown, arising out of your use of these materials.#chakrayoga #chakrachats #crownchakra\",\n",
       "              'Publication Date': 'Streamed live on Dec 29, 2019',\n",
       "              'Likes': 100,\n",
       "              'Dislikes': 4},\n",
       "             ('https://www.youtube.com/channel/UCahoXO8yh6mqJD9EiARHI7w',\n",
       "              '5NPyEhlrGcs'): {'Title': 'Gentle Yoga for Hips: 25 Minute Class to Release Stress & Tension',\n",
       "              'Views': 8002,\n",
       "              'Description': 'Choose a yoga workshop and join the JJ Fam: 🕉️ I am newish to yoga - http://bit.ly/beginneryogajourney 💦 I want a yoga workout - http://bit.ly/strengthyogajourney 🙏 I’m searching for spiritual connection - http://bit.ly/spiritualyogajourney 🔸 🔸 🔸🔸 🔸 🔸🔸 🔸 🔸🔸 🔸 🔸🔸 🔸 🔸Unroll your mat for this Gentle Hips Yoga Class that will release stress and tension from your hips in 25 minutes! Want gentle morning yoga like this? Join my 7-Day Morning Yoga Challenge - http://bit.ly/morningyogaclasspack ❤️Welcome to The Journey Junkie channel, led by Allie Van Fossen, where we use the yoga practice as a framework to discover our untapped potential and guide our on and off the yoga mat efforts. Here you can find yoga classes ranging in all styles, travel vlogs, and various videos with the central   message to prioritize yourself, love yourself, not take it for granted, and go LIVE YOUR JOURNEY!Subscribe for new yoga videos: http://bit.ly/thejourneyjunkieyoutube🔸 🔸 🔸🔸 🔸 🔸🔸 🔸 🔸🔸 🔸 🔸🔸 🔸 🔸Want more yoga? ► RELAX + RESTORE PLAYLIST - http://bit.ly/relaxrestoreyogaplaylist ► MORNING YOGA CHALLENGE - http://bit.ly/morningyogaclasspackThe Journey Junkie HQ - https://www.thejourneyjunkie.comInstagram - www.instagram.com/thejourneyjunkie/🔸 🔸 🔸🔸 🔸 🔸🔸 🔸 🔸🔸 🔸 🔸🔸 🔸 🔸Disclaimer: All content on our channel is subject to copyright or other intellectual property ownership by Journey Junkie, LLC. The ideas, exercises, programs, meal plans and other opinions expressed here and on our blog reflect our opinions and personal experiences, and are not intended to be or replace medical advice. We are not dieticians, nutritionists, exercise specialists, or medical professionals. By participating in this exercise or exercise program, you agree that you do so at your own risk, are voluntarily participating in these activities, assume all risk of injury to yourself, and agree to forever hold harmless, release and discharge the Journey Junkie from any and all claims or causes of action, known or unknown, arising out of your use of these materials.#yinyoga #yogaforhips #25minyoga',\n",
       "              'Publication Date': 'Published on Dec 25, 2019',\n",
       "              'Likes': 310,\n",
       "              'Dislikes': 3},\n",
       "             ('https://www.youtube.com/channel/UCahoXO8yh6mqJD9EiARHI7w',\n",
       "              'Fu_E5TBQwfI'): {'Title': 'Chakra Chats: Third Eye Chakra Explained',\n",
       "              'Views': 2416,\n",
       "              'Description': \"Welcome to the Third Eye Chakra Chat! This video is part of my eight week live experience that's teaching the practical, spiritual, and powerful pillars of each energetic center. Are you new to the chakras? Want to combine these chats with your yoga practice? Join my 7-Day Chakra Challenge — http://bit.ly/chakrachallenge ❤️  Want third eye chakra yoga?  Dive into the below classes.👁️Third Eye Chakra Yoga - https://youtu.be/BDoMmts8658👁️ Eagle Pose Class for Clarity - https://youtu.be/2MTPU8VVOIk👁️ Cleanse Your Chakras - https://youtu.be/RSqWnNH-ncw👁️ Third Eye Manifestation Class - https://youtu.be/zc33r6wTSx8Third Eye Chakra Mantras:👁️ I TRUST MY INTUITION👁️ I BELIEVE IN MY IMAGINATION 👁️ MY DREAMS ARE WORTHY👁️ I BELIEVE IN MY VISIONRecommended chakra reads (these are affiliate links):📚Wheels of Life - https://amzn.to/2roXfQ6📚Eastern Body, Western Mind - https://amzn.to/34QyQ4i📚Chakra Yoga - https://amzn.to/34N1xPJ📚Yoga of the Subtle Body - https://amzn.to/2QbSnsd📚 Anatomy of the Spirit - https://amzn.to/2p5TZIN🔸 🔸 🔸🔸 🔸 🔸🔸 🔸 🔸🔸 🔸 🔸🔸 🔸 🔸 Welcome to The Journey Junkie channel, led by Allie Van Fossen, where we use the yoga practice as a framework to discover our untapped potential and guide our on and off the yoga mat efforts. Here you can find yoga classes ranging in all styles, travel vlogs, and various videos with the central   message to prioritize yourself, love yourself, not take it for granted, and go LIVE YOUR JOURNEY! Subscribe for new yoga videos: http://bit.ly/thejourneyjunkieyoutube🔸 🔸 🔸🔸 🔸 🔸🔸 🔸 🔸🔸 🔸 🔸🔸 🔸 🔸 Disclaimer:  All content on our channel is subject to copyright or other intellectual property ownership by Journey Junkie, LLC. The ideas, exercises, programs, meal plans and other opinions expressed here and on our blog reflect our opinions and personal experiences, and are not intended to be or replace medical advice. We are not dieticians, nutritionists, exercise specialists, or medical professionals. By participating in this exercise or exercise program, you agree that you do so at your own risk, are voluntarily participating in these activities, assume all risk of injury to yourself, and agree to forever hold harmless, release and discharge the Journey Junkie from any and all claims or causes of action, known or unknown, arising out of your use of these materials.#chakrayoga #chakrachats #thirdeyechakra\",\n",
       "              'Publication Date': 'Streamed live on Dec 22, 2019',\n",
       "              'Likes': 82,\n",
       "              'Dislikes': 3},\n",
       "             ('https://www.youtube.com/channel/UCahoXO8yh6mqJD9EiARHI7w',\n",
       "              'WjTaT64dzHI'): {'Title': 'Chakra Chats: Heart & Throat Chakra Explained',\n",
       "              'Views': 3318,\n",
       "              'Description': \"Welcome to the Heart & Throat Chakra Chat! This video is part of my eight week live experience that's teaching the practical, spiritual, and powerful pillars of each energetic center. Are you new to the chakras? Want to combine these chats with your yoga practice? Join my 7-Day Chakra Challenge — http://bit.ly/chakrachallenge ❤️ Want heart chakra yoga? Dive into the below classes.💚Cleanse Your Chakras - https://youtu.be/RSqWnNH-ncw 💚15 Min. Strength + Space - https://youtu.be/XBAib_vsmEM 💚 Heart Chakra Yoga Class - https://youtu.be/odIkn2bal2Y 💚Open Your Chest - https://youtu.be/EY7HsH_zzJs Want throat chakra yoga?  Dive into the below classes.🗣️ Throat Chakra Yoga Class - https://youtu.be/2_hczLdMW0A🗣️ Cleanse Your Chakras - https://youtu.be/RSqWnNH-ncw🗣️ Restorative Yoga for the Neck & Shoulders - https://youtu.be/XeaqEwoQcq4Heart Chakra Mantras: 💚 I LOVE & ACCEPT MYSELF 💚 MY RELATIONSHIPS MATTER 💚 I CHOOSE TO STAY OPEN 💚 MY HEART'S DESIRES ARE VALIDThroat Chakra Mantras:🗣️I SPEAK WITH CLARITY🗣️MY STORY MATTERS🗣️I EXPRESS MYSELF FREELY🗣️I LIVE AUTHENTICALLY Recommended chakra reads (these are affiliate links):📚Wheels of Life - https://amzn.to/2roXfQ6📚Eastern Body, Western Mind - https://amzn.to/34QyQ4i📚Chakra Yoga - https://amzn.to/34N1xPJ📚Yoga of the Subtle Body - https://amzn.to/2QbSnsd📚 Anatomy of the Spirit - https://amzn.to/2p5TZIN🔸 🔸 🔸🔸 🔸 🔸🔸 🔸 🔸🔸 🔸 🔸🔸 🔸 🔸 Welcome to The Journey Junkie channel, led by Allie Van Fossen, where we use the yoga practice as a framework to discover our untapped potential and guide our on and off the yoga mat efforts. Here you can find yoga classes ranging in all styles, travel vlogs, and various videos with the central   message to prioritize yourself, love yourself, not take it for granted, and go LIVE YOUR JOURNEY! Subscribe for new yoga videos: http://bit.ly/thejourneyjunkieyoutube🔸 🔸 🔸🔸 🔸 🔸🔸 🔸 🔸🔸 🔸 🔸🔸 🔸 🔸 Disclaimer:  All content on our channel is subject to copyright or other intellectual property ownership by Journey Junkie, LLC. The ideas, exercises, programs, meal plans and other opinions expressed here and on our blog reflect our opinions and personal experiences, and are not intended to be or replace medical advice. We are not dieticians, nutritionists, exercise specialists, or medical professionals. By participating in this exercise or exercise program, you agree that you do so at your own risk, are voluntarily participating in these activities, assume all risk of injury to yourself, and agree to forever hold harmless, release and discharge the Journey Junkie from any and all claims or causes of action, known or unknown, arising out of your use of these materials.#chakrayoga #chakrachats #heartchakra #throatchakra\",\n",
       "              'Publication Date': 'Streamed live on Dec 15, 2019',\n",
       "              'Likes': 84,\n",
       "              'Dislikes': 4},\n",
       "             ('https://www.youtube.com/channel/UCahoXO8yh6mqJD9EiARHI7w',\n",
       "              'aa7OlPKgIS4'): {'Title': 'Yoga for Core Strength: 15 Minute Twist & Tone Yoga Class',\n",
       "              'Views': 6474,\n",
       "              'Description': 'Choose a yoga workshop and join the JJ Fam: 🕉️ I am newish to yoga - http://bit.ly/beginneryogajourney 💦 I want a yoga workout - http://bit.ly/strengthyogajourney 🙏 I’m searching for spiritual connection - http://bit.ly/spiritualyogajourney 🔸 🔸 🔸🔸 🔸 🔸🔸 🔸 🔸🔸 🔸 🔸🔸 🔸 🔸Need to be reminded of your strength? Unroll your mat for this Yin Yang Power Yoga Class that includes twisting and toning to cultivate strength! Want more yoga like this? Join my 7-Day Yoga Body Bootcamp Challenge - http://bit.ly/yogabodybootcamp ❤️Welcome to The Journey Junkie channel, led by Allie Van Fossen, where we use the yoga practice as a framework to discover our untapped potential and guide our on and off the yoga mat efforts. Here you can find yoga classes ranging in all styles, travel vlogs, and various videos with the central   message to prioritize yourself, love yourself, not take it for granted, and go LIVE YOUR JOURNEY!Subscribe for new yoga videos: http://bit.ly/thejourneyjunkieyoutube🔸 🔸 🔸🔸 🔸 🔸🔸 🔸 🔸🔸 🔸 🔸🔸 🔸 🔸Want more yoga? ► YOGA BODY BOOTCAMP - http://bit.ly/yogabodybootcamp ► POWER YOGA CLASS PLAYLIST - http://bit.ly/vinyasapowerplaylistThe Journey Junkie HQ - https://www.thejourneyjunkie.comInstagram - www.instagram.com/thejourneyjunkie/🔸 🔸 🔸🔸 🔸 🔸🔸 🔸 🔸🔸 🔸 🔸🔸 🔸 🔸Disclaimer: All content on our channel is subject to copyright or other intellectual property ownership by Journey Junkie, LLC. The ideas, exercises, programs, meal plans and other opinions expressed here and on our blog reflect our opinions and personal experiences, and are not intended to be or replace medical advice. We are not dieticians, nutritionists, exercise specialists, or medical professionals. By participating in this exercise or exercise program, you agree that you do so at your own risk, are voluntarily participating in these activities, assume all risk of injury to yourself, and agree to forever hold harmless, release and discharge the Journey Junkie from any and all claims or causes of action, known or unknown, arising out of your use of these materials.#poweryoga #coreyogaclass #15minyoga',\n",
       "              'Publication Date': 'Published on Dec 11, 2019',\n",
       "              'Likes': 277,\n",
       "              'Dislikes': 2},\n",
       "             ('https://www.youtube.com/channel/UCahoXO8yh6mqJD9EiARHI7w',\n",
       "              'FsijElMEaJA'): {'Title': 'Chakra Chats: Solar Plexus Explained',\n",
       "              'Views': 3410,\n",
       "              'Description': \"Welcome to the Solar Plexus Chakra Chat! This video is part of my eight week live experience that's teaching the practical, spiritual, and powerful pillars of each energetic center. Are you new to the chakras? Want to combine these chats with your yoga practice? Join my 7-Day Chakra Challenge — http://bit.ly/chakrachallenge ❤️  Want more solar plexus chakra yoga?  Dive into the below classes.🔥 Core Yoga Practice - https://youtu.be/Hd3B_f1-d0M🔥 Solar Plexus Chakra Yoga - https://youtu.be/Uy7exnKp5qI🔥 Awaken Your Solar Plexus - https://youtu.be/3I9BSKCwIB4🔥 Cleanse Your Chakras - https://youtu.be/RSqWnNH-ncwSolar Plexus Chakra Mantras:🔥 I AM A POWERFUL BEING🔥 I TAKE ALIGNED ACTION🔥 I BURN THROUGH OBSTACLES WITH EASE🔥 I AM WORTHY OF A PURPOSERecommended chakra reads (these are affiliate links):📚Wheels of Life - https://amzn.to/2roXfQ6📚Eastern Body, Western Mind - https://amzn.to/34QyQ4i📚Chakra Yoga - https://amzn.to/34N1xPJ📚Yoga of the Subtle Body - https://amzn.to/2QbSnsd📚 Anatomy of the Spirit - https://amzn.to/2p5TZIN🔸 🔸 🔸🔸 🔸 🔸🔸 🔸 🔸🔸 🔸 🔸🔸 🔸 🔸 Welcome to The Journey Junkie channel, led by Allie Van Fossen, where we use the yoga practice as a framework to discover our untapped potential and guide our on and off the yoga mat efforts. Here you can find yoga classes ranging in all styles, travel vlogs, and various videos with the central   message to prioritize yourself, love yourself, not take it for granted, and go LIVE YOUR JOURNEY! Subscribe for new yoga videos: http://bit.ly/thejourneyjunkieyoutube🔸 🔸 🔸🔸 🔸 🔸🔸 🔸 🔸🔸 🔸 🔸🔸 🔸 🔸 Disclaimer:  All content on our channel is subject to copyright or other intellectual property ownership by Journey Junkie, LLC. The ideas, exercises, programs, meal plans and other opinions expressed here and on our blog reflect our opinions and personal experiences, and are not intended to be or replace medical advice. We are not dieticians, nutritionists, exercise specialists, or medical professionals. By participating in this exercise or exercise program, you agree that you do so at your own risk, are voluntarily participating in these activities, assume all risk of injury to yourself, and agree to forever hold harmless, release and discharge the Journey Junkie from any and all claims or causes of action, known or unknown, arising out of your use of these materials.#chakrayoga #chakrachats #solarplexuschakra\",\n",
       "              'Publication Date': 'Streamed live on Dec 1, 2019',\n",
       "              'Likes': 94,\n",
       "              'Dislikes': 3},\n",
       "             ('https://www.youtube.com/channel/UCahoXO8yh6mqJD9EiARHI7w',\n",
       "              'XBAib_vsmEM'): {'Title': 'Heart Chakra Yoga Class: 15 Minute Class to Create Strength & Space',\n",
       "              'Views': 6255,\n",
       "              'Description': 'Choose a yoga workshop and join the JJ Fam: 🕉️ I am newish to yoga - http://bit.ly/beginneryogajourney 💦 I want a yoga workout - http://bit.ly/strengthyogajourney 🙏 I’m searching for spiritual connection - http://bit.ly/spiritualyogajourney 🔸 🔸 🔸🔸 🔸 🔸🔸 🔸 🔸🔸 🔸 🔸🔸 🔸 🔸Need to be reminded of your strength? Need the support to open your heart space? Unroll your mat for this Heart Chakra Yoga Class that creates both strength and space! New to the chakras? Join my 7-Day Chakra Challenge - http://bit.ly/chakrachallenge ❤️Welcome to The Journey Junkie channel, led by Allie Van Fossen, where we use the yoga practice as a framework to discover our untapped potential and guide our on and off the yoga mat efforts. Here you can find yoga classes ranging in all styles, travel vlogs, and various videos with the central   message to prioritize yourself, love yourself, not take it for granted, and go LIVE YOUR JOURNEY!Subscribe for new yoga videos: http://bit.ly/thejourneyjunkieyoutube🔸 🔸 🔸🔸 🔸 🔸🔸 🔸 🔸🔸 🔸 🔸🔸 🔸 🔸Want more yoga? ► CHAKRA YOGA PLAYLIST  - http://bit.ly/chakrayogaplaylist► 7-DAY CHAKRA CHALLENGE - http://bit.ly/chakrachallengeThe Journey Junkie HQ - https://www.thejourneyjunkie.comInstagram - www.instagram.com/thejourneyjunkie/🔸 🔸 🔸🔸 🔸 🔸🔸 🔸 🔸🔸 🔸 🔸🔸 🔸 🔸Disclaimer: All content on our channel is subject to copyright or other intellectual property ownership by Journey Junkie, LLC. The ideas, exercises, programs, meal plans and other opinions expressed here and on our blog reflect our opinions and personal experiences, and are not intended to be or replace medical advice. We are not dieticians, nutritionists, exercise specialists, or medical professionals. By participating in this exercise or exercise program, you agree that you do so at your own risk, are voluntarily participating in these activities, assume all risk of injury to yourself, and agree to forever hold harmless, release and discharge the Journey Junkie from any and all claims or causes of action, known or unknown, arising out of your use of these materials.#heartchakrayoga #chakrayoga #15minyoga',\n",
       "              'Publication Date': 'Published on Nov 27, 2019',\n",
       "              'Likes': 287,\n",
       "              'Dislikes': 1},\n",
       "             ('https://www.youtube.com/channel/UCahoXO8yh6mqJD9EiARHI7w',\n",
       "              '10H7Yncb0Ec'): {'Title': 'Chakra Chats: Sacral Chakra Explained',\n",
       "              'Views': 4321,\n",
       "              'Description': 'Welcome to the Chakra Chat Series! This eight week live experience teaches the practical, spiritual, and powerful pillars of each energetic center. Want more sacral chakra yoga?  Dive into the below classes.💦Sacral Chakra Hatha - https://youtu.be/8aL_OQA9Nhc💦Sacral Chakra Hip Love - https://youtu.be/PGzpdpdDwBY💦Sacral Chakra Challenge - https://youtu.be/KJnQcCtO56s💦Cleanse Your Chakras - https://youtu.be/RSqWnNH-ncw💦Sacral Chakra Gentle - https://youtu.be/lOucMxpiYvM💦Sacral Chakra Psoas Class - https://youtu.be/eC8oWTTP8TASacral Chakra Mantras:💦I BELIEVE IN MY NEEDS💦PLEASURE FEEDS MY ENERGY💦I CHOOSE TO RECEIVE 💦MY FEELINGS ARE VALIDRecommended chakra reads (these are affiliate links):📚Wheels of Life - https://amzn.to/2roXfQ6📚Eastern Body, Western Mind - https://amzn.to/34QyQ4i📚Chakra Yoga - https://amzn.to/34N1xPJ📚Yoga of the Subtle Body - https://amzn.to/2QbSnsd📚 Anatomy of the Spirit - https://amzn.to/2p5TZIN 🔸 🔸 🔸🔸 🔸 🔸🔸 🔸 🔸🔸 🔸 🔸🔸 🔸 🔸 Welcome to The Journey Junkie channel, led by Allie Van Fossen, where we use the yoga practice as a framework to discover our untapped potential and guide our on and off the yoga mat efforts. Here you can find yoga classes ranging in all styles, travel vlogs, and various videos with the central   message to prioritize yourself, love yourself, not take it for granted, and go LIVE YOUR JOURNEY! Subscribe for new yoga videos: http://bit.ly/thejourneyjunkieyoutubeThe Journey Junkie HQ - https://www.thejourneyjunkie.com Instagram - www.instagram.com/thejourneyjunkie/ 🔸 🔸 🔸🔸 🔸 🔸🔸 🔸 🔸🔸 🔸 🔸🔸 🔸 🔸 Disclaimer:  All content on our channel is subject to copyright or other intellectual property ownership by Journey Junkie, LLC. The ideas, exercises, programs, meal plans and other opinions expressed here and on our blog reflect our opinions and personal experiences, and are not intended to be or replace medical advice. We are not dieticians, nutritionists, exercise specialists, or medical professionals. By participating in this exercise or exercise program, you agree that you do so at your own risk, are voluntarily participating in these activities, assume all risk of injury to yourself, and agree to forever hold harmless, release and discharge the Journey Junkie from any and all claims or causes of action, known or unknown, arising out of your use of these materials.#chakrayoga #chakrachats #sacralchakra',\n",
       "              'Publication Date': 'Streamed live on Nov 24, 2019',\n",
       "              'Likes': 152,\n",
       "              'Dislikes': 3},\n",
       "             ('https://www.youtube.com/channel/UCahoXO8yh6mqJD9EiARHI7w',\n",
       "              'KM9SlMZ8Zik'): {'Title': 'Sailing Overnight is Scary! ⛵Sailing Alfie Ep. 6',\n",
       "              'Views': 1983,\n",
       "              'Description': \"In this sailing around the world episode, we set out for our FIRST EVER overnight sail. With friends arriving soon, we had no choice but to skip several islands and make solid ground. But to be transparent, I was SCARED SHITLESS!Sail overnight? Sail in the pitch black? Sail far offshore with no one to help us? Stay up all night and take shifts? Ugh. Do we have to? Can’t we take our time?No, we couldn’t. Onward we had to sail.So, what’s in this new episode? Well, it’s all the highs and lows of our first overnight sail.It’s a beautiful way to remember a scary first that’s now become a norm (isn't it funny how that happens). To this day, we’ve completed over 50 nights at sea 😬!We hope you love the episode! Thanks for tuning in! Subscribe for more sailing and yoga videos 📸- http://bit.ly/thejourneyjunkieyoutubeWant more sailing vlogs like these? ⛵SAILING VLOG PLAYLIST: http://bit.ly/sailingvlogs🔸🔸🔸🔸🔸🔸🔸🔸🔸🔸🔸🔸🔸🔸🔸🔸🔸🔸Who are we? Meet Allie and Myers, a young couple who quit their corporate jobs, built an online yoga business, sold everything, bought a boat, and flew to the Caribbean for their greatest adventure yet (minus their 11 year one night stand)! Come follow them as they attempt to sail around the world and live their journey!Allie Instagram: www.instagram.com/thejourneyjunkie/Myers Instagram: https://www.instagram.com/capt.myers/\",\n",
       "              'Publication Date': 'Published on Nov 20, 2019',\n",
       "              'Likes': 48,\n",
       "              'Dislikes': 6},\n",
       "             ('https://www.youtube.com/channel/UCahoXO8yh6mqJD9EiARHI7w',\n",
       "              'c-aqzzN2Q38'): {'Title': 'WE LOST OUR CREW 😔Last Hurrah in Grenada ⛵(Sailing Alfie Ep. 7)',\n",
       "              'Views': 872,\n",
       "              'Description': \"In this sailing around the world episode, we arrive to Grenada just in time to celebrate my 30th birthday and explore the island with visiting friends! We also say goodbye to Carl and Mike who were with us from the very beginning. Now it's just the two of us aboard as prepare to head north and sailing the Grenadines! We hope you love the episode! Thanks for tuning in! Subscribe for more sailing and yoga videos 📸- http://bit.ly/thejourneyjunkieyoutubeWant more sailing vlogs like these? ⛵SAILING VLOG PLAYLIST: http://bit.ly/sailingvlogs🔸🔸🔸🔸🔸🔸🔸🔸🔸🔸🔸🔸🔸🔸🔸🔸🔸🔸Who are we? Meet Allie and Myers, a young couple who quit their corporate careers, built an online yoga business, sold everything, bought a boat, and flew to the Caribbean to start  their greatest adventure yet (minus their 11 year one night stand)! Come follow them as they attempt to sail around the world and live their journey!Allie Instagram: https://www.instagram.com/thejourneyj...Myers Instagram: https://www.instagram.com/capt.myers/\",\n",
       "              'Publication Date': 'Published on Nov 20, 2019',\n",
       "              'Likes': 31,\n",
       "              'Dislikes': 2},\n",
       "             ('https://www.youtube.com/channel/UCahoXO8yh6mqJD9EiARHI7w',\n",
       "              'VLM-5PPCA98'): {'Title': 'Chakra Chats: Root Chakra Explained',\n",
       "              'Views': 6490,\n",
       "              'Description': 'Welcome to the Chakra Chat Series! This eight week live experience teaches the practical, spiritual, and powerful pillars of each energetic center. Are you new to the chakras? Want to combine these chats with your yoga practice? Join my 7-Day Chakra Challenge — http://bit.ly/chakrachallenge ❤️Want more root chakra yoga?  Dive into the below classes.🌿Root Chakra Vinyasa - https://youtu.be/41a9rDXt3ws🌿Root Chakra Get Grounded - https://youtu.be/ZOlsPLSGM0c🌿Cleanse Your Chakras - https://youtu.be/RSqWnNH-ncw🌿Root Chakra Connect to Your Roots - https://youtu.be/iTddXxbdC-URoot Chakra Mantras:🌿I TRUST MYSELF🌿I LOVE & RESPECT MY BODY🌿I AM SAFE🌿FEAR IS MY FRIEND🌿ONG NAMO MULADHARA, THIS IS MY RIGHT TO HAVE, THIS IS MY RIGHT TO EXISTRecommended chakra reads (these are affiliate links):📚Wheels of Life - https://amzn.to/2roXfQ6📚Eastern Body, Western Mind - https://amzn.to/34QyQ4i📚Chakra Yoga - https://amzn.to/34N1xPJ📚Yoga of the Subtle Body - https://amzn.to/2QbSnsd📚 Anatomy of the Spirit - https://amzn.to/2p5TZIN 🔸 🔸 🔸🔸 🔸 🔸🔸 🔸 🔸🔸 🔸 🔸🔸 🔸 🔸 Welcome to The Journey Junkie channel, led by Allie Van Fossen, where we use the yoga practice as a framework to discover our untapped potential and guide our on and off the yoga mat efforts. Here you can find yoga classes ranging in all styles, travel vlogs, and various videos with the central   message to prioritize yourself, love yourself, not take it for granted, and go LIVE YOUR JOURNEY! Subscribe for new yoga videos: http://bit.ly/thejourneyjunkieyoutubeThe Journey Junkie HQ - https://www.thejourneyjunkie.com Instagram - www.instagram.com/thejourneyjunkie/ 🔸 🔸 🔸🔸 🔸 🔸🔸 🔸 🔸🔸 🔸 🔸🔸 🔸 🔸 Disclaimer:  All content on our channel is subject to copyright or other intellectual property ownership by Journey Junkie, LLC. The ideas, exercises, programs, meal plans and other opinions expressed here and on our blog reflect our opinions and personal experiences, and are not intended to be or replace medical advice. We are not dieticians, nutritionists, exercise specialists, or medical professionals. By participating in this exercise or exercise program, you agree that you do so at your own risk, are voluntarily participating in these activities, assume all risk of injury to yourself, and agree to forever hold harmless, release and discharge the Journey Junkie from any and all claims or causes of action, known or unknown, arising out of your use of these materials.#chakrayoga #chakrachats #rootchakra',\n",
       "              'Publication Date': 'Streamed live on Nov 17, 2019',\n",
       "              'Likes': 247,\n",
       "              'Dislikes': 4}})"
      ]
     },
     "execution_count": 56,
     "metadata": {},
     "output_type": "execute_result"
    }
   ],
   "source": [
    "videos_info"
   ]
  },
  {
   "cell_type": "code",
   "execution_count": 57,
   "metadata": {},
   "outputs": [],
   "source": [
    "#Attempt 1: get videos info for all channels "
   ]
  },
  {
   "cell_type": "code",
   "execution_count": 58,
   "metadata": {},
   "outputs": [],
   "source": [
    "videos_info = defaultdict()\n",
    "for key, val in links_dict.items():\n",
    "    try:\n",
    "        for i in val:\n",
    "            url = 'https://www.youtube.com/watch?v=' + i\n",
    "            videos_info[(key, i)] = get_video_info(url)\n",
    "    except:\n",
    "        continue \n",
    "        \n",
    "    time.sleep(.5+2*random.random())"
   ]
  },
  {
   "cell_type": "code",
   "execution_count": 59,
   "metadata": {},
   "outputs": [
    {
     "data": {
      "text/plain": [
       "9399"
      ]
     },
     "execution_count": 59,
     "metadata": {},
     "output_type": "execute_result"
    }
   ],
   "source": [
    "len(videos_info)"
   ]
  },
  {
   "cell_type": "code",
   "execution_count": 60,
   "metadata": {},
   "outputs": [],
   "source": [
    "with open('videos_info.pkl', 'wb') as picklefile:\n",
    "    pickle.dump(videos_info, picklefile)"
   ]
  },
  {
   "cell_type": "code",
   "execution_count": null,
   "metadata": {},
   "outputs": [],
   "source": []
  },
  {
   "cell_type": "code",
   "execution_count": null,
   "metadata": {},
   "outputs": [],
   "source": []
  },
  {
   "cell_type": "code",
   "execution_count": null,
   "metadata": {},
   "outputs": [],
   "source": [
    "#yoga_channel is a list of yoga channel URLs\n",
    "channels_data = defaultdict()\n",
    "\n",
    "for channel in yoga_channel:\n",
    "    try:\n",
    "        channel_data = get_channel_info_about(channel)\n",
    "        channels_data[channel] = channel_data\n",
    "    except:\n",
    "        continue\n",
    "    \n",
    "    time.sleep(.5+2*random.random())"
   ]
  },
  {
   "cell_type": "code",
   "execution_count": 40,
   "metadata": {},
   "outputs": [],
   "source": [
    "#soup"
   ]
  },
  {
   "cell_type": "code",
   "execution_count": null,
   "metadata": {},
   "outputs": [],
   "source": [
    "#https://www.youtube.com/watch?v=h5CEOjPY_uw"
   ]
  },
  {
   "cell_type": "code",
   "execution_count": 31,
   "metadata": {},
   "outputs": [],
   "source": [
    "response = requests.get(url)\n",
    "page = response.text\n",
    "soup = BeautifulSoup(page, \"html5lib\")\n",
    "contents_div = soup.find('div', id='content')\n",
    "#contents_div.find('span', attrs={'class': 'watch-title'}).text.strip()\n",
    "#int(contents_div.find('div', attrs={'class': 'watch-view-count'}).text[:-6].replace(',', ''))\n",
    "#contents_div.find('p', attrs={'id': 'eow-description'}).text\n",
    "#contents_div.find('strong', attrs={'class': 'watch-time-text'}).text.strip()\n",
    "#contents_div.find('button', attrs={'title': 'I like this'}).text.replace(',', '')\n",
    "\n",
    "#\n"
   ]
  },
  {
   "cell_type": "code",
   "execution_count": 10,
   "metadata": {},
   "outputs": [],
   "source": [
    "def get_video_info(url):\n",
    "    \n",
    "    response = requests.get(url)\n",
    "    page = response.text\n",
    "    soup = BeautifulSoup(page, \"html5lib\")\n",
    "    video_data = {}\n",
    "    \n",
    "    video_data['Title'] = soup.find('span', attrs={'class': 'watch-title'}).text.strip()\n",
    "    video_data['Views'] = int(soup.find('div', attrs={'class': 'watch-view-count'}).text[:-6].replace(',', ''))\n",
    "    video_data['Description'] = soup.find('p', attrs={'id': 'eow-description'}).text\n",
    "    video_data['Publication Date'] = soup.find('strong', attrs={'class': 'watch-time-text'}).text.strip()\n",
    "    video_data['Likes'] = int(soup.find('button', attrs={'title': 'I like this'}).text.replace(',', ''))\n",
    "    video_data['Dislikes'] = int(soup.find('button', attrs={'title': 'I dislike this'}).text.replace(',', ''))\n",
    "    \n",
    "    return video_data"
   ]
  },
  {
   "cell_type": "code",
   "execution_count": 11,
   "metadata": {},
   "outputs": [
    {
     "data": {
      "text/plain": [
       "{'Title': 'Yoga for Vulnerability  |  Move #withme  |  Yoga With Adriene',\n",
       " 'Views': 349879,\n",
       " 'Description': \"Join me for this 35 minute loving and powerful grounding yoga session. This special at-home practice is anchored in an invitation to focus on the rise and fall. Through this structure we will lean in and use the tools of asana, breath, and science to welcome a sense of peacefulness and ease for both mind and body. The awareness of my own vulnerability has made me more aware of others' vulnerability and more loving and receptive in general. Thank you for taking some time to be with yourself, to care for your self, and to notice what all is possible. Please share this practice with a friend and subscribe to the YWA YouTube channel. Let me know how this session feels for you in the comment section down below. Made with love. From my home to yours!For more videos like this, check out this playlist: Yoga for Uncertain Times: https://www.youtube.com/playlist?list...- - - - - - - - - - ❤️SUBSCRIBE to the YWA channel for free yoga videos every week and to support high-quality free yoga for all! ❤️https://www.youtube.com/user/yogawith...- - - - - - - - - - 🧘🏽\\u200d♂️Become a FWFG YOGA member! 🧘🏻\\u200d♂️https://fwfgyoga.comFree 7-Day trial featuring over 25 hours of exclusive videos + all my digital courses. - - - - - - - - - - 🗓Get your FREE Yoga Calendar: 🗓http://yogawithadriene.com/calendar/- - - - - - - - - - More at www.yogawithadriene.com▶︎ Instagram: @adrienelouise▶︎ Twitter: @yogawithadriene▶︎ Facebook: Yoga With Adriene▶︎ Shop: www.fwfg.com- - - - - - - - - - Music by Shakey Graves: https://www.shakeygraves.com- - - - - - - - - - Yoga With Adriene, LLC recommends that you consult your physician regarding the applicability of any recommendations and follow all safety instructions before beginning any exercise program. When participating in any exercise or exercise program, there is the possibility of physical injury. If you engage in this exercise or exercise program, you agree that you do so at your own risk, are voluntarily participating in these activities, assume all risk of injury to yourself.\",\n",
       " 'Publication Date': 'Published on Apr 4, 2020',\n",
       " 'Likes': 7236,\n",
       " 'Dislikes': 92}"
      ]
     },
     "execution_count": 11,
     "metadata": {},
     "output_type": "execute_result"
    }
   ],
   "source": [
    "get_video_info(url)"
   ]
  },
  {
   "cell_type": "code",
   "execution_count": null,
   "metadata": {},
   "outputs": [],
   "source": []
  },
  {
   "cell_type": "code",
   "execution_count": null,
   "metadata": {},
   "outputs": [],
   "source": []
  },
  {
   "cell_type": "code",
   "execution_count": null,
   "metadata": {},
   "outputs": [],
   "source": []
  },
  {
   "cell_type": "code",
   "execution_count": null,
   "metadata": {},
   "outputs": [],
   "source": []
  },
  {
   "cell_type": "code",
   "execution_count": null,
   "metadata": {},
   "outputs": [],
   "source": []
  },
  {
   "cell_type": "code",
   "execution_count": null,
   "metadata": {},
   "outputs": [],
   "source": []
  },
  {
   "cell_type": "code",
   "execution_count": null,
   "metadata": {},
   "outputs": [],
   "source": []
  },
  {
   "cell_type": "code",
   "execution_count": null,
   "metadata": {},
   "outputs": [],
   "source": []
  },
  {
   "cell_type": "code",
   "execution_count": null,
   "metadata": {},
   "outputs": [],
   "source": []
  },
  {
   "cell_type": "code",
   "execution_count": null,
   "metadata": {},
   "outputs": [],
   "source": []
  },
  {
   "cell_type": "code",
   "execution_count": null,
   "metadata": {},
   "outputs": [],
   "source": []
  },
  {
   "cell_type": "markdown",
   "metadata": {},
   "source": [
    "### draft on comments"
   ]
  },
  {
   "cell_type": "code",
   "execution_count": 39,
   "metadata": {},
   "outputs": [
    {
     "ename": "TimeoutException",
     "evalue": "Message: \n",
     "output_type": "error",
     "traceback": [
      "\u001b[0;31m---------------------------------------------------------------------------\u001b[0m",
      "\u001b[0;31mTimeoutException\u001b[0m                          Traceback (most recent call last)",
      "\u001b[0;32m<ipython-input-39-c170d4a4a77b>\u001b[0m in \u001b[0;36m<module>\u001b[0;34m\u001b[0m\n\u001b[1;32m     17\u001b[0m \u001b[0;32mtry\u001b[0m\u001b[0;34m:\u001b[0m\u001b[0;34m\u001b[0m\u001b[0;34m\u001b[0m\u001b[0m\n\u001b[1;32m     18\u001b[0m     element = WebDriverWait(driver, 30).until(\n\u001b[0;32m---> 19\u001b[0;31m         EC.presence_of_element_located((By.CLASS_NAME, \"comment-section-header-renderer\")))\n\u001b[0m\u001b[1;32m     20\u001b[0m     \u001b[0;32mfor\u001b[0m \u001b[0mcomment_num\u001b[0m \u001b[0;32min\u001b[0m \u001b[0mdriver\u001b[0m\u001b[0;34m.\u001b[0m\u001b[0mfind_elements_by_class_name\u001b[0m\u001b[0;34m(\u001b[0m\u001b[0;34m\"comment-section-header-renderer\"\u001b[0m\u001b[0;34m)\u001b[0m\u001b[0;34m:\u001b[0m\u001b[0;34m\u001b[0m\u001b[0;34m\u001b[0m\u001b[0m\n\u001b[1;32m     21\u001b[0m         \u001b[0mprint\u001b[0m\u001b[0;34m(\u001b[0m\u001b[0;34mu'Number of comments: '\u001b[0m \u001b[0;34m+\u001b[0m \u001b[0mcomment_num\u001b[0m\u001b[0;34m.\u001b[0m\u001b[0mtext\u001b[0m\u001b[0;34m.\u001b[0m\u001b[0mreplace\u001b[0m\u001b[0;34m(\u001b[0m\u001b[0;34mu'COMMENTS • '\u001b[0m\u001b[0;34m,\u001b[0m \u001b[0;34m''\u001b[0m\u001b[0;34m)\u001b[0m\u001b[0;34m)\u001b[0m\u001b[0;34m\u001b[0m\u001b[0;34m\u001b[0m\u001b[0m\n",
      "\u001b[0;32m~/opt/anaconda3/lib/python3.7/site-packages/selenium/webdriver/support/wait.py\u001b[0m in \u001b[0;36muntil\u001b[0;34m(self, method, message)\u001b[0m\n\u001b[1;32m     78\u001b[0m             \u001b[0;32mif\u001b[0m \u001b[0mtime\u001b[0m\u001b[0;34m.\u001b[0m\u001b[0mtime\u001b[0m\u001b[0;34m(\u001b[0m\u001b[0;34m)\u001b[0m \u001b[0;34m>\u001b[0m \u001b[0mend_time\u001b[0m\u001b[0;34m:\u001b[0m\u001b[0;34m\u001b[0m\u001b[0;34m\u001b[0m\u001b[0m\n\u001b[1;32m     79\u001b[0m                 \u001b[0;32mbreak\u001b[0m\u001b[0;34m\u001b[0m\u001b[0;34m\u001b[0m\u001b[0m\n\u001b[0;32m---> 80\u001b[0;31m         \u001b[0;32mraise\u001b[0m \u001b[0mTimeoutException\u001b[0m\u001b[0;34m(\u001b[0m\u001b[0mmessage\u001b[0m\u001b[0;34m,\u001b[0m \u001b[0mscreen\u001b[0m\u001b[0;34m,\u001b[0m \u001b[0mstacktrace\u001b[0m\u001b[0;34m)\u001b[0m\u001b[0;34m\u001b[0m\u001b[0;34m\u001b[0m\u001b[0m\n\u001b[0m\u001b[1;32m     81\u001b[0m \u001b[0;34m\u001b[0m\u001b[0m\n\u001b[1;32m     82\u001b[0m     \u001b[0;32mdef\u001b[0m \u001b[0muntil_not\u001b[0m\u001b[0;34m(\u001b[0m\u001b[0mself\u001b[0m\u001b[0;34m,\u001b[0m \u001b[0mmethod\u001b[0m\u001b[0;34m,\u001b[0m \u001b[0mmessage\u001b[0m\u001b[0;34m=\u001b[0m\u001b[0;34m''\u001b[0m\u001b[0;34m)\u001b[0m\u001b[0;34m:\u001b[0m\u001b[0;34m\u001b[0m\u001b[0;34m\u001b[0m\u001b[0m\n",
      "\u001b[0;31mTimeoutException\u001b[0m: Message: \n"
     ]
    }
   ],
   "source": [
    "from selenium import webdriver\n",
    "from selenium.webdriver.support.wait import WebDriverWait\n",
    "from selenium.webdriver.support import expected_conditions as EC\n",
    "from selenium.webdriver.common.by import By\n",
    "\n",
    "chromedriver = '/Applications/chromedriver'\n",
    "os.environ['webdriver.chrome.driver'] = chromedriver\n",
    "\n",
    "video_url = url\n",
    "driver = webdriver.Chrome(chromedriver)\n",
    "driver.set_page_load_timeout(30)\n",
    "driver.get(video_url)\n",
    "driver.execute_script(\"window.scrollTo(0, document.body.scrollHeight);\")\n",
    "for view_num in driver.find_elements_by_class_name(\"watch-view-count\"):\n",
    "    print('Number of views: ' + view_num.text.replace(' views', ''))\n",
    "\n",
    "try:\n",
    "    element = WebDriverWait(driver, 30).until(\n",
    "        EC.presence_of_element_located((By.CLASS_NAME, \"comment-section-header-renderer\")))\n",
    "    for comment_num in driver.find_elements_by_class_name(\"comment-section-header-renderer\"):\n",
    "        print(u'Number of comments: ' + comment_num.text.replace(u'COMMENTS • ', ''))\n",
    "finally:\n",
    "    driver.quit()"
   ]
  },
  {
   "cell_type": "code",
   "execution_count": null,
   "metadata": {},
   "outputs": [],
   "source": []
  }
 ],
 "metadata": {
  "kernelspec": {
   "display_name": "Python 3",
   "language": "python",
   "name": "python3"
  },
  "language_info": {
   "codemirror_mode": {
    "name": "ipython",
    "version": 3
   },
   "file_extension": ".py",
   "mimetype": "text/x-python",
   "name": "python",
   "nbconvert_exporter": "python",
   "pygments_lexer": "ipython3",
   "version": "3.7.4"
  }
 },
 "nbformat": 4,
 "nbformat_minor": 2
}
